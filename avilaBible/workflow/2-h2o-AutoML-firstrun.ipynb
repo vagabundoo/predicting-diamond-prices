{
 "cells": [
  {
   "cell_type": "code",
   "execution_count": 3,
   "metadata": {},
   "outputs": [
    {
     "name": "stdout",
     "output_type": "stream",
     "text": [
      "Checking whether there is an H2O instance running at http://localhost:54321 ..... not found.\n",
      "Attempting to start a local H2O server...\n",
      "  Java Version: openjdk version \"11.0.6\" 2020-01-14; OpenJDK Runtime Environment (build 11.0.6+10-post-Ubuntu-1ubuntu119.10.1); OpenJDK 64-Bit Server VM (build 11.0.6+10-post-Ubuntu-1ubuntu119.10.1, mixed mode, sharing)\n",
      "  Starting server from /home/edu/.local/lib/python3.7/site-packages/h2o/backend/bin/h2o.jar\n",
      "  Ice root: /tmp/tmp8rrqnpru\n",
      "  JVM stdout: /tmp/tmp8rrqnpru/h2o_edu_started_from_python.out\n",
      "  JVM stderr: /tmp/tmp8rrqnpru/h2o_edu_started_from_python.err\n",
      "  Server is running at http://127.0.0.1:54321\n",
      "Connecting to H2O server at http://127.0.0.1:54321 ... successful.\n"
     ]
    },
    {
     "data": {
      "text/html": [
       "<div style=\"overflow:auto\"><table style=\"width:50%\"><tr><td>H2O cluster uptime:</td>\n",
       "<td>01 secs</td></tr>\n",
       "<tr><td>H2O cluster timezone:</td>\n",
       "<td>Europe/Paris</td></tr>\n",
       "<tr><td>H2O data parsing timezone:</td>\n",
       "<td>UTC</td></tr>\n",
       "<tr><td>H2O cluster version:</td>\n",
       "<td>3.28.0.3</td></tr>\n",
       "<tr><td>H2O cluster version age:</td>\n",
       "<td>26 days </td></tr>\n",
       "<tr><td>H2O cluster name:</td>\n",
       "<td>H2O_from_python_edu_8v46lw</td></tr>\n",
       "<tr><td>H2O cluster total nodes:</td>\n",
       "<td>1</td></tr>\n",
       "<tr><td>H2O cluster free memory:</td>\n",
       "<td>6 Gb</td></tr>\n",
       "<tr><td>H2O cluster total cores:</td>\n",
       "<td>8</td></tr>\n",
       "<tr><td>H2O cluster allowed cores:</td>\n",
       "<td>7</td></tr>\n",
       "<tr><td>H2O cluster status:</td>\n",
       "<td>accepting new members, healthy</td></tr>\n",
       "<tr><td>H2O connection url:</td>\n",
       "<td>http://127.0.0.1:54321</td></tr>\n",
       "<tr><td>H2O connection proxy:</td>\n",
       "<td>{'http': None, 'https': None}</td></tr>\n",
       "<tr><td>H2O internal security:</td>\n",
       "<td>False</td></tr>\n",
       "<tr><td>H2O API Extensions:</td>\n",
       "<td>Amazon S3, XGBoost, Algos, AutoML, Core V3, TargetEncoder, Core V4</td></tr>\n",
       "<tr><td>Python version:</td>\n",
       "<td>3.7.5 candidate</td></tr></table></div>"
      ],
      "text/plain": [
       "--------------------------  ------------------------------------------------------------------\n",
       "H2O cluster uptime:         01 secs\n",
       "H2O cluster timezone:       Europe/Paris\n",
       "H2O data parsing timezone:  UTC\n",
       "H2O cluster version:        3.28.0.3\n",
       "H2O cluster version age:    26 days\n",
       "H2O cluster name:           H2O_from_python_edu_8v46lw\n",
       "H2O cluster total nodes:    1\n",
       "H2O cluster free memory:    6 Gb\n",
       "H2O cluster total cores:    8\n",
       "H2O cluster allowed cores:  7\n",
       "H2O cluster status:         accepting new members, healthy\n",
       "H2O connection url:         http://127.0.0.1:54321\n",
       "H2O connection proxy:       {'http': None, 'https': None}\n",
       "H2O internal security:      False\n",
       "H2O API Extensions:         Amazon S3, XGBoost, Algos, AutoML, Core V3, TargetEncoder, Core V4\n",
       "Python version:             3.7.5 candidate\n",
       "--------------------------  ------------------------------------------------------------------"
      ]
     },
     "metadata": {},
     "output_type": "display_data"
    }
   ],
   "source": [
    "import h2o\n",
    "import pandas as pd\n",
    "from h2o.automl import H2OAutoML\n",
    "h2o.init(nthreads=7, max_mem_size='6G')"
   ]
  },
  {
   "cell_type": "code",
   "execution_count": 4,
   "metadata": {},
   "outputs": [
    {
     "name": "stdout",
     "output_type": "stream",
     "text": [
      "Parse progress: |█████████████████████████████████████████████████████████| 100%\n",
      "Parse progress: |█████████████████████████████████████████████████████████| 100%\n"
     ]
    },
    {
     "data": {
      "text/html": [
       "<table>\n",
       "<thead>\n",
       "<tr><th style=\"text-align: right;\">  id</th><th style=\"text-align: right;\">        0</th><th style=\"text-align: right;\">        1</th><th style=\"text-align: right;\">        2</th><th style=\"text-align: right;\">        3</th><th style=\"text-align: right;\">       4</th><th style=\"text-align: right;\">        5</th><th style=\"text-align: right;\">        6</th><th style=\"text-align: right;\">        7</th><th style=\"text-align: right;\">        8</th><th style=\"text-align: right;\">        9</th><th>author   </th></tr>\n",
       "</thead>\n",
       "<tbody>\n",
       "<tr><td style=\"text-align: right;\">   0</td><td style=\"text-align: right;\"> 0.142636</td><td style=\"text-align: right;\"> 0.43107 </td><td style=\"text-align: right;\"> 0.032912</td><td style=\"text-align: right;\">-0.486796</td><td style=\"text-align: right;\">0.261718</td><td style=\"text-align: right;\">-1.01391 </td><td style=\"text-align: right;\">-0.081827</td><td style=\"text-align: right;\"> 0.330352</td><td style=\"text-align: right;\"> 0.438262</td><td style=\"text-align: right;\">-0.761088</td><td>Ubuntius </td></tr>\n",
       "<tr><td style=\"text-align: right;\">   1</td><td style=\"text-align: right;\"> 0.019197</td><td style=\"text-align: right;\"> 0.525284</td><td style=\"text-align: right;\"> 0.068476</td><td style=\"text-align: right;\"> 0.166658</td><td style=\"text-align: right;\">0.261718</td><td style=\"text-align: right;\"> 0.231839</td><td style=\"text-align: right;\"> 0.635431</td><td style=\"text-align: right;\"> 0.133209</td><td style=\"text-align: right;\"> 0.313536</td><td style=\"text-align: right;\">-0.002374</td><td>Philippus</td></tr>\n",
       "<tr><td style=\"text-align: right;\">   2</td><td style=\"text-align: right;\"> 0.09326 </td><td style=\"text-align: right;\">-0.087108</td><td style=\"text-align: right;\">-2.26808 </td><td style=\"text-align: right;\">-0.164963</td><td style=\"text-align: right;\">0.261718</td><td style=\"text-align: right;\"> 1.47758 </td><td style=\"text-align: right;\"> 0.635431</td><td style=\"text-align: right;\">-0.370641</td><td style=\"text-align: right;\"> 0.126447</td><td style=\"text-align: right;\"> 1.07836 </td><td>Marcus   </td></tr>\n",
       "<tr><td style=\"text-align: right;\">   3</td><td style=\"text-align: right;\">-0.017834</td><td style=\"text-align: right;\">-0.22843 </td><td style=\"text-align: right;\"> 0.37077 </td><td style=\"text-align: right;\"> 1.29367 </td><td style=\"text-align: right;\">0.17234 </td><td style=\"text-align: right;\">-0.058835</td><td style=\"text-align: right;\"> 0.446679</td><td style=\"text-align: right;\"> 1.60956 </td><td style=\"text-align: right;\"> 2.27797 </td><td style=\"text-align: right;\">-0.172339</td><td>Clarius  </td></tr>\n",
       "<tr><td style=\"text-align: right;\">   4</td><td style=\"text-align: right;\"> 0.080916</td><td style=\"text-align: right;\">-0.142067</td><td style=\"text-align: right;\"> 0.171611</td><td style=\"text-align: right;\">-0.470713</td><td style=\"text-align: right;\">0.261718</td><td style=\"text-align: right;\">-0.141884</td><td style=\"text-align: right;\">-0.044076</td><td style=\"text-align: right;\"> 0.375551</td><td style=\"text-align: right;\"> 0.032902</td><td style=\"text-align: right;\"> 0.009898</td><td>Philippus</td></tr>\n",
       "<tr><td style=\"text-align: right;\">   5</td><td style=\"text-align: right;\"> 0.241386</td><td style=\"text-align: right;\"> 0.23479 </td><td style=\"text-align: right;\"> 0.121822</td><td style=\"text-align: right;\"> 1.03799 </td><td style=\"text-align: right;\">0.261718</td><td style=\"text-align: right;\"> 0.937762</td><td style=\"text-align: right;\"> 0.748682</td><td style=\"text-align: right;\"> 0.385589</td><td style=\"text-align: right;\">-0.466001</td><td style=\"text-align: right;\"> 0.529787</td><td>Marcus   </td></tr>\n",
       "<tr><td style=\"text-align: right;\">   6</td><td style=\"text-align: right;\"> 0.772172</td><td style=\"text-align: right;\"> 0.030659</td><td style=\"text-align: right;\"> 0.075589</td><td style=\"text-align: right;\"> 0.371824</td><td style=\"text-align: right;\">0.976743</td><td style=\"text-align: right;\">-1.09696 </td><td style=\"text-align: right;\">-1.02559 </td><td style=\"text-align: right;\"> 0.441894</td><td style=\"text-align: right;\"> 1.06189 </td><td style=\"text-align: right;\">-0.314095</td><td>Blanquius</td></tr>\n",
       "<tr><td style=\"text-align: right;\">   7</td><td style=\"text-align: right;\"> 0.883267</td><td style=\"text-align: right;\">-0.314793</td><td style=\"text-align: right;\"> 0.086258</td><td style=\"text-align: right;\">-1.33784 </td><td style=\"text-align: right;\">0.976743</td><td style=\"text-align: right;\">-1.26305 </td><td style=\"text-align: right;\">-1.66734 </td><td style=\"text-align: right;\"> 0.683654</td><td style=\"text-align: right;\"> 1.81025 </td><td style=\"text-align: right;\">-0.108556</td><td>Blanquius</td></tr>\n",
       "<tr><td style=\"text-align: right;\">   8</td><td style=\"text-align: right;\"> 0.994361</td><td style=\"text-align: right;\">-0.008597</td><td style=\"text-align: right;\">-0.148465</td><td style=\"text-align: right;\"> 0.826884</td><td style=\"text-align: right;\">0.261718</td><td style=\"text-align: right;\"> 0.647088</td><td style=\"text-align: right;\"> 0.673182</td><td style=\"text-align: right;\"> 0.585277</td><td style=\"text-align: right;\"> 0.219991</td><td style=\"text-align: right;\"> 0.313301</td><td>Marcus   </td></tr>\n",
       "<tr><td style=\"text-align: right;\">   9</td><td style=\"text-align: right;\"> 0.117948</td><td style=\"text-align: right;\">-0.189174</td><td style=\"text-align: right;\"> 0.029355</td><td style=\"text-align: right;\"> 0.763359</td><td style=\"text-align: right;\">0.887365</td><td style=\"text-align: right;\">-0.391033</td><td style=\"text-align: right;\">-0.950086</td><td style=\"text-align: right;\"> 0.207938</td><td style=\"text-align: right;\">-0.029461</td><td style=\"text-align: right;\"> 0.345284</td><td>Blanquius</td></tr>\n",
       "</tbody>\n",
       "</table>"
      ]
     },
     "metadata": {},
     "output_type": "display_data"
    },
    {
     "data": {
      "text/plain": []
     },
     "metadata": {},
     "output_type": "display_data"
    },
    {
     "data": {
      "text/html": [
       "<table>\n",
       "<thead>\n",
       "<tr><th style=\"text-align: right;\">  id</th><th style=\"text-align: right;\">        0</th><th style=\"text-align: right;\">        1</th><th style=\"text-align: right;\">        2</th><th style=\"text-align: right;\">        3</th><th style=\"text-align: right;\">        4</th><th style=\"text-align: right;\">        5</th><th style=\"text-align: right;\">        6</th><th style=\"text-align: right;\">        7</th><th style=\"text-align: right;\">        8</th><th style=\"text-align: right;\">        9</th></tr>\n",
       "</thead>\n",
       "<tbody>\n",
       "<tr><td style=\"text-align: right;\">   0</td><td style=\"text-align: right;\"> 0.019197</td><td style=\"text-align: right;\"> 0.038511</td><td style=\"text-align: right;\"> 0.19295 </td><td style=\"text-align: right;\"> 0.323367</td><td style=\"text-align: right;\"> 0.261718</td><td style=\"text-align: right;\">-0.10036 </td><td style=\"text-align: right;\"> 0.106925</td><td style=\"text-align: right;\"> 0.463833</td><td style=\"text-align: right;\"> 0.064084</td><td style=\"text-align: right;\">-0.025146</td></tr>\n",
       "<tr><td style=\"text-align: right;\">   1</td><td style=\"text-align: right;\"> 0.006853</td><td style=\"text-align: right;\"> 0.462474</td><td style=\"text-align: right;\">-0.016878</td><td style=\"text-align: right;\"> 0.649795</td><td style=\"text-align: right;\">-1.34709 </td><td style=\"text-align: right;\">-0.307984</td><td style=\"text-align: right;\">-0.119577</td><td style=\"text-align: right;\"> 0.855597</td><td style=\"text-align: right;\"> 0.375899</td><td style=\"text-align: right;\">-0.09204 </td></tr>\n",
       "<tr><td style=\"text-align: right;\">   2</td><td style=\"text-align: right;\"> 0.229043</td><td style=\"text-align: right;\">-0.369751</td><td style=\"text-align: right;\"> 0.484575</td><td style=\"text-align: right;\"> 0.250174</td><td style=\"text-align: right;\"> 0.261718</td><td style=\"text-align: right;\">-0.01731 </td><td style=\"text-align: right;\"> 0.446679</td><td style=\"text-align: right;\"> 0.232984</td><td style=\"text-align: right;\">-0.123005</td><td style=\"text-align: right;\">-0.126856</td></tr>\n",
       "<tr><td style=\"text-align: right;\">   3</td><td style=\"text-align: right;\">-0.104241</td><td style=\"text-align: right;\">-0.055704</td><td style=\"text-align: right;\"> 0.299642</td><td style=\"text-align: right;\"> 0.391249</td><td style=\"text-align: right;\"> 0.17234 </td><td style=\"text-align: right;\"> 0.314889</td><td style=\"text-align: right;\"> 0.106925</td><td style=\"text-align: right;\"> 0.220694</td><td style=\"text-align: right;\"> 0.219991</td><td style=\"text-align: right;\"> 0.368972</td></tr>\n",
       "<tr><td style=\"text-align: right;\">   4</td><td style=\"text-align: right;\"> 1.04374 </td><td style=\"text-align: right;\">-0.401156</td><td style=\"text-align: right;\"> 0.473906</td><td style=\"text-align: right;\"> 0.506215</td><td style=\"text-align: right;\"> 0.261718</td><td style=\"text-align: right;\"> 0.06574 </td><td style=\"text-align: right;\">-0.195078</td><td style=\"text-align: right;\"> 0.51544 </td><td style=\"text-align: right;\">-0.808997</td><td style=\"text-align: right;\"> 0.315303</td></tr>\n",
       "<tr><td style=\"text-align: right;\">   5</td><td style=\"text-align: right;\"> 8.31426 </td><td style=\"text-align: right;\">-0.087108</td><td style=\"text-align: right;\"> 0.527252</td><td style=\"text-align: right;\"> 0.659642</td><td style=\"text-align: right;\">-3.13465 </td><td style=\"text-align: right;\">-0.432558</td><td style=\"text-align: right;\"> 0.484429</td><td style=\"text-align: right;\"> 0.428031</td><td style=\"text-align: right;\"> 0.344717</td><td style=\"text-align: right;\">-0.519973</td></tr>\n",
       "<tr><td style=\"text-align: right;\">   6</td><td style=\"text-align: right;\"> 0.167323</td><td style=\"text-align: right;\"> 0.117022</td><td style=\"text-align: right;\"> 0.047137</td><td style=\"text-align: right;\">-0.174809</td><td style=\"text-align: right;\"> 0.261718</td><td style=\"text-align: right;\"> 0.771662</td><td style=\"text-align: right;\"> 0.861934</td><td style=\"text-align: right;\">-0.629371</td><td style=\"text-align: right;\">-0.278912</td><td style=\"text-align: right;\"> 0.327225</td></tr>\n",
       "<tr><td style=\"text-align: right;\">   7</td><td style=\"text-align: right;\">-0.301743</td><td style=\"text-align: right;\"> 0.171981</td><td style=\"text-align: right;\"> 0.285416</td><td style=\"text-align: right;\"> 0.684706</td><td style=\"text-align: right;\"> 0.17234 </td><td style=\"text-align: right;\"> 3.76145 </td><td style=\"text-align: right;\"> 1.80569 </td><td style=\"text-align: right;\"> 0.735474</td><td style=\"text-align: right;\"> 1.37371 </td><td style=\"text-align: right;\"> 2.22267 </td></tr>\n",
       "<tr><td style=\"text-align: right;\">   8</td><td style=\"text-align: right;\"> 0.031541</td><td style=\"text-align: right;\">-0.346197</td><td style=\"text-align: right;\">-0.009765</td><td style=\"text-align: right;\"> 1.0299  </td><td style=\"text-align: right;\"> 0.082961</td><td style=\"text-align: right;\"> 1.31149 </td><td style=\"text-align: right;\"> 0.257927</td><td style=\"text-align: right;\">-0.553223</td><td style=\"text-align: right;\"> 0.001721</td><td style=\"text-align: right;\"> 1.17245 </td></tr>\n",
       "<tr><td style=\"text-align: right;\">   9</td><td style=\"text-align: right;\">-0.252367</td><td style=\"text-align: right;\"> 0.281897</td><td style=\"text-align: right;\"> 0.146717</td><td style=\"text-align: right;\">-0.082938</td><td style=\"text-align: right;\"> 0.261718</td><td style=\"text-align: right;\">-0.847807</td><td style=\"text-align: right;\">-0.232828</td><td style=\"text-align: right;\">-0.173497</td><td style=\"text-align: right;\"> 0.594169</td><td style=\"text-align: right;\">-0.550786</td></tr>\n",
       "</tbody>\n",
       "</table>"
      ]
     },
     "metadata": {},
     "output_type": "display_data"
    },
    {
     "data": {
      "text/plain": []
     },
     "metadata": {},
     "output_type": "display_data"
    }
   ],
   "source": [
    "train = h2o.H2OFrame(pd.read_csv('../cleanData/1-training-data.csv'))\n",
    "test = h2o.H2OFrame(pd.read_csv('../cleanData/1-test-data.csv'))\n",
    "display(train.head())\n",
    "display(test.head())"
   ]
  },
  {
   "cell_type": "code",
   "execution_count": 5,
   "metadata": {},
   "outputs": [
    {
     "data": {
      "text/plain": [
       "['0', '1', '2', '3', '4', '5', '6', '7', '8', '9']"
      ]
     },
     "execution_count": 5,
     "metadata": {},
     "output_type": "execute_result"
    }
   ],
   "source": [
    "X_columns = train.columns[1:-1]\n",
    "X_columns"
   ]
  },
  {
   "cell_type": "code",
   "execution_count": 6,
   "metadata": {},
   "outputs": [
    {
     "name": "stdout",
     "output_type": "stream",
     "text": [
      "AutoML progress: |████████████████████████████████████████████████████████| 100%\n"
     ]
    },
    {
     "data": {
      "text/html": [
       "<table>\n",
       "<thead>\n",
       "<tr><th>model_id                                        </th><th style=\"text-align: right;\">  mean_per_class_error</th><th style=\"text-align: right;\">  logloss</th><th style=\"text-align: right;\">    rmse</th><th style=\"text-align: right;\">      mse</th></tr>\n",
       "</thead>\n",
       "<tbody>\n",
       "<tr><td>StackedEnsemble_AllModels_AutoML_20200303_113107</td><td style=\"text-align: right;\">             0.0440728</td><td style=\"text-align: right;\"> 0.132581</td><td style=\"text-align: right;\">0.191176</td><td style=\"text-align: right;\">0.0365481</td></tr>\n",
       "<tr><td>XGBoost_1_AutoML_20200303_113107                </td><td style=\"text-align: right;\">             0.0447073</td><td style=\"text-align: right;\"> 0.511908</td><td style=\"text-align: right;\">0.405427</td><td style=\"text-align: right;\">0.164371 </td></tr>\n",
       "<tr><td>XGBoost_2_AutoML_20200303_113107                </td><td style=\"text-align: right;\">             0.16455  </td><td style=\"text-align: right;\"> 1.3261  </td><td style=\"text-align: right;\">0.728904</td><td style=\"text-align: right;\">0.531302 </td></tr>\n",
       "</tbody>\n",
       "</table>"
      ]
     },
     "metadata": {},
     "output_type": "display_data"
    },
    {
     "data": {
      "text/plain": []
     },
     "execution_count": 6,
     "metadata": {},
     "output_type": "execute_result"
    }
   ],
   "source": [
    "aml = H2OAutoML(max_runtime_secs = 20, project_name = \"avila_bible\", keep_cross_validation_models=True)\n",
    "aml.train(x=X_columns, y = 'author', training_frame = train)\n",
    "#pred_high = aml_high.leader.predict(test_high)\n",
    "aml.leaderboard"
   ]
  },
  {
   "cell_type": "code",
   "execution_count": 7,
   "metadata": {},
   "outputs": [
    {
     "name": "stdout",
     "output_type": "stream",
     "text": [
      "stackedensemble prediction progress: |████████████████████████████████████| 100%\n"
     ]
    },
    {
     "data": {
      "text/html": [
       "<table>\n",
       "<thead>\n",
       "<tr><th>predict  </th><th style=\"text-align: right;\">  Blanquius</th><th style=\"text-align: right;\">    Clarius</th><th style=\"text-align: right;\">  FerrumEffractarius</th><th style=\"text-align: right;\">     Marcus</th><th style=\"text-align: right;\">  Ovionicus</th><th style=\"text-align: right;\">  Paithonius</th><th style=\"text-align: right;\">  Philippus</th><th style=\"text-align: right;\">   Ubuntius</th></tr>\n",
       "</thead>\n",
       "<tbody>\n",
       "<tr><td>Marcus   </td><td style=\"text-align: right;\">0.00804277 </td><td style=\"text-align: right;\">0.0116996  </td><td style=\"text-align: right;\">         0.0111489  </td><td style=\"text-align: right;\">0.669221   </td><td style=\"text-align: right;\">0.0121857  </td><td style=\"text-align: right;\"> 0.0224668  </td><td style=\"text-align: right;\">0.253463   </td><td style=\"text-align: right;\">0.0117718  </td></tr>\n",
       "<tr><td>Philippus</td><td style=\"text-align: right;\">0.00365235 </td><td style=\"text-align: right;\">0.00535736 </td><td style=\"text-align: right;\">         0.0050421  </td><td style=\"text-align: right;\">0.0122786  </td><td style=\"text-align: right;\">0.00827156 </td><td style=\"text-align: right;\"> 0.00571113 </td><td style=\"text-align: right;\">0.953025   </td><td style=\"text-align: right;\">0.0066617  </td></tr>\n",
       "<tr><td>Marcus   </td><td style=\"text-align: right;\">0.00120648 </td><td style=\"text-align: right;\">0.00175236 </td><td style=\"text-align: right;\">         0.001669   </td><td style=\"text-align: right;\">0.954937   </td><td style=\"text-align: right;\">0.00180536 </td><td style=\"text-align: right;\"> 0.0018263  </td><td style=\"text-align: right;\">0.0350702  </td><td style=\"text-align: right;\">0.00173327 </td></tr>\n",
       "<tr><td>Marcus   </td><td style=\"text-align: right;\">0.00685995 </td><td style=\"text-align: right;\">0.0107792  </td><td style=\"text-align: right;\">         0.0095428  </td><td style=\"text-align: right;\">0.731488   </td><td style=\"text-align: right;\">0.0108744  </td><td style=\"text-align: right;\"> 0.0122513  </td><td style=\"text-align: right;\">0.208178   </td><td style=\"text-align: right;\">0.0100259  </td></tr>\n",
       "<tr><td>Marcus   </td><td style=\"text-align: right;\">0.000846428</td><td style=\"text-align: right;\">0.000857654</td><td style=\"text-align: right;\">         0.000825261</td><td style=\"text-align: right;\">0.991398   </td><td style=\"text-align: right;\">0.000888096</td><td style=\"text-align: right;\"> 0.000903639</td><td style=\"text-align: right;\">0.00342874 </td><td style=\"text-align: right;\">0.000852445</td></tr>\n",
       "<tr><td>Ovionicus</td><td style=\"text-align: right;\">0.00714467 </td><td style=\"text-align: right;\">0.0107584  </td><td style=\"text-align: right;\">         0.00950861 </td><td style=\"text-align: right;\">0.0606073  </td><td style=\"text-align: right;\">0.874499   </td><td style=\"text-align: right;\"> 0.0102062  </td><td style=\"text-align: right;\">0.0178189  </td><td style=\"text-align: right;\">0.00945726 </td></tr>\n",
       "<tr><td>Marcus   </td><td style=\"text-align: right;\">0.000392638</td><td style=\"text-align: right;\">0.000569838</td><td style=\"text-align: right;\">         0.00054133 </td><td style=\"text-align: right;\">0.993903   </td><td style=\"text-align: right;\">0.000587175</td><td style=\"text-align: right;\"> 0.000605125</td><td style=\"text-align: right;\">0.0028126  </td><td style=\"text-align: right;\">0.000588131</td></tr>\n",
       "<tr><td>Clarius  </td><td style=\"text-align: right;\">0.00952131 </td><td style=\"text-align: right;\">0.731482   </td><td style=\"text-align: right;\">         0.014235   </td><td style=\"text-align: right;\">0.00586741 </td><td style=\"text-align: right;\">0.197957   </td><td style=\"text-align: right;\"> 0.0156316  </td><td style=\"text-align: right;\">0.0119063  </td><td style=\"text-align: right;\">0.0133996  </td></tr>\n",
       "<tr><td>Marcus   </td><td style=\"text-align: right;\">0.000164419</td><td style=\"text-align: right;\">0.00024278 </td><td style=\"text-align: right;\">         0.000226402</td><td style=\"text-align: right;\">0.997863   </td><td style=\"text-align: right;\">0.000253394</td><td style=\"text-align: right;\"> 0.000250681</td><td style=\"text-align: right;\">0.000761544</td><td style=\"text-align: right;\">0.000238024</td></tr>\n",
       "<tr><td>Ovionicus</td><td style=\"text-align: right;\">0.000323756</td><td style=\"text-align: right;\">0.000586489</td><td style=\"text-align: right;\">         0.000448511</td><td style=\"text-align: right;\">0.000273164</td><td style=\"text-align: right;\">0.996954   </td><td style=\"text-align: right;\"> 0.000508083</td><td style=\"text-align: right;\">0.000423874</td><td style=\"text-align: right;\">0.000482185</td></tr>\n",
       "</tbody>\n",
       "</table>"
      ]
     },
     "metadata": {},
     "output_type": "display_data"
    },
    {
     "data": {
      "text/plain": []
     },
     "execution_count": 7,
     "metadata": {},
     "output_type": "execute_result"
    }
   ],
   "source": [
    "predictions = aml.predict(test)\n",
    "predictions.head()\n",
    "#predictions.shape"
   ]
  },
  {
   "cell_type": "code",
   "execution_count": 8,
   "metadata": {},
   "outputs": [],
   "source": [
    "predDF = predictions.as_data_frame().rename({'predict':'author'}, axis=1)"
   ]
  },
  {
   "cell_type": "code",
   "execution_count": 9,
   "metadata": {},
   "outputs": [],
   "source": [
    "predPandas = pd.concat((test['id'].as_data_frame(), predDF), axis=1)[['id', 'author']]\n",
    "predPandas.to_csv('../predictions/3-autoML.csv', index=False)\n"
   ]
  },
  {
   "cell_type": "code",
   "execution_count": 12,
   "metadata": {},
   "outputs": [
    {
     "name": "stderr",
     "output_type": "stream",
     "text": [
      "/home/edu/.local/lib/python3.7/site-packages/ipykernel_launcher.py:1: DeprecationWarning: Deprecated, use ``h2o.cluster().shutdown()``.\n",
      "  \"\"\"Entry point for launching an IPython kernel.\n"
     ]
    },
    {
     "name": "stdout",
     "output_type": "stream",
     "text": [
      "H2O session _sid_a25f closed.\n"
     ]
    }
   ],
   "source": [
    "h2o.shutdown()"
   ]
  }
 ],
 "metadata": {
  "kernelspec": {
   "display_name": "Python 3.7.6 64-bit",
   "language": "python",
   "name": "python37664bitc736265aa96942798be544ff59087e30"
  },
  "language_info": {
   "codemirror_mode": {
    "name": "ipython",
    "version": 3
   },
   "file_extension": ".py",
   "mimetype": "text/x-python",
   "name": "python",
   "nbconvert_exporter": "python",
   "pygments_lexer": "ipython3",
   "version": "3.7.5rc1"
  }
 },
 "nbformat": 4,
 "nbformat_minor": 4
}
