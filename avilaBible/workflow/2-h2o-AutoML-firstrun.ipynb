{
 "cells": [
  {
   "cell_type": "code",
   "execution_count": 46,
   "metadata": {},
   "outputs": [
    {
     "name": "stdout",
     "output_type": "stream",
     "text": [
      "Checking whether there is an H2O instance running at http://localhost:54321 . connected.\n"
     ]
    },
    {
     "data": {
      "text/html": [
       "<div style=\"overflow:auto\"><table style=\"width:50%\"><tr><td>H2O cluster uptime:</td>\n",
       "<td>1 hour 52 mins</td></tr>\n",
       "<tr><td>H2O cluster timezone:</td>\n",
       "<td>Europe/Paris</td></tr>\n",
       "<tr><td>H2O data parsing timezone:</td>\n",
       "<td>UTC</td></tr>\n",
       "<tr><td>H2O cluster version:</td>\n",
       "<td>3.28.0.3</td></tr>\n",
       "<tr><td>H2O cluster version age:</td>\n",
       "<td>25 days </td></tr>\n",
       "<tr><td>H2O cluster name:</td>\n",
       "<td>H2O_from_python_edu_yuaa4k</td></tr>\n",
       "<tr><td>H2O cluster total nodes:</td>\n",
       "<td>1</td></tr>\n",
       "<tr><td>H2O cluster free memory:</td>\n",
       "<td>190.4 Mb</td></tr>\n",
       "<tr><td>H2O cluster total cores:</td>\n",
       "<td>8</td></tr>\n",
       "<tr><td>H2O cluster allowed cores:</td>\n",
       "<td>8</td></tr>\n",
       "<tr><td>H2O cluster status:</td>\n",
       "<td>locked, healthy</td></tr>\n",
       "<tr><td>H2O connection url:</td>\n",
       "<td>http://localhost:54321</td></tr>\n",
       "<tr><td>H2O connection proxy:</td>\n",
       "<td>{'http': None, 'https': None}</td></tr>\n",
       "<tr><td>H2O internal security:</td>\n",
       "<td>False</td></tr>\n",
       "<tr><td>H2O API Extensions:</td>\n",
       "<td>Amazon S3, XGBoost, Algos, AutoML, Core V3, TargetEncoder, Core V4</td></tr>\n",
       "<tr><td>Python version:</td>\n",
       "<td>3.7.6 final</td></tr></table></div>"
      ],
      "text/plain": [
       "--------------------------  ------------------------------------------------------------------\n",
       "H2O cluster uptime:         1 hour 52 mins\n",
       "H2O cluster timezone:       Europe/Paris\n",
       "H2O data parsing timezone:  UTC\n",
       "H2O cluster version:        3.28.0.3\n",
       "H2O cluster version age:    25 days\n",
       "H2O cluster name:           H2O_from_python_edu_yuaa4k\n",
       "H2O cluster total nodes:    1\n",
       "H2O cluster free memory:    190.4 Mb\n",
       "H2O cluster total cores:    8\n",
       "H2O cluster allowed cores:  8\n",
       "H2O cluster status:         locked, healthy\n",
       "H2O connection url:         http://localhost:54321\n",
       "H2O connection proxy:       {'http': None, 'https': None}\n",
       "H2O internal security:      False\n",
       "H2O API Extensions:         Amazon S3, XGBoost, Algos, AutoML, Core V3, TargetEncoder, Core V4\n",
       "Python version:             3.7.6 final\n",
       "--------------------------  ------------------------------------------------------------------"
      ]
     },
     "metadata": {},
     "output_type": "display_data"
    }
   ],
   "source": [
    "import h2o\n",
    "import pandas as pd\n",
    "from h2o.automl import H2OAutoML\n",
    "h2o.init(nthreads=7, max_mem_size='6G')"
   ]
  },
  {
   "cell_type": "code",
   "execution_count": 47,
   "metadata": {},
   "outputs": [
    {
     "name": "stdout",
     "output_type": "stream",
     "text": [
      "Parse progress: |█████████████████████████████████████████████████████████| 100%\n",
      "Parse progress: |█████████████████████████████████████████████████████████| 100%\n"
     ]
    },
    {
     "data": {
      "text/html": [
       "<table>\n",
       "<thead>\n",
       "<tr><th style=\"text-align: right;\">  id</th><th style=\"text-align: right;\">        0</th><th style=\"text-align: right;\">        1</th><th style=\"text-align: right;\">        2</th><th style=\"text-align: right;\">        3</th><th style=\"text-align: right;\">       4</th><th style=\"text-align: right;\">        5</th><th style=\"text-align: right;\">        6</th><th style=\"text-align: right;\">        7</th><th style=\"text-align: right;\">        8</th><th style=\"text-align: right;\">        9</th><th>author   </th></tr>\n",
       "</thead>\n",
       "<tbody>\n",
       "<tr><td style=\"text-align: right;\">   0</td><td style=\"text-align: right;\"> 0.142636</td><td style=\"text-align: right;\"> 0.43107 </td><td style=\"text-align: right;\"> 0.032912</td><td style=\"text-align: right;\">-0.486796</td><td style=\"text-align: right;\">0.261718</td><td style=\"text-align: right;\">-1.01391 </td><td style=\"text-align: right;\">-0.081827</td><td style=\"text-align: right;\"> 0.330352</td><td style=\"text-align: right;\"> 0.438262</td><td style=\"text-align: right;\">-0.761088</td><td>Ubuntius </td></tr>\n",
       "<tr><td style=\"text-align: right;\">   1</td><td style=\"text-align: right;\"> 0.019197</td><td style=\"text-align: right;\"> 0.525284</td><td style=\"text-align: right;\"> 0.068476</td><td style=\"text-align: right;\"> 0.166658</td><td style=\"text-align: right;\">0.261718</td><td style=\"text-align: right;\"> 0.231839</td><td style=\"text-align: right;\"> 0.635431</td><td style=\"text-align: right;\"> 0.133209</td><td style=\"text-align: right;\"> 0.313536</td><td style=\"text-align: right;\">-0.002374</td><td>Philippus</td></tr>\n",
       "<tr><td style=\"text-align: right;\">   2</td><td style=\"text-align: right;\"> 0.09326 </td><td style=\"text-align: right;\">-0.087108</td><td style=\"text-align: right;\">-2.26808 </td><td style=\"text-align: right;\">-0.164963</td><td style=\"text-align: right;\">0.261718</td><td style=\"text-align: right;\"> 1.47758 </td><td style=\"text-align: right;\"> 0.635431</td><td style=\"text-align: right;\">-0.370641</td><td style=\"text-align: right;\"> 0.126447</td><td style=\"text-align: right;\"> 1.07836 </td><td>Marcus   </td></tr>\n",
       "<tr><td style=\"text-align: right;\">   3</td><td style=\"text-align: right;\">-0.017834</td><td style=\"text-align: right;\">-0.22843 </td><td style=\"text-align: right;\"> 0.37077 </td><td style=\"text-align: right;\"> 1.29367 </td><td style=\"text-align: right;\">0.17234 </td><td style=\"text-align: right;\">-0.058835</td><td style=\"text-align: right;\"> 0.446679</td><td style=\"text-align: right;\"> 1.60956 </td><td style=\"text-align: right;\"> 2.27797 </td><td style=\"text-align: right;\">-0.172339</td><td>Clarius  </td></tr>\n",
       "<tr><td style=\"text-align: right;\">   4</td><td style=\"text-align: right;\"> 0.080916</td><td style=\"text-align: right;\">-0.142067</td><td style=\"text-align: right;\"> 0.171611</td><td style=\"text-align: right;\">-0.470713</td><td style=\"text-align: right;\">0.261718</td><td style=\"text-align: right;\">-0.141884</td><td style=\"text-align: right;\">-0.044076</td><td style=\"text-align: right;\"> 0.375551</td><td style=\"text-align: right;\"> 0.032902</td><td style=\"text-align: right;\"> 0.009898</td><td>Philippus</td></tr>\n",
       "<tr><td style=\"text-align: right;\">   5</td><td style=\"text-align: right;\"> 0.241386</td><td style=\"text-align: right;\"> 0.23479 </td><td style=\"text-align: right;\"> 0.121822</td><td style=\"text-align: right;\"> 1.03799 </td><td style=\"text-align: right;\">0.261718</td><td style=\"text-align: right;\"> 0.937762</td><td style=\"text-align: right;\"> 0.748682</td><td style=\"text-align: right;\"> 0.385589</td><td style=\"text-align: right;\">-0.466001</td><td style=\"text-align: right;\"> 0.529787</td><td>Marcus   </td></tr>\n",
       "<tr><td style=\"text-align: right;\">   6</td><td style=\"text-align: right;\"> 0.772172</td><td style=\"text-align: right;\"> 0.030659</td><td style=\"text-align: right;\"> 0.075589</td><td style=\"text-align: right;\"> 0.371824</td><td style=\"text-align: right;\">0.976743</td><td style=\"text-align: right;\">-1.09696 </td><td style=\"text-align: right;\">-1.02559 </td><td style=\"text-align: right;\"> 0.441894</td><td style=\"text-align: right;\"> 1.06189 </td><td style=\"text-align: right;\">-0.314095</td><td>Blanquius</td></tr>\n",
       "<tr><td style=\"text-align: right;\">   7</td><td style=\"text-align: right;\"> 0.883267</td><td style=\"text-align: right;\">-0.314793</td><td style=\"text-align: right;\"> 0.086258</td><td style=\"text-align: right;\">-1.33784 </td><td style=\"text-align: right;\">0.976743</td><td style=\"text-align: right;\">-1.26305 </td><td style=\"text-align: right;\">-1.66734 </td><td style=\"text-align: right;\"> 0.683654</td><td style=\"text-align: right;\"> 1.81025 </td><td style=\"text-align: right;\">-0.108556</td><td>Blanquius</td></tr>\n",
       "<tr><td style=\"text-align: right;\">   8</td><td style=\"text-align: right;\"> 0.994361</td><td style=\"text-align: right;\">-0.008597</td><td style=\"text-align: right;\">-0.148465</td><td style=\"text-align: right;\"> 0.826884</td><td style=\"text-align: right;\">0.261718</td><td style=\"text-align: right;\"> 0.647088</td><td style=\"text-align: right;\"> 0.673182</td><td style=\"text-align: right;\"> 0.585277</td><td style=\"text-align: right;\"> 0.219991</td><td style=\"text-align: right;\"> 0.313301</td><td>Marcus   </td></tr>\n",
       "<tr><td style=\"text-align: right;\">   9</td><td style=\"text-align: right;\"> 0.117948</td><td style=\"text-align: right;\">-0.189174</td><td style=\"text-align: right;\"> 0.029355</td><td style=\"text-align: right;\"> 0.763359</td><td style=\"text-align: right;\">0.887365</td><td style=\"text-align: right;\">-0.391033</td><td style=\"text-align: right;\">-0.950086</td><td style=\"text-align: right;\"> 0.207938</td><td style=\"text-align: right;\">-0.029461</td><td style=\"text-align: right;\"> 0.345284</td><td>Blanquius</td></tr>\n",
       "</tbody>\n",
       "</table>"
      ]
     },
     "metadata": {},
     "output_type": "display_data"
    },
    {
     "data": {
      "text/plain": []
     },
     "metadata": {},
     "output_type": "display_data"
    },
    {
     "data": {
      "text/html": [
       "<table>\n",
       "<thead>\n",
       "<tr><th style=\"text-align: right;\">  id</th><th style=\"text-align: right;\">        0</th><th style=\"text-align: right;\">        1</th><th style=\"text-align: right;\">        2</th><th style=\"text-align: right;\">        3</th><th style=\"text-align: right;\">        4</th><th style=\"text-align: right;\">        5</th><th style=\"text-align: right;\">        6</th><th style=\"text-align: right;\">        7</th><th style=\"text-align: right;\">        8</th><th style=\"text-align: right;\">        9</th></tr>\n",
       "</thead>\n",
       "<tbody>\n",
       "<tr><td style=\"text-align: right;\">   0</td><td style=\"text-align: right;\"> 0.019197</td><td style=\"text-align: right;\"> 0.038511</td><td style=\"text-align: right;\"> 0.19295 </td><td style=\"text-align: right;\"> 0.323367</td><td style=\"text-align: right;\"> 0.261718</td><td style=\"text-align: right;\">-0.10036 </td><td style=\"text-align: right;\"> 0.106925</td><td style=\"text-align: right;\"> 0.463833</td><td style=\"text-align: right;\"> 0.064084</td><td style=\"text-align: right;\">-0.025146</td></tr>\n",
       "<tr><td style=\"text-align: right;\">   1</td><td style=\"text-align: right;\"> 0.006853</td><td style=\"text-align: right;\"> 0.462474</td><td style=\"text-align: right;\">-0.016878</td><td style=\"text-align: right;\"> 0.649795</td><td style=\"text-align: right;\">-1.34709 </td><td style=\"text-align: right;\">-0.307984</td><td style=\"text-align: right;\">-0.119577</td><td style=\"text-align: right;\"> 0.855597</td><td style=\"text-align: right;\"> 0.375899</td><td style=\"text-align: right;\">-0.09204 </td></tr>\n",
       "<tr><td style=\"text-align: right;\">   2</td><td style=\"text-align: right;\"> 0.229043</td><td style=\"text-align: right;\">-0.369751</td><td style=\"text-align: right;\"> 0.484575</td><td style=\"text-align: right;\"> 0.250174</td><td style=\"text-align: right;\"> 0.261718</td><td style=\"text-align: right;\">-0.01731 </td><td style=\"text-align: right;\"> 0.446679</td><td style=\"text-align: right;\"> 0.232984</td><td style=\"text-align: right;\">-0.123005</td><td style=\"text-align: right;\">-0.126856</td></tr>\n",
       "<tr><td style=\"text-align: right;\">   3</td><td style=\"text-align: right;\">-0.104241</td><td style=\"text-align: right;\">-0.055704</td><td style=\"text-align: right;\"> 0.299642</td><td style=\"text-align: right;\"> 0.391249</td><td style=\"text-align: right;\"> 0.17234 </td><td style=\"text-align: right;\"> 0.314889</td><td style=\"text-align: right;\"> 0.106925</td><td style=\"text-align: right;\"> 0.220694</td><td style=\"text-align: right;\"> 0.219991</td><td style=\"text-align: right;\"> 0.368972</td></tr>\n",
       "<tr><td style=\"text-align: right;\">   4</td><td style=\"text-align: right;\"> 1.04374 </td><td style=\"text-align: right;\">-0.401156</td><td style=\"text-align: right;\"> 0.473906</td><td style=\"text-align: right;\"> 0.506215</td><td style=\"text-align: right;\"> 0.261718</td><td style=\"text-align: right;\"> 0.06574 </td><td style=\"text-align: right;\">-0.195078</td><td style=\"text-align: right;\"> 0.51544 </td><td style=\"text-align: right;\">-0.808997</td><td style=\"text-align: right;\"> 0.315303</td></tr>\n",
       "<tr><td style=\"text-align: right;\">   5</td><td style=\"text-align: right;\"> 8.31426 </td><td style=\"text-align: right;\">-0.087108</td><td style=\"text-align: right;\"> 0.527252</td><td style=\"text-align: right;\"> 0.659642</td><td style=\"text-align: right;\">-3.13465 </td><td style=\"text-align: right;\">-0.432558</td><td style=\"text-align: right;\"> 0.484429</td><td style=\"text-align: right;\"> 0.428031</td><td style=\"text-align: right;\"> 0.344717</td><td style=\"text-align: right;\">-0.519973</td></tr>\n",
       "<tr><td style=\"text-align: right;\">   6</td><td style=\"text-align: right;\"> 0.167323</td><td style=\"text-align: right;\"> 0.117022</td><td style=\"text-align: right;\"> 0.047137</td><td style=\"text-align: right;\">-0.174809</td><td style=\"text-align: right;\"> 0.261718</td><td style=\"text-align: right;\"> 0.771662</td><td style=\"text-align: right;\"> 0.861934</td><td style=\"text-align: right;\">-0.629371</td><td style=\"text-align: right;\">-0.278912</td><td style=\"text-align: right;\"> 0.327225</td></tr>\n",
       "<tr><td style=\"text-align: right;\">   7</td><td style=\"text-align: right;\">-0.301743</td><td style=\"text-align: right;\"> 0.171981</td><td style=\"text-align: right;\"> 0.285416</td><td style=\"text-align: right;\"> 0.684706</td><td style=\"text-align: right;\"> 0.17234 </td><td style=\"text-align: right;\"> 3.76145 </td><td style=\"text-align: right;\"> 1.80569 </td><td style=\"text-align: right;\"> 0.735474</td><td style=\"text-align: right;\"> 1.37371 </td><td style=\"text-align: right;\"> 2.22267 </td></tr>\n",
       "<tr><td style=\"text-align: right;\">   8</td><td style=\"text-align: right;\"> 0.031541</td><td style=\"text-align: right;\">-0.346197</td><td style=\"text-align: right;\">-0.009765</td><td style=\"text-align: right;\"> 1.0299  </td><td style=\"text-align: right;\"> 0.082961</td><td style=\"text-align: right;\"> 1.31149 </td><td style=\"text-align: right;\"> 0.257927</td><td style=\"text-align: right;\">-0.553223</td><td style=\"text-align: right;\"> 0.001721</td><td style=\"text-align: right;\"> 1.17245 </td></tr>\n",
       "<tr><td style=\"text-align: right;\">   9</td><td style=\"text-align: right;\">-0.252367</td><td style=\"text-align: right;\"> 0.281897</td><td style=\"text-align: right;\"> 0.146717</td><td style=\"text-align: right;\">-0.082938</td><td style=\"text-align: right;\"> 0.261718</td><td style=\"text-align: right;\">-0.847807</td><td style=\"text-align: right;\">-0.232828</td><td style=\"text-align: right;\">-0.173497</td><td style=\"text-align: right;\"> 0.594169</td><td style=\"text-align: right;\">-0.550786</td></tr>\n",
       "</tbody>\n",
       "</table>"
      ]
     },
     "metadata": {},
     "output_type": "display_data"
    },
    {
     "data": {
      "text/plain": []
     },
     "metadata": {},
     "output_type": "display_data"
    }
   ],
   "source": [
    "train = h2o.H2OFrame(pd.read_csv('../cleanData/1-training-data.csv'))\n",
    "test = h2o.H2OFrame(pd.read_csv('../cleanData/1-test-data.csv'))\n",
    "display(train.head())\n",
    "display(test.head())"
   ]
  },
  {
   "cell_type": "code",
   "execution_count": 48,
   "metadata": {},
   "outputs": [
    {
     "data": {
      "text/plain": [
       "['0', '1', '2', '3', '4', '5', '6', '7', '8', '9']"
      ]
     },
     "execution_count": 48,
     "metadata": {},
     "output_type": "execute_result"
    }
   ],
   "source": [
    "X_columns = train.columns[1:-1]\n",
    "X_columns"
   ]
  },
  {
   "cell_type": "code",
   "execution_count": 49,
   "metadata": {},
   "outputs": [
    {
     "name": "stdout",
     "output_type": "stream",
     "text": [
      "AutoML progress: |\n",
      "11:35:04.623: New models will be added to existing leaderboard avila_bible@@author (leaderboard frame=null) with already 1 models.\n",
      "11:35:16.634: StackedEnsemble_AllModels_AutoML_20200302_113504 [StackedEnsemble all (built using all AutoML models)] failed: water.exceptions.H2OIllegalArgumentException: Failed to find the xval predictions frame. . .  Looks like keep_cross_validation_predictions wasn't set when building the models, or the frame was deleted.\n",
      "11:43:32.781: New models will be added to existing leaderboard avila_bible@@author (leaderboard frame=null) with already 2 models.\n",
      "11:44:33.845: StackedEnsemble_AllModels_AutoML_20200302_114332 [StackedEnsemble all (built using all AutoML models)] failed: water.exceptions.H2OIllegalArgumentException: Failed to find the xval predictions frame. . .  Looks like keep_cross_validation_predictions wasn't set when building the models, or the frame was deleted.\n",
      "11:47:30.603: New models will be added to existing leaderboard avila_bible@@author (leaderboard frame=null) with already 5 models.\n",
      "\n",
      "████████████████████████████████████████████████████████| 100%\n",
      "\n",
      "11:52:54.125: StackedEnsemble_AllModels_AutoML_20200302_114730 [StackedEnsemble all (built using all AutoML models)] failed: water.exceptions.H2OIllegalArgumentException: Failed to find the xval predictions frame. . .  Looks like keep_cross_validation_predictions wasn't set when building the models, or the frame was deleted.\n",
      "\n"
     ]
    },
    {
     "data": {
      "text/html": [
       "<table>\n",
       "<thead>\n",
       "<tr><th>model_id                                           </th><th style=\"text-align: right;\">  mean_per_class_error</th><th style=\"text-align: right;\">  logloss</th><th style=\"text-align: right;\">     rmse</th><th style=\"text-align: right;\">       mse</th></tr>\n",
       "</thead>\n",
       "<tbody>\n",
       "<tr><td>XGBoost_1_AutoML_20200302_114730                   </td><td style=\"text-align: right;\">            0.00650465</td><td style=\"text-align: right;\"> 0.065528</td><td style=\"text-align: right;\">0.0989252</td><td style=\"text-align: right;\">0.00978619</td></tr>\n",
       "<tr><td>StackedEnsemble_BestOfFamily_AutoML_20200302_114730</td><td style=\"text-align: right;\">            0.00781571</td><td style=\"text-align: right;\"> 0.031496</td><td style=\"text-align: right;\">0.0717775</td><td style=\"text-align: right;\">0.00515201</td></tr>\n",
       "<tr><td>XGBoost_1_AutoML_20200302_114332                   </td><td style=\"text-align: right;\">            0.0182501 </td><td style=\"text-align: right;\"> 0.211003</td><td style=\"text-align: right;\">0.219606 </td><td style=\"text-align: right;\">0.048227  </td></tr>\n",
       "<tr><td>XGBoost_2_AutoML_20200302_114730                   </td><td style=\"text-align: right;\">            0.02791   </td><td style=\"text-align: right;\"> 0.253771</td><td style=\"text-align: right;\">0.252983 </td><td style=\"text-align: right;\">0.0640003 </td></tr>\n",
       "<tr><td>XGBoost_1_AutoML_20200302_111220                   </td><td style=\"text-align: right;\">            0.0704475 </td><td style=\"text-align: right;\"> 0.890927</td><td style=\"text-align: right;\">0.583991 </td><td style=\"text-align: right;\">0.341046  </td></tr>\n",
       "<tr><td>XGBoost_1_AutoML_20200302_113504                   </td><td style=\"text-align: right;\">            0.0724144 </td><td style=\"text-align: right;\"> 0.885437</td><td style=\"text-align: right;\">0.581687 </td><td style=\"text-align: right;\">0.33836   </td></tr>\n",
       "<tr><td>XGBoost_2_AutoML_20200302_114332                   </td><td style=\"text-align: right;\">            0.104292  </td><td style=\"text-align: right;\"> 0.90176 </td><td style=\"text-align: right;\">0.587013 </td><td style=\"text-align: right;\">0.344584  </td></tr>\n",
       "<tr><td>XGBoost_3_AutoML_20200302_114730                   </td><td style=\"text-align: right;\">            0.117121  </td><td style=\"text-align: right;\"> 0.558281</td><td style=\"text-align: right;\">0.434479 </td><td style=\"text-align: right;\">0.188772  </td></tr>\n",
       "<tr><td>DRF_1_AutoML_20200302_114730                       </td><td style=\"text-align: right;\">            0.141576  </td><td style=\"text-align: right;\"> 1.97468 </td><td style=\"text-align: right;\">0.326181 </td><td style=\"text-align: right;\">0.106394  </td></tr>\n",
       "<tr><td>XGBoost_3_AutoML_20200302_114332                   </td><td style=\"text-align: right;\">            0.233827  </td><td style=\"text-align: right;\"> 1.49129 </td><td style=\"text-align: right;\">0.770365 </td><td style=\"text-align: right;\">0.593462  </td></tr>\n",
       "</tbody>\n",
       "</table>"
      ]
     },
     "metadata": {},
     "output_type": "display_data"
    },
    {
     "data": {
      "text/plain": []
     },
     "execution_count": 49,
     "metadata": {},
     "output_type": "execute_result"
    }
   ],
   "source": [
    "aml = H2OAutoML(max_runtime_secs = 300, project_name = \"avila_bible\", keep_cross_validation_models=True)\n",
    "aml.train(x=X_columns, y = 'author', training_frame = train)\n",
    "#pred_high = aml_high.leader.predict(test_high)\n",
    "aml.leaderboard"
   ]
  },
  {
   "cell_type": "code",
   "execution_count": 50,
   "metadata": {},
   "outputs": [
    {
     "name": "stdout",
     "output_type": "stream",
     "text": [
      "xgboost prediction progress: |████████████████████████████████████████████| 100%\n"
     ]
    },
    {
     "data": {
      "text/html": [
       "<table>\n",
       "<thead>\n",
       "<tr><th>predict  </th><th style=\"text-align: right;\">  Blanquius</th><th style=\"text-align: right;\">    Clarius</th><th style=\"text-align: right;\">  FerrumEffractarius</th><th style=\"text-align: right;\">    Marcus</th><th style=\"text-align: right;\">  Ovionicus</th><th style=\"text-align: right;\">  Paithonius</th><th style=\"text-align: right;\">  Philippus</th><th style=\"text-align: right;\">   Ubuntius</th></tr>\n",
       "</thead>\n",
       "<tbody>\n",
       "<tr><td>Philippus</td><td style=\"text-align: right;\">0.000891445</td><td style=\"text-align: right;\">0.000921564</td><td style=\"text-align: right;\">         0.000828095</td><td style=\"text-align: right;\">0.130863  </td><td style=\"text-align: right;\">0.00146868 </td><td style=\"text-align: right;\"> 0.0282383  </td><td style=\"text-align: right;\">0.835447   </td><td style=\"text-align: right;\">0.00134233 </td></tr>\n",
       "<tr><td>Philippus</td><td style=\"text-align: right;\">0.000926668</td><td style=\"text-align: right;\">0.0015319  </td><td style=\"text-align: right;\">         0.000824493</td><td style=\"text-align: right;\">0.0420354 </td><td style=\"text-align: right;\">0.00249562 </td><td style=\"text-align: right;\"> 0.00113294 </td><td style=\"text-align: right;\">0.946118   </td><td style=\"text-align: right;\">0.00493519 </td></tr>\n",
       "<tr><td>Marcus   </td><td style=\"text-align: right;\">0.00023822 </td><td style=\"text-align: right;\">0.000229624</td><td style=\"text-align: right;\">         0.000611584</td><td style=\"text-align: right;\">0.933917  </td><td style=\"text-align: right;\">0.00048916 </td><td style=\"text-align: right;\"> 0.000349575</td><td style=\"text-align: right;\">0.0639179  </td><td style=\"text-align: right;\">0.000246888</td></tr>\n",
       "<tr><td>Marcus   </td><td style=\"text-align: right;\">0.000522762</td><td style=\"text-align: right;\">0.00278374 </td><td style=\"text-align: right;\">         0.00170448 </td><td style=\"text-align: right;\">0.887084  </td><td style=\"text-align: right;\">0.00212895 </td><td style=\"text-align: right;\"> 0.00260017 </td><td style=\"text-align: right;\">0.102615   </td><td style=\"text-align: right;\">0.000560435</td></tr>\n",
       "<tr><td>Marcus   </td><td style=\"text-align: right;\">0.00376267 </td><td style=\"text-align: right;\">0.000526184</td><td style=\"text-align: right;\">         0.0012698  </td><td style=\"text-align: right;\">0.981152  </td><td style=\"text-align: right;\">0.000721396</td><td style=\"text-align: right;\"> 0.000552704</td><td style=\"text-align: right;\">0.0116206  </td><td style=\"text-align: right;\">0.000395033</td></tr>\n",
       "<tr><td>Ovionicus</td><td style=\"text-align: right;\">0.00552734 </td><td style=\"text-align: right;\">0.00183564 </td><td style=\"text-align: right;\">         0.00309692 </td><td style=\"text-align: right;\">0.0754531 </td><td style=\"text-align: right;\">0.907219   </td><td style=\"text-align: right;\"> 0.00110095 </td><td style=\"text-align: right;\">0.00499428 </td><td style=\"text-align: right;\">0.000772744</td></tr>\n",
       "<tr><td>Marcus   </td><td style=\"text-align: right;\">0.000491368</td><td style=\"text-align: right;\">0.000444518</td><td style=\"text-align: right;\">         0.000395872</td><td style=\"text-align: right;\">0.975122  </td><td style=\"text-align: right;\">0.000885881</td><td style=\"text-align: right;\"> 0.00101499 </td><td style=\"text-align: right;\">0.0205701  </td><td style=\"text-align: right;\">0.00107498 </td></tr>\n",
       "<tr><td>Clarius  </td><td style=\"text-align: right;\">0.000465223</td><td style=\"text-align: right;\">0.918169   </td><td style=\"text-align: right;\">         0.00298762 </td><td style=\"text-align: right;\">0.00187373</td><td style=\"text-align: right;\">0.0693281  </td><td style=\"text-align: right;\"> 0.00501477 </td><td style=\"text-align: right;\">0.00179662 </td><td style=\"text-align: right;\">0.000364865</td></tr>\n",
       "<tr><td>Marcus   </td><td style=\"text-align: right;\">0.000225665</td><td style=\"text-align: right;\">0.000565245</td><td style=\"text-align: right;\">         0.000265047</td><td style=\"text-align: right;\">0.995672  </td><td style=\"text-align: right;\">0.00088253 </td><td style=\"text-align: right;\"> 0.000176026</td><td style=\"text-align: right;\">0.00196566 </td><td style=\"text-align: right;\">0.000247681</td></tr>\n",
       "<tr><td>Ovionicus</td><td style=\"text-align: right;\">0.000134228</td><td style=\"text-align: right;\">0.000266584</td><td style=\"text-align: right;\">         0.000379389</td><td style=\"text-align: right;\">0.00179798</td><td style=\"text-align: right;\">0.994068   </td><td style=\"text-align: right;\"> 0.000713585</td><td style=\"text-align: right;\">0.000629443</td><td style=\"text-align: right;\">0.00201079 </td></tr>\n",
       "</tbody>\n",
       "</table>"
      ]
     },
     "metadata": {},
     "output_type": "display_data"
    },
    {
     "data": {
      "text/plain": []
     },
     "execution_count": 50,
     "metadata": {},
     "output_type": "execute_result"
    }
   ],
   "source": [
    "predictions = aml.predict(test)\n",
    "predictions.head()\n",
    "#predictions.shape"
   ]
  },
  {
   "cell_type": "code",
   "execution_count": 51,
   "metadata": {},
   "outputs": [],
   "source": [
    "predDF = predictions.as_data_frame().rename({'predict':'author'}, axis=1)"
   ]
  },
  {
   "cell_type": "code",
   "execution_count": 52,
   "metadata": {},
   "outputs": [],
   "source": [
    "predPandas = pd.concat((test['id'].as_data_frame(), predDF), axis=1)[['id', 'author']]\n",
    "predPandas.to_csv('../predictions/2-autoML.csv', index=False)\n"
   ]
  },
  {
   "cell_type": "code",
   "execution_count": 53,
   "metadata": {},
   "outputs": [
    {
     "data": {
      "text/plain": [
       "Marcus                3465\n",
       "Philippus             1575\n",
       "Ovionicus              895\n",
       "Blanquius              641\n",
       "Clarius                416\n",
       "Paithonius             391\n",
       "Ubuntius               354\n",
       "FerrumEffractarius     275\n",
       "Name: author, dtype: int64"
      ]
     },
     "execution_count": 53,
     "metadata": {},
     "output_type": "execute_result"
    }
   ],
   "source": [
    "predPandas.author.value_counts()"
   ]
  },
  {
   "cell_type": "code",
   "execution_count": 54,
   "metadata": {},
   "outputs": [],
   "source": [
    "predFrame = test['id'].cbind(predictions['predict'].set_names(['author']))"
   ]
  },
  {
   "cell_type": "code",
   "execution_count": 55,
   "metadata": {},
   "outputs": [
    {
     "data": {
      "text/html": [
       "<table>\n",
       "<thead>\n",
       "<tr><th style=\"text-align: right;\">  id</th><th>author   </th></tr>\n",
       "</thead>\n",
       "<tbody>\n",
       "<tr><td style=\"text-align: right;\">   0</td><td>Philippus</td></tr>\n",
       "<tr><td style=\"text-align: right;\">   1</td><td>Philippus</td></tr>\n",
       "<tr><td style=\"text-align: right;\">   2</td><td>Marcus   </td></tr>\n",
       "<tr><td style=\"text-align: right;\">   3</td><td>Marcus   </td></tr>\n",
       "<tr><td style=\"text-align: right;\">   4</td><td>Marcus   </td></tr>\n",
       "<tr><td style=\"text-align: right;\">   5</td><td>Ovionicus</td></tr>\n",
       "<tr><td style=\"text-align: right;\">   6</td><td>Marcus   </td></tr>\n",
       "<tr><td style=\"text-align: right;\">   7</td><td>Clarius  </td></tr>\n",
       "<tr><td style=\"text-align: right;\">   8</td><td>Marcus   </td></tr>\n",
       "<tr><td style=\"text-align: right;\">   9</td><td>Ovionicus</td></tr>\n",
       "</tbody>\n",
       "</table>"
      ]
     },
     "metadata": {},
     "output_type": "display_data"
    },
    {
     "data": {
      "text/plain": []
     },
     "execution_count": 55,
     "metadata": {},
     "output_type": "execute_result"
    }
   ],
   "source": [
    "# predFrame.col_names[1] = 'price'\n",
    "predFrame"
   ]
  },
  {
   "cell_type": "code",
   "execution_count": 57,
   "metadata": {},
   "outputs": [
    {
     "ename": "H2OResponseError",
     "evalue": "Server error water.exceptions.H2OIllegalArgumentException:\n  Error: Illegal argument: ../predictions/1-autoML-300secs-v3.csv of function: exportFrame: File ../predictions/1-autoML-300secs-v3.csv already exists!\n  Request: POST /3/Frames/py_390_sid_bbb1/export\n    data: {'path': '../predictions/1-autoML-300secs-v3.csv', 'num_parts': '1', 'force': 'False', 'separator': '44'}\n",
     "output_type": "error",
     "traceback": [
      "\u001b[0;31m---------------------------------------------------------------------------\u001b[0m",
      "\u001b[0;31mH2OResponseError\u001b[0m                          Traceback (most recent call last)",
      "\u001b[0;32m<ipython-input-57-c4520ad8b582>\u001b[0m in \u001b[0;36m<module>\u001b[0;34m\u001b[0m\n\u001b[0;32m----> 1\u001b[0;31m \u001b[0mh2o\u001b[0m\u001b[0;34m.\u001b[0m\u001b[0mexport_file\u001b[0m\u001b[0;34m(\u001b[0m\u001b[0mframe\u001b[0m\u001b[0;34m=\u001b[0m\u001b[0mpredFrame\u001b[0m\u001b[0;34m,\u001b[0m \u001b[0mpath\u001b[0m\u001b[0;34m=\u001b[0m\u001b[0;34m'../predictions/1-autoML-300secs-v3.csv'\u001b[0m\u001b[0;34m)\u001b[0m\u001b[0;34m\u001b[0m\u001b[0;34m\u001b[0m\u001b[0m\n\u001b[0m",
      "\u001b[0;32m~/.local/lib/python3.7/site-packages/h2o/h2o.py\u001b[0m in \u001b[0;36mexport_file\u001b[0;34m(frame, path, force, sep, compression, parts)\u001b[0m\n\u001b[1;32m   1500\u001b[0m     \u001b[0massert_is_type\u001b[0m\u001b[0;34m(\u001b[0m\u001b[0mcompression\u001b[0m\u001b[0;34m,\u001b[0m \u001b[0mstr\u001b[0m\u001b[0;34m,\u001b[0m \u001b[0;32mNone\u001b[0m\u001b[0;34m)\u001b[0m\u001b[0;34m\u001b[0m\u001b[0;34m\u001b[0m\u001b[0m\n\u001b[1;32m   1501\u001b[0m     H2OJob(api(\"POST /3/Frames/%s/export\" % (frame.frame_id), \n\u001b[0;32m-> 1502\u001b[0;31m                data={\"path\": path, \"num_parts\": parts, \"force\": force, \"compression\": compression, \"separator\": ord(sep)}),\n\u001b[0m\u001b[1;32m   1503\u001b[0m            \"Export File\").poll()\n\u001b[1;32m   1504\u001b[0m \u001b[0;34m\u001b[0m\u001b[0m\n",
      "\u001b[0;32m~/.local/lib/python3.7/site-packages/h2o/h2o.py\u001b[0m in \u001b[0;36mapi\u001b[0;34m(endpoint, data, json, filename, save_to)\u001b[0m\n\u001b[1;32m    121\u001b[0m     \u001b[0;31m# type checks are performed in H2OConnection class\u001b[0m\u001b[0;34m\u001b[0m\u001b[0;34m\u001b[0m\u001b[0;34m\u001b[0m\u001b[0m\n\u001b[1;32m    122\u001b[0m     \u001b[0m_check_connection\u001b[0m\u001b[0;34m(\u001b[0m\u001b[0;34m)\u001b[0m\u001b[0;34m\u001b[0m\u001b[0;34m\u001b[0m\u001b[0m\n\u001b[0;32m--> 123\u001b[0;31m     \u001b[0;32mreturn\u001b[0m \u001b[0mh2oconn\u001b[0m\u001b[0;34m.\u001b[0m\u001b[0mrequest\u001b[0m\u001b[0;34m(\u001b[0m\u001b[0mendpoint\u001b[0m\u001b[0;34m,\u001b[0m \u001b[0mdata\u001b[0m\u001b[0;34m=\u001b[0m\u001b[0mdata\u001b[0m\u001b[0;34m,\u001b[0m \u001b[0mjson\u001b[0m\u001b[0;34m=\u001b[0m\u001b[0mjson\u001b[0m\u001b[0;34m,\u001b[0m \u001b[0mfilename\u001b[0m\u001b[0;34m=\u001b[0m\u001b[0mfilename\u001b[0m\u001b[0;34m,\u001b[0m \u001b[0msave_to\u001b[0m\u001b[0;34m=\u001b[0m\u001b[0msave_to\u001b[0m\u001b[0;34m)\u001b[0m\u001b[0;34m\u001b[0m\u001b[0;34m\u001b[0m\u001b[0m\n\u001b[0m\u001b[1;32m    124\u001b[0m \u001b[0;34m\u001b[0m\u001b[0m\n\u001b[1;32m    125\u001b[0m \u001b[0;34m\u001b[0m\u001b[0m\n",
      "\u001b[0;32m~/.local/lib/python3.7/site-packages/h2o/backend/connection.py\u001b[0m in \u001b[0;36mrequest\u001b[0;34m(self, endpoint, data, json, filename, save_to)\u001b[0m\n\u001b[1;32m    476\u001b[0m                 \u001b[0msave_to\u001b[0m \u001b[0;34m=\u001b[0m \u001b[0msave_to\u001b[0m\u001b[0;34m(\u001b[0m\u001b[0mresp\u001b[0m\u001b[0;34m)\u001b[0m\u001b[0;34m\u001b[0m\u001b[0;34m\u001b[0m\u001b[0m\n\u001b[1;32m    477\u001b[0m             \u001b[0mself\u001b[0m\u001b[0;34m.\u001b[0m\u001b[0m_log_end_transaction\u001b[0m\u001b[0;34m(\u001b[0m\u001b[0mstart_time\u001b[0m\u001b[0;34m,\u001b[0m \u001b[0mresp\u001b[0m\u001b[0;34m)\u001b[0m\u001b[0;34m\u001b[0m\u001b[0;34m\u001b[0m\u001b[0m\n\u001b[0;32m--> 478\u001b[0;31m             \u001b[0;32mreturn\u001b[0m \u001b[0mself\u001b[0m\u001b[0;34m.\u001b[0m\u001b[0m_process_response\u001b[0m\u001b[0;34m(\u001b[0m\u001b[0mresp\u001b[0m\u001b[0;34m,\u001b[0m \u001b[0msave_to\u001b[0m\u001b[0;34m)\u001b[0m\u001b[0;34m\u001b[0m\u001b[0;34m\u001b[0m\u001b[0m\n\u001b[0m\u001b[1;32m    479\u001b[0m \u001b[0;34m\u001b[0m\u001b[0m\n\u001b[1;32m    480\u001b[0m         \u001b[0;32mexcept\u001b[0m \u001b[0;34m(\u001b[0m\u001b[0mrequests\u001b[0m\u001b[0;34m.\u001b[0m\u001b[0mexceptions\u001b[0m\u001b[0;34m.\u001b[0m\u001b[0mConnectionError\u001b[0m\u001b[0;34m,\u001b[0m \u001b[0mrequests\u001b[0m\u001b[0;34m.\u001b[0m\u001b[0mexceptions\u001b[0m\u001b[0;34m.\u001b[0m\u001b[0mHTTPError\u001b[0m\u001b[0;34m)\u001b[0m \u001b[0;32mas\u001b[0m \u001b[0me\u001b[0m\u001b[0;34m:\u001b[0m\u001b[0;34m\u001b[0m\u001b[0;34m\u001b[0m\u001b[0m\n",
      "\u001b[0;32m~/.local/lib/python3.7/site-packages/h2o/backend/connection.py\u001b[0m in \u001b[0;36m_process_response\u001b[0;34m(response, save_to)\u001b[0m\n\u001b[1;32m    822\u001b[0m         \u001b[0;31m# Client errors (400 = \"Bad Request\", 404 = \"Not Found\", 412 = \"Precondition Failed\")\u001b[0m\u001b[0;34m\u001b[0m\u001b[0;34m\u001b[0m\u001b[0;34m\u001b[0m\u001b[0m\n\u001b[1;32m    823\u001b[0m         \u001b[0;32mif\u001b[0m \u001b[0mstatus_code\u001b[0m \u001b[0;32min\u001b[0m \u001b[0;34m{\u001b[0m\u001b[0;36m400\u001b[0m\u001b[0;34m,\u001b[0m \u001b[0;36m404\u001b[0m\u001b[0;34m,\u001b[0m \u001b[0;36m412\u001b[0m\u001b[0;34m}\u001b[0m \u001b[0;32mand\u001b[0m \u001b[0misinstance\u001b[0m\u001b[0;34m(\u001b[0m\u001b[0mdata\u001b[0m\u001b[0;34m,\u001b[0m \u001b[0;34m(\u001b[0m\u001b[0mH2OErrorV3\u001b[0m\u001b[0;34m,\u001b[0m \u001b[0mH2OModelBuilderErrorV3\u001b[0m\u001b[0;34m)\u001b[0m\u001b[0;34m)\u001b[0m\u001b[0;34m:\u001b[0m\u001b[0;34m\u001b[0m\u001b[0;34m\u001b[0m\u001b[0m\n\u001b[0;32m--> 824\u001b[0;31m             \u001b[0;32mraise\u001b[0m \u001b[0mH2OResponseError\u001b[0m\u001b[0;34m(\u001b[0m\u001b[0mdata\u001b[0m\u001b[0;34m)\u001b[0m\u001b[0;34m\u001b[0m\u001b[0;34m\u001b[0m\u001b[0m\n\u001b[0m\u001b[1;32m    825\u001b[0m \u001b[0;34m\u001b[0m\u001b[0m\n\u001b[1;32m    826\u001b[0m         \u001b[0;31m# Server errors (notably 500 = \"Server Error\")\u001b[0m\u001b[0;34m\u001b[0m\u001b[0;34m\u001b[0m\u001b[0;34m\u001b[0m\u001b[0m\n",
      "\u001b[0;31mH2OResponseError\u001b[0m: Server error water.exceptions.H2OIllegalArgumentException:\n  Error: Illegal argument: ../predictions/1-autoML-300secs-v3.csv of function: exportFrame: File ../predictions/1-autoML-300secs-v3.csv already exists!\n  Request: POST /3/Frames/py_390_sid_bbb1/export\n    data: {'path': '../predictions/1-autoML-300secs-v3.csv', 'num_parts': '1', 'force': 'False', 'separator': '44'}\n"
     ]
    }
   ],
   "source": [
    "h2o.export_file(frame=predFrame, path='../predictions/1-autoML-300secs-v3.csv')"
   ]
  },
  {
   "cell_type": "code",
   "execution_count": 55,
   "metadata": {},
   "outputs": [
    {
     "name": "stdout",
     "output_type": "stream",
     "text": [
      "xgboost prediction progress: |████████████████████████████████████████████| 100%\n"
     ]
    },
    {
     "data": {
      "text/html": [
       "<table>\n",
       "<thead>\n",
       "<tr><th>predict  </th><th style=\"text-align: right;\">  Blanquius</th><th style=\"text-align: right;\">    Clarius</th><th style=\"text-align: right;\">  FerrumEffractarius</th><th style=\"text-align: right;\">     Marcus</th><th style=\"text-align: right;\">  Ovionicus</th><th style=\"text-align: right;\">  Paithonius</th><th style=\"text-align: right;\">  Philippus</th><th style=\"text-align: right;\">   Ubuntius</th></tr>\n",
       "</thead>\n",
       "<tbody>\n",
       "<tr><td>Ubuntius </td><td style=\"text-align: right;\">0.000180604</td><td style=\"text-align: right;\">0.000157223</td><td style=\"text-align: right;\">         0.000156445</td><td style=\"text-align: right;\">0.0159888  </td><td style=\"text-align: right;\">0.000309425</td><td style=\"text-align: right;\"> 0.000495344</td><td style=\"text-align: right;\">0.00566542 </td><td style=\"text-align: right;\">0.977047   </td></tr>\n",
       "<tr><td>Philippus</td><td style=\"text-align: right;\">0.000551122</td><td style=\"text-align: right;\">0.000599334</td><td style=\"text-align: right;\">         0.00052395 </td><td style=\"text-align: right;\">0.0518425  </td><td style=\"text-align: right;\">0.000772942</td><td style=\"text-align: right;\"> 0.00129015 </td><td style=\"text-align: right;\">0.906686   </td><td style=\"text-align: right;\">0.0377342  </td></tr>\n",
       "<tr><td>Marcus   </td><td style=\"text-align: right;\">0.000110207</td><td style=\"text-align: right;\">0.00011088 </td><td style=\"text-align: right;\">         6.8454e-05 </td><td style=\"text-align: right;\">0.997518   </td><td style=\"text-align: right;\">0.000466648</td><td style=\"text-align: right;\"> 0.000114993</td><td style=\"text-align: right;\">0.00148019 </td><td style=\"text-align: right;\">0.000130988</td></tr>\n",
       "<tr><td>Clarius  </td><td style=\"text-align: right;\">0.000280272</td><td style=\"text-align: right;\">0.986722   </td><td style=\"text-align: right;\">         0.00053312 </td><td style=\"text-align: right;\">0.00938211 </td><td style=\"text-align: right;\">0.00127243 </td><td style=\"text-align: right;\"> 0.000346629</td><td style=\"text-align: right;\">0.00123715 </td><td style=\"text-align: right;\">0.000226349</td></tr>\n",
       "<tr><td>Philippus</td><td style=\"text-align: right;\">0.000161193</td><td style=\"text-align: right;\">0.00010469 </td><td style=\"text-align: right;\">         0.000116571</td><td style=\"text-align: right;\">0.00438635 </td><td style=\"text-align: right;\">0.000288608</td><td style=\"text-align: right;\"> 0.000436625</td><td style=\"text-align: right;\">0.99426    </td><td style=\"text-align: right;\">0.00024615 </td></tr>\n",
       "<tr><td>Marcus   </td><td style=\"text-align: right;\">7.26396e-05</td><td style=\"text-align: right;\">0.000120326</td><td style=\"text-align: right;\">         6.0938e-05 </td><td style=\"text-align: right;\">0.997031   </td><td style=\"text-align: right;\">0.000119067</td><td style=\"text-align: right;\"> 0.000138738</td><td style=\"text-align: right;\">0.00196847 </td><td style=\"text-align: right;\">0.000488923</td></tr>\n",
       "<tr><td>Blanquius</td><td style=\"text-align: right;\">0.998994   </td><td style=\"text-align: right;\">0.000114399</td><td style=\"text-align: right;\">         3.0746e-05 </td><td style=\"text-align: right;\">0.000375494</td><td style=\"text-align: right;\">4.96088e-05</td><td style=\"text-align: right;\"> 0.000207114</td><td style=\"text-align: right;\">0.000177493</td><td style=\"text-align: right;\">5.09386e-05</td></tr>\n",
       "<tr><td>Blanquius</td><td style=\"text-align: right;\">0.999369   </td><td style=\"text-align: right;\">6.50954e-05</td><td style=\"text-align: right;\">         3.3637e-05 </td><td style=\"text-align: right;\">0.000272968</td><td style=\"text-align: right;\">6.07836e-05</td><td style=\"text-align: right;\"> 4.0356e-05 </td><td style=\"text-align: right;\">0.000117037</td><td style=\"text-align: right;\">4.07249e-05</td></tr>\n",
       "<tr><td>Marcus   </td><td style=\"text-align: right;\">0.000623605</td><td style=\"text-align: right;\">0.000166061</td><td style=\"text-align: right;\">         6.30162e-05</td><td style=\"text-align: right;\">0.997701   </td><td style=\"text-align: right;\">0.000149635</td><td style=\"text-align: right;\"> 0.000133047</td><td style=\"text-align: right;\">0.00107375 </td><td style=\"text-align: right;\">8.967e-05  </td></tr>\n",
       "<tr><td>Blanquius</td><td style=\"text-align: right;\">0.988816   </td><td style=\"text-align: right;\">0.000240742</td><td style=\"text-align: right;\">         7.2685e-05 </td><td style=\"text-align: right;\">0.00917733 </td><td style=\"text-align: right;\">0.000323898</td><td style=\"text-align: right;\"> 0.00011652 </td><td style=\"text-align: right;\">0.00113106 </td><td style=\"text-align: right;\">0.000121621</td></tr>\n",
       "</tbody>\n",
       "</table>"
      ]
     },
     "metadata": {},
     "output_type": "display_data"
    },
    {
     "data": {
      "text/plain": []
     },
     "execution_count": 55,
     "metadata": {},
     "output_type": "execute_result"
    }
   ],
   "source": [
    "aml.predict(train)"
   ]
  },
  {
   "cell_type": "code",
   "execution_count": 59,
   "metadata": {},
   "outputs": [
    {
     "name": "stdout",
     "output_type": "stream",
     "text": [
      "xgboost prediction progress: |████████████████████████████████████████████| 100%\n"
     ]
    }
   ],
   "source": [
    "real_vs_pred = train.cbind(aml.predict(train))[['author', 'predict']]"
   ]
  },
  {
   "cell_type": "code",
   "execution_count": 73,
   "metadata": {},
   "outputs": [
    {
     "name": "stdout",
     "output_type": "stream",
     "text": [
      "Export File progress: |███████████████████████████████████████████████████| 100%\n"
     ]
    }
   ],
   "source": [
    "h2o.export_file(frame=real_vs_pred, path='../predictions/accuracy-autoML.csv')"
   ]
  },
  {
   "cell_type": "code",
   "execution_count": 76,
   "metadata": {},
   "outputs": [
    {
     "data": {
      "text/html": [
       "<div>\n",
       "<style scoped>\n",
       "    .dataframe tbody tr th:only-of-type {\n",
       "        vertical-align: middle;\n",
       "    }\n",
       "\n",
       "    .dataframe tbody tr th {\n",
       "        vertical-align: top;\n",
       "    }\n",
       "\n",
       "    .dataframe thead th {\n",
       "        text-align: right;\n",
       "    }\n",
       "</style>\n",
       "<table border=\"1\" class=\"dataframe\">\n",
       "  <thead>\n",
       "    <tr style=\"text-align: right;\">\n",
       "      <th></th>\n",
       "      <th>author</th>\n",
       "      <th>predict</th>\n",
       "    </tr>\n",
       "  </thead>\n",
       "  <tbody>\n",
       "    <tr>\n",
       "      <th>0</th>\n",
       "      <td>Ubuntius</td>\n",
       "      <td>Ubuntius</td>\n",
       "    </tr>\n",
       "    <tr>\n",
       "      <th>1</th>\n",
       "      <td>Philippus</td>\n",
       "      <td>Philippus</td>\n",
       "    </tr>\n",
       "    <tr>\n",
       "      <th>2</th>\n",
       "      <td>Marcus</td>\n",
       "      <td>Marcus</td>\n",
       "    </tr>\n",
       "    <tr>\n",
       "      <th>3</th>\n",
       "      <td>Clarius</td>\n",
       "      <td>Clarius</td>\n",
       "    </tr>\n",
       "    <tr>\n",
       "      <th>4</th>\n",
       "      <td>Philippus</td>\n",
       "      <td>Philippus</td>\n",
       "    </tr>\n",
       "  </tbody>\n",
       "</table>\n",
       "</div>"
      ],
      "text/plain": [
       "      author    predict\n",
       "0   Ubuntius   Ubuntius\n",
       "1  Philippus  Philippus\n",
       "2     Marcus     Marcus\n",
       "3    Clarius    Clarius\n",
       "4  Philippus  Philippus"
      ]
     },
     "execution_count": 76,
     "metadata": {},
     "output_type": "execute_result"
    }
   ],
   "source": [
    "accFrame = pd.read_csv('../predictions/accuracy-autoML.csv')\n",
    "accFrame.head()"
   ]
  },
  {
   "cell_type": "code",
   "execution_count": 78,
   "metadata": {},
   "outputs": [
    {
     "data": {
      "text/plain": [
       "True     12011\n",
       "False        6\n",
       "dtype: int64"
      ]
     },
     "execution_count": 78,
     "metadata": {},
     "output_type": "execute_result"
    }
   ],
   "source": [
    "(accFrame.author == accFrame.predict).value_counts()"
   ]
  },
  {
   "cell_type": "code",
   "execution_count": null,
   "metadata": {},
   "outputs": [],
   "source": []
  }
 ],
 "metadata": {
  "kernelspec": {
   "display_name": "Python 3.7.6 64-bit",
   "language": "python",
   "name": "python37664bitc736265aa96942798be544ff59087e30"
  },
  "language_info": {
   "codemirror_mode": {
    "name": "ipython",
    "version": 3
   },
   "file_extension": ".py",
   "mimetype": "text/x-python",
   "name": "python",
   "nbconvert_exporter": "python",
   "pygments_lexer": "ipython3",
   "version": "3.7.6"
  }
 },
 "nbformat": 4,
 "nbformat_minor": 4
}
