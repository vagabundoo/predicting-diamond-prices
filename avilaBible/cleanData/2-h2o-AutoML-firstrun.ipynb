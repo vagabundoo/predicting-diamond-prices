{
 "cells": [
  {
   "cell_type": "code",
   "execution_count": 15,
   "metadata": {},
   "outputs": [
    {
     "name": "stdout",
     "output_type": "stream",
     "text": [
      "Checking whether there is an H2O instance running at http://localhost:54321 . connected.\n"
     ]
    },
    {
     "data": {
      "text/html": [
       "<div style=\"overflow:auto\"><table style=\"width:50%\"><tr><td>H2O cluster uptime:</td>\n",
       "<td>6 mins 38 secs</td></tr>\n",
       "<tr><td>H2O cluster timezone:</td>\n",
       "<td>Europe/Paris</td></tr>\n",
       "<tr><td>H2O data parsing timezone:</td>\n",
       "<td>UTC</td></tr>\n",
       "<tr><td>H2O cluster version:</td>\n",
       "<td>3.28.0.3</td></tr>\n",
       "<tr><td>H2O cluster version age:</td>\n",
       "<td>25 days </td></tr>\n",
       "<tr><td>H2O cluster name:</td>\n",
       "<td>H2O_from_python_edu_ae0n1p</td></tr>\n",
       "<tr><td>H2O cluster total nodes:</td>\n",
       "<td>1</td></tr>\n",
       "<tr><td>H2O cluster free memory:</td>\n",
       "<td>5.997 Gb</td></tr>\n",
       "<tr><td>H2O cluster total cores:</td>\n",
       "<td>8</td></tr>\n",
       "<tr><td>H2O cluster allowed cores:</td>\n",
       "<td>7</td></tr>\n",
       "<tr><td>H2O cluster status:</td>\n",
       "<td>locked, healthy</td></tr>\n",
       "<tr><td>H2O connection url:</td>\n",
       "<td>http://localhost:54321</td></tr>\n",
       "<tr><td>H2O connection proxy:</td>\n",
       "<td>{'http': None, 'https': None}</td></tr>\n",
       "<tr><td>H2O internal security:</td>\n",
       "<td>False</td></tr>\n",
       "<tr><td>H2O API Extensions:</td>\n",
       "<td>Amazon S3, XGBoost, Algos, AutoML, Core V3, TargetEncoder, Core V4</td></tr>\n",
       "<tr><td>Python version:</td>\n",
       "<td>3.7.6 final</td></tr></table></div>"
      ],
      "text/plain": [
       "--------------------------  ------------------------------------------------------------------\n",
       "H2O cluster uptime:         6 mins 38 secs\n",
       "H2O cluster timezone:       Europe/Paris\n",
       "H2O data parsing timezone:  UTC\n",
       "H2O cluster version:        3.28.0.3\n",
       "H2O cluster version age:    25 days\n",
       "H2O cluster name:           H2O_from_python_edu_ae0n1p\n",
       "H2O cluster total nodes:    1\n",
       "H2O cluster free memory:    5.997 Gb\n",
       "H2O cluster total cores:    8\n",
       "H2O cluster allowed cores:  7\n",
       "H2O cluster status:         locked, healthy\n",
       "H2O connection url:         http://localhost:54321\n",
       "H2O connection proxy:       {'http': None, 'https': None}\n",
       "H2O internal security:      False\n",
       "H2O API Extensions:         Amazon S3, XGBoost, Algos, AutoML, Core V3, TargetEncoder, Core V4\n",
       "Python version:             3.7.6 final\n",
       "--------------------------  ------------------------------------------------------------------"
      ]
     },
     "metadata": {},
     "output_type": "display_data"
    }
   ],
   "source": [
    "import h2o\n",
    "import pandas as pd\n",
    "from h2o.automl import H2OAutoML\n",
    "h2o.init(nthreads=7, max_mem_size='6G')"
   ]
  },
  {
   "cell_type": "code",
   "execution_count": 23,
   "metadata": {},
   "outputs": [
    {
     "name": "stdout",
     "output_type": "stream",
     "text": [
      "Parse progress: |█████████████████████████████████████████████████████████| 100%\n",
      "Parse progress: |█████████████████████████████████████████████████████████| 100%\n"
     ]
    },
    {
     "data": {
      "text/html": [
       "<table>\n",
       "<thead>\n",
       "<tr><th style=\"text-align: right;\">  id</th><th style=\"text-align: right;\">        0</th><th style=\"text-align: right;\">        1</th><th style=\"text-align: right;\">        2</th><th style=\"text-align: right;\">        3</th><th style=\"text-align: right;\">       4</th><th style=\"text-align: right;\">        5</th><th style=\"text-align: right;\">        6</th><th style=\"text-align: right;\">        7</th><th style=\"text-align: right;\">        8</th><th style=\"text-align: right;\">        9</th><th>author   </th></tr>\n",
       "</thead>\n",
       "<tbody>\n",
       "<tr><td style=\"text-align: right;\">   0</td><td style=\"text-align: right;\"> 0.142636</td><td style=\"text-align: right;\"> 0.43107 </td><td style=\"text-align: right;\"> 0.032912</td><td style=\"text-align: right;\">-0.486796</td><td style=\"text-align: right;\">0.261718</td><td style=\"text-align: right;\">-1.01391 </td><td style=\"text-align: right;\">-0.081827</td><td style=\"text-align: right;\"> 0.330352</td><td style=\"text-align: right;\"> 0.438262</td><td style=\"text-align: right;\">-0.761088</td><td>Ubuntius </td></tr>\n",
       "<tr><td style=\"text-align: right;\">   1</td><td style=\"text-align: right;\"> 0.019197</td><td style=\"text-align: right;\"> 0.525284</td><td style=\"text-align: right;\"> 0.068476</td><td style=\"text-align: right;\"> 0.166658</td><td style=\"text-align: right;\">0.261718</td><td style=\"text-align: right;\"> 0.231839</td><td style=\"text-align: right;\"> 0.635431</td><td style=\"text-align: right;\"> 0.133209</td><td style=\"text-align: right;\"> 0.313536</td><td style=\"text-align: right;\">-0.002374</td><td>Philippus</td></tr>\n",
       "<tr><td style=\"text-align: right;\">   2</td><td style=\"text-align: right;\"> 0.09326 </td><td style=\"text-align: right;\">-0.087108</td><td style=\"text-align: right;\">-2.26808 </td><td style=\"text-align: right;\">-0.164963</td><td style=\"text-align: right;\">0.261718</td><td style=\"text-align: right;\"> 1.47758 </td><td style=\"text-align: right;\"> 0.635431</td><td style=\"text-align: right;\">-0.370641</td><td style=\"text-align: right;\"> 0.126447</td><td style=\"text-align: right;\"> 1.07836 </td><td>Marcus   </td></tr>\n",
       "<tr><td style=\"text-align: right;\">   3</td><td style=\"text-align: right;\">-0.017834</td><td style=\"text-align: right;\">-0.22843 </td><td style=\"text-align: right;\"> 0.37077 </td><td style=\"text-align: right;\"> 1.29367 </td><td style=\"text-align: right;\">0.17234 </td><td style=\"text-align: right;\">-0.058835</td><td style=\"text-align: right;\"> 0.446679</td><td style=\"text-align: right;\"> 1.60956 </td><td style=\"text-align: right;\"> 2.27797 </td><td style=\"text-align: right;\">-0.172339</td><td>Clarius  </td></tr>\n",
       "<tr><td style=\"text-align: right;\">   4</td><td style=\"text-align: right;\"> 0.080916</td><td style=\"text-align: right;\">-0.142067</td><td style=\"text-align: right;\"> 0.171611</td><td style=\"text-align: right;\">-0.470713</td><td style=\"text-align: right;\">0.261718</td><td style=\"text-align: right;\">-0.141884</td><td style=\"text-align: right;\">-0.044076</td><td style=\"text-align: right;\"> 0.375551</td><td style=\"text-align: right;\"> 0.032902</td><td style=\"text-align: right;\"> 0.009898</td><td>Philippus</td></tr>\n",
       "<tr><td style=\"text-align: right;\">   5</td><td style=\"text-align: right;\"> 0.241386</td><td style=\"text-align: right;\"> 0.23479 </td><td style=\"text-align: right;\"> 0.121822</td><td style=\"text-align: right;\"> 1.03799 </td><td style=\"text-align: right;\">0.261718</td><td style=\"text-align: right;\"> 0.937762</td><td style=\"text-align: right;\"> 0.748682</td><td style=\"text-align: right;\"> 0.385589</td><td style=\"text-align: right;\">-0.466001</td><td style=\"text-align: right;\"> 0.529787</td><td>Marcus   </td></tr>\n",
       "<tr><td style=\"text-align: right;\">   6</td><td style=\"text-align: right;\"> 0.772172</td><td style=\"text-align: right;\"> 0.030659</td><td style=\"text-align: right;\"> 0.075589</td><td style=\"text-align: right;\"> 0.371824</td><td style=\"text-align: right;\">0.976743</td><td style=\"text-align: right;\">-1.09696 </td><td style=\"text-align: right;\">-1.02559 </td><td style=\"text-align: right;\"> 0.441894</td><td style=\"text-align: right;\"> 1.06189 </td><td style=\"text-align: right;\">-0.314095</td><td>Blanquius</td></tr>\n",
       "<tr><td style=\"text-align: right;\">   7</td><td style=\"text-align: right;\"> 0.883267</td><td style=\"text-align: right;\">-0.314793</td><td style=\"text-align: right;\"> 0.086258</td><td style=\"text-align: right;\">-1.33784 </td><td style=\"text-align: right;\">0.976743</td><td style=\"text-align: right;\">-1.26305 </td><td style=\"text-align: right;\">-1.66734 </td><td style=\"text-align: right;\"> 0.683654</td><td style=\"text-align: right;\"> 1.81025 </td><td style=\"text-align: right;\">-0.108556</td><td>Blanquius</td></tr>\n",
       "<tr><td style=\"text-align: right;\">   8</td><td style=\"text-align: right;\"> 0.994361</td><td style=\"text-align: right;\">-0.008597</td><td style=\"text-align: right;\">-0.148465</td><td style=\"text-align: right;\"> 0.826884</td><td style=\"text-align: right;\">0.261718</td><td style=\"text-align: right;\"> 0.647088</td><td style=\"text-align: right;\"> 0.673182</td><td style=\"text-align: right;\"> 0.585277</td><td style=\"text-align: right;\"> 0.219991</td><td style=\"text-align: right;\"> 0.313301</td><td>Marcus   </td></tr>\n",
       "<tr><td style=\"text-align: right;\">   9</td><td style=\"text-align: right;\"> 0.117948</td><td style=\"text-align: right;\">-0.189174</td><td style=\"text-align: right;\"> 0.029355</td><td style=\"text-align: right;\"> 0.763359</td><td style=\"text-align: right;\">0.887365</td><td style=\"text-align: right;\">-0.391033</td><td style=\"text-align: right;\">-0.950086</td><td style=\"text-align: right;\"> 0.207938</td><td style=\"text-align: right;\">-0.029461</td><td style=\"text-align: right;\"> 0.345284</td><td>Blanquius</td></tr>\n",
       "</tbody>\n",
       "</table>"
      ]
     },
     "metadata": {},
     "output_type": "display_data"
    },
    {
     "data": {
      "text/plain": []
     },
     "metadata": {},
     "output_type": "display_data"
    },
    {
     "data": {
      "text/html": [
       "<table>\n",
       "<thead>\n",
       "<tr><th style=\"text-align: right;\">  id</th><th style=\"text-align: right;\">       0</th><th style=\"text-align: right;\">        1</th><th style=\"text-align: right;\">       2</th><th style=\"text-align: right;\">       3</th><th style=\"text-align: right;\">       4</th><th style=\"text-align: right;\">       5</th><th style=\"text-align: right;\">       6</th><th style=\"text-align: right;\">       7</th><th style=\"text-align: right;\">       8</th><th style=\"text-align: right;\">       9</th></tr>\n",
       "</thead>\n",
       "<tbody>\n",
       "<tr><td style=\"text-align: right;\">   0</td><td style=\"text-align: right;\">0.229653</td><td style=\"text-align: right;\">0.112585 </td><td style=\"text-align: right;\">0.320174</td><td style=\"text-align: right;\">0.611363</td><td style=\"text-align: right;\">0.865672</td><td style=\"text-align: right;\">0.58804 </td><td style=\"text-align: right;\">0.577899</td><td style=\"text-align: right;\">0.554374</td><td style=\"text-align: right;\">0.601563</td><td style=\"text-align: right;\">0.587695</td></tr>\n",
       "<tr><td style=\"text-align: right;\">   1</td><td style=\"text-align: right;\">0.228848</td><td style=\"text-align: right;\">0.131947 </td><td style=\"text-align: right;\">0.300435</td><td style=\"text-align: right;\">0.645989</td><td style=\"text-align: right;\">0.597015</td><td style=\"text-align: right;\">0.571429</td><td style=\"text-align: right;\">0.567029</td><td style=\"text-align: right;\">0.60047 </td><td style=\"text-align: right;\">0.640625</td><td style=\"text-align: right;\">0.581823</td></tr>\n",
       "<tr><td style=\"text-align: right;\">   2</td><td style=\"text-align: right;\">0.243352</td><td style=\"text-align: right;\">0.0939405</td><td style=\"text-align: right;\">0.347608</td><td style=\"text-align: right;\">0.603599</td><td style=\"text-align: right;\">0.865672</td><td style=\"text-align: right;\">0.594684</td><td style=\"text-align: right;\">0.594203</td><td style=\"text-align: right;\">0.527212</td><td style=\"text-align: right;\">0.578125</td><td style=\"text-align: right;\">0.578766</td></tr>\n",
       "<tr><td style=\"text-align: right;\">   3</td><td style=\"text-align: right;\">0.221595</td><td style=\"text-align: right;\">0.108283 </td><td style=\"text-align: right;\">0.330211</td><td style=\"text-align: right;\">0.618564</td><td style=\"text-align: right;\">0.850746</td><td style=\"text-align: right;\">0.621262</td><td style=\"text-align: right;\">0.577899</td><td style=\"text-align: right;\">0.525766</td><td style=\"text-align: right;\">0.621094</td><td style=\"text-align: right;\">0.622296</td></tr>\n",
       "<tr><td style=\"text-align: right;\">   4</td><td style=\"text-align: right;\">0.296535</td><td style=\"text-align: right;\">0.0925063</td><td style=\"text-align: right;\">0.346604</td><td style=\"text-align: right;\">0.630759</td><td style=\"text-align: right;\">0.865672</td><td style=\"text-align: right;\">0.601329</td><td style=\"text-align: right;\">0.563406</td><td style=\"text-align: right;\">0.560446</td><td style=\"text-align: right;\">0.492188</td><td style=\"text-align: right;\">0.617584</td></tr>\n",
       "<tr><td style=\"text-align: right;\">   5</td><td style=\"text-align: right;\">0.771152</td><td style=\"text-align: right;\">0.106848 </td><td style=\"text-align: right;\">0.351623</td><td style=\"text-align: right;\">0.647034</td><td style=\"text-align: right;\">0.298507</td><td style=\"text-align: right;\">0.561462</td><td style=\"text-align: right;\">0.596014</td><td style=\"text-align: right;\">0.550162</td><td style=\"text-align: right;\">0.636719</td><td style=\"text-align: right;\">0.544254</td></tr>\n",
       "<tr><td style=\"text-align: right;\">   6</td><td style=\"text-align: right;\">0.239323</td><td style=\"text-align: right;\">0.116171 </td><td style=\"text-align: right;\">0.306457</td><td style=\"text-align: right;\">0.558519</td><td style=\"text-align: right;\">0.865672</td><td style=\"text-align: right;\">0.657807</td><td style=\"text-align: right;\">0.61413 </td><td style=\"text-align: right;\">0.425746</td><td style=\"text-align: right;\">0.558594</td><td style=\"text-align: right;\">0.618631</td></tr>\n",
       "<tr><td style=\"text-align: right;\">   7</td><td style=\"text-align: right;\">0.208703</td><td style=\"text-align: right;\">0.118681 </td><td style=\"text-align: right;\">0.328873</td><td style=\"text-align: right;\">0.649692</td><td style=\"text-align: right;\">0.850746</td><td style=\"text-align: right;\">0.89701 </td><td style=\"text-align: right;\">0.65942 </td><td style=\"text-align: right;\">0.586336</td><td style=\"text-align: right;\">0.765625</td><td style=\"text-align: right;\">0.785035</td></tr>\n",
       "<tr><td style=\"text-align: right;\">   8</td><td style=\"text-align: right;\">0.230459</td><td style=\"text-align: right;\">0.0950162</td><td style=\"text-align: right;\">0.301104</td><td style=\"text-align: right;\">0.686309</td><td style=\"text-align: right;\">0.835821</td><td style=\"text-align: right;\">0.700997</td><td style=\"text-align: right;\">0.585145</td><td style=\"text-align: right;\">0.434706</td><td style=\"text-align: right;\">0.59375 </td><td style=\"text-align: right;\">0.692835</td></tr>\n",
       "<tr><td style=\"text-align: right;\">   9</td><td style=\"text-align: right;\">0.211926</td><td style=\"text-align: right;\">0.1237   </td><td style=\"text-align: right;\">0.315825</td><td style=\"text-align: right;\">0.568264</td><td style=\"text-align: right;\">0.865672</td><td style=\"text-align: right;\">0.528239</td><td style=\"text-align: right;\">0.561594</td><td style=\"text-align: right;\">0.479385</td><td style=\"text-align: right;\">0.667969</td><td style=\"text-align: right;\">0.541548</td></tr>\n",
       "</tbody>\n",
       "</table>"
      ]
     },
     "metadata": {},
     "output_type": "display_data"
    },
    {
     "data": {
      "text/plain": []
     },
     "metadata": {},
     "output_type": "display_data"
    }
   ],
   "source": [
    "train = h2o.H2OFrame(pd.read_csv('../cleanData/1-training-data.csv'))\n",
    "test = h2o.H2OFrame(pd.read_csv('../cleanData/1-test-data.csv'))\n",
    "display(train.head())\n",
    "display(test.head())"
   ]
  },
  {
   "cell_type": "code",
   "execution_count": 27,
   "metadata": {},
   "outputs": [
    {
     "data": {
      "text/plain": [
       "['0', '1', '2', '3', '4', '5', '6', '7', '8', '9']"
      ]
     },
     "execution_count": 27,
     "metadata": {},
     "output_type": "execute_result"
    }
   ],
   "source": [
    "X_columns = train.columns[1:-1]\n",
    "X_columns"
   ]
  },
  {
   "cell_type": "code",
   "execution_count": 49,
   "metadata": {},
   "outputs": [
    {
     "name": "stdout",
     "output_type": "stream",
     "text": [
      "AutoML progress: |\n",
      "00:47:57.16: New models will be added to existing leaderboard avila_bible@@author (leaderboard frame=null) with already 4 models.\n",
      "\n",
      "████████████████████████████████████████████████████████| 100%\n",
      "\n",
      "00:53:12.346: StackedEnsemble_AllModels_AutoML_20200302_004757 [StackedEnsemble all (built using all AutoML models)] failed: water.exceptions.H2OIllegalArgumentException: Failed to find the xval predictions frame. . .  Looks like keep_cross_validation_predictions wasn't set when building the models, or the frame was deleted.\n",
      "\n"
     ]
    },
    {
     "data": {
      "text/html": [
       "<table>\n",
       "<thead>\n",
       "<tr><th>model_id                                           </th><th style=\"text-align: right;\">  mean_per_class_error</th><th style=\"text-align: right;\">  logloss</th><th style=\"text-align: right;\">     rmse</th><th style=\"text-align: right;\">       mse</th></tr>\n",
       "</thead>\n",
       "<tbody>\n",
       "<tr><td>XGBoost_1_AutoML_20200302_004757                   </td><td style=\"text-align: right;\">            0.00698749</td><td style=\"text-align: right;\">0.0581685</td><td style=\"text-align: right;\">0.0917363</td><td style=\"text-align: right;\">0.00841556</td></tr>\n",
       "<tr><td>StackedEnsemble_BestOfFamily_AutoML_20200302_004757</td><td style=\"text-align: right;\">            0.00720982</td><td style=\"text-align: right;\">0.0317416</td><td style=\"text-align: right;\">0.0704061</td><td style=\"text-align: right;\">0.00495702</td></tr>\n",
       "<tr><td>XGBoost_2_AutoML_20200302_004757                   </td><td style=\"text-align: right;\">            0.015555  </td><td style=\"text-align: right;\">0.137935 </td><td style=\"text-align: right;\">0.168067 </td><td style=\"text-align: right;\">0.0282465 </td></tr>\n",
       "<tr><td>XGBoost_1_AutoML_20200302_003441                   </td><td style=\"text-align: right;\">            0.0169937 </td><td style=\"text-align: right;\">0.190308 </td><td style=\"text-align: right;\">0.204817 </td><td style=\"text-align: right;\">0.04195   </td></tr>\n",
       "<tr><td>StackedEnsemble_AllModels_AutoML_20200302_003441   </td><td style=\"text-align: right;\">            0.01725   </td><td style=\"text-align: right;\">0.0611664</td><td style=\"text-align: right;\">0.117454 </td><td style=\"text-align: right;\">0.0137955 </td></tr>\n",
       "<tr><td>XGBoost_2_AutoML_20200302_003441                   </td><td style=\"text-align: right;\">            0.0770426 </td><td style=\"text-align: right;\">0.615969 </td><td style=\"text-align: right;\">0.459385 </td><td style=\"text-align: right;\">0.211034  </td></tr>\n",
       "<tr><td>XGBoost_3_AutoML_20200302_004757                   </td><td style=\"text-align: right;\">            0.0878577 </td><td style=\"text-align: right;\">0.430416 </td><td style=\"text-align: right;\">0.36918  </td><td style=\"text-align: right;\">0.136294  </td></tr>\n",
       "<tr><td>XGBoost_3_AutoML_20200302_003441                   </td><td style=\"text-align: right;\">            0.201444  </td><td style=\"text-align: right;\">1.20301  </td><td style=\"text-align: right;\">0.691248 </td><td style=\"text-align: right;\">0.477824  </td></tr>\n",
       "<tr><td>DRF_1_AutoML_20200302_004757                       </td><td style=\"text-align: right;\">            0.265064  </td><td style=\"text-align: right;\">6.26526  </td><td style=\"text-align: right;\">0.461173 </td><td style=\"text-align: right;\">0.21268   </td></tr>\n",
       "<tr><td>GLM_1_AutoML_20200302_004757                       </td><td style=\"text-align: right;\">            0.840733  </td><td style=\"text-align: right;\">1.52976  </td><td style=\"text-align: right;\">0.73762  </td><td style=\"text-align: right;\">0.544084  </td></tr>\n",
       "</tbody>\n",
       "</table>"
      ]
     },
     "metadata": {},
     "output_type": "display_data"
    },
    {
     "data": {
      "text/plain": []
     },
     "execution_count": 49,
     "metadata": {},
     "output_type": "execute_result"
    }
   ],
   "source": [
    "aml = H2OAutoML(max_runtime_secs = 300, project_name = \"avila_bible\", keep_cross_validation_models=True)\n",
    "aml.train(x=X_columns, y = 'author', training_frame = train)\n",
    "#pred_high = aml_high.leader.predict(test_high)\n",
    "aml.leaderboard"
   ]
  },
  {
   "cell_type": "code",
   "execution_count": 50,
   "metadata": {},
   "outputs": [
    {
     "name": "stdout",
     "output_type": "stream",
     "text": [
      "xgboost prediction progress: |████████████████████████████████████████████| 100%\n"
     ]
    },
    {
     "data": {
      "text/html": [
       "<table>\n",
       "<thead>\n",
       "<tr><th>predict   </th><th style=\"text-align: right;\">  Blanquius</th><th style=\"text-align: right;\">    Clarius</th><th style=\"text-align: right;\">  FerrumEffractarius</th><th style=\"text-align: right;\">  Marcus</th><th style=\"text-align: right;\">  Ovionicus</th><th style=\"text-align: right;\">  Paithonius</th><th style=\"text-align: right;\">  Philippus</th><th style=\"text-align: right;\">   Ubuntius</th></tr>\n",
       "</thead>\n",
       "<tbody>\n",
       "<tr><td>Blanquius </td><td style=\"text-align: right;\">   0.421127</td><td style=\"text-align: right;\">0.00497345 </td><td style=\"text-align: right;\">         0.000936258</td><td style=\"text-align: right;\">0.164995</td><td style=\"text-align: right;\">0.00207633 </td><td style=\"text-align: right;\">   0.391756 </td><td style=\"text-align: right;\"> 0.0131649 </td><td style=\"text-align: right;\">0.000970852</td></tr>\n",
       "<tr><td>Marcus    </td><td style=\"text-align: right;\">   0.249982</td><td style=\"text-align: right;\">0.00860232 </td><td style=\"text-align: right;\">         0.00169607 </td><td style=\"text-align: right;\">0.37439 </td><td style=\"text-align: right;\">0.00390369 </td><td style=\"text-align: right;\">   0.336424 </td><td style=\"text-align: right;\"> 0.023244  </td><td style=\"text-align: right;\">0.00175874 </td></tr>\n",
       "<tr><td>Blanquius </td><td style=\"text-align: right;\">   0.438525</td><td style=\"text-align: right;\">0.00545796 </td><td style=\"text-align: right;\">         0.00117409 </td><td style=\"text-align: right;\">0.198731</td><td style=\"text-align: right;\">0.00228022 </td><td style=\"text-align: right;\">   0.335648 </td><td style=\"text-align: right;\"> 0.0171849 </td><td style=\"text-align: right;\">0.000999043</td></tr>\n",
       "<tr><td>Blanquius </td><td style=\"text-align: right;\">   0.441251</td><td style=\"text-align: right;\">0.00543511 </td><td style=\"text-align: right;\">         0.00123317 </td><td style=\"text-align: right;\">0.179464</td><td style=\"text-align: right;\">0.0022564  </td><td style=\"text-align: right;\">   0.355842 </td><td style=\"text-align: right;\"> 0.0134891 </td><td style=\"text-align: right;\">0.00102897 </td></tr>\n",
       "<tr><td>Blanquius </td><td style=\"text-align: right;\">   0.524344</td><td style=\"text-align: right;\">0.0062593  </td><td style=\"text-align: right;\">         0.00140347 </td><td style=\"text-align: right;\">0.133553</td><td style=\"text-align: right;\">0.00254153 </td><td style=\"text-align: right;\">   0.307342 </td><td style=\"text-align: right;\"> 0.0233923 </td><td style=\"text-align: right;\">0.00116518 </td></tr>\n",
       "<tr><td>Marcus    </td><td style=\"text-align: right;\">   0.002638</td><td style=\"text-align: right;\">0.000673506</td><td style=\"text-align: right;\">         0.000287557</td><td style=\"text-align: right;\">0.899578</td><td style=\"text-align: right;\">0.000629509</td><td style=\"text-align: right;\">   0.0939502</td><td style=\"text-align: right;\"> 0.00203317</td><td style=\"text-align: right;\">0.000210079</td></tr>\n",
       "<tr><td>Blanquius </td><td style=\"text-align: right;\">   0.56955 </td><td style=\"text-align: right;\">0.00583121 </td><td style=\"text-align: right;\">         0.000994078</td><td style=\"text-align: right;\">0.184588</td><td style=\"text-align: right;\">0.00232178 </td><td style=\"text-align: right;\">   0.225605 </td><td style=\"text-align: right;\"> 0.0101075 </td><td style=\"text-align: right;\">0.00100183 </td></tr>\n",
       "<tr><td>Blanquius </td><td style=\"text-align: right;\">   0.543343</td><td style=\"text-align: right;\">0.00862395 </td><td style=\"text-align: right;\">         0.00152668 </td><td style=\"text-align: right;\">0.170658</td><td style=\"text-align: right;\">0.00261954 </td><td style=\"text-align: right;\">   0.258265 </td><td style=\"text-align: right;\"> 0.0137843 </td><td style=\"text-align: right;\">0.00117996 </td></tr>\n",
       "<tr><td>Blanquius </td><td style=\"text-align: right;\">   0.461553</td><td style=\"text-align: right;\">0.00900124 </td><td style=\"text-align: right;\">         0.00165482 </td><td style=\"text-align: right;\">0.294501</td><td style=\"text-align: right;\">0.00390451 </td><td style=\"text-align: right;\">   0.202613 </td><td style=\"text-align: right;\"> 0.0250773 </td><td style=\"text-align: right;\">0.00169578 </td></tr>\n",
       "<tr><td>Paithonius</td><td style=\"text-align: right;\">   0.345133</td><td style=\"text-align: right;\">0.00397559 </td><td style=\"text-align: right;\">         0.00078541 </td><td style=\"text-align: right;\">0.126524</td><td style=\"text-align: right;\">0.00176897 </td><td style=\"text-align: right;\">   0.513936 </td><td style=\"text-align: right;\"> 0.00708557</td><td style=\"text-align: right;\">0.000791536</td></tr>\n",
       "</tbody>\n",
       "</table>"
      ]
     },
     "metadata": {},
     "output_type": "display_data"
    },
    {
     "data": {
      "text/plain": []
     },
     "execution_count": 50,
     "metadata": {},
     "output_type": "execute_result"
    }
   ],
   "source": [
    "predictions = aml.predict(test)\n",
    "predictions.head()"
   ]
  },
  {
   "cell_type": "code",
   "execution_count": 51,
   "metadata": {},
   "outputs": [],
   "source": [
    "predFrame = test['id'].cbind(predictions['predict'].set_names(['author']))"
   ]
  },
  {
   "cell_type": "code",
   "execution_count": 52,
   "metadata": {},
   "outputs": [
    {
     "data": {
      "text/html": [
       "<table>\n",
       "<thead>\n",
       "<tr><th style=\"text-align: right;\">  id</th><th>author    </th></tr>\n",
       "</thead>\n",
       "<tbody>\n",
       "<tr><td style=\"text-align: right;\">   0</td><td>Blanquius </td></tr>\n",
       "<tr><td style=\"text-align: right;\">   1</td><td>Marcus    </td></tr>\n",
       "<tr><td style=\"text-align: right;\">   2</td><td>Blanquius </td></tr>\n",
       "<tr><td style=\"text-align: right;\">   3</td><td>Blanquius </td></tr>\n",
       "<tr><td style=\"text-align: right;\">   4</td><td>Blanquius </td></tr>\n",
       "<tr><td style=\"text-align: right;\">   5</td><td>Marcus    </td></tr>\n",
       "<tr><td style=\"text-align: right;\">   6</td><td>Blanquius </td></tr>\n",
       "<tr><td style=\"text-align: right;\">   7</td><td>Blanquius </td></tr>\n",
       "<tr><td style=\"text-align: right;\">   8</td><td>Blanquius </td></tr>\n",
       "<tr><td style=\"text-align: right;\">   9</td><td>Paithonius</td></tr>\n",
       "</tbody>\n",
       "</table>"
      ]
     },
     "metadata": {},
     "output_type": "display_data"
    },
    {
     "data": {
      "text/plain": []
     },
     "execution_count": 52,
     "metadata": {},
     "output_type": "execute_result"
    }
   ],
   "source": [
    "# predFrame.col_names[1] = 'price'\n",
    "predFrame"
   ]
  },
  {
   "cell_type": "code",
   "execution_count": 54,
   "metadata": {},
   "outputs": [
    {
     "name": "stdout",
     "output_type": "stream",
     "text": [
      "Export File progress: |███████████████████████████████████████████████████| 100%\n"
     ]
    }
   ],
   "source": [
    "h2o.export_file(frame=predFrame, path='../predictions/1-autoML-300secs-v2.csv')"
   ]
  },
  {
   "cell_type": "code",
   "execution_count": 55,
   "metadata": {},
   "outputs": [
    {
     "name": "stdout",
     "output_type": "stream",
     "text": [
      "xgboost prediction progress: |████████████████████████████████████████████| 100%\n"
     ]
    },
    {
     "data": {
      "text/html": [
       "<table>\n",
       "<thead>\n",
       "<tr><th>predict  </th><th style=\"text-align: right;\">  Blanquius</th><th style=\"text-align: right;\">    Clarius</th><th style=\"text-align: right;\">  FerrumEffractarius</th><th style=\"text-align: right;\">     Marcus</th><th style=\"text-align: right;\">  Ovionicus</th><th style=\"text-align: right;\">  Paithonius</th><th style=\"text-align: right;\">  Philippus</th><th style=\"text-align: right;\">   Ubuntius</th></tr>\n",
       "</thead>\n",
       "<tbody>\n",
       "<tr><td>Ubuntius </td><td style=\"text-align: right;\">0.000180604</td><td style=\"text-align: right;\">0.000157223</td><td style=\"text-align: right;\">         0.000156445</td><td style=\"text-align: right;\">0.0159888  </td><td style=\"text-align: right;\">0.000309425</td><td style=\"text-align: right;\"> 0.000495344</td><td style=\"text-align: right;\">0.00566542 </td><td style=\"text-align: right;\">0.977047   </td></tr>\n",
       "<tr><td>Philippus</td><td style=\"text-align: right;\">0.000551122</td><td style=\"text-align: right;\">0.000599334</td><td style=\"text-align: right;\">         0.00052395 </td><td style=\"text-align: right;\">0.0518425  </td><td style=\"text-align: right;\">0.000772942</td><td style=\"text-align: right;\"> 0.00129015 </td><td style=\"text-align: right;\">0.906686   </td><td style=\"text-align: right;\">0.0377342  </td></tr>\n",
       "<tr><td>Marcus   </td><td style=\"text-align: right;\">0.000110207</td><td style=\"text-align: right;\">0.00011088 </td><td style=\"text-align: right;\">         6.8454e-05 </td><td style=\"text-align: right;\">0.997518   </td><td style=\"text-align: right;\">0.000466648</td><td style=\"text-align: right;\"> 0.000114993</td><td style=\"text-align: right;\">0.00148019 </td><td style=\"text-align: right;\">0.000130988</td></tr>\n",
       "<tr><td>Clarius  </td><td style=\"text-align: right;\">0.000280272</td><td style=\"text-align: right;\">0.986722   </td><td style=\"text-align: right;\">         0.00053312 </td><td style=\"text-align: right;\">0.00938211 </td><td style=\"text-align: right;\">0.00127243 </td><td style=\"text-align: right;\"> 0.000346629</td><td style=\"text-align: right;\">0.00123715 </td><td style=\"text-align: right;\">0.000226349</td></tr>\n",
       "<tr><td>Philippus</td><td style=\"text-align: right;\">0.000161193</td><td style=\"text-align: right;\">0.00010469 </td><td style=\"text-align: right;\">         0.000116571</td><td style=\"text-align: right;\">0.00438635 </td><td style=\"text-align: right;\">0.000288608</td><td style=\"text-align: right;\"> 0.000436625</td><td style=\"text-align: right;\">0.99426    </td><td style=\"text-align: right;\">0.00024615 </td></tr>\n",
       "<tr><td>Marcus   </td><td style=\"text-align: right;\">7.26396e-05</td><td style=\"text-align: right;\">0.000120326</td><td style=\"text-align: right;\">         6.0938e-05 </td><td style=\"text-align: right;\">0.997031   </td><td style=\"text-align: right;\">0.000119067</td><td style=\"text-align: right;\"> 0.000138738</td><td style=\"text-align: right;\">0.00196847 </td><td style=\"text-align: right;\">0.000488923</td></tr>\n",
       "<tr><td>Blanquius</td><td style=\"text-align: right;\">0.998994   </td><td style=\"text-align: right;\">0.000114399</td><td style=\"text-align: right;\">         3.0746e-05 </td><td style=\"text-align: right;\">0.000375494</td><td style=\"text-align: right;\">4.96088e-05</td><td style=\"text-align: right;\"> 0.000207114</td><td style=\"text-align: right;\">0.000177493</td><td style=\"text-align: right;\">5.09386e-05</td></tr>\n",
       "<tr><td>Blanquius</td><td style=\"text-align: right;\">0.999369   </td><td style=\"text-align: right;\">6.50954e-05</td><td style=\"text-align: right;\">         3.3637e-05 </td><td style=\"text-align: right;\">0.000272968</td><td style=\"text-align: right;\">6.07836e-05</td><td style=\"text-align: right;\"> 4.0356e-05 </td><td style=\"text-align: right;\">0.000117037</td><td style=\"text-align: right;\">4.07249e-05</td></tr>\n",
       "<tr><td>Marcus   </td><td style=\"text-align: right;\">0.000623605</td><td style=\"text-align: right;\">0.000166061</td><td style=\"text-align: right;\">         6.30162e-05</td><td style=\"text-align: right;\">0.997701   </td><td style=\"text-align: right;\">0.000149635</td><td style=\"text-align: right;\"> 0.000133047</td><td style=\"text-align: right;\">0.00107375 </td><td style=\"text-align: right;\">8.967e-05  </td></tr>\n",
       "<tr><td>Blanquius</td><td style=\"text-align: right;\">0.988816   </td><td style=\"text-align: right;\">0.000240742</td><td style=\"text-align: right;\">         7.2685e-05 </td><td style=\"text-align: right;\">0.00917733 </td><td style=\"text-align: right;\">0.000323898</td><td style=\"text-align: right;\"> 0.00011652 </td><td style=\"text-align: right;\">0.00113106 </td><td style=\"text-align: right;\">0.000121621</td></tr>\n",
       "</tbody>\n",
       "</table>"
      ]
     },
     "metadata": {},
     "output_type": "display_data"
    },
    {
     "data": {
      "text/plain": []
     },
     "execution_count": 55,
     "metadata": {},
     "output_type": "execute_result"
    }
   ],
   "source": [
    "aml.predict(train)"
   ]
  },
  {
   "cell_type": "code",
   "execution_count": 59,
   "metadata": {},
   "outputs": [
    {
     "name": "stdout",
     "output_type": "stream",
     "text": [
      "xgboost prediction progress: |████████████████████████████████████████████| 100%\n"
     ]
    }
   ],
   "source": [
    "real_vs_pred = train.cbind(aml.predict(train))[['author', 'predict']]"
   ]
  },
  {
   "cell_type": "code",
   "execution_count": 73,
   "metadata": {},
   "outputs": [
    {
     "name": "stdout",
     "output_type": "stream",
     "text": [
      "Export File progress: |███████████████████████████████████████████████████| 100%\n"
     ]
    }
   ],
   "source": [
    "h2o.export_file(frame=real_vs_pred, path='../predictions/accuracy-autoML.csv')"
   ]
  },
  {
   "cell_type": "code",
   "execution_count": 76,
   "metadata": {},
   "outputs": [
    {
     "data": {
      "text/html": [
       "<div>\n",
       "<style scoped>\n",
       "    .dataframe tbody tr th:only-of-type {\n",
       "        vertical-align: middle;\n",
       "    }\n",
       "\n",
       "    .dataframe tbody tr th {\n",
       "        vertical-align: top;\n",
       "    }\n",
       "\n",
       "    .dataframe thead th {\n",
       "        text-align: right;\n",
       "    }\n",
       "</style>\n",
       "<table border=\"1\" class=\"dataframe\">\n",
       "  <thead>\n",
       "    <tr style=\"text-align: right;\">\n",
       "      <th></th>\n",
       "      <th>author</th>\n",
       "      <th>predict</th>\n",
       "    </tr>\n",
       "  </thead>\n",
       "  <tbody>\n",
       "    <tr>\n",
       "      <th>0</th>\n",
       "      <td>Ubuntius</td>\n",
       "      <td>Ubuntius</td>\n",
       "    </tr>\n",
       "    <tr>\n",
       "      <th>1</th>\n",
       "      <td>Philippus</td>\n",
       "      <td>Philippus</td>\n",
       "    </tr>\n",
       "    <tr>\n",
       "      <th>2</th>\n",
       "      <td>Marcus</td>\n",
       "      <td>Marcus</td>\n",
       "    </tr>\n",
       "    <tr>\n",
       "      <th>3</th>\n",
       "      <td>Clarius</td>\n",
       "      <td>Clarius</td>\n",
       "    </tr>\n",
       "    <tr>\n",
       "      <th>4</th>\n",
       "      <td>Philippus</td>\n",
       "      <td>Philippus</td>\n",
       "    </tr>\n",
       "  </tbody>\n",
       "</table>\n",
       "</div>"
      ],
      "text/plain": [
       "      author    predict\n",
       "0   Ubuntius   Ubuntius\n",
       "1  Philippus  Philippus\n",
       "2     Marcus     Marcus\n",
       "3    Clarius    Clarius\n",
       "4  Philippus  Philippus"
      ]
     },
     "execution_count": 76,
     "metadata": {},
     "output_type": "execute_result"
    }
   ],
   "source": [
    "accFrame = pd.read_csv('../predictions/accuracy-autoML.csv')\n",
    "accFrame.head()"
   ]
  },
  {
   "cell_type": "code",
   "execution_count": 78,
   "metadata": {},
   "outputs": [
    {
     "data": {
      "text/plain": [
       "True     12011\n",
       "False        6\n",
       "dtype: int64"
      ]
     },
     "execution_count": 78,
     "metadata": {},
     "output_type": "execute_result"
    }
   ],
   "source": [
    "(accFrame.author == accFrame.predict).value_counts()"
   ]
  },
  {
   "cell_type": "code",
   "execution_count": null,
   "metadata": {},
   "outputs": [],
   "source": []
  }
 ],
 "metadata": {
  "kernelspec": {
   "display_name": "Python 3.7.6 64-bit",
   "language": "python",
   "name": "python37664bitc736265aa96942798be544ff59087e30"
  },
  "language_info": {
   "codemirror_mode": {
    "name": "ipython",
    "version": 3
   },
   "file_extension": ".py",
   "mimetype": "text/x-python",
   "name": "python",
   "nbconvert_exporter": "python",
   "pygments_lexer": "ipython3",
   "version": "3.7.6"
  }
 },
 "nbformat": 4,
 "nbformat_minor": 4
}
