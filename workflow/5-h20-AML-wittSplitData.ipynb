{
 "cells": [
  {
   "cell_type": "code",
   "execution_count": 1,
   "metadata": {},
   "outputs": [
    {
     "name": "stdout",
     "output_type": "stream",
     "text": [
      "Checking whether there is an H2O instance running at http://localhost:54321 ..... not found.\n",
      "Attempting to start a local H2O server...\n",
      "  Java Version: openjdk version \"11.0.6\" 2020-01-14; OpenJDK Runtime Environment (build 11.0.6+10-post-Ubuntu-1ubuntu118.04.1); OpenJDK 64-Bit Server VM (build 11.0.6+10-post-Ubuntu-1ubuntu118.04.1, mixed mode, sharing)\n",
      "  Starting server from /home/edu/.local/lib/python3.7/site-packages/h2o/backend/bin/h2o.jar\n",
      "  Ice root: /tmp/tmp06m9zuma\n",
      "  JVM stdout: /tmp/tmp06m9zuma/h2o_edu_started_from_python.out\n",
      "  JVM stderr: /tmp/tmp06m9zuma/h2o_edu_started_from_python.err\n",
      "  Server is running at http://127.0.0.1:54321\n",
      "Connecting to H2O server at http://127.0.0.1:54321 ... successful.\n"
     ]
    },
    {
     "data": {
      "text/html": [
       "<div style=\"overflow:auto\"><table style=\"width:50%\"><tr><td>H2O cluster uptime:</td>\n",
       "<td>01 secs</td></tr>\n",
       "<tr><td>H2O cluster timezone:</td>\n",
       "<td>Europe/Paris</td></tr>\n",
       "<tr><td>H2O data parsing timezone:</td>\n",
       "<td>UTC</td></tr>\n",
       "<tr><td>H2O cluster version:</td>\n",
       "<td>3.28.0.3</td></tr>\n",
       "<tr><td>H2O cluster version age:</td>\n",
       "<td>24 days </td></tr>\n",
       "<tr><td>H2O cluster name:</td>\n",
       "<td>H2O_from_python_edu_c055bc</td></tr>\n",
       "<tr><td>H2O cluster total nodes:</td>\n",
       "<td>1</td></tr>\n",
       "<tr><td>H2O cluster free memory:</td>\n",
       "<td>1.887 Gb</td></tr>\n",
       "<tr><td>H2O cluster total cores:</td>\n",
       "<td>8</td></tr>\n",
       "<tr><td>H2O cluster allowed cores:</td>\n",
       "<td>8</td></tr>\n",
       "<tr><td>H2O cluster status:</td>\n",
       "<td>accepting new members, healthy</td></tr>\n",
       "<tr><td>H2O connection url:</td>\n",
       "<td>http://127.0.0.1:54321</td></tr>\n",
       "<tr><td>H2O connection proxy:</td>\n",
       "<td>{'http': None, 'https': None}</td></tr>\n",
       "<tr><td>H2O internal security:</td>\n",
       "<td>False</td></tr>\n",
       "<tr><td>H2O API Extensions:</td>\n",
       "<td>Amazon S3, XGBoost, Algos, AutoML, Core V3, TargetEncoder, Core V4</td></tr>\n",
       "<tr><td>Python version:</td>\n",
       "<td>3.7.6 final</td></tr></table></div>"
      ],
      "text/plain": [
       "--------------------------  ------------------------------------------------------------------\n",
       "H2O cluster uptime:         01 secs\n",
       "H2O cluster timezone:       Europe/Paris\n",
       "H2O data parsing timezone:  UTC\n",
       "H2O cluster version:        3.28.0.3\n",
       "H2O cluster version age:    24 days\n",
       "H2O cluster name:           H2O_from_python_edu_c055bc\n",
       "H2O cluster total nodes:    1\n",
       "H2O cluster free memory:    1.887 Gb\n",
       "H2O cluster total cores:    8\n",
       "H2O cluster allowed cores:  8\n",
       "H2O cluster status:         accepting new members, healthy\n",
       "H2O connection url:         http://127.0.0.1:54321\n",
       "H2O connection proxy:       {'http': None, 'https': None}\n",
       "H2O internal security:      False\n",
       "H2O API Extensions:         Amazon S3, XGBoost, Algos, AutoML, Core V3, TargetEncoder, Core V4\n",
       "Python version:             3.7.6 final\n",
       "--------------------------  ------------------------------------------------------------------"
      ]
     },
     "metadata": {},
     "output_type": "display_data"
    }
   ],
   "source": [
    "import pandas as pd\n",
    "import numpy as np\n",
    "import seaborn as sns\n",
    "import matplotlib.pyplot as plt\n",
    "import h2o\n",
    "from h2o.automl import H2OAutoML\n",
    "h2o.init()"
   ]
  },
  {
   "cell_type": "code",
   "execution_count": 64,
   "metadata": {},
   "outputs": [
    {
     "name": "stdout",
     "output_type": "stream",
     "text": [
      "Parse progress: |█████████████████████████████████████████████████████████| 100%\n",
      "Parse progress: |█████████████████████████████████████████████████████████| 100%\n",
      "Parse progress: |█████████████████████████████████████████████████████████| 100%\n",
      "Parse progress: |█████████████████████████████████████████████████████████| 100%\n"
     ]
    }
   ],
   "source": [
    "train_high = h2o.import_file('../cleaned-data/03-train_high.csv')\n",
    "train_low = h2o.import_file('../cleaned-data/03-train_low.csv')\n",
    "test_high = h2o.import_file('../cleaned-data/03-test_high.csv')\n",
    "test_low = h2o.import_file('../cleaned-data/03-test_low.csv')                    "
   ]
  },
  {
   "cell_type": "code",
   "execution_count": 65,
   "metadata": {},
   "outputs": [],
   "source": [
    "train_high_noid = train_high.drop(index=[0], axis=0)\n",
    "train_low_noid = train_low.drop(index=[0], axis=0)\n",
    "test_high_noid = test_high.drop(index=[0], axis=0)\n",
    "test_low_noid = test_low.drop(index=[0], axis=0)"
   ]
  },
  {
   "cell_type": "code",
   "execution_count": 66,
   "metadata": {},
   "outputs": [
    {
     "name": "stdout",
     "output_type": "stream",
     "text": [
      "AutoML progress: |\n",
      "22:52:22.609: New models will be added to existing leaderboard diamonds@@price (leaderboard frame=null) with already 23 models.\n",
      "22:52:33.640: StackedEnsemble_BestOfFamily_AutoML_20200229_225222 [StackedEnsemble best (built using top model from each algorithm type)] failed: water.exceptions.H2OIllegalArgumentException: Base models are inconsistent: they use different size (number of rows) training frames. Found: 1614 (StackedEnsemble) and 1615 (model GBM_3_AutoML_20200229_223736).\n",
      "22:52:34.644: StackedEnsemble_AllModels_AutoML_20200229_225222 [StackedEnsemble all (built using all AutoML models)] failed: water.exceptions.H2OIllegalArgumentException: Base models are inconsistent: they use different size (number of rows) training frames. Found: 1614 (StackedEnsemble) and 1615 (model GBM_3_AutoML_20200229_223736).\n",
      "22:54:24.147: New models will be added to existing leaderboard diamonds@@price (leaderboard frame=null) with already 25 models.\n",
      "22:56:26.678: StackedEnsemble_BestOfFamily_AutoML_20200229_225424 [StackedEnsemble best (built using top model from each algorithm type)] failed: water.exceptions.H2OIllegalArgumentException: Base models are inconsistent: they use different size (number of rows) training frames. Found: 1614 (StackedEnsemble) and 1615 (model GBM_3_AutoML_20200229_223736).\n",
      "22:56:27.682: StackedEnsemble_AllModels_AutoML_20200229_225424 [StackedEnsemble all (built using all AutoML models)] failed: water.exceptions.H2OIllegalArgumentException: Base models are inconsistent: they use different size (number of rows) training frames. Found: 1614 (StackedEnsemble) and 1615 (model XGBoost_3_AutoML_20200229_223736).\n",
      "22:59:28.825: New models will be added to existing leaderboard diamonds@@price (leaderboard frame=null) with already 68 models.\n",
      "23:01:30.988: StackedEnsemble_BestOfFamily_AutoML_20200229_225928 [StackedEnsemble best (built using top model from each algorithm type)] failed: water.exceptions.H2OIllegalArgumentException: Base models are inconsistent: they use different size (number of rows) training frames. Found: 38729 (StackedEnsemble) and 1615 (model GBM_3_AutoML_20200229_223736).\n",
      "23:01:31.991: StackedEnsemble_AllModels_AutoML_20200229_225928 [StackedEnsemble all (built using all AutoML models)] failed: water.exceptions.H2OIllegalArgumentException: Base models are inconsistent: they use different size (number of rows) training frames. Found: 38729 (StackedEnsemble) and 1614 (model XGBoost_3_AutoML_20200229_225424).\n",
      "23:06:02.37: New models will be added to existing leaderboard diamonds@@price (leaderboard frame=null) with already 69 models.\n",
      "\n",
      "████████████████████████████████████Failed polling AutoML progress log: HTTP 500 Server Error:\n",
      "Server error java.lang.ArrayIndexOutOfBoundsException:\n",
      "  Error: Index 336 out of bounds for length 336\n",
      "  Request: None\n",
      "\n",
      "███████████████████\n",
      "23:08:01.355: StackedEnsemble_BestOfFamily_AutoML_20200229_230602 [StackedEnsemble best (built using top model from each algorithm type)] failed: water.exceptions.H2OIllegalArgumentException: Base models are inconsistent: they use different size (number of rows) training frames. Found: 1614 (StackedEnsemble) and 1615 (model GBM_3_AutoML_20200229_223736).\n",
      "\n",
      "█| 100%\n",
      "\n",
      "23:08:02.360: StackedEnsemble_AllModels_AutoML_20200229_230602 [StackedEnsemble all (built using all AutoML models)] failed: water.exceptions.H2OIllegalArgumentException: Base models are inconsistent: they use different size (number of rows) training frames. Found: 1614 (StackedEnsemble) and 1615 (model XGBoost_3_AutoML_20200229_223736).\n",
      "\n"
     ]
    }
   ],
   "source": [
    "aml = H2OAutoML(max_runtime_secs = 120, project_name = \"diamonds\", keep_cross_validation_models=True)\n",
    "aml.train(y = 'price', training_frame = train_high_noid)"
   ]
  },
  {
   "cell_type": "code",
   "execution_count": 67,
   "metadata": {},
   "outputs": [
    {
     "name": "stdout",
     "output_type": "stream",
     "text": [
      "xgboost prediction progress: |████████████████████████████████████████████| 100%\n"
     ]
    }
   ],
   "source": [
    "pred_leader = aml.leader.predict(test_high_noid)"
   ]
  },
  {
   "cell_type": "code",
   "execution_count": 68,
   "metadata": {},
   "outputs": [],
   "source": [
    "pred_df = pred_leader.as_data_frame()\n",
    "pred_df = pred_df.merge(train_high['C1'].as_data_frame(), left_index=True, right_index=True)\n",
    "pred_df = pred_df.rename(columns={'C1':'id', 'predict':'price'})"
   ]
  },
  {
   "cell_type": "code",
   "execution_count": 69,
   "metadata": {},
   "outputs": [],
   "source": [
    "pred_df[['id','price']].to_csv('../predictions/07-Auto-ML-v4-high-carat.csv', index=False)"
   ]
  },
  {
   "cell_type": "code",
   "execution_count": 70,
   "metadata": {},
   "outputs": [
    {
     "data": {
      "text/html": [
       "<div>\n",
       "<style scoped>\n",
       "    .dataframe tbody tr th:only-of-type {\n",
       "        vertical-align: middle;\n",
       "    }\n",
       "\n",
       "    .dataframe tbody tr th {\n",
       "        vertical-align: top;\n",
       "    }\n",
       "\n",
       "    .dataframe thead th {\n",
       "        text-align: right;\n",
       "    }\n",
       "</style>\n",
       "<table border=\"1\" class=\"dataframe\">\n",
       "  <thead>\n",
       "    <tr style=\"text-align: right;\">\n",
       "      <th></th>\n",
       "      <th>price</th>\n",
       "      <th>id</th>\n",
       "    </tr>\n",
       "  </thead>\n",
       "  <tbody>\n",
       "    <tr>\n",
       "      <th>0</th>\n",
       "      <td>10328.174805</td>\n",
       "      <td>8</td>\n",
       "    </tr>\n",
       "    <tr>\n",
       "      <th>1</th>\n",
       "      <td>11253.188477</td>\n",
       "      <td>34</td>\n",
       "    </tr>\n",
       "    <tr>\n",
       "      <th>2</th>\n",
       "      <td>12680.707031</td>\n",
       "      <td>42</td>\n",
       "    </tr>\n",
       "    <tr>\n",
       "      <th>3</th>\n",
       "      <td>11840.192383</td>\n",
       "      <td>72</td>\n",
       "    </tr>\n",
       "    <tr>\n",
       "      <th>4</th>\n",
       "      <td>13744.352539</td>\n",
       "      <td>82</td>\n",
       "    </tr>\n",
       "    <tr>\n",
       "      <th>...</th>\n",
       "      <td>...</td>\n",
       "      <td>...</td>\n",
       "    </tr>\n",
       "    <tr>\n",
       "      <th>1609</th>\n",
       "      <td>9414.047852</td>\n",
       "      <td>40155</td>\n",
       "    </tr>\n",
       "    <tr>\n",
       "      <th>1610</th>\n",
       "      <td>16612.927734</td>\n",
       "      <td>40225</td>\n",
       "    </tr>\n",
       "    <tr>\n",
       "      <th>1611</th>\n",
       "      <td>16552.197266</td>\n",
       "      <td>40274</td>\n",
       "    </tr>\n",
       "    <tr>\n",
       "      <th>1612</th>\n",
       "      <td>14356.041992</td>\n",
       "      <td>40276</td>\n",
       "    </tr>\n",
       "    <tr>\n",
       "      <th>1613</th>\n",
       "      <td>16101.772461</td>\n",
       "      <td>40290</td>\n",
       "    </tr>\n",
       "  </tbody>\n",
       "</table>\n",
       "<p>1614 rows × 2 columns</p>\n",
       "</div>"
      ],
      "text/plain": [
       "             price     id\n",
       "0     10328.174805      8\n",
       "1     11253.188477     34\n",
       "2     12680.707031     42\n",
       "3     11840.192383     72\n",
       "4     13744.352539     82\n",
       "...            ...    ...\n",
       "1609   9414.047852  40155\n",
       "1610  16612.927734  40225\n",
       "1611  16552.197266  40274\n",
       "1612  14356.041992  40276\n",
       "1613  16101.772461  40290\n",
       "\n",
       "[1614 rows x 2 columns]"
      ]
     },
     "execution_count": 70,
     "metadata": {},
     "output_type": "execute_result"
    }
   ],
   "source": [
    "pred_df"
   ]
  },
  {
   "cell_type": "code",
   "execution_count": 71,
   "metadata": {},
   "outputs": [
    {
     "data": {
      "text/html": [
       "<table>\n",
       "<thead>\n",
       "<tr><th>model_id                                           </th><th style=\"text-align: right;\">  mean_residual_deviance</th><th style=\"text-align: right;\">   rmse</th><th style=\"text-align: right;\">             mse</th><th style=\"text-align: right;\">     mae</th><th style=\"text-align: right;\">    rmsle</th></tr>\n",
       "</thead>\n",
       "<tbody>\n",
       "<tr><td>XGBoost_1_AutoML_20200229_225928                   </td><td style=\"text-align: right;\">        184204          </td><td style=\"text-align: right;\"> 429.19</td><td style=\"text-align: right;\">184204          </td><td style=\"text-align: right;\"> 228.468</td><td style=\"text-align: right;\">0.0920145</td></tr>\n",
       "<tr><td>StackedEnsemble_BestOfFamily_AutoML_20200229_223736</td><td style=\"text-align: right;\">             2.85853e+06</td><td style=\"text-align: right;\">1690.72</td><td style=\"text-align: right;\">     2.85853e+06</td><td style=\"text-align: right;\">1323.73 </td><td style=\"text-align: right;\">0.121441 </td></tr>\n",
       "<tr><td>StackedEnsemble_AllModels_AutoML_20200229_223736   </td><td style=\"text-align: right;\">             2.86208e+06</td><td style=\"text-align: right;\">1691.77</td><td style=\"text-align: right;\">     2.86208e+06</td><td style=\"text-align: right;\">1323.3  </td><td style=\"text-align: right;\">0.12152  </td></tr>\n",
       "<tr><td>XGBoost_3_AutoML_20200229_230602                   </td><td style=\"text-align: right;\">             2.88205e+06</td><td style=\"text-align: right;\">1697.66</td><td style=\"text-align: right;\">     2.88205e+06</td><td style=\"text-align: right;\">1346.21 </td><td style=\"text-align: right;\">0.121767 </td></tr>\n",
       "<tr><td>XGBoost_3_AutoML_20200229_225424                   </td><td style=\"text-align: right;\">             2.88224e+06</td><td style=\"text-align: right;\">1697.72</td><td style=\"text-align: right;\">     2.88224e+06</td><td style=\"text-align: right;\">1343.36 </td><td style=\"text-align: right;\">0.121975 </td></tr>\n",
       "<tr><td>XGBoost_3_AutoML_20200229_223736                   </td><td style=\"text-align: right;\">             2.88376e+06</td><td style=\"text-align: right;\">1698.16</td><td style=\"text-align: right;\">     2.88376e+06</td><td style=\"text-align: right;\">1342.08 </td><td style=\"text-align: right;\">0.122036 </td></tr>\n",
       "<tr><td>GBM_3_AutoML_20200229_223736                       </td><td style=\"text-align: right;\">             2.89222e+06</td><td style=\"text-align: right;\">1700.65</td><td style=\"text-align: right;\">     2.89222e+06</td><td style=\"text-align: right;\">1336.45 </td><td style=\"text-align: right;\">0.122088 </td></tr>\n",
       "<tr><td>XGBoost_1_AutoML_20200229_223736                   </td><td style=\"text-align: right;\">             2.89357e+06</td><td style=\"text-align: right;\">1701.05</td><td style=\"text-align: right;\">     2.89357e+06</td><td style=\"text-align: right;\">1344.59 </td><td style=\"text-align: right;\">0.122011 </td></tr>\n",
       "<tr><td>GBM_2_AutoML_20200229_225424                       </td><td style=\"text-align: right;\">             2.8946e+06 </td><td style=\"text-align: right;\">1701.35</td><td style=\"text-align: right;\">     2.8946e+06 </td><td style=\"text-align: right;\">1334.66 </td><td style=\"text-align: right;\">0.122537 </td></tr>\n",
       "<tr><td>GBM_grid__1_AutoML_20200229_225424_model_3         </td><td style=\"text-align: right;\">             2.89533e+06</td><td style=\"text-align: right;\">1701.57</td><td style=\"text-align: right;\">     2.89533e+06</td><td style=\"text-align: right;\">1341.56 </td><td style=\"text-align: right;\">0.122963 </td></tr>\n",
       "</tbody>\n",
       "</table>"
      ]
     },
     "metadata": {},
     "output_type": "display_data"
    },
    {
     "data": {
      "text/plain": []
     },
     "execution_count": 71,
     "metadata": {},
     "output_type": "execute_result"
    }
   ],
   "source": [
    "aml.leaderboard"
   ]
  },
  {
   "cell_type": "code",
   "execution_count": 78,
   "metadata": {},
   "outputs": [
    {
     "name": "stdout",
     "output_type": "stream",
     "text": [
      "AutoML progress: |\n",
      "22:52:22.609: New models will be added to existing leaderboard diamonds@@price (leaderboard frame=null) with already 23 models.\n",
      "22:52:33.640: StackedEnsemble_BestOfFamily_AutoML_20200229_225222 [StackedEnsemble best (built using top model from each algorithm type)] failed: water.exceptions.H2OIllegalArgumentException: Base models are inconsistent: they use different size (number of rows) training frames. Found: 1614 (StackedEnsemble) and 1615 (model GBM_3_AutoML_20200229_223736).\n",
      "22:52:34.644: StackedEnsemble_AllModels_AutoML_20200229_225222 [StackedEnsemble all (built using all AutoML models)] failed: water.exceptions.H2OIllegalArgumentException: Base models are inconsistent: they use different size (number of rows) training frames. Found: 1614 (StackedEnsemble) and 1615 (model GBM_3_AutoML_20200229_223736).\n",
      "22:54:24.147: New models will be added to existing leaderboard diamonds@@price (leaderboard frame=null) with already 25 models.\n",
      "22:56:26.678: StackedEnsemble_BestOfFamily_AutoML_20200229_225424 [StackedEnsemble best (built using top model from each algorithm type)] failed: water.exceptions.H2OIllegalArgumentException: Base models are inconsistent: they use different size (number of rows) training frames. Found: 1614 (StackedEnsemble) and 1615 (model GBM_3_AutoML_20200229_223736).\n",
      "22:56:27.682: StackedEnsemble_AllModels_AutoML_20200229_225424 [StackedEnsemble all (built using all AutoML models)] failed: water.exceptions.H2OIllegalArgumentException: Base models are inconsistent: they use different size (number of rows) training frames. Found: 1614 (StackedEnsemble) and 1615 (model XGBoost_3_AutoML_20200229_223736).\n",
      "22:59:28.825: New models will be added to existing leaderboard diamonds@@price (leaderboard frame=null) with already 68 models.\n",
      "23:01:30.988: StackedEnsemble_BestOfFamily_AutoML_20200229_225928 [StackedEnsemble best (built using top model from each algorithm type)] failed: water.exceptions.H2OIllegalArgumentException: Base models are inconsistent: they use different size (number of rows) training frames. Found: 38729 (StackedEnsemble) and 1615 (model GBM_3_AutoML_20200229_223736).\n",
      "23:01:31.991: StackedEnsemble_AllModels_AutoML_20200229_225928 [StackedEnsemble all (built using all AutoML models)] failed: water.exceptions.H2OIllegalArgumentException: Base models are inconsistent: they use different size (number of rows) training frames. Found: 38729 (StackedEnsemble) and 1614 (model XGBoost_3_AutoML_20200229_225424).\n",
      "23:06:02.37: New models will be added to existing leaderboard diamonds@@price (leaderboard frame=null) with already 69 models.\n",
      "23:08:01.355: StackedEnsemble_BestOfFamily_AutoML_20200229_230602 [StackedEnsemble best (built using top model from each algorithm type)] failed: water.exceptions.H2OIllegalArgumentException: Base models are inconsistent: they use different size (number of rows) training frames. Found: 1614 (StackedEnsemble) and 1615 (model GBM_3_AutoML_20200229_223736).\n",
      "23:08:02.360: StackedEnsemble_AllModels_AutoML_20200229_230602 [StackedEnsemble all (built using all AutoML models)] failed: water.exceptions.H2OIllegalArgumentException: Base models are inconsistent: they use different size (number of rows) training frames. Found: 1614 (StackedEnsemble) and 1615 (model XGBoost_3_AutoML_20200229_223736).\n",
      "23:08:03.946: New models will be added to existing leaderboard diamonds@@price (leaderboard frame=null) with already 107 models.\n",
      "23:10:06.116: StackedEnsemble_BestOfFamily_AutoML_20200229_230803 [StackedEnsemble best (built using top model from each algorithm type)] failed: water.exceptions.H2OIllegalArgumentException: Base models are inconsistent: they use different size (number of rows) training frames. Found: 38729 (StackedEnsemble) and 1615 (model GBM_3_AutoML_20200229_223736).\n",
      "23:10:07.120: StackedEnsemble_AllModels_AutoML_20200229_230803 [StackedEnsemble all (built using all AutoML models)] failed: water.exceptions.H2OIllegalArgumentException: Base models are inconsistent: they use different size (number of rows) training frames. Found: 38729 (StackedEnsemble) and 1614 (model XGBoost_3_AutoML_20200229_230602).\n",
      "23:12:22.362: New models will be added to existing leaderboard diamonds@@price (leaderboard frame=null) with already 108 models.\n",
      "\n",
      "████████████████████████████████████████████████████████| 100%\n",
      "\n",
      "23:14:23.573: StackedEnsemble_BestOfFamily_AutoML_20200229_231222 [StackedEnsemble best (built using top model from each algorithm type)] failed: water.exceptions.H2OIllegalArgumentException: Base models are inconsistent: they use different size (number of rows) training frames. Found: 38729 (StackedEnsemble) and 1615 (model GBM_3_AutoML_20200229_223736).\n",
      "23:14:24.577: StackedEnsemble_AllModels_AutoML_20200229_231222 [StackedEnsemble all (built using all AutoML models)] failed: water.exceptions.H2OIllegalArgumentException: Base models are inconsistent: they use different size (number of rows) training frames. Found: 38729 (StackedEnsemble) and 1614 (model XGBoost_3_AutoML_20200229_230602).\n",
      "\n"
     ]
    }
   ],
   "source": [
    "aml_low = H2OAutoML(max_runtime_secs = 120, project_name = \"diamonds\", keep_cross_validation_models=True)\n",
    "aml_low.train(y = 'price', training_frame = train_low_noid)"
   ]
  },
  {
   "cell_type": "code",
   "execution_count": 79,
   "metadata": {},
   "outputs": [
    {
     "data": {
      "text/html": [
       "<table>\n",
       "<thead>\n",
       "<tr><th>model_id                                           </th><th style=\"text-align: right;\">  mean_residual_deviance</th><th style=\"text-align: right;\">    rmse</th><th style=\"text-align: right;\">             mse</th><th style=\"text-align: right;\">     mae</th><th style=\"text-align: right;\">    rmsle</th></tr>\n",
       "</thead>\n",
       "<tbody>\n",
       "<tr><td>XGBoost_1_AutoML_20200229_231222                   </td><td style=\"text-align: right;\">        183571          </td><td style=\"text-align: right;\"> 428.452</td><td style=\"text-align: right;\">183571          </td><td style=\"text-align: right;\"> 228.407</td><td style=\"text-align: right;\">0.0919347</td></tr>\n",
       "<tr><td>XGBoost_1_AutoML_20200229_225928                   </td><td style=\"text-align: right;\">        184204          </td><td style=\"text-align: right;\"> 429.19 </td><td style=\"text-align: right;\">184204          </td><td style=\"text-align: right;\"> 228.468</td><td style=\"text-align: right;\">0.0920145</td></tr>\n",
       "<tr><td>XGBoost_1_AutoML_20200229_230803                   </td><td style=\"text-align: right;\">        184950          </td><td style=\"text-align: right;\"> 430.058</td><td style=\"text-align: right;\">184950          </td><td style=\"text-align: right;\"> 229.575</td><td style=\"text-align: right;\">0.092267 </td></tr>\n",
       "<tr><td>XGBoost_2_AutoML_20200229_231222                   </td><td style=\"text-align: right;\">        579427          </td><td style=\"text-align: right;\"> 761.201</td><td style=\"text-align: right;\">579427          </td><td style=\"text-align: right;\"> 438.987</td><td style=\"text-align: right;\">0.149345 </td></tr>\n",
       "<tr><td>StackedEnsemble_BestOfFamily_AutoML_20200229_223736</td><td style=\"text-align: right;\">             2.85853e+06</td><td style=\"text-align: right;\">1690.72 </td><td style=\"text-align: right;\">     2.85853e+06</td><td style=\"text-align: right;\">1323.73 </td><td style=\"text-align: right;\">0.121441 </td></tr>\n",
       "<tr><td>StackedEnsemble_AllModels_AutoML_20200229_223736   </td><td style=\"text-align: right;\">             2.86208e+06</td><td style=\"text-align: right;\">1691.77 </td><td style=\"text-align: right;\">     2.86208e+06</td><td style=\"text-align: right;\">1323.3  </td><td style=\"text-align: right;\">0.12152  </td></tr>\n",
       "<tr><td>XGBoost_3_AutoML_20200229_230602                   </td><td style=\"text-align: right;\">             2.88205e+06</td><td style=\"text-align: right;\">1697.66 </td><td style=\"text-align: right;\">     2.88205e+06</td><td style=\"text-align: right;\">1346.21 </td><td style=\"text-align: right;\">0.121767 </td></tr>\n",
       "<tr><td>XGBoost_3_AutoML_20200229_225424                   </td><td style=\"text-align: right;\">             2.88224e+06</td><td style=\"text-align: right;\">1697.72 </td><td style=\"text-align: right;\">     2.88224e+06</td><td style=\"text-align: right;\">1343.36 </td><td style=\"text-align: right;\">0.121975 </td></tr>\n",
       "<tr><td>XGBoost_3_AutoML_20200229_223736                   </td><td style=\"text-align: right;\">             2.88376e+06</td><td style=\"text-align: right;\">1698.16 </td><td style=\"text-align: right;\">     2.88376e+06</td><td style=\"text-align: right;\">1342.08 </td><td style=\"text-align: right;\">0.122036 </td></tr>\n",
       "<tr><td>GBM_3_AutoML_20200229_223736                       </td><td style=\"text-align: right;\">             2.89222e+06</td><td style=\"text-align: right;\">1700.65 </td><td style=\"text-align: right;\">     2.89222e+06</td><td style=\"text-align: right;\">1336.45 </td><td style=\"text-align: right;\">0.122088 </td></tr>\n",
       "</tbody>\n",
       "</table>"
      ]
     },
     "metadata": {},
     "output_type": "display_data"
    },
    {
     "data": {
      "text/plain": []
     },
     "execution_count": 79,
     "metadata": {},
     "output_type": "execute_result"
    }
   ],
   "source": [
    "aml_low.leaderboard"
   ]
  },
  {
   "cell_type": "code",
   "execution_count": 80,
   "metadata": {},
   "outputs": [
    {
     "name": "stdout",
     "output_type": "stream",
     "text": [
      "xgboost prediction progress: |████████████████████████████████████████████| 100%\n"
     ]
    }
   ],
   "source": [
    "pred_low = aml.leader.predict(test_low)"
   ]
  },
  {
   "cell_type": "code",
   "execution_count": 84,
   "metadata": {},
   "outputs": [
    {
     "data": {
      "text/html": [
       "<div>\n",
       "<style scoped>\n",
       "    .dataframe tbody tr th:only-of-type {\n",
       "        vertical-align: middle;\n",
       "    }\n",
       "\n",
       "    .dataframe tbody tr th {\n",
       "        vertical-align: top;\n",
       "    }\n",
       "\n",
       "    .dataframe thead th {\n",
       "        text-align: right;\n",
       "    }\n",
       "</style>\n",
       "<table border=\"1\" class=\"dataframe\">\n",
       "  <thead>\n",
       "    <tr style=\"text-align: right;\">\n",
       "      <th></th>\n",
       "      <th>price</th>\n",
       "      <th>id</th>\n",
       "    </tr>\n",
       "  </thead>\n",
       "  <tbody>\n",
       "    <tr>\n",
       "      <th>0</th>\n",
       "      <td>10328.174805</td>\n",
       "      <td>0</td>\n",
       "    </tr>\n",
       "    <tr>\n",
       "      <th>1</th>\n",
       "      <td>11253.188477</td>\n",
       "      <td>1</td>\n",
       "    </tr>\n",
       "    <tr>\n",
       "      <th>2</th>\n",
       "      <td>12680.707031</td>\n",
       "      <td>2</td>\n",
       "    </tr>\n",
       "    <tr>\n",
       "      <th>3</th>\n",
       "      <td>11840.192383</td>\n",
       "      <td>3</td>\n",
       "    </tr>\n",
       "    <tr>\n",
       "      <th>4</th>\n",
       "      <td>13744.352539</td>\n",
       "      <td>4</td>\n",
       "    </tr>\n",
       "    <tr>\n",
       "      <th>...</th>\n",
       "      <td>...</td>\n",
       "      <td>...</td>\n",
       "    </tr>\n",
       "    <tr>\n",
       "      <th>1609</th>\n",
       "      <td>9414.047852</td>\n",
       "      <td>1683</td>\n",
       "    </tr>\n",
       "    <tr>\n",
       "      <th>1610</th>\n",
       "      <td>16612.927734</td>\n",
       "      <td>1684</td>\n",
       "    </tr>\n",
       "    <tr>\n",
       "      <th>1611</th>\n",
       "      <td>16552.197266</td>\n",
       "      <td>1685</td>\n",
       "    </tr>\n",
       "    <tr>\n",
       "      <th>1612</th>\n",
       "      <td>14356.041992</td>\n",
       "      <td>1686</td>\n",
       "    </tr>\n",
       "    <tr>\n",
       "      <th>1613</th>\n",
       "      <td>16101.772461</td>\n",
       "      <td>1687</td>\n",
       "    </tr>\n",
       "  </tbody>\n",
       "</table>\n",
       "<p>1614 rows × 2 columns</p>\n",
       "</div>"
      ],
      "text/plain": [
       "             price    id\n",
       "0     10328.174805     0\n",
       "1     11253.188477     1\n",
       "2     12680.707031     2\n",
       "3     11840.192383     3\n",
       "4     13744.352539     4\n",
       "...            ...   ...\n",
       "1609   9414.047852  1683\n",
       "1610  16612.927734  1684\n",
       "1611  16552.197266  1685\n",
       "1612  14356.041992  1686\n",
       "1613  16101.772461  1687\n",
       "\n",
       "[1614 rows x 2 columns]"
      ]
     },
     "execution_count": 84,
     "metadata": {},
     "output_type": "execute_result"
    }
   ],
   "source": [
    "pred_low"
   ]
  },
  {
   "cell_type": "code",
   "execution_count": 85,
   "metadata": {},
   "outputs": [],
   "source": [
    "#pred_low = pred_low.as_data_frame()\n",
    "pred_low = pred_low.merge(test_low['C1'].as_data_frame(), left_index=True, right_index=True)\n",
    "pred_low = pred_low.rename(columns={'C1':'id', 'predict':'price'})\n",
    "pred_low[['id','price']].to_csv('../predictions/07-Auto-ML-v4-low-carat.csv', index=False)"
   ]
  },
  {
   "cell_type": "code",
   "execution_count": 86,
   "metadata": {},
   "outputs": [
    {
     "data": {
      "text/html": [
       "<div>\n",
       "<style scoped>\n",
       "    .dataframe tbody tr th:only-of-type {\n",
       "        vertical-align: middle;\n",
       "    }\n",
       "\n",
       "    .dataframe tbody tr th {\n",
       "        vertical-align: top;\n",
       "    }\n",
       "\n",
       "    .dataframe thead th {\n",
       "        text-align: right;\n",
       "    }\n",
       "</style>\n",
       "<table border=\"1\" class=\"dataframe\">\n",
       "  <thead>\n",
       "    <tr style=\"text-align: right;\">\n",
       "      <th></th>\n",
       "      <th>price</th>\n",
       "      <th>id</th>\n",
       "    </tr>\n",
       "  </thead>\n",
       "  <tbody>\n",
       "    <tr>\n",
       "      <th>0</th>\n",
       "      <td>10328.174805</td>\n",
       "      <td>8</td>\n",
       "    </tr>\n",
       "    <tr>\n",
       "      <th>1</th>\n",
       "      <td>11253.188477</td>\n",
       "      <td>34</td>\n",
       "    </tr>\n",
       "    <tr>\n",
       "      <th>2</th>\n",
       "      <td>12680.707031</td>\n",
       "      <td>42</td>\n",
       "    </tr>\n",
       "    <tr>\n",
       "      <th>3</th>\n",
       "      <td>11840.192383</td>\n",
       "      <td>72</td>\n",
       "    </tr>\n",
       "    <tr>\n",
       "      <th>4</th>\n",
       "      <td>13744.352539</td>\n",
       "      <td>82</td>\n",
       "    </tr>\n",
       "    <tr>\n",
       "      <th>...</th>\n",
       "      <td>...</td>\n",
       "      <td>...</td>\n",
       "    </tr>\n",
       "    <tr>\n",
       "      <th>1609</th>\n",
       "      <td>9414.047852</td>\n",
       "      <td>40155</td>\n",
       "    </tr>\n",
       "    <tr>\n",
       "      <th>1610</th>\n",
       "      <td>16612.927734</td>\n",
       "      <td>40225</td>\n",
       "    </tr>\n",
       "    <tr>\n",
       "      <th>1611</th>\n",
       "      <td>16552.197266</td>\n",
       "      <td>40274</td>\n",
       "    </tr>\n",
       "    <tr>\n",
       "      <th>1612</th>\n",
       "      <td>14356.041992</td>\n",
       "      <td>40276</td>\n",
       "    </tr>\n",
       "    <tr>\n",
       "      <th>1613</th>\n",
       "      <td>16101.772461</td>\n",
       "      <td>40290</td>\n",
       "    </tr>\n",
       "  </tbody>\n",
       "</table>\n",
       "<p>1614 rows × 2 columns</p>\n",
       "</div>"
      ],
      "text/plain": [
       "             price     id\n",
       "0     10328.174805      8\n",
       "1     11253.188477     34\n",
       "2     12680.707031     42\n",
       "3     11840.192383     72\n",
       "4     13744.352539     82\n",
       "...            ...    ...\n",
       "1609   9414.047852  40155\n",
       "1610  16612.927734  40225\n",
       "1611  16552.197266  40274\n",
       "1612  14356.041992  40276\n",
       "1613  16101.772461  40290\n",
       "\n",
       "[1614 rows x 2 columns]"
      ]
     },
     "metadata": {},
     "output_type": "display_data"
    },
    {
     "data": {
      "text/html": [
       "<div>\n",
       "<style scoped>\n",
       "    .dataframe tbody tr th:only-of-type {\n",
       "        vertical-align: middle;\n",
       "    }\n",
       "\n",
       "    .dataframe tbody tr th {\n",
       "        vertical-align: top;\n",
       "    }\n",
       "\n",
       "    .dataframe thead th {\n",
       "        text-align: right;\n",
       "    }\n",
       "</style>\n",
       "<table border=\"1\" class=\"dataframe\">\n",
       "  <thead>\n",
       "    <tr style=\"text-align: right;\">\n",
       "      <th></th>\n",
       "      <th>price</th>\n",
       "      <th>id</th>\n",
       "      <th>id</th>\n",
       "    </tr>\n",
       "  </thead>\n",
       "  <tbody>\n",
       "    <tr>\n",
       "      <th>0</th>\n",
       "      <td>10328.174805</td>\n",
       "      <td>0</td>\n",
       "      <td>0</td>\n",
       "    </tr>\n",
       "    <tr>\n",
       "      <th>1</th>\n",
       "      <td>11253.188477</td>\n",
       "      <td>1</td>\n",
       "      <td>1</td>\n",
       "    </tr>\n",
       "    <tr>\n",
       "      <th>2</th>\n",
       "      <td>12680.707031</td>\n",
       "      <td>2</td>\n",
       "      <td>2</td>\n",
       "    </tr>\n",
       "    <tr>\n",
       "      <th>3</th>\n",
       "      <td>11840.192383</td>\n",
       "      <td>3</td>\n",
       "      <td>3</td>\n",
       "    </tr>\n",
       "    <tr>\n",
       "      <th>4</th>\n",
       "      <td>13744.352539</td>\n",
       "      <td>4</td>\n",
       "      <td>4</td>\n",
       "    </tr>\n",
       "    <tr>\n",
       "      <th>...</th>\n",
       "      <td>...</td>\n",
       "      <td>...</td>\n",
       "      <td>...</td>\n",
       "    </tr>\n",
       "    <tr>\n",
       "      <th>1609</th>\n",
       "      <td>9414.047852</td>\n",
       "      <td>1683</td>\n",
       "      <td>1683</td>\n",
       "    </tr>\n",
       "    <tr>\n",
       "      <th>1610</th>\n",
       "      <td>16612.927734</td>\n",
       "      <td>1684</td>\n",
       "      <td>1684</td>\n",
       "    </tr>\n",
       "    <tr>\n",
       "      <th>1611</th>\n",
       "      <td>16552.197266</td>\n",
       "      <td>1685</td>\n",
       "      <td>1685</td>\n",
       "    </tr>\n",
       "    <tr>\n",
       "      <th>1612</th>\n",
       "      <td>14356.041992</td>\n",
       "      <td>1686</td>\n",
       "      <td>1686</td>\n",
       "    </tr>\n",
       "    <tr>\n",
       "      <th>1613</th>\n",
       "      <td>16101.772461</td>\n",
       "      <td>1687</td>\n",
       "      <td>1687</td>\n",
       "    </tr>\n",
       "  </tbody>\n",
       "</table>\n",
       "<p>1614 rows × 3 columns</p>\n",
       "</div>"
      ],
      "text/plain": [
       "             price    id    id\n",
       "0     10328.174805     0     0\n",
       "1     11253.188477     1     1\n",
       "2     12680.707031     2     2\n",
       "3     11840.192383     3     3\n",
       "4     13744.352539     4     4\n",
       "...            ...   ...   ...\n",
       "1609   9414.047852  1683  1683\n",
       "1610  16612.927734  1684  1684\n",
       "1611  16552.197266  1685  1685\n",
       "1612  14356.041992  1686  1686\n",
       "1613  16101.772461  1687  1687\n",
       "\n",
       "[1614 rows x 3 columns]"
      ]
     },
     "metadata": {},
     "output_type": "display_data"
    }
   ],
   "source": [
    "display(pred_df, pred_low)"
   ]
  },
  {
   "cell_type": "code",
   "execution_count": null,
   "metadata": {},
   "outputs": [],
   "source": [
    "test_pred = pd.concat([pred_df, pred_low],ignore_index=True)\n",
    "test_pred.head()"
   ]
  },
  {
   "cell_type": "code",
   "execution_count": null,
   "metadata": {},
   "outputs": [],
   "source": [
    "test_pred.to_csv('..')"
   ]
  }
 ],
 "metadata": {
  "kernelspec": {
   "display_name": "Python 3.7.6 64-bit",
   "language": "python",
   "name": "python37664bitc736265aa96942798be544ff59087e30"
  },
  "language_info": {
   "codemirror_mode": {
    "name": "ipython",
    "version": 3
   },
   "file_extension": ".py",
   "mimetype": "text/x-python",
   "name": "python",
   "nbconvert_exporter": "python",
   "pygments_lexer": "ipython3",
   "version": "3.7.6"
  }
 },
 "nbformat": 4,
 "nbformat_minor": 4
}
