{
 "cells": [
  {
   "cell_type": "code",
   "execution_count": 1,
   "metadata": {},
   "outputs": [
    {
     "name": "stdout",
     "output_type": "stream",
     "text": [
      "Checking whether there is an H2O instance running at http://localhost:54321 ..... not found.\n",
      "Attempting to start a local H2O server...\n",
      "  Java Version: openjdk version \"11.0.6\" 2020-01-14; OpenJDK Runtime Environment (build 11.0.6+10-post-Ubuntu-1ubuntu118.04.1); OpenJDK 64-Bit Server VM (build 11.0.6+10-post-Ubuntu-1ubuntu118.04.1, mixed mode, sharing)\n",
      "  Starting server from /home/edu/.local/lib/python3.7/site-packages/h2o/backend/bin/h2o.jar\n",
      "  Ice root: /tmp/tmpotsw3ye4\n",
      "  JVM stdout: /tmp/tmpotsw3ye4/h2o_edu_started_from_python.out\n",
      "  JVM stderr: /tmp/tmpotsw3ye4/h2o_edu_started_from_python.err\n",
      "  Server is running at http://127.0.0.1:54321\n",
      "Connecting to H2O server at http://127.0.0.1:54321 ... successful.\n"
     ]
    },
    {
     "data": {
      "text/html": [
       "<div style=\"overflow:auto\"><table style=\"width:50%\"><tr><td>H2O cluster uptime:</td>\n",
       "<td>01 secs</td></tr>\n",
       "<tr><td>H2O cluster timezone:</td>\n",
       "<td>Europe/Paris</td></tr>\n",
       "<tr><td>H2O data parsing timezone:</td>\n",
       "<td>UTC</td></tr>\n",
       "<tr><td>H2O cluster version:</td>\n",
       "<td>3.28.0.3</td></tr>\n",
       "<tr><td>H2O cluster version age:</td>\n",
       "<td>24 days </td></tr>\n",
       "<tr><td>H2O cluster name:</td>\n",
       "<td>H2O_from_python_edu_38dx5w</td></tr>\n",
       "<tr><td>H2O cluster total nodes:</td>\n",
       "<td>1</td></tr>\n",
       "<tr><td>H2O cluster free memory:</td>\n",
       "<td>1.887 Gb</td></tr>\n",
       "<tr><td>H2O cluster total cores:</td>\n",
       "<td>8</td></tr>\n",
       "<tr><td>H2O cluster allowed cores:</td>\n",
       "<td>8</td></tr>\n",
       "<tr><td>H2O cluster status:</td>\n",
       "<td>accepting new members, healthy</td></tr>\n",
       "<tr><td>H2O connection url:</td>\n",
       "<td>http://127.0.0.1:54321</td></tr>\n",
       "<tr><td>H2O connection proxy:</td>\n",
       "<td>{'http': None, 'https': None}</td></tr>\n",
       "<tr><td>H2O internal security:</td>\n",
       "<td>False</td></tr>\n",
       "<tr><td>H2O API Extensions:</td>\n",
       "<td>Amazon S3, XGBoost, Algos, AutoML, Core V3, TargetEncoder, Core V4</td></tr>\n",
       "<tr><td>Python version:</td>\n",
       "<td>3.7.6 final</td></tr></table></div>"
      ],
      "text/plain": [
       "--------------------------  ------------------------------------------------------------------\n",
       "H2O cluster uptime:         01 secs\n",
       "H2O cluster timezone:       Europe/Paris\n",
       "H2O data parsing timezone:  UTC\n",
       "H2O cluster version:        3.28.0.3\n",
       "H2O cluster version age:    24 days\n",
       "H2O cluster name:           H2O_from_python_edu_38dx5w\n",
       "H2O cluster total nodes:    1\n",
       "H2O cluster free memory:    1.887 Gb\n",
       "H2O cluster total cores:    8\n",
       "H2O cluster allowed cores:  8\n",
       "H2O cluster status:         accepting new members, healthy\n",
       "H2O connection url:         http://127.0.0.1:54321\n",
       "H2O connection proxy:       {'http': None, 'https': None}\n",
       "H2O internal security:      False\n",
       "H2O API Extensions:         Amazon S3, XGBoost, Algos, AutoML, Core V3, TargetEncoder, Core V4\n",
       "Python version:             3.7.6 final\n",
       "--------------------------  ------------------------------------------------------------------"
      ]
     },
     "metadata": {},
     "output_type": "display_data"
    }
   ],
   "source": [
    "import pandas as pd\n",
    "import numpy as np\n",
    "import seaborn as sns\n",
    "import matplotlib.pyplot as plt\n",
    "import h2o\n",
    "from h2o.automl import H2OAutoML\n",
    "h2o.init()"
   ]
  },
  {
   "cell_type": "code",
   "execution_count": 2,
   "metadata": {},
   "outputs": [
    {
     "name": "stdout",
     "output_type": "stream",
     "text": [
      "Parse progress: |█████████████████████████████████████████████████████████| 100%\n",
      "Parse progress: |█████████████████████████████████████████████████████████| 100%\n",
      "Parse progress: |█████████████████████████████████████████████████████████| 100%\n",
      "Parse progress: |█████████████████████████████████████████████████████████| 100%\n"
     ]
    }
   ],
   "source": [
    "train_high = h2o.import_file('../cleaned-data/03-train_high.csv')\n",
    "train_low = h2o.import_file('../cleaned-data/03-train_low.csv')\n",
    "test_high = h2o.import_file('../cleaned-data/03-test_high.csv')\n",
    "test_low = h2o.import_file('../cleaned-data/03-test_low.csv')                    "
   ]
  },
  {
   "cell_type": "code",
   "execution_count": 3,
   "metadata": {},
   "outputs": [
    {
     "data": {
      "text/plain": [
       "(1615, 8)"
      ]
     },
     "metadata": {},
     "output_type": "display_data"
    },
    {
     "data": {
      "text/plain": [
       "(38730, 8)"
      ]
     },
     "metadata": {},
     "output_type": "display_data"
    },
    {
     "data": {
      "text/html": [
       "<table>\n",
       "<thead>\n",
       "<tr><th style=\"text-align: right;\">  carat</th><th style=\"text-align: right;\">  cut</th><th style=\"text-align: right;\">  color</th><th style=\"text-align: right;\">  clarity</th><th style=\"text-align: right;\">  depth</th><th style=\"text-align: right;\">  table</th><th style=\"text-align: right;\">  price</th></tr>\n",
       "</thead>\n",
       "<tbody>\n",
       "<tr><td style=\"text-align: right;\">   2.05</td><td style=\"text-align: right;\">    4</td><td style=\"text-align: right;\">      6</td><td style=\"text-align: right;\">        1</td><td style=\"text-align: right;\">   62.4</td><td style=\"text-align: right;\">     57</td><td style=\"text-align: right;\">  18193</td></tr>\n",
       "<tr><td style=\"text-align: right;\">   2.01</td><td style=\"text-align: right;\">    0</td><td style=\"text-align: right;\">      1</td><td style=\"text-align: right;\">        4</td><td style=\"text-align: right;\">   64.9</td><td style=\"text-align: right;\">     60</td><td style=\"text-align: right;\">  13744</td></tr>\n",
       "<tr><td style=\"text-align: right;\">   2   </td><td style=\"text-align: right;\">    1</td><td style=\"text-align: right;\">      2</td><td style=\"text-align: right;\">        3</td><td style=\"text-align: right;\">   64.2</td><td style=\"text-align: right;\">     52</td><td style=\"text-align: right;\">  11400</td></tr>\n",
       "<tr><td style=\"text-align: right;\">   2   </td><td style=\"text-align: right;\">    1</td><td style=\"text-align: right;\">      7</td><td style=\"text-align: right;\">        3</td><td style=\"text-align: right;\">   60.3</td><td style=\"text-align: right;\">     56</td><td style=\"text-align: right;\">  16425</td></tr>\n",
       "<tr><td style=\"text-align: right;\">   2.28</td><td style=\"text-align: right;\">    4</td><td style=\"text-align: right;\">      1</td><td style=\"text-align: right;\">        4</td><td style=\"text-align: right;\">   62.7</td><td style=\"text-align: right;\">     57</td><td style=\"text-align: right;\">  16450</td></tr>\n",
       "<tr><td style=\"text-align: right;\">   2.02</td><td style=\"text-align: right;\">    2</td><td style=\"text-align: right;\">      2</td><td style=\"text-align: right;\">        1</td><td style=\"text-align: right;\">   60.4</td><td style=\"text-align: right;\">     58</td><td style=\"text-align: right;\">  17357</td></tr>\n",
       "<tr><td style=\"text-align: right;\">   2   </td><td style=\"text-align: right;\">    3</td><td style=\"text-align: right;\">      3</td><td style=\"text-align: right;\">        3</td><td style=\"text-align: right;\">   60.7</td><td style=\"text-align: right;\">     60</td><td style=\"text-align: right;\">  15312</td></tr>\n",
       "<tr><td style=\"text-align: right;\">   2.01</td><td style=\"text-align: right;\">    3</td><td style=\"text-align: right;\">      2</td><td style=\"text-align: right;\">        0</td><td style=\"text-align: right;\">   61.5</td><td style=\"text-align: right;\">     62</td><td style=\"text-align: right;\">  15475</td></tr>\n",
       "<tr><td style=\"text-align: right;\">   2.31</td><td style=\"text-align: right;\">    3</td><td style=\"text-align: right;\">      2</td><td style=\"text-align: right;\">        3</td><td style=\"text-align: right;\">   62.9</td><td style=\"text-align: right;\">     58</td><td style=\"text-align: right;\">  17218</td></tr>\n",
       "<tr><td style=\"text-align: right;\">   2.01</td><td style=\"text-align: right;\">    4</td><td style=\"text-align: right;\">      3</td><td style=\"text-align: right;\">        1</td><td style=\"text-align: right;\">   60.6</td><td style=\"text-align: right;\">     57</td><td style=\"text-align: right;\">  17383</td></tr>\n",
       "</tbody>\n",
       "</table>"
      ]
     },
     "metadata": {},
     "output_type": "display_data"
    },
    {
     "data": {
      "text/plain": []
     },
     "execution_count": 3,
     "metadata": {},
     "output_type": "execute_result"
    }
   ],
   "source": [
    "train_high_noid = train_high.drop(index=[0], axis=0)\n",
    "train_low_noid = train_low.drop(index=[0], axis=0)\n",
    "test_high_noid = test_high.drop(index=[0], axis=0)\n",
    "test_low_noid = test_low.drop(index=[0], axis=0)\n",
    "display(train_high.shape)\n",
    "display(train_low.shape)\n",
    "train_high.drop(index=[0], axis=1)"
   ]
  },
  {
   "cell_type": "code",
   "execution_count": 4,
   "metadata": {},
   "outputs": [
    {
     "name": "stdout",
     "output_type": "stream",
     "text": [
      "AutoML progress: |████████████████████████████████████████████████████████| 100%\n"
     ]
    }
   ],
   "source": [
    "aml = H2OAutoML(max_runtime_secs = 120, project_name = \"diamonds_high\", keep_cross_validation_models=True)\n",
    "aml.train(x=train_high.col_names[1:-1], y = 'price', training_frame = train_high)"
   ]
  },
  {
   "cell_type": "code",
   "execution_count": 5,
   "metadata": {},
   "outputs": [
    {
     "name": "stdout",
     "output_type": "stream",
     "text": [
      "stackedensemble prediction progress: |████████████████████████████████████| 100%\n"
     ]
    },
    {
     "data": {
      "text/plain": [
       "(521, 1)"
      ]
     },
     "execution_count": 5,
     "metadata": {},
     "output_type": "execute_result"
    }
   ],
   "source": [
    "pred_leader = aml.leader.predict(test_high)\n",
    "pred_leader.shape"
   ]
  },
  {
   "cell_type": "code",
   "execution_count": 6,
   "metadata": {},
   "outputs": [],
   "source": [
    "pred_df = pred_leader.as_data_frame()\n",
    "pred_df = pred_df.merge(train_high['id'].as_data_frame(), left_index=True, right_index=True)\n",
    "pred_df = pred_df.rename(columns={'predict':'price'})"
   ]
  },
  {
   "cell_type": "code",
   "execution_count": 7,
   "metadata": {},
   "outputs": [],
   "source": [
    "pred_df[['id','price']].to_csv('../predictions/07-Auto-ML-v4-high-carat.csv', index=False)"
   ]
  },
  {
   "cell_type": "code",
   "execution_count": 8,
   "metadata": {},
   "outputs": [
    {
     "data": {
      "text/html": [
       "<div>\n",
       "<style scoped>\n",
       "    .dataframe tbody tr th:only-of-type {\n",
       "        vertical-align: middle;\n",
       "    }\n",
       "\n",
       "    .dataframe tbody tr th {\n",
       "        vertical-align: top;\n",
       "    }\n",
       "\n",
       "    .dataframe thead th {\n",
       "        text-align: right;\n",
       "    }\n",
       "</style>\n",
       "<table border=\"1\" class=\"dataframe\">\n",
       "  <thead>\n",
       "    <tr style=\"text-align: right;\">\n",
       "      <th></th>\n",
       "      <th>price</th>\n",
       "      <th>id</th>\n",
       "    </tr>\n",
       "  </thead>\n",
       "  <tbody>\n",
       "    <tr>\n",
       "      <th>0</th>\n",
       "      <td>16865.672589</td>\n",
       "      <td>8</td>\n",
       "    </tr>\n",
       "    <tr>\n",
       "      <th>1</th>\n",
       "      <td>16607.202153</td>\n",
       "      <td>34</td>\n",
       "    </tr>\n",
       "    <tr>\n",
       "      <th>2</th>\n",
       "      <td>15866.357655</td>\n",
       "      <td>42</td>\n",
       "    </tr>\n",
       "    <tr>\n",
       "      <th>3</th>\n",
       "      <td>16638.422238</td>\n",
       "      <td>72</td>\n",
       "    </tr>\n",
       "    <tr>\n",
       "      <th>4</th>\n",
       "      <td>15675.030633</td>\n",
       "      <td>82</td>\n",
       "    </tr>\n",
       "    <tr>\n",
       "      <th>...</th>\n",
       "      <td>...</td>\n",
       "      <td>...</td>\n",
       "    </tr>\n",
       "    <tr>\n",
       "      <th>516</th>\n",
       "      <td>14781.687216</td>\n",
       "      <td>12579</td>\n",
       "    </tr>\n",
       "    <tr>\n",
       "      <th>517</th>\n",
       "      <td>13467.245902</td>\n",
       "      <td>12581</td>\n",
       "    </tr>\n",
       "    <tr>\n",
       "      <th>518</th>\n",
       "      <td>14688.626947</td>\n",
       "      <td>12593</td>\n",
       "    </tr>\n",
       "    <tr>\n",
       "      <th>519</th>\n",
       "      <td>13516.743038</td>\n",
       "      <td>12609</td>\n",
       "    </tr>\n",
       "    <tr>\n",
       "      <th>520</th>\n",
       "      <td>14415.165091</td>\n",
       "      <td>12625</td>\n",
       "    </tr>\n",
       "  </tbody>\n",
       "</table>\n",
       "<p>521 rows × 2 columns</p>\n",
       "</div>"
      ],
      "text/plain": [
       "            price     id\n",
       "0    16865.672589      8\n",
       "1    16607.202153     34\n",
       "2    15866.357655     42\n",
       "3    16638.422238     72\n",
       "4    15675.030633     82\n",
       "..            ...    ...\n",
       "516  14781.687216  12579\n",
       "517  13467.245902  12581\n",
       "518  14688.626947  12593\n",
       "519  13516.743038  12609\n",
       "520  14415.165091  12625\n",
       "\n",
       "[521 rows x 2 columns]"
      ]
     },
     "execution_count": 8,
     "metadata": {},
     "output_type": "execute_result"
    }
   ],
   "source": [
    "pred_df"
   ]
  },
  {
   "cell_type": "code",
   "execution_count": 9,
   "metadata": {},
   "outputs": [
    {
     "data": {
      "text/html": [
       "<table>\n",
       "<thead>\n",
       "<tr><th>model_id                                           </th><th style=\"text-align: right;\">  mean_residual_deviance</th><th style=\"text-align: right;\">   rmse</th><th style=\"text-align: right;\">        mse</th><th style=\"text-align: right;\">    mae</th><th style=\"text-align: right;\">   rmsle</th></tr>\n",
       "</thead>\n",
       "<tbody>\n",
       "<tr><td>StackedEnsemble_AllModels_AutoML_20200301_005708   </td><td style=\"text-align: right;\">             2.82029e+06</td><td style=\"text-align: right;\">1679.37</td><td style=\"text-align: right;\">2.82029e+06</td><td style=\"text-align: right;\">1304.89</td><td style=\"text-align: right;\">0.119767</td></tr>\n",
       "<tr><td>StackedEnsemble_BestOfFamily_AutoML_20200301_005708</td><td style=\"text-align: right;\">             2.8444e+06 </td><td style=\"text-align: right;\">1686.54</td><td style=\"text-align: right;\">2.8444e+06 </td><td style=\"text-align: right;\">1308.7 </td><td style=\"text-align: right;\">0.120429</td></tr>\n",
       "<tr><td>XGBoost_grid__1_AutoML_20200301_005708_model_3     </td><td style=\"text-align: right;\">             2.86725e+06</td><td style=\"text-align: right;\">1693.3 </td><td style=\"text-align: right;\">2.86725e+06</td><td style=\"text-align: right;\">1317.9 </td><td style=\"text-align: right;\">0.120623</td></tr>\n",
       "<tr><td>XGBoost_1_AutoML_20200301_005708                   </td><td style=\"text-align: right;\">             2.88186e+06</td><td style=\"text-align: right;\">1697.6 </td><td style=\"text-align: right;\">2.88186e+06</td><td style=\"text-align: right;\">1339.41</td><td style=\"text-align: right;\">0.121938</td></tr>\n",
       "<tr><td>XGBoost_3_AutoML_20200301_005708                   </td><td style=\"text-align: right;\">             2.89517e+06</td><td style=\"text-align: right;\">1701.52</td><td style=\"text-align: right;\">2.89517e+06</td><td style=\"text-align: right;\">1350.53</td><td style=\"text-align: right;\">0.122376</td></tr>\n",
       "<tr><td>XGBoost_grid__1_AutoML_20200301_005708_model_2     </td><td style=\"text-align: right;\">             2.92506e+06</td><td style=\"text-align: right;\">1710.28</td><td style=\"text-align: right;\">2.92506e+06</td><td style=\"text-align: right;\">1336.35</td><td style=\"text-align: right;\">0.121715</td></tr>\n",
       "<tr><td>GBM_3_AutoML_20200301_005708                       </td><td style=\"text-align: right;\">             2.93492e+06</td><td style=\"text-align: right;\">1713.16</td><td style=\"text-align: right;\">2.93492e+06</td><td style=\"text-align: right;\">1353.3 </td><td style=\"text-align: right;\">0.123426</td></tr>\n",
       "<tr><td>XGBoost_grid__1_AutoML_20200301_005708_model_4     </td><td style=\"text-align: right;\">             2.93602e+06</td><td style=\"text-align: right;\">1713.48</td><td style=\"text-align: right;\">2.93602e+06</td><td style=\"text-align: right;\">1362.08</td><td style=\"text-align: right;\">0.123042</td></tr>\n",
       "<tr><td>GBM_2_AutoML_20200301_005708                       </td><td style=\"text-align: right;\">             2.94289e+06</td><td style=\"text-align: right;\">1715.49</td><td style=\"text-align: right;\">2.94289e+06</td><td style=\"text-align: right;\">1358.31</td><td style=\"text-align: right;\">0.123166</td></tr>\n",
       "<tr><td>XGBoost_2_AutoML_20200301_005708                   </td><td style=\"text-align: right;\">             2.95726e+06</td><td style=\"text-align: right;\">1719.67</td><td style=\"text-align: right;\">2.95726e+06</td><td style=\"text-align: right;\">1361.18</td><td style=\"text-align: right;\">0.123872</td></tr>\n",
       "</tbody>\n",
       "</table>"
      ]
     },
     "metadata": {},
     "output_type": "display_data"
    },
    {
     "data": {
      "text/plain": []
     },
     "execution_count": 9,
     "metadata": {},
     "output_type": "execute_result"
    }
   ],
   "source": [
    "aml.leaderboard"
   ]
  },
  {
   "cell_type": "code",
   "execution_count": 10,
   "metadata": {},
   "outputs": [
    {
     "name": "stdout",
     "output_type": "stream",
     "text": [
      "AutoML progress: |████████████████████████████████████████████████████████| 100%\n"
     ]
    }
   ],
   "source": [
    "aml_low = H2OAutoML(max_runtime_secs = 120, project_name = \"diamonds_low\", keep_cross_validation_models=True)\n",
    "aml_low.train(y = 'price', x= train_low.col_names[1:-1], training_frame= train_low)"
   ]
  },
  {
   "cell_type": "code",
   "execution_count": 11,
   "metadata": {},
   "outputs": [
    {
     "data": {
      "text/html": [
       "<table>\n",
       "<thead>\n",
       "<tr><th>model_id                                           </th><th style=\"text-align: right;\">  mean_residual_deviance</th><th style=\"text-align: right;\">    rmse</th><th style=\"text-align: right;\">             mse</th><th style=\"text-align: right;\">     mae</th><th style=\"text-align: right;\">   rmsle</th></tr>\n",
       "</thead>\n",
       "<tbody>\n",
       "<tr><td>StackedEnsemble_BestOfFamily_AutoML_20200301_005915</td><td style=\"text-align: right;\">        216409          </td><td style=\"text-align: right;\"> 465.198</td><td style=\"text-align: right;\">216409          </td><td style=\"text-align: right;\"> 259.61 </td><td style=\"text-align: right;\">0.131842</td></tr>\n",
       "<tr><td>StackedEnsemble_AllModels_AutoML_20200301_005915   </td><td style=\"text-align: right;\">        216409          </td><td style=\"text-align: right;\"> 465.198</td><td style=\"text-align: right;\">216409          </td><td style=\"text-align: right;\"> 259.61 </td><td style=\"text-align: right;\">0.131842</td></tr>\n",
       "<tr><td>XGBoost_1_AutoML_20200301_005915                   </td><td style=\"text-align: right;\">        222297          </td><td style=\"text-align: right;\"> 471.484</td><td style=\"text-align: right;\">222297          </td><td style=\"text-align: right;\"> 266.465</td><td style=\"text-align: right;\">0.132754</td></tr>\n",
       "<tr><td>DRF_1_AutoML_20200301_005915                       </td><td style=\"text-align: right;\">        401245          </td><td style=\"text-align: right;\"> 633.439</td><td style=\"text-align: right;\">401245          </td><td style=\"text-align: right;\"> 336.482</td><td style=\"text-align: right;\">0.147085</td></tr>\n",
       "<tr><td>XGBoost_2_AutoML_20200301_005915                   </td><td style=\"text-align: right;\">        532777          </td><td style=\"text-align: right;\"> 729.916</td><td style=\"text-align: right;\">532777          </td><td style=\"text-align: right;\"> 437.38 </td><td style=\"text-align: right;\">0.237928</td></tr>\n",
       "<tr><td>XGBoost_3_AutoML_20200301_005915                   </td><td style=\"text-align: right;\">             1.37537e+06</td><td style=\"text-align: right;\">1172.76 </td><td style=\"text-align: right;\">     1.37537e+06</td><td style=\"text-align: right;\"> 631.627</td><td style=\"text-align: right;\">0.262745</td></tr>\n",
       "<tr><td>GLM_1_AutoML_20200301_005915                       </td><td style=\"text-align: right;\">             1.11052e+07</td><td style=\"text-align: right;\">3332.45 </td><td style=\"text-align: right;\">     1.11052e+07</td><td style=\"text-align: right;\">2572.58 </td><td style=\"text-align: right;\">1.05992 </td></tr>\n",
       "</tbody>\n",
       "</table>"
      ]
     },
     "metadata": {},
     "output_type": "display_data"
    },
    {
     "data": {
      "text/plain": []
     },
     "execution_count": 11,
     "metadata": {},
     "output_type": "execute_result"
    }
   ],
   "source": [
    "aml_low.leaderboard"
   ]
  },
  {
   "cell_type": "code",
   "execution_count": 12,
   "metadata": {},
   "outputs": [
    {
     "name": "stdout",
     "output_type": "stream",
     "text": [
      "stackedensemble prediction progress: |████████████████████████████████████| 100%\n"
     ]
    },
    {
     "data": {
      "text/plain": [
       "(12928, 1)"
      ]
     },
     "execution_count": 12,
     "metadata": {},
     "output_type": "execute_result"
    }
   ],
   "source": [
    "pred_low = aml_low.leader.predict(test_low)\n",
    "pred_low.shape"
   ]
  },
  {
   "cell_type": "code",
   "execution_count": 13,
   "metadata": {},
   "outputs": [
    {
     "data": {
      "text/plain": [
       "h2o.frame.H2OFrame"
      ]
     },
     "execution_count": 13,
     "metadata": {},
     "output_type": "execute_result"
    }
   ],
   "source": [
    "pred_low.shape\n",
    "type(pred_low)"
   ]
  },
  {
   "cell_type": "code",
   "execution_count": 14,
   "metadata": {},
   "outputs": [],
   "source": [
    "pred_low = pred_low.as_data_frame()\n",
    "pred_low = pd.merge(train_low['id'].as_data_frame(), pred_low, left_index=True, right_index=True)\n",
    "pred_low = pred_low.rename(columns={'predict':'price'})\n",
    "pred_low[['id','price']].to_csv('../predictions/07-Auto-ML-v4-low-carat.csv', index=False)"
   ]
  },
  {
   "cell_type": "code",
   "execution_count": 15,
   "metadata": {},
   "outputs": [
    {
     "data": {
      "text/html": [
       "<div>\n",
       "<style scoped>\n",
       "    .dataframe tbody tr th:only-of-type {\n",
       "        vertical-align: middle;\n",
       "    }\n",
       "\n",
       "    .dataframe tbody tr th {\n",
       "        vertical-align: top;\n",
       "    }\n",
       "\n",
       "    .dataframe thead th {\n",
       "        text-align: right;\n",
       "    }\n",
       "</style>\n",
       "<table border=\"1\" class=\"dataframe\">\n",
       "  <thead>\n",
       "    <tr style=\"text-align: right;\">\n",
       "      <th></th>\n",
       "      <th>price</th>\n",
       "      <th>id</th>\n",
       "    </tr>\n",
       "  </thead>\n",
       "  <tbody>\n",
       "    <tr>\n",
       "      <th>0</th>\n",
       "      <td>16865.672589</td>\n",
       "      <td>8</td>\n",
       "    </tr>\n",
       "    <tr>\n",
       "      <th>1</th>\n",
       "      <td>16607.202153</td>\n",
       "      <td>34</td>\n",
       "    </tr>\n",
       "    <tr>\n",
       "      <th>2</th>\n",
       "      <td>15866.357655</td>\n",
       "      <td>42</td>\n",
       "    </tr>\n",
       "    <tr>\n",
       "      <th>3</th>\n",
       "      <td>16638.422238</td>\n",
       "      <td>72</td>\n",
       "    </tr>\n",
       "    <tr>\n",
       "      <th>4</th>\n",
       "      <td>15675.030633</td>\n",
       "      <td>82</td>\n",
       "    </tr>\n",
       "    <tr>\n",
       "      <th>...</th>\n",
       "      <td>...</td>\n",
       "      <td>...</td>\n",
       "    </tr>\n",
       "    <tr>\n",
       "      <th>516</th>\n",
       "      <td>14781.687216</td>\n",
       "      <td>12579</td>\n",
       "    </tr>\n",
       "    <tr>\n",
       "      <th>517</th>\n",
       "      <td>13467.245902</td>\n",
       "      <td>12581</td>\n",
       "    </tr>\n",
       "    <tr>\n",
       "      <th>518</th>\n",
       "      <td>14688.626947</td>\n",
       "      <td>12593</td>\n",
       "    </tr>\n",
       "    <tr>\n",
       "      <th>519</th>\n",
       "      <td>13516.743038</td>\n",
       "      <td>12609</td>\n",
       "    </tr>\n",
       "    <tr>\n",
       "      <th>520</th>\n",
       "      <td>14415.165091</td>\n",
       "      <td>12625</td>\n",
       "    </tr>\n",
       "  </tbody>\n",
       "</table>\n",
       "<p>521 rows × 2 columns</p>\n",
       "</div>"
      ],
      "text/plain": [
       "            price     id\n",
       "0    16865.672589      8\n",
       "1    16607.202153     34\n",
       "2    15866.357655     42\n",
       "3    16638.422238     72\n",
       "4    15675.030633     82\n",
       "..            ...    ...\n",
       "516  14781.687216  12579\n",
       "517  13467.245902  12581\n",
       "518  14688.626947  12593\n",
       "519  13516.743038  12609\n",
       "520  14415.165091  12625\n",
       "\n",
       "[521 rows x 2 columns]"
      ]
     },
     "metadata": {},
     "output_type": "display_data"
    },
    {
     "data": {
      "text/html": [
       "<div>\n",
       "<style scoped>\n",
       "    .dataframe tbody tr th:only-of-type {\n",
       "        vertical-align: middle;\n",
       "    }\n",
       "\n",
       "    .dataframe tbody tr th {\n",
       "        vertical-align: top;\n",
       "    }\n",
       "\n",
       "    .dataframe thead th {\n",
       "        text-align: right;\n",
       "    }\n",
       "</style>\n",
       "<table border=\"1\" class=\"dataframe\">\n",
       "  <thead>\n",
       "    <tr style=\"text-align: right;\">\n",
       "      <th></th>\n",
       "      <th>id</th>\n",
       "      <th>price</th>\n",
       "    </tr>\n",
       "  </thead>\n",
       "  <tbody>\n",
       "    <tr>\n",
       "      <th>0</th>\n",
       "      <td>0</td>\n",
       "      <td>4381.571444</td>\n",
       "    </tr>\n",
       "    <tr>\n",
       "      <th>1</th>\n",
       "      <td>1</td>\n",
       "      <td>1149.469952</td>\n",
       "    </tr>\n",
       "    <tr>\n",
       "      <th>2</th>\n",
       "      <td>2</td>\n",
       "      <td>6929.500714</td>\n",
       "    </tr>\n",
       "    <tr>\n",
       "      <th>3</th>\n",
       "      <td>3</td>\n",
       "      <td>1552.995621</td>\n",
       "    </tr>\n",
       "    <tr>\n",
       "      <th>4</th>\n",
       "      <td>4</td>\n",
       "      <td>2183.149034</td>\n",
       "    </tr>\n",
       "    <tr>\n",
       "      <th>...</th>\n",
       "      <td>...</td>\n",
       "      <td>...</td>\n",
       "    </tr>\n",
       "    <tr>\n",
       "      <th>12923</th>\n",
       "      <td>13475</td>\n",
       "      <td>709.136603</td>\n",
       "    </tr>\n",
       "    <tr>\n",
       "      <th>12924</th>\n",
       "      <td>13477</td>\n",
       "      <td>2483.153581</td>\n",
       "    </tr>\n",
       "    <tr>\n",
       "      <th>12925</th>\n",
       "      <td>13478</td>\n",
       "      <td>558.059120</td>\n",
       "    </tr>\n",
       "    <tr>\n",
       "      <th>12926</th>\n",
       "      <td>13479</td>\n",
       "      <td>826.804274</td>\n",
       "    </tr>\n",
       "    <tr>\n",
       "      <th>12927</th>\n",
       "      <td>13480</td>\n",
       "      <td>1982.157609</td>\n",
       "    </tr>\n",
       "  </tbody>\n",
       "</table>\n",
       "<p>12928 rows × 2 columns</p>\n",
       "</div>"
      ],
      "text/plain": [
       "          id        price\n",
       "0          0  4381.571444\n",
       "1          1  1149.469952\n",
       "2          2  6929.500714\n",
       "3          3  1552.995621\n",
       "4          4  2183.149034\n",
       "...      ...          ...\n",
       "12923  13475   709.136603\n",
       "12924  13477  2483.153581\n",
       "12925  13478   558.059120\n",
       "12926  13479   826.804274\n",
       "12927  13480  1982.157609\n",
       "\n",
       "[12928 rows x 2 columns]"
      ]
     },
     "metadata": {},
     "output_type": "display_data"
    },
    {
     "data": {
      "text/html": [
       "<div>\n",
       "<style scoped>\n",
       "    .dataframe tbody tr th:only-of-type {\n",
       "        vertical-align: middle;\n",
       "    }\n",
       "\n",
       "    .dataframe tbody tr th {\n",
       "        vertical-align: top;\n",
       "    }\n",
       "\n",
       "    .dataframe thead th {\n",
       "        text-align: right;\n",
       "    }\n",
       "</style>\n",
       "<table border=\"1\" class=\"dataframe\">\n",
       "  <thead>\n",
       "    <tr style=\"text-align: right;\">\n",
       "      <th></th>\n",
       "      <th>id</th>\n",
       "      <th>price</th>\n",
       "    </tr>\n",
       "  </thead>\n",
       "  <tbody>\n",
       "    <tr>\n",
       "      <th>0</th>\n",
       "      <td>0</td>\n",
       "      <td>4381.571444</td>\n",
       "    </tr>\n",
       "    <tr>\n",
       "      <th>1</th>\n",
       "      <td>1</td>\n",
       "      <td>1149.469952</td>\n",
       "    </tr>\n",
       "    <tr>\n",
       "      <th>2</th>\n",
       "      <td>2</td>\n",
       "      <td>6929.500714</td>\n",
       "    </tr>\n",
       "    <tr>\n",
       "      <th>3</th>\n",
       "      <td>3</td>\n",
       "      <td>1552.995621</td>\n",
       "    </tr>\n",
       "    <tr>\n",
       "      <th>4</th>\n",
       "      <td>4</td>\n",
       "      <td>2183.149034</td>\n",
       "    </tr>\n",
       "    <tr>\n",
       "      <th>5</th>\n",
       "      <td>5</td>\n",
       "      <td>1982.491933</td>\n",
       "    </tr>\n",
       "    <tr>\n",
       "      <th>6</th>\n",
       "      <td>6</td>\n",
       "      <td>1873.289710</td>\n",
       "    </tr>\n",
       "    <tr>\n",
       "      <th>7</th>\n",
       "      <td>7</td>\n",
       "      <td>3448.970372</td>\n",
       "    </tr>\n",
       "    <tr>\n",
       "      <th>8</th>\n",
       "      <td>9</td>\n",
       "      <td>14542.539019</td>\n",
       "    </tr>\n",
       "    <tr>\n",
       "      <th>9</th>\n",
       "      <td>10</td>\n",
       "      <td>3566.534343</td>\n",
       "    </tr>\n",
       "  </tbody>\n",
       "</table>\n",
       "</div>"
      ],
      "text/plain": [
       "   id         price\n",
       "0   0   4381.571444\n",
       "1   1   1149.469952\n",
       "2   2   6929.500714\n",
       "3   3   1552.995621\n",
       "4   4   2183.149034\n",
       "5   5   1982.491933\n",
       "6   6   1873.289710\n",
       "7   7   3448.970372\n",
       "8   9  14542.539019\n",
       "9  10   3566.534343"
      ]
     },
     "execution_count": 15,
     "metadata": {},
     "output_type": "execute_result"
    }
   ],
   "source": [
    "display(pred_df, pred_low)\n",
    "pred_low[:10]"
   ]
  },
  {
   "cell_type": "code",
   "execution_count": 16,
   "metadata": {},
   "outputs": [
    {
     "data": {
      "text/html": [
       "<div>\n",
       "<style scoped>\n",
       "    .dataframe tbody tr th:only-of-type {\n",
       "        vertical-align: middle;\n",
       "    }\n",
       "\n",
       "    .dataframe tbody tr th {\n",
       "        vertical-align: top;\n",
       "    }\n",
       "\n",
       "    .dataframe thead th {\n",
       "        text-align: right;\n",
       "    }\n",
       "</style>\n",
       "<table border=\"1\" class=\"dataframe\">\n",
       "  <thead>\n",
       "    <tr style=\"text-align: right;\">\n",
       "      <th></th>\n",
       "      <th>price</th>\n",
       "      <th>id</th>\n",
       "    </tr>\n",
       "  </thead>\n",
       "  <tbody>\n",
       "    <tr>\n",
       "      <th>0</th>\n",
       "      <td>16865.672589</td>\n",
       "      <td>8</td>\n",
       "    </tr>\n",
       "    <tr>\n",
       "      <th>1</th>\n",
       "      <td>16607.202153</td>\n",
       "      <td>34</td>\n",
       "    </tr>\n",
       "    <tr>\n",
       "      <th>2</th>\n",
       "      <td>15866.357655</td>\n",
       "      <td>42</td>\n",
       "    </tr>\n",
       "    <tr>\n",
       "      <th>3</th>\n",
       "      <td>16638.422238</td>\n",
       "      <td>72</td>\n",
       "    </tr>\n",
       "    <tr>\n",
       "      <th>4</th>\n",
       "      <td>15675.030633</td>\n",
       "      <td>82</td>\n",
       "    </tr>\n",
       "  </tbody>\n",
       "</table>\n",
       "</div>"
      ],
      "text/plain": [
       "          price  id\n",
       "0  16865.672589   8\n",
       "1  16607.202153  34\n",
       "2  15866.357655  42\n",
       "3  16638.422238  72\n",
       "4  15675.030633  82"
      ]
     },
     "execution_count": 16,
     "metadata": {},
     "output_type": "execute_result"
    }
   ],
   "source": [
    "test_pred = pd.concat([pred_df, pred_low],ignore_index=True)\n",
    "test_pred.head()"
   ]
  },
  {
   "cell_type": "code",
   "execution_count": 17,
   "metadata": {},
   "outputs": [],
   "source": [
    "test_pred2 = pd.concat([test_pred.id, test_pred.price], axis=1)"
   ]
  },
  {
   "cell_type": "code",
   "execution_count": 18,
   "metadata": {},
   "outputs": [],
   "source": [
    "#test_pred.to_csv('../predictions/8-Auto-ML-Split-data-v1.csv', index=False)"
   ]
  },
  {
   "cell_type": "code",
   "execution_count": 19,
   "metadata": {},
   "outputs": [],
   "source": [
    "test_pred2 = test_pred2.sort_values(by='id')\n",
    "test_pred['id'] = test_pred2.id.map(str)"
   ]
  },
  {
   "cell_type": "code",
   "execution_count": 20,
   "metadata": {},
   "outputs": [],
   "source": [
    "test_pred2.to_csv('../predictions/8-Auto-ML-Split-data-v1.csv', index=False)"
   ]
  },
  {
   "cell_type": "code",
   "execution_count": 21,
   "metadata": {},
   "outputs": [
    {
     "data": {
      "text/html": [
       "<div>\n",
       "<style scoped>\n",
       "    .dataframe tbody tr th:only-of-type {\n",
       "        vertical-align: middle;\n",
       "    }\n",
       "\n",
       "    .dataframe tbody tr th {\n",
       "        vertical-align: top;\n",
       "    }\n",
       "\n",
       "    .dataframe thead th {\n",
       "        text-align: right;\n",
       "    }\n",
       "</style>\n",
       "<table border=\"1\" class=\"dataframe\">\n",
       "  <thead>\n",
       "    <tr style=\"text-align: right;\">\n",
       "      <th></th>\n",
       "      <th>id</th>\n",
       "      <th>price</th>\n",
       "    </tr>\n",
       "  </thead>\n",
       "  <tbody>\n",
       "    <tr>\n",
       "      <th>521</th>\n",
       "      <td>0</td>\n",
       "      <td>4381.571444</td>\n",
       "    </tr>\n",
       "    <tr>\n",
       "      <th>522</th>\n",
       "      <td>1</td>\n",
       "      <td>1149.469952</td>\n",
       "    </tr>\n",
       "    <tr>\n",
       "      <th>523</th>\n",
       "      <td>2</td>\n",
       "      <td>6929.500714</td>\n",
       "    </tr>\n",
       "    <tr>\n",
       "      <th>524</th>\n",
       "      <td>3</td>\n",
       "      <td>1552.995621</td>\n",
       "    </tr>\n",
       "    <tr>\n",
       "      <th>525</th>\n",
       "      <td>4</td>\n",
       "      <td>2183.149034</td>\n",
       "    </tr>\n",
       "    <tr>\n",
       "      <th>526</th>\n",
       "      <td>5</td>\n",
       "      <td>1982.491933</td>\n",
       "    </tr>\n",
       "    <tr>\n",
       "      <th>527</th>\n",
       "      <td>6</td>\n",
       "      <td>1873.289710</td>\n",
       "    </tr>\n",
       "    <tr>\n",
       "      <th>528</th>\n",
       "      <td>7</td>\n",
       "      <td>3448.970372</td>\n",
       "    </tr>\n",
       "    <tr>\n",
       "      <th>0</th>\n",
       "      <td>8</td>\n",
       "      <td>16865.672589</td>\n",
       "    </tr>\n",
       "    <tr>\n",
       "      <th>529</th>\n",
       "      <td>9</td>\n",
       "      <td>14542.539019</td>\n",
       "    </tr>\n",
       "  </tbody>\n",
       "</table>\n",
       "</div>"
      ],
      "text/plain": [
       "     id         price\n",
       "521   0   4381.571444\n",
       "522   1   1149.469952\n",
       "523   2   6929.500714\n",
       "524   3   1552.995621\n",
       "525   4   2183.149034\n",
       "526   5   1982.491933\n",
       "527   6   1873.289710\n",
       "528   7   3448.970372\n",
       "0     8  16865.672589\n",
       "529   9  14542.539019"
      ]
     },
     "execution_count": 21,
     "metadata": {},
     "output_type": "execute_result"
    }
   ],
   "source": [
    "test_pred2[:10]"
   ]
  },
  {
   "cell_type": "code",
   "execution_count": null,
   "metadata": {},
   "outputs": [],
   "source": []
  }
 ],
 "metadata": {
  "kernelspec": {
   "display_name": "Python 3.7.6 64-bit",
   "language": "python",
   "name": "python37664bitc736265aa96942798be544ff59087e30"
  },
  "language_info": {
   "codemirror_mode": {
    "name": "ipython",
    "version": 3
   },
   "file_extension": ".py",
   "mimetype": "text/x-python",
   "name": "python",
   "nbconvert_exporter": "python",
   "pygments_lexer": "ipython3",
   "version": "3.7.6"
  }
 },
 "nbformat": 4,
 "nbformat_minor": 4
}
