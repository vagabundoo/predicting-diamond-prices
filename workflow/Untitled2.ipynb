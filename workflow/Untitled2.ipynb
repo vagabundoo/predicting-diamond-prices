{
 "cells": [
  {
   "cell_type": "code",
   "execution_count": 1,
   "metadata": {},
   "outputs": [
    {
     "name": "stdout",
     "output_type": "stream",
     "text": [
      "Checking whether there is an H2O instance running at http://localhost:54321 . connected.\n"
     ]
    },
    {
     "data": {
      "text/html": [
       "<div style=\"overflow:auto\"><table style=\"width:50%\"><tr><td>H2O cluster uptime:</td>\n",
       "<td>14 mins 47 secs</td></tr>\n",
       "<tr><td>H2O cluster timezone:</td>\n",
       "<td>Europe/Paris</td></tr>\n",
       "<tr><td>H2O data parsing timezone:</td>\n",
       "<td>UTC</td></tr>\n",
       "<tr><td>H2O cluster version:</td>\n",
       "<td>3.28.0.3</td></tr>\n",
       "<tr><td>H2O cluster version age:</td>\n",
       "<td>24 days </td></tr>\n",
       "<tr><td>H2O cluster name:</td>\n",
       "<td>H2O_from_python_edu_l1ai0q</td></tr>\n",
       "<tr><td>H2O cluster total nodes:</td>\n",
       "<td>1</td></tr>\n",
       "<tr><td>H2O cluster free memory:</td>\n",
       "<td>1.876 Gb</td></tr>\n",
       "<tr><td>H2O cluster total cores:</td>\n",
       "<td>8</td></tr>\n",
       "<tr><td>H2O cluster allowed cores:</td>\n",
       "<td>8</td></tr>\n",
       "<tr><td>H2O cluster status:</td>\n",
       "<td>locked, healthy</td></tr>\n",
       "<tr><td>H2O connection url:</td>\n",
       "<td>http://localhost:54321</td></tr>\n",
       "<tr><td>H2O connection proxy:</td>\n",
       "<td>{'http': None, 'https': None}</td></tr>\n",
       "<tr><td>H2O internal security:</td>\n",
       "<td>False</td></tr>\n",
       "<tr><td>H2O API Extensions:</td>\n",
       "<td>Amazon S3, XGBoost, Algos, AutoML, Core V3, TargetEncoder, Core V4</td></tr>\n",
       "<tr><td>Python version:</td>\n",
       "<td>3.7.6 final</td></tr></table></div>"
      ],
      "text/plain": [
       "--------------------------  ------------------------------------------------------------------\n",
       "H2O cluster uptime:         14 mins 47 secs\n",
       "H2O cluster timezone:       Europe/Paris\n",
       "H2O data parsing timezone:  UTC\n",
       "H2O cluster version:        3.28.0.3\n",
       "H2O cluster version age:    24 days\n",
       "H2O cluster name:           H2O_from_python_edu_l1ai0q\n",
       "H2O cluster total nodes:    1\n",
       "H2O cluster free memory:    1.876 Gb\n",
       "H2O cluster total cores:    8\n",
       "H2O cluster allowed cores:  8\n",
       "H2O cluster status:         locked, healthy\n",
       "H2O connection url:         http://localhost:54321\n",
       "H2O connection proxy:       {'http': None, 'https': None}\n",
       "H2O internal security:      False\n",
       "H2O API Extensions:         Amazon S3, XGBoost, Algos, AutoML, Core V3, TargetEncoder, Core V4\n",
       "Python version:             3.7.6 final\n",
       "--------------------------  ------------------------------------------------------------------"
      ]
     },
     "metadata": {},
     "output_type": "display_data"
    }
   ],
   "source": [
    "import pandas as pd\n",
    "import numpy as np\n",
    "import seaborn as sns\n",
    "import matplotlib.pyplot as plt\n",
    "import h2o\n",
    "from h2o.automl import H2OAutoML\n",
    "h2o.init()"
   ]
  },
  {
   "cell_type": "code",
   "execution_count": 2,
   "metadata": {},
   "outputs": [
    {
     "name": "stdout",
     "output_type": "stream",
     "text": [
      "Parse progress: |█████████████████████████████████████████████████████████| 100%\n",
      "Parse progress: |█████████████████████████████████████████████████████████| 100%\n",
      "Parse progress: |█████████████████████████████████████████████████████████| 100%\n",
      "Parse progress: |█████████████████████████████████████████████████████████| 100%\n"
     ]
    }
   ],
   "source": [
    "train_high = h2o.import_file('../cleaned-data/03-train_high.csv')\n",
    "train_low = h2o.import_file('../cleaned-data/03-train_low.csv')\n",
    "test_high = h2o.import_file('../cleaned-data/03-test_high.csv')\n",
    "test_low = h2o.import_file('../cleaned-data/03-test_low.csv')      "
   ]
  },
  {
   "cell_type": "code",
   "execution_count": 10,
   "metadata": {},
   "outputs": [
    {
     "name": "stdout",
     "output_type": "stream",
     "text": [
      "(1615, 8)\n",
      "(38730, 8)\n",
      "(521, 7)\n",
      "(12928, 7)\n"
     ]
    },
    {
     "data": {
      "text/plain": [
       "[None, None, None, None]"
      ]
     },
     "execution_count": 10,
     "metadata": {},
     "output_type": "execute_result"
    }
   ],
   "source": [
    "list(map(lambda x: print(x.shape),[train_high, train_low, test_high, test_low]))"
   ]
  },
  {
   "cell_type": "code",
   "execution_count": 3,
   "metadata": {},
   "outputs": [
    {
     "data": {
      "text/plain": [
       "['carat', 'cut', 'color', 'clarity', 'depth', 'table']"
      ]
     },
     "execution_count": 3,
     "metadata": {},
     "output_type": "execute_result"
    }
   ],
   "source": [
    "xTrainCols = train_high.col_names[1:-1]\n",
    "xTrainCols"
   ]
  },
  {
   "cell_type": "code",
   "execution_count": 11,
   "metadata": {},
   "outputs": [
    {
     "name": "stdout",
     "output_type": "stream",
     "text": [
      "AutoML progress: |\n",
      "11:24:10.895: New models will be added to existing leaderboard diamonds_high@@price (leaderboard frame=null) with already 4 models.\n",
      "11:24:21.918: StackedEnsemble_AllModels_AutoML_20200301_112410 [StackedEnsemble all (built using all AutoML models)] failed: water.exceptions.H2OIllegalArgumentException: Failed to find the xval predictions frame. . .  Looks like keep_cross_validation_predictions wasn't set when building the models, or the frame was deleted.\n",
      "11:30:06.528: New models will be added to existing leaderboard diamonds_high@@price (leaderboard frame=null) with already 7 models.\n",
      "\n",
      "████████████████████████████████████████████████████████| 100%\n",
      "\n",
      "11:30:17.542: StackedEnsemble_AllModels_AutoML_20200301_113006 [StackedEnsemble all (built using all AutoML models)] failed: water.exceptions.H2OIllegalArgumentException: Failed to find the xval predictions frame. . .  Looks like keep_cross_validation_predictions wasn't set when building the models, or the frame was deleted.\n",
      "\n",
      "xgboost prediction progress: |████████████████████████████████████████████| 100%\n"
     ]
    },
    {
     "data": {
      "text/html": [
       "<table>\n",
       "<thead>\n",
       "<tr><th style=\"text-align: right;\">  predict</th></tr>\n",
       "</thead>\n",
       "<tbody>\n",
       "<tr><td style=\"text-align: right;\">  16609.7</td></tr>\n",
       "<tr><td style=\"text-align: right;\">  16633.7</td></tr>\n",
       "<tr><td style=\"text-align: right;\">  15779.9</td></tr>\n",
       "<tr><td style=\"text-align: right;\">  17180.2</td></tr>\n",
       "<tr><td style=\"text-align: right;\">  15962.5</td></tr>\n",
       "<tr><td style=\"text-align: right;\">  13727.6</td></tr>\n",
       "<tr><td style=\"text-align: right;\">  17050.4</td></tr>\n",
       "<tr><td style=\"text-align: right;\">  16109.1</td></tr>\n",
       "<tr><td style=\"text-align: right;\">  14724.2</td></tr>\n",
       "<tr><td style=\"text-align: right;\">  15534.1</td></tr>\n",
       "</tbody>\n",
       "</table>"
      ]
     },
     "metadata": {},
     "output_type": "display_data"
    },
    {
     "data": {
      "text/plain": []
     },
     "metadata": {},
     "output_type": "display_data"
    }
   ],
   "source": [
    "train_frame = train_high\n",
    "model_name = 'diamonds_high'\n",
    "\n",
    "aml_high = H2OAutoML(max_runtime_secs = 10, project_name = f'{model_name}', keep_cross_validation_models=True)\n",
    "aml_high.train(x=xTrainCols, y = 'price', training_frame = train_frame)\n",
    "pred_high = aml_high.leader.predict(test_high)\n",
    "display(pred_high)\n",
    "display(aml_high.leaderboard)"
   ]
  },
  {
   "cell_type": "code",
   "execution_count": 14,
   "metadata": {},
   "outputs": [],
   "source": [
    "tableHighPreds = test_high['id'].cbind(pred_high)\n",
    "tableHighPreds = tableHighPreds.rename(columns={'predict':'price'})"
   ]
  },
  {
   "cell_type": "code",
   "execution_count": 18,
   "metadata": {},
   "outputs": [
    {
     "name": "stdout",
     "output_type": "stream",
     "text": [
      "AutoML progress: |\n",
      "11:33:24.214: New models will be added to existing leaderboard diamonds_low@@price (leaderboard frame=null) with already 3 models.\n",
      "\n",
      "████████████████████████████████████████████████████████| 100%\n",
      "\n",
      "11:33:36.232: StackedEnsemble_AllModels_AutoML_20200301_113324 [StackedEnsemble all (built using all AutoML models)] failed: water.exceptions.H2OIllegalArgumentException: Failed to find the xval predictions frame. . .  Looks like keep_cross_validation_predictions wasn't set when building the models, or the frame was deleted.\n",
      "\n",
      "stackedensemble prediction progress: |████████████████████████████████████| 100%\n"
     ]
    },
    {
     "data": {
      "text/html": [
       "<table>\n",
       "<thead>\n",
       "<tr><th style=\"text-align: right;\">  predict</th></tr>\n",
       "</thead>\n",
       "<tbody>\n",
       "<tr><td style=\"text-align: right;\">  4833.32</td></tr>\n",
       "<tr><td style=\"text-align: right;\">  1822.31</td></tr>\n",
       "<tr><td style=\"text-align: right;\">  6899.89</td></tr>\n",
       "<tr><td style=\"text-align: right;\">  1950.01</td></tr>\n",
       "<tr><td style=\"text-align: right;\">  2780.32</td></tr>\n",
       "<tr><td style=\"text-align: right;\">  1809.71</td></tr>\n",
       "<tr><td style=\"text-align: right;\">  1425.89</td></tr>\n",
       "<tr><td style=\"text-align: right;\">  3690.79</td></tr>\n",
       "<tr><td style=\"text-align: right;\">  9856.66</td></tr>\n",
       "<tr><td style=\"text-align: right;\">  2982.32</td></tr>\n",
       "</tbody>\n",
       "</table>"
      ]
     },
     "metadata": {},
     "output_type": "display_data"
    },
    {
     "data": {
      "text/plain": []
     },
     "metadata": {},
     "output_type": "display_data"
    },
    {
     "data": {
      "text/html": [
       "<table>\n",
       "<thead>\n",
       "<tr><th>model_id                                        </th><th style=\"text-align: right;\">  mean_residual_deviance</th><th style=\"text-align: right;\">    rmse</th><th style=\"text-align: right;\">             mse</th><th style=\"text-align: right;\">     mae</th><th style=\"text-align: right;\">     rmsle</th></tr>\n",
       "</thead>\n",
       "<tbody>\n",
       "<tr><td>StackedEnsemble_AllModels_AutoML_20200301_113230</td><td style=\"text-align: right;\">        514411          </td><td style=\"text-align: right;\"> 717.224</td><td style=\"text-align: right;\">514411          </td><td style=\"text-align: right;\"> 438.472</td><td style=\"text-align: right;\">nan       </td></tr>\n",
       "<tr><td>XGBoost_1_AutoML_20200301_113230                </td><td style=\"text-align: right;\">             2.29288e+06</td><td style=\"text-align: right;\">1514.23 </td><td style=\"text-align: right;\">     2.29288e+06</td><td style=\"text-align: right;\"> 879.278</td><td style=\"text-align: right;\">  0.297593</td></tr>\n",
       "<tr><td>XGBoost_1_AutoML_20200301_113324                </td><td style=\"text-align: right;\">             2.4297e+06 </td><td style=\"text-align: right;\">1558.75 </td><td style=\"text-align: right;\">     2.4297e+06 </td><td style=\"text-align: right;\"> 901.379</td><td style=\"text-align: right;\">  0.331942</td></tr>\n",
       "<tr><td>XGBoost_2_AutoML_20200301_113230                </td><td style=\"text-align: right;\">             1.4155e+07 </td><td style=\"text-align: right;\">3762.31 </td><td style=\"text-align: right;\">     1.4155e+07 </td><td style=\"text-align: right;\">2502.22 </td><td style=\"text-align: right;\">  1.10923 </td></tr>\n",
       "<tr><td>XGBoost_2_AutoML_20200301_113324                </td><td style=\"text-align: right;\">             1.57117e+07</td><td style=\"text-align: right;\">3963.8  </td><td style=\"text-align: right;\">     1.57117e+07</td><td style=\"text-align: right;\">2601.98 </td><td style=\"text-align: right;\">  1.19613 </td></tr>\n",
       "</tbody>\n",
       "</table>"
      ]
     },
     "metadata": {},
     "output_type": "display_data"
    },
    {
     "data": {
      "text/plain": []
     },
     "metadata": {},
     "output_type": "display_data"
    }
   ],
   "source": [
    "train_frame = train_low\n",
    "model_name = 'diamonds_low'\n",
    "\n",
    "aml_low = H2OAutoML(max_runtime_secs = 10, project_name = f'{model_name}', keep_cross_validation_models=True)\n",
    "aml_low.train(x=xTrainCols, y = 'price', training_frame = train_frame)\n",
    "pred_low = aml_low.leader.predict(test_low)\n",
    "display(pred_low)\n",
    "display(aml_low.leaderboard)"
   ]
  },
  {
   "cell_type": "code",
   "execution_count": 19,
   "metadata": {},
   "outputs": [],
   "source": [
    "tableLowPreds = test_low['id'].cbind(pred_low)\n",
    "tableLowPreds = tableLowPreds.rename(columns={'predict':'price'})"
   ]
  },
  {
   "cell_type": "code",
   "execution_count": 23,
   "metadata": {},
   "outputs": [
    {
     "data": {
      "text/plain": [
       "(13449, 2)"
      ]
     },
     "execution_count": 23,
     "metadata": {},
     "output_type": "execute_result"
    }
   ],
   "source": [
    "combinedTable = tableLowPreds.concat(tableHighPreds, axis=0)\n",
    "combinedTable.shape"
   ]
  },
  {
   "cell_type": "code",
   "execution_count": 32,
   "metadata": {},
   "outputs": [
    {
     "name": "stdout",
     "output_type": "stream",
     "text": [
      "Export File progress: |███████████████████████████████████████████████████| 100%\n"
     ]
    }
   ],
   "source": [
    "h2o.export_file(frame=combinedTable,path='../predictions/9-Auto-ML-Split-data-v2.csv')"
   ]
  },
  {
   "cell_type": "code",
   "execution_count": null,
   "metadata": {},
   "outputs": [],
   "source": []
  }
 ],
 "metadata": {
  "kernelspec": {
   "display_name": "Python 3.7.6 64-bit",
   "language": "python",
   "name": "python37664bitc736265aa96942798be544ff59087e30"
  },
  "language_info": {
   "codemirror_mode": {
    "name": "ipython",
    "version": 3
   },
   "file_extension": ".py",
   "mimetype": "text/x-python",
   "name": "python",
   "nbconvert_exporter": "python",
   "pygments_lexer": "ipython3",
   "version": "3.7.6"
  }
 },
 "nbformat": 4,
 "nbformat_minor": 4
}
