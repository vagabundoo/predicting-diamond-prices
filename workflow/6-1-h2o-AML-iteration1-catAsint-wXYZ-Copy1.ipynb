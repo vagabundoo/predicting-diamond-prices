{
 "cells": [
  {
   "cell_type": "code",
   "execution_count": 2,
   "metadata": {},
   "outputs": [
    {
     "name": "stdout",
     "output_type": "stream",
     "text": [
      "Checking whether there is an H2O instance running at http://localhost:54321 . connected.\n"
     ]
    },
    {
     "data": {
      "text/html": [
       "<div style=\"overflow:auto\"><table style=\"width:50%\"><tr><td>H2O cluster uptime:</td>\n",
       "<td>1 hour 14 mins</td></tr>\n",
       "<tr><td>H2O cluster timezone:</td>\n",
       "<td>Europe/Paris</td></tr>\n",
       "<tr><td>H2O data parsing timezone:</td>\n",
       "<td>UTC</td></tr>\n",
       "<tr><td>H2O cluster version:</td>\n",
       "<td>3.28.0.3</td></tr>\n",
       "<tr><td>H2O cluster version age:</td>\n",
       "<td>24 days </td></tr>\n",
       "<tr><td>H2O cluster name:</td>\n",
       "<td>H2O_from_python_edu_l1ai0q</td></tr>\n",
       "<tr><td>H2O cluster total nodes:</td>\n",
       "<td>1</td></tr>\n",
       "<tr><td>H2O cluster free memory:</td>\n",
       "<td>555 Mb</td></tr>\n",
       "<tr><td>H2O cluster total cores:</td>\n",
       "<td>8</td></tr>\n",
       "<tr><td>H2O cluster allowed cores:</td>\n",
       "<td>8</td></tr>\n",
       "<tr><td>H2O cluster status:</td>\n",
       "<td>locked, healthy</td></tr>\n",
       "<tr><td>H2O connection url:</td>\n",
       "<td>http://localhost:54321</td></tr>\n",
       "<tr><td>H2O connection proxy:</td>\n",
       "<td>{'http': None, 'https': None}</td></tr>\n",
       "<tr><td>H2O internal security:</td>\n",
       "<td>False</td></tr>\n",
       "<tr><td>H2O API Extensions:</td>\n",
       "<td>Amazon S3, XGBoost, Algos, AutoML, Core V3, TargetEncoder, Core V4</td></tr>\n",
       "<tr><td>Python version:</td>\n",
       "<td>3.7.6 final</td></tr></table></div>"
      ],
      "text/plain": [
       "--------------------------  ------------------------------------------------------------------\n",
       "H2O cluster uptime:         1 hour 14 mins\n",
       "H2O cluster timezone:       Europe/Paris\n",
       "H2O data parsing timezone:  UTC\n",
       "H2O cluster version:        3.28.0.3\n",
       "H2O cluster version age:    24 days\n",
       "H2O cluster name:           H2O_from_python_edu_l1ai0q\n",
       "H2O cluster total nodes:    1\n",
       "H2O cluster free memory:    555 Mb\n",
       "H2O cluster total cores:    8\n",
       "H2O cluster allowed cores:  8\n",
       "H2O cluster status:         locked, healthy\n",
       "H2O connection url:         http://localhost:54321\n",
       "H2O connection proxy:       {'http': None, 'https': None}\n",
       "H2O internal security:      False\n",
       "H2O API Extensions:         Amazon S3, XGBoost, Algos, AutoML, Core V3, TargetEncoder, Core V4\n",
       "Python version:             3.7.6 final\n",
       "--------------------------  ------------------------------------------------------------------"
      ]
     },
     "metadata": {},
     "output_type": "display_data"
    }
   ],
   "source": [
    "import pandas as pd\n",
    "import numpy as np\n",
    "import seaborn as sns\n",
    "import matplotlib.pyplot as plt\n",
    "import h2o\n",
    "from h2o.automl import H2OAutoML\n",
    "h2o.init()"
   ]
  },
  {
   "cell_type": "code",
   "execution_count": 4,
   "metadata": {},
   "outputs": [
    {
     "name": "stdout",
     "output_type": "stream",
     "text": [
      "Parse progress: |█████████████████████████████████████████████████████████| 100%\n",
      "Parse progress: |█████████████████████████████████████████████████████████| 100%\n",
      "Parse progress: |█████████████████████████████████████████████████████████| 100%\n",
      "Parse progress: |█████████████████████████████████████████████████████████| 100%\n"
     ]
    },
    {
     "data": {
      "text/html": [
       "<table>\n",
       "<thead>\n",
       "<tr><th style=\"text-align: right;\">  id</th><th style=\"text-align: right;\">  carat</th><th style=\"text-align: right;\">  cut</th><th style=\"text-align: right;\">  color</th><th style=\"text-align: right;\">  clarity</th><th style=\"text-align: right;\">  depth</th><th style=\"text-align: right;\">  table</th><th style=\"text-align: right;\">   x</th><th style=\"text-align: right;\">   y</th><th style=\"text-align: right;\">   z</th><th style=\"text-align: right;\">  price</th></tr>\n",
       "</thead>\n",
       "<tbody>\n",
       "<tr><td style=\"text-align: right;\">   8</td><td style=\"text-align: right;\">   2.05</td><td style=\"text-align: right;\">    4</td><td style=\"text-align: right;\">      6</td><td style=\"text-align: right;\">        1</td><td style=\"text-align: right;\">   62.4</td><td style=\"text-align: right;\">     57</td><td style=\"text-align: right;\">8.17</td><td style=\"text-align: right;\">8.09</td><td style=\"text-align: right;\">5.08</td><td style=\"text-align: right;\">  18193</td></tr>\n",
       "<tr><td style=\"text-align: right;\">  34</td><td style=\"text-align: right;\">   2.01</td><td style=\"text-align: right;\">    0</td><td style=\"text-align: right;\">      1</td><td style=\"text-align: right;\">        4</td><td style=\"text-align: right;\">   64.9</td><td style=\"text-align: right;\">     60</td><td style=\"text-align: right;\">7.82</td><td style=\"text-align: right;\">7.78</td><td style=\"text-align: right;\">5.06</td><td style=\"text-align: right;\">  13744</td></tr>\n",
       "<tr><td style=\"text-align: right;\">  42</td><td style=\"text-align: right;\">   2   </td><td style=\"text-align: right;\">    1</td><td style=\"text-align: right;\">      2</td><td style=\"text-align: right;\">        3</td><td style=\"text-align: right;\">   64.2</td><td style=\"text-align: right;\">     52</td><td style=\"text-align: right;\">7.91</td><td style=\"text-align: right;\">7.88</td><td style=\"text-align: right;\">5.07</td><td style=\"text-align: right;\">  11400</td></tr>\n",
       "<tr><td style=\"text-align: right;\">  72</td><td style=\"text-align: right;\">   2   </td><td style=\"text-align: right;\">    1</td><td style=\"text-align: right;\">      7</td><td style=\"text-align: right;\">        3</td><td style=\"text-align: right;\">   60.3</td><td style=\"text-align: right;\">     56</td><td style=\"text-align: right;\">8.08</td><td style=\"text-align: right;\">8.11</td><td style=\"text-align: right;\">4.88</td><td style=\"text-align: right;\">  16425</td></tr>\n",
       "<tr><td style=\"text-align: right;\">  82</td><td style=\"text-align: right;\">   2.28</td><td style=\"text-align: right;\">    4</td><td style=\"text-align: right;\">      1</td><td style=\"text-align: right;\">        4</td><td style=\"text-align: right;\">   62.7</td><td style=\"text-align: right;\">     57</td><td style=\"text-align: right;\">8.43</td><td style=\"text-align: right;\">8.36</td><td style=\"text-align: right;\">5.26</td><td style=\"text-align: right;\">  16450</td></tr>\n",
       "<tr><td style=\"text-align: right;\">  93</td><td style=\"text-align: right;\">   2.02</td><td style=\"text-align: right;\">    2</td><td style=\"text-align: right;\">      2</td><td style=\"text-align: right;\">        1</td><td style=\"text-align: right;\">   60.4</td><td style=\"text-align: right;\">     58</td><td style=\"text-align: right;\">8.2 </td><td style=\"text-align: right;\">8.16</td><td style=\"text-align: right;\">4.94</td><td style=\"text-align: right;\">  17357</td></tr>\n",
       "<tr><td style=\"text-align: right;\"> 141</td><td style=\"text-align: right;\">   2   </td><td style=\"text-align: right;\">    3</td><td style=\"text-align: right;\">      3</td><td style=\"text-align: right;\">        3</td><td style=\"text-align: right;\">   60.7</td><td style=\"text-align: right;\">     60</td><td style=\"text-align: right;\">8.07</td><td style=\"text-align: right;\">8.11</td><td style=\"text-align: right;\">4.91</td><td style=\"text-align: right;\">  15312</td></tr>\n",
       "<tr><td style=\"text-align: right;\"> 154</td><td style=\"text-align: right;\">   2.01</td><td style=\"text-align: right;\">    3</td><td style=\"text-align: right;\">      2</td><td style=\"text-align: right;\">        0</td><td style=\"text-align: right;\">   61.5</td><td style=\"text-align: right;\">     62</td><td style=\"text-align: right;\">8.07</td><td style=\"text-align: right;\">7.94</td><td style=\"text-align: right;\">4.92</td><td style=\"text-align: right;\">  15475</td></tr>\n",
       "<tr><td style=\"text-align: right;\"> 165</td><td style=\"text-align: right;\">   2.31</td><td style=\"text-align: right;\">    3</td><td style=\"text-align: right;\">      2</td><td style=\"text-align: right;\">        3</td><td style=\"text-align: right;\">   62.9</td><td style=\"text-align: right;\">     58</td><td style=\"text-align: right;\">8.43</td><td style=\"text-align: right;\">8.34</td><td style=\"text-align: right;\">5.27</td><td style=\"text-align: right;\">  17218</td></tr>\n",
       "<tr><td style=\"text-align: right;\"> 167</td><td style=\"text-align: right;\">   2.01</td><td style=\"text-align: right;\">    4</td><td style=\"text-align: right;\">      3</td><td style=\"text-align: right;\">        1</td><td style=\"text-align: right;\">   60.6</td><td style=\"text-align: right;\">     57</td><td style=\"text-align: right;\">8.19</td><td style=\"text-align: right;\">8.09</td><td style=\"text-align: right;\">4.92</td><td style=\"text-align: right;\">  17383</td></tr>\n",
       "</tbody>\n",
       "</table>"
      ]
     },
     "metadata": {},
     "output_type": "display_data"
    },
    {
     "data": {
      "text/plain": []
     },
     "execution_count": 4,
     "metadata": {},
     "output_type": "execute_result"
    }
   ],
   "source": [
    "train_high = h2o.import_file('../cleaned-data/04-train_high-catAsInt-withXYZ.csv')\n",
    "train_low = h2o.import_file('../cleaned-data/04-train_low-catAsInt-withXYZ.csv')\n",
    "test_high = h2o.import_file('../cleaned-data/04-test_high-catAsInt-withXYZ.csv')\n",
    "test_low = h2o.import_file('../cleaned-data/04-test_low-catAsInt-withXYZ.csv')      \n",
    "train_high.head()"
   ]
  },
  {
   "cell_type": "code",
   "execution_count": 5,
   "metadata": {},
   "outputs": [
    {
     "name": "stdout",
     "output_type": "stream",
     "text": [
      "(1615, 11)\n",
      "(38730, 11)\n",
      "(521, 10)\n",
      "(12928, 10)\n"
     ]
    },
    {
     "data": {
      "text/plain": [
       "[None, None, None, None]"
      ]
     },
     "execution_count": 5,
     "metadata": {},
     "output_type": "execute_result"
    }
   ],
   "source": [
    "list(map(lambda x: print(x.shape),[train_high, train_low, test_high, test_low]))"
   ]
  },
  {
   "cell_type": "code",
   "execution_count": 6,
   "metadata": {},
   "outputs": [
    {
     "data": {
      "text/plain": [
       "['carat', 'cut', 'color', 'clarity', 'depth', 'table', 'x', 'y', 'z']"
      ]
     },
     "execution_count": 6,
     "metadata": {},
     "output_type": "execute_result"
    }
   ],
   "source": [
    "xTrainCols = train_high.col_names[1:-1]\n",
    "xTrainCols"
   ]
  },
  {
   "cell_type": "code",
   "execution_count": 7,
   "metadata": {},
   "outputs": [
    {
     "name": "stdout",
     "output_type": "stream",
     "text": [
      "AutoML progress: |\n",
      "11:24:10.895: New models will be added to existing leaderboard diamonds_high@@price (leaderboard frame=null) with already 4 models.\n",
      "11:24:21.918: StackedEnsemble_AllModels_AutoML_20200301_112410 [StackedEnsemble all (built using all AutoML models)] failed: water.exceptions.H2OIllegalArgumentException: Failed to find the xval predictions frame. . .  Looks like keep_cross_validation_predictions wasn't set when building the models, or the frame was deleted.\n",
      "11:30:06.528: New models will be added to existing leaderboard diamonds_high@@price (leaderboard frame=null) with already 7 models.\n",
      "11:30:17.542: StackedEnsemble_AllModels_AutoML_20200301_113006 [StackedEnsemble all (built using all AutoML models)] failed: water.exceptions.H2OIllegalArgumentException: Failed to find the xval predictions frame. . .  Looks like keep_cross_validation_predictions wasn't set when building the models, or the frame was deleted.\n",
      "11:41:32.414: New models will be added to existing leaderboard diamonds_high@@price (leaderboard frame=null) with already 10 models.\n",
      "11:45:52.926: StackedEnsemble_AllModels_AutoML_20200301_114132 [StackedEnsemble all (built using all AutoML models)] failed: water.exceptions.H2OIllegalArgumentException: Failed to find the xval predictions frame. . .  Looks like keep_cross_validation_predictions wasn't set when building the models, or the frame was deleted.\n",
      "12:24:17.144: New models will be added to existing leaderboard diamonds_high@@price (leaderboard frame=null) with already 87 models.\n",
      "\n",
      "██████████████████████████████████████████████████████\n",
      "12:29:07.333: StackedEnsemble_BestOfFamily_AutoML_20200301_122417 [StackedEnsemble best (built using top model from each algorithm type)] failed: water.exceptions.H2OIllegalArgumentException: Failed to find the xval predictions frame. . .  Looks like keep_cross_validation_predictions wasn't set when building the models, or the frame was deleted.\n",
      "\n",
      "██| 100%\n",
      "\n",
      "12:29:08.335: StackedEnsemble_AllModels_AutoML_20200301_122417 [StackedEnsemble all (built using all AutoML models)] failed: water.exceptions.H2OIllegalArgumentException: Failed to find the xval predictions frame. . .  Looks like keep_cross_validation_predictions wasn't set when building the models, or the frame was deleted.\n",
      "\n",
      "gbm prediction progress: |████████████████████████████████████████████████| 100%\n"
     ]
    },
    {
     "data": {
      "text/html": [
       "<table>\n",
       "<thead>\n",
       "<tr><th style=\"text-align: right;\">  predict</th></tr>\n",
       "</thead>\n",
       "<tbody>\n",
       "<tr><td style=\"text-align: right;\">  16622.9</td></tr>\n",
       "<tr><td style=\"text-align: right;\">  16644.4</td></tr>\n",
       "<tr><td style=\"text-align: right;\">  16417.5</td></tr>\n",
       "<tr><td style=\"text-align: right;\">  16490.5</td></tr>\n",
       "<tr><td style=\"text-align: right;\">  15709.3</td></tr>\n",
       "<tr><td style=\"text-align: right;\">  13944.3</td></tr>\n",
       "<tr><td style=\"text-align: right;\">  16410.2</td></tr>\n",
       "<tr><td style=\"text-align: right;\">  15961.6</td></tr>\n",
       "<tr><td style=\"text-align: right;\">  15505.1</td></tr>\n",
       "<tr><td style=\"text-align: right;\">  15730.8</td></tr>\n",
       "</tbody>\n",
       "</table>"
      ]
     },
     "metadata": {},
     "output_type": "display_data"
    },
    {
     "data": {
      "text/plain": []
     },
     "metadata": {},
     "output_type": "display_data"
    },
    {
     "data": {
      "text/html": [
       "<table>\n",
       "<thead>\n",
       "<tr><th>model_id                                           </th><th style=\"text-align: right;\">  mean_residual_deviance</th><th style=\"text-align: right;\">   rmse</th><th style=\"text-align: right;\">        mse</th><th style=\"text-align: right;\">    mae</th><th style=\"text-align: right;\">   rmsle</th></tr>\n",
       "</thead>\n",
       "<tbody>\n",
       "<tr><td>GBM_grid__1_AutoML_20200301_122417_model_33        </td><td style=\"text-align: right;\">             2.82789e+06</td><td style=\"text-align: right;\">1681.63</td><td style=\"text-align: right;\">2.82789e+06</td><td style=\"text-align: right;\">1334.92</td><td style=\"text-align: right;\">0.121761</td></tr>\n",
       "<tr><td>GBM_2_AutoML_20200301_122417                       </td><td style=\"text-align: right;\">             2.82965e+06</td><td style=\"text-align: right;\">1682.15</td><td style=\"text-align: right;\">2.82965e+06</td><td style=\"text-align: right;\">1319.62</td><td style=\"text-align: right;\">0.120664</td></tr>\n",
       "<tr><td>XGBoost_2_AutoML_20200301_122417                   </td><td style=\"text-align: right;\">             2.83087e+06</td><td style=\"text-align: right;\">1682.52</td><td style=\"text-align: right;\">2.83087e+06</td><td style=\"text-align: right;\">1321.82</td><td style=\"text-align: right;\">0.120537</td></tr>\n",
       "<tr><td>XGBoost_3_AutoML_20200301_122417                   </td><td style=\"text-align: right;\">             2.83154e+06</td><td style=\"text-align: right;\">1682.72</td><td style=\"text-align: right;\">2.83154e+06</td><td style=\"text-align: right;\">1333.73</td><td style=\"text-align: right;\">0.120722</td></tr>\n",
       "<tr><td>GBM_4_AutoML_20200301_122417                       </td><td style=\"text-align: right;\">             2.83339e+06</td><td style=\"text-align: right;\">1683.27</td><td style=\"text-align: right;\">2.83339e+06</td><td style=\"text-align: right;\">1318.43</td><td style=\"text-align: right;\">0.120976</td></tr>\n",
       "<tr><td>StackedEnsemble_BestOfFamily_AutoML_20200301_114132</td><td style=\"text-align: right;\">             2.84077e+06</td><td style=\"text-align: right;\">1685.46</td><td style=\"text-align: right;\">2.84077e+06</td><td style=\"text-align: right;\">1325.5 </td><td style=\"text-align: right;\">0.120887</td></tr>\n",
       "<tr><td>XGBoost_grid__1_AutoML_20200301_122417_model_4     </td><td style=\"text-align: right;\">             2.85738e+06</td><td style=\"text-align: right;\">1690.38</td><td style=\"text-align: right;\">2.85738e+06</td><td style=\"text-align: right;\">1332.93</td><td style=\"text-align: right;\">0.121665</td></tr>\n",
       "<tr><td>XGBoost_1_AutoML_20200301_122417                   </td><td style=\"text-align: right;\">             2.85918e+06</td><td style=\"text-align: right;\">1690.91</td><td style=\"text-align: right;\">2.85918e+06</td><td style=\"text-align: right;\">1329.84</td><td style=\"text-align: right;\">0.121139</td></tr>\n",
       "<tr><td>XGBoost_grid__1_AutoML_20200301_122417_model_2     </td><td style=\"text-align: right;\">             2.86235e+06</td><td style=\"text-align: right;\">1691.85</td><td style=\"text-align: right;\">2.86235e+06</td><td style=\"text-align: right;\">1340.12</td><td style=\"text-align: right;\">0.121972</td></tr>\n",
       "<tr><td>XGBoost_grid__1_AutoML_20200301_114132_model_2     </td><td style=\"text-align: right;\">             2.86628e+06</td><td style=\"text-align: right;\">1693.01</td><td style=\"text-align: right;\">2.86628e+06</td><td style=\"text-align: right;\">1344.86</td><td style=\"text-align: right;\">0.121209</td></tr>\n",
       "</tbody>\n",
       "</table>"
      ]
     },
     "metadata": {},
     "output_type": "display_data"
    },
    {
     "data": {
      "text/plain": []
     },
     "metadata": {},
     "output_type": "display_data"
    }
   ],
   "source": [
    "train_frame = train_high\n",
    "model_name = 'diamonds_high'\n",
    "\n",
    "aml_high = H2OAutoML(max_runtime_secs = 300, project_name = f'{model_name}', keep_cross_validation_models=True)\n",
    "aml_high.train(x=xTrainCols, y = 'price', training_frame = train_frame)\n",
    "pred_high = aml_high.leader.predict(test_high)\n",
    "display(pred_high)\n",
    "display(aml_high.leaderboard)"
   ]
  },
  {
   "cell_type": "code",
   "execution_count": 8,
   "metadata": {},
   "outputs": [],
   "source": [
    "tableHighPreds = test_high['id'].cbind(pred_high)\n",
    "tableHighPreds = tableHighPreds.rename(columns={'predict':'price'})"
   ]
  },
  {
   "cell_type": "code",
   "execution_count": 9,
   "metadata": {},
   "outputs": [
    {
     "name": "stdout",
     "output_type": "stream",
     "text": [
      "AutoML progress: |\n",
      "11:33:24.214: New models will be added to existing leaderboard diamonds_low@@price (leaderboard frame=null) with already 3 models.\n",
      "11:33:36.232: StackedEnsemble_AllModels_AutoML_20200301_113324 [StackedEnsemble all (built using all AutoML models)] failed: water.exceptions.H2OIllegalArgumentException: Failed to find the xval predictions frame. . .  Looks like keep_cross_validation_predictions wasn't set when building the models, or the frame was deleted.\n",
      "11:45:54.283: New models will be added to existing leaderboard diamonds_low@@price (leaderboard frame=null) with already 5 models.\n",
      "11:50:57.101: StackedEnsemble_AllModels_AutoML_20200301_114554 [StackedEnsemble all (built using all AutoML models)] failed: water.exceptions.H2OIllegalArgumentException: Failed to find the xval predictions frame. . .  Looks like keep_cross_validation_predictions wasn't set when building the models, or the frame was deleted.\n",
      "12:29:09.292: New models will be added to existing leaderboard diamonds_low@@price (leaderboard frame=null) with already 13 models.\n",
      "\n",
      "███████████████████████████████████████████████████████Failed polling AutoML progress log: HTTP 500 Server Error:\n",
      "Server error java.lang.ArrayIndexOutOfBoundsException:\n",
      "  Error: Index 188 out of bounds for length 188\n",
      "  Request: None\n",
      "\n",
      "█| 100%\n",
      "\n",
      "12:34:21.698: StackedEnsemble_BestOfFamily_AutoML_20200301_122909 [StackedEnsemble best (built using top model from each algorithm type)] failed: water.exceptions.H2OIllegalArgumentException: Failed to find the xval predictions frame. . .  Looks like keep_cross_validation_predictions wasn't set when building the models, or the frame was deleted.\n",
      "12:34:22.701: StackedEnsemble_AllModels_AutoML_20200301_122909 [StackedEnsemble all (built using all AutoML models)] failed: water.exceptions.H2OIllegalArgumentException: Failed to find the xval predictions frame. . .  Looks like keep_cross_validation_predictions wasn't set when building the models, or the frame was deleted.\n",
      "\n",
      "xgboost prediction progress: |████████████████████████████████████████████| 100%\n"
     ]
    },
    {
     "data": {
      "text/html": [
       "<table>\n",
       "<thead>\n",
       "<tr><th style=\"text-align: right;\">  predict</th></tr>\n",
       "</thead>\n",
       "<tbody>\n",
       "<tr><td style=\"text-align: right;\">  4451.18</td></tr>\n",
       "<tr><td style=\"text-align: right;\">  1041.6 </td></tr>\n",
       "<tr><td style=\"text-align: right;\">  7193.58</td></tr>\n",
       "<tr><td style=\"text-align: right;\">  1486.48</td></tr>\n",
       "<tr><td style=\"text-align: right;\">  2206.44</td></tr>\n",
       "<tr><td style=\"text-align: right;\">  1962.02</td></tr>\n",
       "<tr><td style=\"text-align: right;\">  1833.01</td></tr>\n",
       "<tr><td style=\"text-align: right;\">  3446.88</td></tr>\n",
       "<tr><td style=\"text-align: right;\"> 15731.2 </td></tr>\n",
       "<tr><td style=\"text-align: right;\">  3686.82</td></tr>\n",
       "</tbody>\n",
       "</table>"
      ]
     },
     "metadata": {},
     "output_type": "display_data"
    },
    {
     "data": {
      "text/plain": []
     },
     "metadata": {},
     "output_type": "display_data"
    },
    {
     "data": {
      "text/html": [
       "<table>\n",
       "<thead>\n",
       "<tr><th>model_id                                           </th><th style=\"text-align: right;\">  mean_residual_deviance</th><th style=\"text-align: right;\">   rmse</th><th style=\"text-align: right;\">   mse</th><th style=\"text-align: right;\">    mae</th><th style=\"text-align: right;\">      rmsle</th></tr>\n",
       "</thead>\n",
       "<tbody>\n",
       "<tr><td>XGBoost_1_AutoML_20200301_122909                   </td><td style=\"text-align: right;\">                  181982</td><td style=\"text-align: right;\">426.594</td><td style=\"text-align: right;\">181982</td><td style=\"text-align: right;\">227.268</td><td style=\"text-align: right;\">  0.0915012</td></tr>\n",
       "<tr><td>XGBoost_2_AutoML_20200301_122909                   </td><td style=\"text-align: right;\">                  186692</td><td style=\"text-align: right;\">432.079</td><td style=\"text-align: right;\">186692</td><td style=\"text-align: right;\">226.688</td><td style=\"text-align: right;\">  0.0882195</td></tr>\n",
       "<tr><td>StackedEnsemble_BestOfFamily_AutoML_20200301_114554</td><td style=\"text-align: right;\">                  208624</td><td style=\"text-align: right;\">456.754</td><td style=\"text-align: right;\">208624</td><td style=\"text-align: right;\">258.348</td><td style=\"text-align: right;\">  0.134609 </td></tr>\n",
       "<tr><td>XGBoost_1_AutoML_20200301_114554                   </td><td style=\"text-align: right;\">                  210286</td><td style=\"text-align: right;\">458.569</td><td style=\"text-align: right;\">210286</td><td style=\"text-align: right;\">264.219</td><td style=\"text-align: right;\">  0.139699 </td></tr>\n",
       "<tr><td>XGBoost_3_AutoML_20200301_122909                   </td><td style=\"text-align: right;\">                  231777</td><td style=\"text-align: right;\">481.432</td><td style=\"text-align: right;\">231777</td><td style=\"text-align: right;\">268.757</td><td style=\"text-align: right;\">  0.115557 </td></tr>\n",
       "<tr><td>XGBoost_2_AutoML_20200301_114554                   </td><td style=\"text-align: right;\">                  242417</td><td style=\"text-align: right;\">492.359</td><td style=\"text-align: right;\">242417</td><td style=\"text-align: right;\">282.272</td><td style=\"text-align: right;\">  0.14303  </td></tr>\n",
       "<tr><td>DRF_1_AutoML_20200301_114554                       </td><td style=\"text-align: right;\">                  311554</td><td style=\"text-align: right;\">558.17 </td><td style=\"text-align: right;\">311554</td><td style=\"text-align: right;\">297.041</td><td style=\"text-align: right;\">  0.131118 </td></tr>\n",
       "<tr><td>GBM_1_AutoML_20200301_114554                       </td><td style=\"text-align: right;\">                  424522</td><td style=\"text-align: right;\">651.554</td><td style=\"text-align: right;\">424522</td><td style=\"text-align: right;\">382.178</td><td style=\"text-align: right;\">  0.200674 </td></tr>\n",
       "<tr><td>XGBoost_3_AutoML_20200301_114554                   </td><td style=\"text-align: right;\">                  468477</td><td style=\"text-align: right;\">684.453</td><td style=\"text-align: right;\">468477</td><td style=\"text-align: right;\">378.891</td><td style=\"text-align: right;\">nan        </td></tr>\n",
       "<tr><td>StackedEnsemble_AllModels_AutoML_20200301_113230   </td><td style=\"text-align: right;\">                  514411</td><td style=\"text-align: right;\">717.224</td><td style=\"text-align: right;\">514411</td><td style=\"text-align: right;\">438.472</td><td style=\"text-align: right;\">nan        </td></tr>\n",
       "</tbody>\n",
       "</table>"
      ]
     },
     "metadata": {},
     "output_type": "display_data"
    },
    {
     "data": {
      "text/plain": []
     },
     "metadata": {},
     "output_type": "display_data"
    }
   ],
   "source": [
    "train_frame = train_low\n",
    "model_name = 'diamonds_low'\n",
    "\n",
    "aml_low = H2OAutoML(max_runtime_secs = 300, project_name = f'{model_name}', keep_cross_validation_models=True)\n",
    "aml_low.train(x=xTrainCols, y = 'price', training_frame = train_frame)\n",
    "pred_low = aml_low.leader.predict(test_low)\n",
    "display(pred_low)\n",
    "display(aml_low.leaderboard)"
   ]
  },
  {
   "cell_type": "code",
   "execution_count": 10,
   "metadata": {},
   "outputs": [],
   "source": [
    "tableLowPreds = test_low['id'].cbind(pred_low)\n",
    "tableLowPreds = tableLowPreds.rename(columns={'predict':'price'})"
   ]
  },
  {
   "cell_type": "code",
   "execution_count": 11,
   "metadata": {},
   "outputs": [
    {
     "data": {
      "text/plain": [
       "(13449, 2)"
      ]
     },
     "execution_count": 11,
     "metadata": {},
     "output_type": "execute_result"
    }
   ],
   "source": [
    "combinedTable = tableLowPreds.concat(tableHighPreds, axis=0)\n",
    "combinedTable.shape"
   ]
  },
  {
   "cell_type": "code",
   "execution_count": 14,
   "metadata": {},
   "outputs": [
    {
     "name": "stdout",
     "output_type": "stream",
     "text": [
      "Export File progress: |███████████████████████████████████████████████████| 100%\n"
     ]
    }
   ],
   "source": [
    "h2o.export_file(frame=combinedTable,path='../predictions/11-Auto-ML-Split-data-catAsInt-withXYZ.csv')"
   ]
  },
  {
   "cell_type": "code",
   "execution_count": null,
   "metadata": {},
   "outputs": [],
   "source": []
  }
 ],
 "metadata": {
  "kernelspec": {
   "display_name": "Python 3.7.6 64-bit",
   "language": "python",
   "name": "python37664bitc736265aa96942798be544ff59087e30"
  },
  "language_info": {
   "codemirror_mode": {
    "name": "ipython",
    "version": 3
   },
   "file_extension": ".py",
   "mimetype": "text/x-python",
   "name": "python",
   "nbconvert_exporter": "python",
   "pygments_lexer": "ipython3",
   "version": "3.7.6"
  }
 },
 "nbformat": 4,
 "nbformat_minor": 4
}
