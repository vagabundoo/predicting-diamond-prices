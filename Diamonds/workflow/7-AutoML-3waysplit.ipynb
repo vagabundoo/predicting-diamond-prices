{
 "cells": [
  {
   "cell_type": "code",
   "execution_count": 2,
   "metadata": {},
   "outputs": [
    {
     "name": "stdout",
     "output_type": "stream",
     "text": [
      "Checking whether there is an H2O instance running at http://localhost:54321 . connected.\n"
     ]
    },
    {
     "data": {
      "text/html": [
       "<div style=\"overflow:auto\"><table style=\"width:50%\"><tr><td>H2O cluster uptime:</td>\n",
       "<td>38 mins 52 secs</td></tr>\n",
       "<tr><td>H2O cluster timezone:</td>\n",
       "<td>Europe/Paris</td></tr>\n",
       "<tr><td>H2O data parsing timezone:</td>\n",
       "<td>UTC</td></tr>\n",
       "<tr><td>H2O cluster version:</td>\n",
       "<td>3.28.0.3</td></tr>\n",
       "<tr><td>H2O cluster version age:</td>\n",
       "<td>25 days </td></tr>\n",
       "<tr><td>H2O cluster name:</td>\n",
       "<td>H2O_from_python_edu_yuaa4k</td></tr>\n",
       "<tr><td>H2O cluster total nodes:</td>\n",
       "<td>1</td></tr>\n",
       "<tr><td>H2O cluster free memory:</td>\n",
       "<td>1.236 Gb</td></tr>\n",
       "<tr><td>H2O cluster total cores:</td>\n",
       "<td>8</td></tr>\n",
       "<tr><td>H2O cluster allowed cores:</td>\n",
       "<td>8</td></tr>\n",
       "<tr><td>H2O cluster status:</td>\n",
       "<td>locked, healthy</td></tr>\n",
       "<tr><td>H2O connection url:</td>\n",
       "<td>http://localhost:54321</td></tr>\n",
       "<tr><td>H2O connection proxy:</td>\n",
       "<td>{'http': None, 'https': None}</td></tr>\n",
       "<tr><td>H2O internal security:</td>\n",
       "<td>False</td></tr>\n",
       "<tr><td>H2O API Extensions:</td>\n",
       "<td>Amazon S3, XGBoost, Algos, AutoML, Core V3, TargetEncoder, Core V4</td></tr>\n",
       "<tr><td>Python version:</td>\n",
       "<td>3.7.6 final</td></tr></table></div>"
      ],
      "text/plain": [
       "--------------------------  ------------------------------------------------------------------\n",
       "H2O cluster uptime:         38 mins 52 secs\n",
       "H2O cluster timezone:       Europe/Paris\n",
       "H2O data parsing timezone:  UTC\n",
       "H2O cluster version:        3.28.0.3\n",
       "H2O cluster version age:    25 days\n",
       "H2O cluster name:           H2O_from_python_edu_yuaa4k\n",
       "H2O cluster total nodes:    1\n",
       "H2O cluster free memory:    1.236 Gb\n",
       "H2O cluster total cores:    8\n",
       "H2O cluster allowed cores:  8\n",
       "H2O cluster status:         locked, healthy\n",
       "H2O connection url:         http://localhost:54321\n",
       "H2O connection proxy:       {'http': None, 'https': None}\n",
       "H2O internal security:      False\n",
       "H2O API Extensions:         Amazon S3, XGBoost, Algos, AutoML, Core V3, TargetEncoder, Core V4\n",
       "Python version:             3.7.6 final\n",
       "--------------------------  ------------------------------------------------------------------"
      ]
     },
     "metadata": {},
     "output_type": "display_data"
    }
   ],
   "source": [
    "import pandas as pd\n",
    "import numpy as np\n",
    "import seaborn as sns\n",
    "import matplotlib.pyplot as plt\n",
    "import h2o\n",
    "from h2o.automl import H2OAutoML\n",
    "h2o.init(nthreads=7, \n",
    "         max_mem_size='6G')"
   ]
  },
  {
   "cell_type": "code",
   "execution_count": 8,
   "metadata": {},
   "outputs": [
    {
     "name": "stdout",
     "output_type": "stream",
     "text": [
      "Parse progress: |█████████████████████████████████████████████████████████| 100%\n",
      "Parse progress: |█████████████████████████████████████████████████████████| 100%\n",
      "Parse progress: |█████████████████████████████████████████████████████████| 100%\n",
      "Parse progress: |█████████████████████████████████████████████████████████| 100%\n",
      "Parse progress: |█████████████████████████████████████████████████████████| 100%\n",
      "Parse progress: |█████████████████████████████████████████████████████████| 100%\n"
     ]
    }
   ],
   "source": [
    "names = ['trainLow', 'trainMid', 'trainHigh', 'testLow', 'testMid', 'testHigh']\n",
    "trainLow, trainMid, trainHigh, testLow, testMid, testHigh = [h2o.import_file(f'../cleaned-data/09-{e}allCatAsDummies-split3Way.csv') for e in names]\n",
    "                                                                            "
   ]
  },
  {
   "cell_type": "code",
   "execution_count": 9,
   "metadata": {},
   "outputs": [
    {
     "data": {
      "text/html": [
       "<table>\n",
       "<thead>\n",
       "<tr><th style=\"text-align: right;\">  id</th><th style=\"text-align: right;\">  carat</th><th style=\"text-align: right;\">  depth</th><th style=\"text-align: right;\">  table</th><th style=\"text-align: right;\">   x</th><th style=\"text-align: right;\">   y</th><th style=\"text-align: right;\">   z</th><th style=\"text-align: right;\">  cut_0</th><th style=\"text-align: right;\">  cut_1</th><th style=\"text-align: right;\">  cut_2</th><th style=\"text-align: right;\">  cut_3</th><th style=\"text-align: right;\">  cut_4</th><th style=\"text-align: right;\">  color_1</th><th style=\"text-align: right;\">  color_2</th><th style=\"text-align: right;\">  color_3</th><th style=\"text-align: right;\">  color_4</th><th style=\"text-align: right;\">  color_5</th><th style=\"text-align: right;\">  color_6</th><th style=\"text-align: right;\">  color_7</th><th style=\"text-align: right;\">  clarity_0</th><th style=\"text-align: right;\">  clarity_1</th><th style=\"text-align: right;\">  clarity_2</th><th style=\"text-align: right;\">  clarity_3</th><th style=\"text-align: right;\">  clarity_4</th><th style=\"text-align: right;\">  clarity_5</th><th style=\"text-align: right;\">  clarity_6</th><th style=\"text-align: right;\">  clarity_7</th><th style=\"text-align: right;\">  price</th></tr>\n",
       "</thead>\n",
       "<tbody>\n",
       "<tr><td style=\"text-align: right;\">   0</td><td style=\"text-align: right;\">   0.78</td><td style=\"text-align: right;\">   61.5</td><td style=\"text-align: right;\">     58</td><td style=\"text-align: right;\">5.93</td><td style=\"text-align: right;\">5.98</td><td style=\"text-align: right;\">3.66</td><td style=\"text-align: right;\">      0</td><td style=\"text-align: right;\">      0</td><td style=\"text-align: right;\">      0</td><td style=\"text-align: right;\">      1</td><td style=\"text-align: right;\">      0</td><td style=\"text-align: right;\">        0</td><td style=\"text-align: right;\">        0</td><td style=\"text-align: right;\">        0</td><td style=\"text-align: right;\">        0</td><td style=\"text-align: right;\">        1</td><td style=\"text-align: right;\">        0</td><td style=\"text-align: right;\">        0</td><td style=\"text-align: right;\">          1</td><td style=\"text-align: right;\">          0</td><td style=\"text-align: right;\">          0</td><td style=\"text-align: right;\">          0</td><td style=\"text-align: right;\">          0</td><td style=\"text-align: right;\">          0</td><td style=\"text-align: right;\">          0</td><td style=\"text-align: right;\">          0</td><td style=\"text-align: right;\">   3446</td></tr>\n",
       "<tr><td style=\"text-align: right;\">   1</td><td style=\"text-align: right;\">   0.31</td><td style=\"text-align: right;\">   60.8</td><td style=\"text-align: right;\">     56</td><td style=\"text-align: right;\">4.37</td><td style=\"text-align: right;\">4.32</td><td style=\"text-align: right;\">2.64</td><td style=\"text-align: right;\">      0</td><td style=\"text-align: right;\">      0</td><td style=\"text-align: right;\">      0</td><td style=\"text-align: right;\">      0</td><td style=\"text-align: right;\">      1</td><td style=\"text-align: right;\">        0</td><td style=\"text-align: right;\">        0</td><td style=\"text-align: right;\">        0</td><td style=\"text-align: right;\">        0</td><td style=\"text-align: right;\">        0</td><td style=\"text-align: right;\">        0</td><td style=\"text-align: right;\">        1</td><td style=\"text-align: right;\">          0</td><td style=\"text-align: right;\">          1</td><td style=\"text-align: right;\">          0</td><td style=\"text-align: right;\">          0</td><td style=\"text-align: right;\">          0</td><td style=\"text-align: right;\">          0</td><td style=\"text-align: right;\">          0</td><td style=\"text-align: right;\">          0</td><td style=\"text-align: right;\">    732</td></tr>\n",
       "<tr><td style=\"text-align: right;\">   2</td><td style=\"text-align: right;\">   0.3 </td><td style=\"text-align: right;\">   62.3</td><td style=\"text-align: right;\">     54</td><td style=\"text-align: right;\">4.3 </td><td style=\"text-align: right;\">4.34</td><td style=\"text-align: right;\">2.69</td><td style=\"text-align: right;\">      0</td><td style=\"text-align: right;\">      0</td><td style=\"text-align: right;\">      0</td><td style=\"text-align: right;\">      0</td><td style=\"text-align: right;\">      1</td><td style=\"text-align: right;\">        0</td><td style=\"text-align: right;\">        0</td><td style=\"text-align: right;\">        0</td><td style=\"text-align: right;\">        0</td><td style=\"text-align: right;\">        1</td><td style=\"text-align: right;\">        0</td><td style=\"text-align: right;\">        0</td><td style=\"text-align: right;\">          0</td><td style=\"text-align: right;\">          1</td><td style=\"text-align: right;\">          0</td><td style=\"text-align: right;\">          0</td><td style=\"text-align: right;\">          0</td><td style=\"text-align: right;\">          0</td><td style=\"text-align: right;\">          0</td><td style=\"text-align: right;\">          0</td><td style=\"text-align: right;\">    475</td></tr>\n",
       "<tr><td style=\"text-align: right;\">   3</td><td style=\"text-align: right;\">   1.04</td><td style=\"text-align: right;\">   62  </td><td style=\"text-align: right;\">     58</td><td style=\"text-align: right;\">6.54</td><td style=\"text-align: right;\">6.46</td><td style=\"text-align: right;\">4.03</td><td style=\"text-align: right;\">      0</td><td style=\"text-align: right;\">      0</td><td style=\"text-align: right;\">      0</td><td style=\"text-align: right;\">      0</td><td style=\"text-align: right;\">      1</td><td style=\"text-align: right;\">        0</td><td style=\"text-align: right;\">        0</td><td style=\"text-align: right;\">        0</td><td style=\"text-align: right;\">        0</td><td style=\"text-align: right;\">        0</td><td style=\"text-align: right;\">        1</td><td style=\"text-align: right;\">        0</td><td style=\"text-align: right;\">          0</td><td style=\"text-align: right;\">          0</td><td style=\"text-align: right;\">          1</td><td style=\"text-align: right;\">          0</td><td style=\"text-align: right;\">          0</td><td style=\"text-align: right;\">          0</td><td style=\"text-align: right;\">          0</td><td style=\"text-align: right;\">          0</td><td style=\"text-align: right;\">   9552</td></tr>\n",
       "<tr><td style=\"text-align: right;\">   4</td><td style=\"text-align: right;\">   0.65</td><td style=\"text-align: right;\">   61.4</td><td style=\"text-align: right;\">     55</td><td style=\"text-align: right;\">5.58</td><td style=\"text-align: right;\">5.62</td><td style=\"text-align: right;\">3.44</td><td style=\"text-align: right;\">      0</td><td style=\"text-align: right;\">      0</td><td style=\"text-align: right;\">      0</td><td style=\"text-align: right;\">      0</td><td style=\"text-align: right;\">      1</td><td style=\"text-align: right;\">        1</td><td style=\"text-align: right;\">        0</td><td style=\"text-align: right;\">        0</td><td style=\"text-align: right;\">        0</td><td style=\"text-align: right;\">        0</td><td style=\"text-align: right;\">        0</td><td style=\"text-align: right;\">        0</td><td style=\"text-align: right;\">          0</td><td style=\"text-align: right;\">          1</td><td style=\"text-align: right;\">          0</td><td style=\"text-align: right;\">          0</td><td style=\"text-align: right;\">          0</td><td style=\"text-align: right;\">          0</td><td style=\"text-align: right;\">          0</td><td style=\"text-align: right;\">          0</td><td style=\"text-align: right;\">   1276</td></tr>\n",
       "<tr><td style=\"text-align: right;\">   5</td><td style=\"text-align: right;\">   0.9 </td><td style=\"text-align: right;\">   62.2</td><td style=\"text-align: right;\">     60</td><td style=\"text-align: right;\">6.15</td><td style=\"text-align: right;\">6.19</td><td style=\"text-align: right;\">3.84</td><td style=\"text-align: right;\">      0</td><td style=\"text-align: right;\">      0</td><td style=\"text-align: right;\">      0</td><td style=\"text-align: right;\">      1</td><td style=\"text-align: right;\">      0</td><td style=\"text-align: right;\">        0</td><td style=\"text-align: right;\">        0</td><td style=\"text-align: right;\">        0</td><td style=\"text-align: right;\">        0</td><td style=\"text-align: right;\">        0</td><td style=\"text-align: right;\">        1</td><td style=\"text-align: right;\">        0</td><td style=\"text-align: right;\">          0</td><td style=\"text-align: right;\">          0</td><td style=\"text-align: right;\">          0</td><td style=\"text-align: right;\">          1</td><td style=\"text-align: right;\">          0</td><td style=\"text-align: right;\">          0</td><td style=\"text-align: right;\">          0</td><td style=\"text-align: right;\">          0</td><td style=\"text-align: right;\">   3662</td></tr>\n",
       "<tr><td style=\"text-align: right;\">   6</td><td style=\"text-align: right;\">   0.31</td><td style=\"text-align: right;\">   62.3</td><td style=\"text-align: right;\">     55</td><td style=\"text-align: right;\">4.34</td><td style=\"text-align: right;\">4.36</td><td style=\"text-align: right;\">2.71</td><td style=\"text-align: right;\">      0</td><td style=\"text-align: right;\">      0</td><td style=\"text-align: right;\">      1</td><td style=\"text-align: right;\">      0</td><td style=\"text-align: right;\">      0</td><td style=\"text-align: right;\">        0</td><td style=\"text-align: right;\">        0</td><td style=\"text-align: right;\">        1</td><td style=\"text-align: right;\">        0</td><td style=\"text-align: right;\">        0</td><td style=\"text-align: right;\">        0</td><td style=\"text-align: right;\">        0</td><td style=\"text-align: right;\">          0</td><td style=\"text-align: right;\">          1</td><td style=\"text-align: right;\">          0</td><td style=\"text-align: right;\">          0</td><td style=\"text-align: right;\">          0</td><td style=\"text-align: right;\">          0</td><td style=\"text-align: right;\">          0</td><td style=\"text-align: right;\">          0</td><td style=\"text-align: right;\">    446</td></tr>\n",
       "<tr><td style=\"text-align: right;\">   7</td><td style=\"text-align: right;\">   0.71</td><td style=\"text-align: right;\">   64.6</td><td style=\"text-align: right;\">     59</td><td style=\"text-align: right;\">5.62</td><td style=\"text-align: right;\">5.59</td><td style=\"text-align: right;\">3.62</td><td style=\"text-align: right;\">      1</td><td style=\"text-align: right;\">      0</td><td style=\"text-align: right;\">      0</td><td style=\"text-align: right;\">      0</td><td style=\"text-align: right;\">      0</td><td style=\"text-align: right;\">        0</td><td style=\"text-align: right;\">        0</td><td style=\"text-align: right;\">        0</td><td style=\"text-align: right;\">        0</td><td style=\"text-align: right;\">        0</td><td style=\"text-align: right;\">        1</td><td style=\"text-align: right;\">        0</td><td style=\"text-align: right;\">          0</td><td style=\"text-align: right;\">          0</td><td style=\"text-align: right;\">          0</td><td style=\"text-align: right;\">          0</td><td style=\"text-align: right;\">          1</td><td style=\"text-align: right;\">          0</td><td style=\"text-align: right;\">          0</td><td style=\"text-align: right;\">          0</td><td style=\"text-align: right;\">   2902</td></tr>\n",
       "<tr><td style=\"text-align: right;\">   9</td><td style=\"text-align: right;\">   1.1 </td><td style=\"text-align: right;\">   61.3</td><td style=\"text-align: right;\">     58</td><td style=\"text-align: right;\">6.64</td><td style=\"text-align: right;\">6.71</td><td style=\"text-align: right;\">4.09</td><td style=\"text-align: right;\">      0</td><td style=\"text-align: right;\">      0</td><td style=\"text-align: right;\">      1</td><td style=\"text-align: right;\">      0</td><td style=\"text-align: right;\">      0</td><td style=\"text-align: right;\">        0</td><td style=\"text-align: right;\">        0</td><td style=\"text-align: right;\">        0</td><td style=\"text-align: right;\">        0</td><td style=\"text-align: right;\">        0</td><td style=\"text-align: right;\">        1</td><td style=\"text-align: right;\">        0</td><td style=\"text-align: right;\">          0</td><td style=\"text-align: right;\">          1</td><td style=\"text-align: right;\">          0</td><td style=\"text-align: right;\">          0</td><td style=\"text-align: right;\">          0</td><td style=\"text-align: right;\">          0</td><td style=\"text-align: right;\">          0</td><td style=\"text-align: right;\">          0</td><td style=\"text-align: right;\">   4791</td></tr>\n",
       "<tr><td style=\"text-align: right;\">  10</td><td style=\"text-align: right;\">   1.19</td><td style=\"text-align: right;\">   59.9</td><td style=\"text-align: right;\">     61</td><td style=\"text-align: right;\">6.85</td><td style=\"text-align: right;\">6.91</td><td style=\"text-align: right;\">4.12</td><td style=\"text-align: right;\">      0</td><td style=\"text-align: right;\">      0</td><td style=\"text-align: right;\">      1</td><td style=\"text-align: right;\">      0</td><td style=\"text-align: right;\">      0</td><td style=\"text-align: right;\">        0</td><td style=\"text-align: right;\">        1</td><td style=\"text-align: right;\">        0</td><td style=\"text-align: right;\">        0</td><td style=\"text-align: right;\">        0</td><td style=\"text-align: right;\">        0</td><td style=\"text-align: right;\">        0</td><td style=\"text-align: right;\">          1</td><td style=\"text-align: right;\">          0</td><td style=\"text-align: right;\">          0</td><td style=\"text-align: right;\">          0</td><td style=\"text-align: right;\">          0</td><td style=\"text-align: right;\">          0</td><td style=\"text-align: right;\">          0</td><td style=\"text-align: right;\">          0</td><td style=\"text-align: right;\">   5644</td></tr>\n",
       "</tbody>\n",
       "</table>"
      ]
     },
     "metadata": {},
     "output_type": "display_data"
    },
    {
     "data": {
      "text/plain": []
     },
     "execution_count": 9,
     "metadata": {},
     "output_type": "execute_result"
    }
   ],
   "source": [
    "trainLow"
   ]
  },
  {
   "cell_type": "code",
   "execution_count": 11,
   "metadata": {},
   "outputs": [
    {
     "data": {
      "text/plain": [
       "['carat',\n",
       " 'depth',\n",
       " 'table',\n",
       " 'x',\n",
       " 'y',\n",
       " 'z',\n",
       " 'cut_0',\n",
       " 'cut_1',\n",
       " 'cut_2',\n",
       " 'cut_3',\n",
       " 'cut_4',\n",
       " 'color_1',\n",
       " 'color_2',\n",
       " 'color_3',\n",
       " 'color_4',\n",
       " 'color_5',\n",
       " 'color_6',\n",
       " 'color_7',\n",
       " 'clarity_0',\n",
       " 'clarity_1',\n",
       " 'clarity_2',\n",
       " 'clarity_3',\n",
       " 'clarity_4',\n",
       " 'clarity_5',\n",
       " 'clarity_6',\n",
       " 'clarity_7']"
      ]
     },
     "execution_count": 11,
     "metadata": {},
     "output_type": "execute_result"
    }
   ],
   "source": [
    "xCols = trainLow.col_names[1:-1]\n",
    "xCols"
   ]
  },
  {
   "cell_type": "code",
   "execution_count": 21,
   "metadata": {},
   "outputs": [],
   "source": [
    "def trainAutoMLModel(name, train, test, runtime):\n",
    "    \n",
    "    aml = H2OAutoML(max_runtime_secs = runtime, project_name = name, keep_cross_validation_models=True)\n",
    "    aml.train(x=xCols, y = 'price', training_frame = train)\n",
    "    pred = aml.leader.predict(test)\n",
    "    display(pred)\n",
    "    display(aml.leaderboard)\n",
    "    #combTable = test['id'].cbind(pred)\n",
    "    combTable = combTable.rename(columns={'predict':'price'})\n",
    "    h2o.export_file(frame=combTable, path=f'../predictions/raw/{name}.csv', force=True)"
   ]
  },
  {
   "cell_type": "code",
   "execution_count": 20,
   "metadata": {},
   "outputs": [
    {
     "name": "stdout",
     "output_type": "stream",
     "text": [
      "AutoML progress: |\n",
      "10:49:55.105: New models will be added to existing leaderboard trainLow@@price (leaderboard frame=null) with already 3 models.\n",
      "10:50:01.131: StackedEnsemble_AllModels_AutoML_20200302_104955 [StackedEnsemble all (built using all AutoML models)] failed: water.exceptions.H2OIllegalArgumentException: Failed to find the xval predictions frame. . .  Looks like keep_cross_validation_predictions wasn't set when building the models, or the frame was deleted.\n",
      "10:50:24.281: New models will be added to existing leaderboard trainLow@@price (leaderboard frame=null) with already 4 models.\n",
      "10:50:31.295: StackedEnsemble_AllModels_AutoML_20200302_105024 [StackedEnsemble all (built using all AutoML models)] failed: water.exceptions.H2OIllegalArgumentException: Failed to find the xval predictions frame. . .  Looks like keep_cross_validation_predictions wasn't set when building the models, or the frame was deleted.\n",
      "10:50:42.92: New models will be added to existing leaderboard trainLow@@price (leaderboard frame=null) with already 5 models.\n",
      "\n",
      "████████████████████████████████████████████████████████| 100%\n",
      "\n",
      "10:50:49.110: StackedEnsemble_AllModels_AutoML_20200302_105042 [StackedEnsemble all (built using all AutoML models)] failed: water.exceptions.H2OIllegalArgumentException: Failed to find the xval predictions frame. . .  Looks like keep_cross_validation_predictions wasn't set when building the models, or the frame was deleted.\n",
      "\n",
      "stackedensemble prediction progress: |████████████████████████████████████| 100%\n"
     ]
    },
    {
     "data": {
      "text/html": [
       "<table>\n",
       "<thead>\n",
       "<tr><th style=\"text-align: right;\">  predict</th></tr>\n",
       "</thead>\n",
       "<tbody>\n",
       "<tr><td style=\"text-align: right;\">  4571.11</td></tr>\n",
       "<tr><td style=\"text-align: right;\">  1038.42</td></tr>\n",
       "<tr><td style=\"text-align: right;\">  6835.44</td></tr>\n",
       "<tr><td style=\"text-align: right;\">  1409.24</td></tr>\n",
       "<tr><td style=\"text-align: right;\">  2338.97</td></tr>\n",
       "<tr><td style=\"text-align: right;\">  1882.12</td></tr>\n",
       "<tr><td style=\"text-align: right;\">  1885.99</td></tr>\n",
       "<tr><td style=\"text-align: right;\">  3515.84</td></tr>\n",
       "<tr><td style=\"text-align: right;\"> 13050.5 </td></tr>\n",
       "<tr><td style=\"text-align: right;\">  3485.1 </td></tr>\n",
       "</tbody>\n",
       "</table>"
      ]
     },
     "metadata": {},
     "output_type": "display_data"
    },
    {
     "data": {
      "text/plain": []
     },
     "metadata": {},
     "output_type": "display_data"
    },
    {
     "data": {
      "text/html": [
       "<table>\n",
       "<thead>\n",
       "<tr><th>model_id                                        </th><th style=\"text-align: right;\">  mean_residual_deviance</th><th style=\"text-align: right;\">    rmse</th><th style=\"text-align: right;\">             mse</th><th style=\"text-align: right;\">     mae</th><th style=\"text-align: right;\">   rmsle</th></tr>\n",
       "</thead>\n",
       "<tbody>\n",
       "<tr><td>StackedEnsemble_AllModels_AutoML_20200302_104837</td><td style=\"text-align: right;\">        263208          </td><td style=\"text-align: right;\"> 513.038</td><td style=\"text-align: right;\">263208          </td><td style=\"text-align: right;\"> 276.044</td><td style=\"text-align: right;\">0.113163</td></tr>\n",
       "<tr><td>XGBoost_1_AutoML_20200302_104837                </td><td style=\"text-align: right;\">        761735          </td><td style=\"text-align: right;\"> 872.774</td><td style=\"text-align: right;\">761735          </td><td style=\"text-align: right;\"> 522.456</td><td style=\"text-align: right;\">0.175788</td></tr>\n",
       "<tr><td>XGBoost_2_AutoML_20200302_104837                </td><td style=\"text-align: right;\">             6.60816e+06</td><td style=\"text-align: right;\">2570.63 </td><td style=\"text-align: right;\">     6.60816e+06</td><td style=\"text-align: right;\">1798.28 </td><td style=\"text-align: right;\">0.723486</td></tr>\n",
       "<tr><td>XGBoost_1_AutoML_20200302_104955                </td><td style=\"text-align: right;\">             7.24436e+06</td><td style=\"text-align: right;\">2691.53 </td><td style=\"text-align: right;\">     7.24436e+06</td><td style=\"text-align: right;\">1878.5  </td><td style=\"text-align: right;\">0.779592</td></tr>\n",
       "<tr><td>XGBoost_1_AutoML_20200302_105042                </td><td style=\"text-align: right;\">             8.49434e+06</td><td style=\"text-align: right;\">2914.51 </td><td style=\"text-align: right;\">     8.49434e+06</td><td style=\"text-align: right;\">2048.16 </td><td style=\"text-align: right;\">0.879597</td></tr>\n",
       "<tr><td>XGBoost_1_AutoML_20200302_105024                </td><td style=\"text-align: right;\">             9.73889e+06</td><td style=\"text-align: right;\">3120.72 </td><td style=\"text-align: right;\">     9.73889e+06</td><td style=\"text-align: right;\">2202.43 </td><td style=\"text-align: right;\">1.00021 </td></tr>\n",
       "</tbody>\n",
       "</table>"
      ]
     },
     "metadata": {},
     "output_type": "display_data"
    },
    {
     "data": {
      "text/plain": []
     },
     "metadata": {},
     "output_type": "display_data"
    },
    {
     "name": "stdout",
     "output_type": "stream",
     "text": [
      "Export File progress: |███████████████████████████████████████████████████| 100%\n"
     ]
    }
   ],
   "source": [
    "trainAutoMLModel('trainLow',trainLow, testLow, 5)"
   ]
  },
  {
   "cell_type": "code",
   "execution_count": 22,
   "metadata": {},
   "outputs": [
    {
     "name": "stdout",
     "output_type": "stream",
     "text": [
      "AutoML progress: |████████████████████████████████████████████████████████| 100%\n",
      "xgboost prediction progress: |████████████████████████████████████████████| 100%\n"
     ]
    },
    {
     "data": {
      "text/html": [
       "<table>\n",
       "<thead>\n",
       "<tr><th style=\"text-align: right;\">  predict</th></tr>\n",
       "</thead>\n",
       "<tbody>\n",
       "<tr><td style=\"text-align: right;\">  4430.67</td></tr>\n",
       "<tr><td style=\"text-align: right;\">  1040.97</td></tr>\n",
       "<tr><td style=\"text-align: right;\">  7004.1 </td></tr>\n",
       "<tr><td style=\"text-align: right;\">  1473.78</td></tr>\n",
       "<tr><td style=\"text-align: right;\">  2240.11</td></tr>\n",
       "<tr><td style=\"text-align: right;\">  1971.93</td></tr>\n",
       "<tr><td style=\"text-align: right;\">  1798.88</td></tr>\n",
       "<tr><td style=\"text-align: right;\">  3492.3 </td></tr>\n",
       "<tr><td style=\"text-align: right;\"> 15347.5 </td></tr>\n",
       "<tr><td style=\"text-align: right;\">  3692.23</td></tr>\n",
       "</tbody>\n",
       "</table>"
      ]
     },
     "metadata": {},
     "output_type": "display_data"
    },
    {
     "data": {
      "text/plain": []
     },
     "metadata": {},
     "output_type": "display_data"
    },
    {
     "data": {
      "text/html": [
       "<table>\n",
       "<thead>\n",
       "<tr><th>model_id                                           </th><th style=\"text-align: right;\">  mean_residual_deviance</th><th style=\"text-align: right;\">    rmse</th><th style=\"text-align: right;\">             mse</th><th style=\"text-align: right;\">     mae</th><th style=\"text-align: right;\">    rmsle</th></tr>\n",
       "</thead>\n",
       "<tbody>\n",
       "<tr><td>XGBoost_1_AutoML_20200302_105331                   </td><td style=\"text-align: right;\">        186175          </td><td style=\"text-align: right;\"> 431.48 </td><td style=\"text-align: right;\">186175          </td><td style=\"text-align: right;\"> 230.215</td><td style=\"text-align: right;\">0.0932024</td></tr>\n",
       "<tr><td>StackedEnsemble_BestOfFamily_AutoML_20200302_105331</td><td style=\"text-align: right;\">        186491          </td><td style=\"text-align: right;\"> 431.846</td><td style=\"text-align: right;\">186491          </td><td style=\"text-align: right;\"> 229.682</td><td style=\"text-align: right;\">0.0924055</td></tr>\n",
       "<tr><td>StackedEnsemble_AllModels_AutoML_20200302_105331   </td><td style=\"text-align: right;\">        186533          </td><td style=\"text-align: right;\"> 431.895</td><td style=\"text-align: right;\">186533          </td><td style=\"text-align: right;\"> 228.363</td><td style=\"text-align: right;\">0.0913529</td></tr>\n",
       "<tr><td>XGBoost_2_AutoML_20200302_105331                   </td><td style=\"text-align: right;\">        240632          </td><td style=\"text-align: right;\"> 490.543</td><td style=\"text-align: right;\">240632          </td><td style=\"text-align: right;\"> 259.011</td><td style=\"text-align: right;\">0.0956993</td></tr>\n",
       "<tr><td>DRF_1_AutoML_20200302_105331                       </td><td style=\"text-align: right;\">        283504          </td><td style=\"text-align: right;\"> 532.451</td><td style=\"text-align: right;\">283504          </td><td style=\"text-align: right;\"> 281.933</td><td style=\"text-align: right;\">0.112541 </td></tr>\n",
       "<tr><td>XGBoost_3_AutoML_20200302_105331                   </td><td style=\"text-align: right;\">        537433          </td><td style=\"text-align: right;\"> 733.098</td><td style=\"text-align: right;\">537433          </td><td style=\"text-align: right;\"> 396.098</td><td style=\"text-align: right;\">0.158313 </td></tr>\n",
       "<tr><td>GBM_1_AutoML_20200302_105331                       </td><td style=\"text-align: right;\">             6.15328e+06</td><td style=\"text-align: right;\">2480.58 </td><td style=\"text-align: right;\">     6.15328e+06</td><td style=\"text-align: right;\">1868.94 </td><td style=\"text-align: right;\">0.854624 </td></tr>\n",
       "<tr><td>GLM_1_AutoML_20200302_105331                       </td><td style=\"text-align: right;\">             1.11047e+07</td><td style=\"text-align: right;\">3332.36 </td><td style=\"text-align: right;\">     1.11047e+07</td><td style=\"text-align: right;\">2572.5  </td><td style=\"text-align: right;\">1.05989  </td></tr>\n",
       "</tbody>\n",
       "</table>"
      ]
     },
     "metadata": {},
     "output_type": "display_data"
    },
    {
     "data": {
      "text/plain": []
     },
     "metadata": {},
     "output_type": "display_data"
    },
    {
     "name": "stdout",
     "output_type": "stream",
     "text": [
      "Export File progress: |███████████████████████████████████████████████████| 100%\n",
      "AutoML progress: |████████████████████████████████████████████████████████| 100%\n",
      "stackedensemble prediction progress: |████████████████████████████████████| 100%\n"
     ]
    },
    {
     "data": {
      "text/html": [
       "<table>\n",
       "<thead>\n",
       "<tr><th style=\"text-align: right;\">  predict</th></tr>\n",
       "</thead>\n",
       "<tbody>\n",
       "<tr><td style=\"text-align: right;\">  16911  </td></tr>\n",
       "<tr><td style=\"text-align: right;\">  16172.1</td></tr>\n",
       "<tr><td style=\"text-align: right;\">  15723.8</td></tr>\n",
       "<tr><td style=\"text-align: right;\">  16707.5</td></tr>\n",
       "<tr><td style=\"text-align: right;\">  15623.6</td></tr>\n",
       "<tr><td style=\"text-align: right;\">  13096.7</td></tr>\n",
       "<tr><td style=\"text-align: right;\">  16787.1</td></tr>\n",
       "<tr><td style=\"text-align: right;\">  16711.2</td></tr>\n",
       "<tr><td style=\"text-align: right;\">  15093.4</td></tr>\n",
       "<tr><td style=\"text-align: right;\">  16057.4</td></tr>\n",
       "</tbody>\n",
       "</table>"
      ]
     },
     "metadata": {},
     "output_type": "display_data"
    },
    {
     "data": {
      "text/plain": []
     },
     "metadata": {},
     "output_type": "display_data"
    },
    {
     "data": {
      "text/html": [
       "<table>\n",
       "<thead>\n",
       "<tr><th>model_id                                           </th><th style=\"text-align: right;\">  mean_residual_deviance</th><th style=\"text-align: right;\">   rmse</th><th style=\"text-align: right;\">        mse</th><th style=\"text-align: right;\">    mae</th><th style=\"text-align: right;\">   rmsle</th></tr>\n",
       "</thead>\n",
       "<tbody>\n",
       "<tr><td>StackedEnsemble_AllModels_AutoML_20200302_105634   </td><td style=\"text-align: right;\">             2.74256e+06</td><td style=\"text-align: right;\">1656.07</td><td style=\"text-align: right;\">2.74256e+06</td><td style=\"text-align: right;\">1291.61</td><td style=\"text-align: right;\">0.117709</td></tr>\n",
       "<tr><td>StackedEnsemble_BestOfFamily_AutoML_20200302_105634</td><td style=\"text-align: right;\">             2.74429e+06</td><td style=\"text-align: right;\">1656.59</td><td style=\"text-align: right;\">2.74429e+06</td><td style=\"text-align: right;\">1298.62</td><td style=\"text-align: right;\">0.118052</td></tr>\n",
       "<tr><td>XGBoost_3_AutoML_20200302_105634                   </td><td style=\"text-align: right;\">             2.7679e+06 </td><td style=\"text-align: right;\">1663.7 </td><td style=\"text-align: right;\">2.7679e+06 </td><td style=\"text-align: right;\">1320.01</td><td style=\"text-align: right;\">0.1185  </td></tr>\n",
       "<tr><td>XGBoost_1_AutoML_20200302_105634                   </td><td style=\"text-align: right;\">             2.76798e+06</td><td style=\"text-align: right;\">1663.72</td><td style=\"text-align: right;\">2.76798e+06</td><td style=\"text-align: right;\">1308.5 </td><td style=\"text-align: right;\">0.118093</td></tr>\n",
       "<tr><td>XGBoost_2_AutoML_20200302_105634                   </td><td style=\"text-align: right;\">             2.78359e+06</td><td style=\"text-align: right;\">1668.41</td><td style=\"text-align: right;\">2.78359e+06</td><td style=\"text-align: right;\">1319.5 </td><td style=\"text-align: right;\">0.118371</td></tr>\n",
       "<tr><td>GBM_2_AutoML_20200302_105634                       </td><td style=\"text-align: right;\">             2.79551e+06</td><td style=\"text-align: right;\">1671.98</td><td style=\"text-align: right;\">2.79551e+06</td><td style=\"text-align: right;\">1311.88</td><td style=\"text-align: right;\">0.119486</td></tr>\n",
       "<tr><td>GBM_3_AutoML_20200302_105634                       </td><td style=\"text-align: right;\">             2.79883e+06</td><td style=\"text-align: right;\">1672.97</td><td style=\"text-align: right;\">2.79883e+06</td><td style=\"text-align: right;\">1315.61</td><td style=\"text-align: right;\">0.119464</td></tr>\n",
       "<tr><td>XGBoost_grid__1_AutoML_20200302_105634_model_1     </td><td style=\"text-align: right;\">             2.8046e+06 </td><td style=\"text-align: right;\">1674.69</td><td style=\"text-align: right;\">2.8046e+06 </td><td style=\"text-align: right;\">1332.83</td><td style=\"text-align: right;\">0.11939 </td></tr>\n",
       "<tr><td>XGBoost_grid__1_AutoML_20200302_105634_model_2     </td><td style=\"text-align: right;\">             2.81191e+06</td><td style=\"text-align: right;\">1676.87</td><td style=\"text-align: right;\">2.81191e+06</td><td style=\"text-align: right;\">1327.72</td><td style=\"text-align: right;\">0.119621</td></tr>\n",
       "<tr><td>GBM_grid__1_AutoML_20200302_105634_model_8         </td><td style=\"text-align: right;\">             2.82373e+06</td><td style=\"text-align: right;\">1680.39</td><td style=\"text-align: right;\">2.82373e+06</td><td style=\"text-align: right;\">1340.03</td><td style=\"text-align: right;\">0.119339</td></tr>\n",
       "</tbody>\n",
       "</table>"
      ]
     },
     "metadata": {},
     "output_type": "display_data"
    },
    {
     "data": {
      "text/plain": []
     },
     "metadata": {},
     "output_type": "display_data"
    },
    {
     "name": "stdout",
     "output_type": "stream",
     "text": [
      "Export File progress: |███████████████████████████████████████████████████| 100%\n",
      "AutoML progress: |██████████\n",
      "10:59:52.601: Skipping training of model GBM_5_AutoML_20200302_105939 due to exception: water.exceptions.H2OModelBuilderIllegalArgumentException: Illegal argument(s) for GBM model: GBM_5_AutoML_20200302_105939.  Details: ERRR on field: _min_rows: The dataset size is too small to split for min_rows=100.0: must have at least 200.0 (weighted) rows, but have only 47.0.\n",
      "\n",
      "\n",
      "███████████████████████████████████████Failed polling AutoML progress log: HTTP 500 Server Error:\n",
      "Server error java.lang.ArrayIndexOutOfBoundsException:\n",
      "  Error: Index 141 out of bounds for length 141\n",
      "  Request: None\n",
      "\n",
      "███████| 100%\n",
      "gbm prediction progress: |████████████████████████████████████████████████| 100%\n"
     ]
    },
    {
     "data": {
      "text/html": [
       "<table>\n",
       "<thead>\n",
       "<tr><th style=\"text-align: right;\">  predict</th></tr>\n",
       "</thead>\n",
       "<tbody>\n",
       "<tr><td style=\"text-align: right;\"> 15700.7 </td></tr>\n",
       "<tr><td style=\"text-align: right;\"> 17741.4 </td></tr>\n",
       "<tr><td style=\"text-align: right;\"> 17758   </td></tr>\n",
       "<tr><td style=\"text-align: right;\"> 17250.3 </td></tr>\n",
       "<tr><td style=\"text-align: right;\"> 11071.6 </td></tr>\n",
       "<tr><td style=\"text-align: right;\"> 14052   </td></tr>\n",
       "<tr><td style=\"text-align: right;\"> 15420.4 </td></tr>\n",
       "<tr><td style=\"text-align: right;\"> 17095.8 </td></tr>\n",
       "<tr><td style=\"text-align: right;\">  9405.55</td></tr>\n",
       "<tr><td style=\"text-align: right;\"> 16464.8 </td></tr>\n",
       "</tbody>\n",
       "</table>"
      ]
     },
     "metadata": {},
     "output_type": "display_data"
    },
    {
     "data": {
      "text/plain": []
     },
     "metadata": {},
     "output_type": "display_data"
    },
    {
     "data": {
      "text/html": [
       "<table>\n",
       "<thead>\n",
       "<tr><th>model_id                                       </th><th style=\"text-align: right;\">  mean_residual_deviance</th><th style=\"text-align: right;\">   rmse</th><th style=\"text-align: right;\">        mse</th><th style=\"text-align: right;\">    mae</th><th style=\"text-align: right;\">   rmsle</th></tr>\n",
       "</thead>\n",
       "<tbody>\n",
       "<tr><td>GBM_grid__1_AutoML_20200302_105939_model_63    </td><td style=\"text-align: right;\">             4.90189e+06</td><td style=\"text-align: right;\">2214.02</td><td style=\"text-align: right;\">4.90189e+06</td><td style=\"text-align: right;\">1764.75</td><td style=\"text-align: right;\">0.175838</td></tr>\n",
       "<tr><td>GBM_grid__1_AutoML_20200302_105939_model_134   </td><td style=\"text-align: right;\">             4.94327e+06</td><td style=\"text-align: right;\">2223.35</td><td style=\"text-align: right;\">4.94327e+06</td><td style=\"text-align: right;\">1804.74</td><td style=\"text-align: right;\">0.168976</td></tr>\n",
       "<tr><td>XGBoost_1_AutoML_20200302_105939               </td><td style=\"text-align: right;\">             5.16039e+06</td><td style=\"text-align: right;\">2271.65</td><td style=\"text-align: right;\">5.16039e+06</td><td style=\"text-align: right;\">1899.05</td><td style=\"text-align: right;\">0.180658</td></tr>\n",
       "<tr><td>GBM_grid__1_AutoML_20200302_105939_model_30    </td><td style=\"text-align: right;\">             5.17042e+06</td><td style=\"text-align: right;\">2273.86</td><td style=\"text-align: right;\">5.17042e+06</td><td style=\"text-align: right;\">1891.53</td><td style=\"text-align: right;\">0.183034</td></tr>\n",
       "<tr><td>XGBoost_grid__1_AutoML_20200302_105939_model_25</td><td style=\"text-align: right;\">             5.27894e+06</td><td style=\"text-align: right;\">2297.6 </td><td style=\"text-align: right;\">5.27894e+06</td><td style=\"text-align: right;\">1896.78</td><td style=\"text-align: right;\">0.181148</td></tr>\n",
       "<tr><td>XGBoost_grid__1_AutoML_20200302_105939_model_26</td><td style=\"text-align: right;\">             5.3288e+06 </td><td style=\"text-align: right;\">2308.42</td><td style=\"text-align: right;\">5.3288e+06 </td><td style=\"text-align: right;\">1881.12</td><td style=\"text-align: right;\">0.178022</td></tr>\n",
       "<tr><td>GBM_grid__1_AutoML_20200302_105939_model_175   </td><td style=\"text-align: right;\">             5.45147e+06</td><td style=\"text-align: right;\">2334.84</td><td style=\"text-align: right;\">5.45147e+06</td><td style=\"text-align: right;\">1896.46</td><td style=\"text-align: right;\">0.189997</td></tr>\n",
       "<tr><td>XGBoost_grid__1_AutoML_20200302_105939_model_10</td><td style=\"text-align: right;\">             5.49379e+06</td><td style=\"text-align: right;\">2343.88</td><td style=\"text-align: right;\">5.49379e+06</td><td style=\"text-align: right;\">1950.73</td><td style=\"text-align: right;\">0.184316</td></tr>\n",
       "<tr><td>GBM_grid__1_AutoML_20200302_105939_model_131   </td><td style=\"text-align: right;\">             5.52228e+06</td><td style=\"text-align: right;\">2349.95</td><td style=\"text-align: right;\">5.52228e+06</td><td style=\"text-align: right;\">1942.26</td><td style=\"text-align: right;\">0.194471</td></tr>\n",
       "<tr><td>XRT_1_AutoML_20200302_105939                   </td><td style=\"text-align: right;\">             5.52259e+06</td><td style=\"text-align: right;\">2350.02</td><td style=\"text-align: right;\">5.52259e+06</td><td style=\"text-align: right;\">1914.68</td><td style=\"text-align: right;\">0.183479</td></tr>\n",
       "</tbody>\n",
       "</table>"
      ]
     },
     "metadata": {},
     "output_type": "display_data"
    },
    {
     "data": {
      "text/plain": []
     },
     "metadata": {},
     "output_type": "display_data"
    },
    {
     "name": "stdout",
     "output_type": "stream",
     "text": [
      "Export File progress: |███████████████████████████████████████████████████| 100%\n"
     ]
    }
   ],
   "source": [
    "frames = trainLow, trainMid, trainHigh, testLow, testMid, testHigh\n",
    "trainAutoMLModel('lowCarat', trainLow, testLow, 180)\n",
    "trainAutoMLModel('midCarat', trainMid, testMid, 180)\n",
    "trainAutoMLModel('highCarat', trainHigh, testHigh, 180)"
   ]
  },
  {
   "cell_type": "code",
   "execution_count": null,
   "metadata": {},
   "outputs": [],
   "source": []
  }
 ],
 "metadata": {
  "kernelspec": {
   "display_name": "Python 3.7.6 64-bit",
   "language": "python",
   "name": "python37664bitc736265aa96942798be544ff59087e30"
  },
  "language_info": {
   "codemirror_mode": {
    "name": "ipython",
    "version": 3
   },
   "file_extension": ".py",
   "mimetype": "text/x-python",
   "name": "python",
   "nbconvert_exporter": "python",
   "pygments_lexer": "ipython3",
   "version": "3.7.6"
  }
 },
 "nbformat": 4,
 "nbformat_minor": 4
}
