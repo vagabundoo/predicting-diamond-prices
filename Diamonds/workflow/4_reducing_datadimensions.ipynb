{
 "cells": [
  {
   "cell_type": "code",
   "execution_count": 2,
   "metadata": {},
   "outputs": [],
   "source": [
    "import pandas as pd\n",
    "import numpy as np\n",
    "import seaborn as sns\n",
    "import matplotlib.pyplot as plt"
   ]
  },
  {
   "cell_type": "code",
   "execution_count": 3,
   "metadata": {},
   "outputs": [],
   "source": [
    "diam = pd.read_csv('../cleaned-data/01-diamonds-train-cl.csv')\n",
    "diam_test = pd.read_csv('../cleaned-data/01-diamonds-test-cl.csv')"
   ]
  },
  {
   "cell_type": "code",
   "execution_count": 4,
   "metadata": {},
   "outputs": [
    {
     "data": {
      "text/html": [
       "<div>\n",
       "<style scoped>\n",
       "    .dataframe tbody tr th:only-of-type {\n",
       "        vertical-align: middle;\n",
       "    }\n",
       "\n",
       "    .dataframe tbody tr th {\n",
       "        vertical-align: top;\n",
       "    }\n",
       "\n",
       "    .dataframe thead th {\n",
       "        text-align: right;\n",
       "    }\n",
       "</style>\n",
       "<table border=\"1\" class=\"dataframe\">\n",
       "  <thead>\n",
       "    <tr style=\"text-align: right;\">\n",
       "      <th></th>\n",
       "      <th>id</th>\n",
       "      <th>carat</th>\n",
       "      <th>cut</th>\n",
       "      <th>color</th>\n",
       "      <th>clarity</th>\n",
       "      <th>depth</th>\n",
       "      <th>table</th>\n",
       "      <th>x</th>\n",
       "      <th>y</th>\n",
       "      <th>z</th>\n",
       "      <th>price</th>\n",
       "    </tr>\n",
       "  </thead>\n",
       "  <tbody>\n",
       "    <tr>\n",
       "      <th>0</th>\n",
       "      <td>0</td>\n",
       "      <td>0.78</td>\n",
       "      <td>3</td>\n",
       "      <td>5</td>\n",
       "      <td>0</td>\n",
       "      <td>61.5</td>\n",
       "      <td>58.0</td>\n",
       "      <td>5.93</td>\n",
       "      <td>5.98</td>\n",
       "      <td>3.66</td>\n",
       "      <td>3446</td>\n",
       "    </tr>\n",
       "    <tr>\n",
       "      <th>1</th>\n",
       "      <td>1</td>\n",
       "      <td>0.31</td>\n",
       "      <td>4</td>\n",
       "      <td>7</td>\n",
       "      <td>1</td>\n",
       "      <td>60.8</td>\n",
       "      <td>56.0</td>\n",
       "      <td>4.37</td>\n",
       "      <td>4.32</td>\n",
       "      <td>2.64</td>\n",
       "      <td>732</td>\n",
       "    </tr>\n",
       "    <tr>\n",
       "      <th>2</th>\n",
       "      <td>2</td>\n",
       "      <td>0.30</td>\n",
       "      <td>4</td>\n",
       "      <td>5</td>\n",
       "      <td>1</td>\n",
       "      <td>62.3</td>\n",
       "      <td>54.0</td>\n",
       "      <td>4.30</td>\n",
       "      <td>4.34</td>\n",
       "      <td>2.69</td>\n",
       "      <td>475</td>\n",
       "    </tr>\n",
       "    <tr>\n",
       "      <th>3</th>\n",
       "      <td>3</td>\n",
       "      <td>1.04</td>\n",
       "      <td>4</td>\n",
       "      <td>6</td>\n",
       "      <td>2</td>\n",
       "      <td>62.0</td>\n",
       "      <td>58.0</td>\n",
       "      <td>6.54</td>\n",
       "      <td>6.46</td>\n",
       "      <td>4.03</td>\n",
       "      <td>9552</td>\n",
       "    </tr>\n",
       "    <tr>\n",
       "      <th>4</th>\n",
       "      <td>4</td>\n",
       "      <td>0.65</td>\n",
       "      <td>4</td>\n",
       "      <td>1</td>\n",
       "      <td>1</td>\n",
       "      <td>61.4</td>\n",
       "      <td>55.0</td>\n",
       "      <td>5.58</td>\n",
       "      <td>5.62</td>\n",
       "      <td>3.44</td>\n",
       "      <td>1276</td>\n",
       "    </tr>\n",
       "  </tbody>\n",
       "</table>\n",
       "</div>"
      ],
      "text/plain": [
       "   id  carat  cut  color  clarity  depth  table     x     y     z  price\n",
       "0   0   0.78    3      5        0   61.5   58.0  5.93  5.98  3.66   3446\n",
       "1   1   0.31    4      7        1   60.8   56.0  4.37  4.32  2.64    732\n",
       "2   2   0.30    4      5        1   62.3   54.0  4.30  4.34  2.69    475\n",
       "3   3   1.04    4      6        2   62.0   58.0  6.54  6.46  4.03   9552\n",
       "4   4   0.65    4      1        1   61.4   55.0  5.58  5.62  3.44   1276"
      ]
     },
     "metadata": {},
     "output_type": "display_data"
    },
    {
     "name": "stdout",
     "output_type": "stream",
     "text": [
      "(40345, 11) (13449, 10)\n"
     ]
    },
    {
     "data": {
      "text/plain": [
       "id           int64\n",
       "carat      float64\n",
       "cut          int64\n",
       "color        int64\n",
       "clarity      int64\n",
       "depth      float64\n",
       "table      float64\n",
       "x          float64\n",
       "y          float64\n",
       "z          float64\n",
       "price        int64\n",
       "dtype: object"
      ]
     },
     "execution_count": 4,
     "metadata": {},
     "output_type": "execute_result"
    }
   ],
   "source": [
    "display(diam.head())\n",
    "diam.describe()\n",
    "print(diam.shape, diam_test.shape)\n",
    "diam.dtypes"
   ]
  },
  {
   "cell_type": "code",
   "execution_count": 5,
   "metadata": {},
   "outputs": [
    {
     "data": {
      "text/html": [
       "<div>\n",
       "<style scoped>\n",
       "    .dataframe tbody tr th:only-of-type {\n",
       "        vertical-align: middle;\n",
       "    }\n",
       "\n",
       "    .dataframe tbody tr th {\n",
       "        vertical-align: top;\n",
       "    }\n",
       "\n",
       "    .dataframe thead th {\n",
       "        text-align: right;\n",
       "    }\n",
       "</style>\n",
       "<table border=\"1\" class=\"dataframe\">\n",
       "  <thead>\n",
       "    <tr style=\"text-align: right;\">\n",
       "      <th></th>\n",
       "      <th>id</th>\n",
       "      <th>carat</th>\n",
       "      <th>cut</th>\n",
       "      <th>color</th>\n",
       "      <th>clarity</th>\n",
       "      <th>depth</th>\n",
       "      <th>table</th>\n",
       "      <th>x</th>\n",
       "      <th>y</th>\n",
       "      <th>z</th>\n",
       "      <th>price</th>\n",
       "    </tr>\n",
       "  </thead>\n",
       "  <tbody>\n",
       "    <tr>\n",
       "      <th>id</th>\n",
       "      <td>1.000000</td>\n",
       "      <td>0.001804</td>\n",
       "      <td>-0.002551</td>\n",
       "      <td>0.001494</td>\n",
       "      <td>-0.002441</td>\n",
       "      <td>-0.003035</td>\n",
       "      <td>0.004436</td>\n",
       "      <td>0.003238</td>\n",
       "      <td>0.002021</td>\n",
       "      <td>0.002507</td>\n",
       "      <td>0.001823</td>\n",
       "    </tr>\n",
       "    <tr>\n",
       "      <th>carat</th>\n",
       "      <td>0.001804</td>\n",
       "      <td>1.000000</td>\n",
       "      <td>-0.132754</td>\n",
       "      <td>-0.291382</td>\n",
       "      <td>-0.040854</td>\n",
       "      <td>0.023118</td>\n",
       "      <td>0.181725</td>\n",
       "      <td>0.976267</td>\n",
       "      <td>0.945757</td>\n",
       "      <td>0.968685</td>\n",
       "      <td>0.922345</td>\n",
       "    </tr>\n",
       "    <tr>\n",
       "      <th>cut</th>\n",
       "      <td>-0.002551</td>\n",
       "      <td>-0.132754</td>\n",
       "      <td>1.000000</td>\n",
       "      <td>0.018865</td>\n",
       "      <td>0.040908</td>\n",
       "      <td>-0.213022</td>\n",
       "      <td>-0.432025</td>\n",
       "      <td>-0.124552</td>\n",
       "      <td>-0.119245</td>\n",
       "      <td>-0.149094</td>\n",
       "      <td>-0.053086</td>\n",
       "    </tr>\n",
       "    <tr>\n",
       "      <th>color</th>\n",
       "      <td>0.001494</td>\n",
       "      <td>-0.291382</td>\n",
       "      <td>0.018865</td>\n",
       "      <td>1.000000</td>\n",
       "      <td>0.011880</td>\n",
       "      <td>-0.044171</td>\n",
       "      <td>-0.026576</td>\n",
       "      <td>-0.270998</td>\n",
       "      <td>-0.262095</td>\n",
       "      <td>-0.273173</td>\n",
       "      <td>-0.173932</td>\n",
       "    </tr>\n",
       "    <tr>\n",
       "      <th>clarity</th>\n",
       "      <td>-0.002441</td>\n",
       "      <td>-0.040854</td>\n",
       "      <td>0.040908</td>\n",
       "      <td>0.011880</td>\n",
       "      <td>1.000000</td>\n",
       "      <td>-0.004216</td>\n",
       "      <td>-0.032344</td>\n",
       "      <td>-0.060480</td>\n",
       "      <td>-0.060030</td>\n",
       "      <td>-0.061368</td>\n",
       "      <td>-0.040825</td>\n",
       "    </tr>\n",
       "    <tr>\n",
       "      <th>depth</th>\n",
       "      <td>-0.003035</td>\n",
       "      <td>0.023118</td>\n",
       "      <td>-0.213022</td>\n",
       "      <td>-0.044171</td>\n",
       "      <td>-0.004216</td>\n",
       "      <td>1.000000</td>\n",
       "      <td>-0.299534</td>\n",
       "      <td>-0.028765</td>\n",
       "      <td>-0.032894</td>\n",
       "      <td>0.092482</td>\n",
       "      <td>-0.013307</td>\n",
       "    </tr>\n",
       "    <tr>\n",
       "      <th>table</th>\n",
       "      <td>0.004436</td>\n",
       "      <td>0.181725</td>\n",
       "      <td>-0.432025</td>\n",
       "      <td>-0.026576</td>\n",
       "      <td>-0.032344</td>\n",
       "      <td>-0.299534</td>\n",
       "      <td>1.000000</td>\n",
       "      <td>0.195775</td>\n",
       "      <td>0.182559</td>\n",
       "      <td>0.154399</td>\n",
       "      <td>0.126545</td>\n",
       "    </tr>\n",
       "    <tr>\n",
       "      <th>x</th>\n",
       "      <td>0.003238</td>\n",
       "      <td>0.976267</td>\n",
       "      <td>-0.124552</td>\n",
       "      <td>-0.270998</td>\n",
       "      <td>-0.060480</td>\n",
       "      <td>-0.028765</td>\n",
       "      <td>0.195775</td>\n",
       "      <td>1.000000</td>\n",
       "      <td>0.967143</td>\n",
       "      <td>0.985385</td>\n",
       "      <td>0.886168</td>\n",
       "    </tr>\n",
       "    <tr>\n",
       "      <th>y</th>\n",
       "      <td>0.002021</td>\n",
       "      <td>0.945757</td>\n",
       "      <td>-0.119245</td>\n",
       "      <td>-0.262095</td>\n",
       "      <td>-0.060030</td>\n",
       "      <td>-0.032894</td>\n",
       "      <td>0.182559</td>\n",
       "      <td>0.967143</td>\n",
       "      <td>1.000000</td>\n",
       "      <td>0.960350</td>\n",
       "      <td>0.860499</td>\n",
       "    </tr>\n",
       "    <tr>\n",
       "      <th>z</th>\n",
       "      <td>0.002507</td>\n",
       "      <td>0.968685</td>\n",
       "      <td>-0.149094</td>\n",
       "      <td>-0.273173</td>\n",
       "      <td>-0.061368</td>\n",
       "      <td>0.092482</td>\n",
       "      <td>0.154399</td>\n",
       "      <td>0.985385</td>\n",
       "      <td>0.960350</td>\n",
       "      <td>1.000000</td>\n",
       "      <td>0.876061</td>\n",
       "    </tr>\n",
       "    <tr>\n",
       "      <th>price</th>\n",
       "      <td>0.001823</td>\n",
       "      <td>0.922345</td>\n",
       "      <td>-0.053086</td>\n",
       "      <td>-0.173932</td>\n",
       "      <td>-0.040825</td>\n",
       "      <td>-0.013307</td>\n",
       "      <td>0.126545</td>\n",
       "      <td>0.886168</td>\n",
       "      <td>0.860499</td>\n",
       "      <td>0.876061</td>\n",
       "      <td>1.000000</td>\n",
       "    </tr>\n",
       "  </tbody>\n",
       "</table>\n",
       "</div>"
      ],
      "text/plain": [
       "               id     carat       cut     color   clarity     depth     table  \\\n",
       "id       1.000000  0.001804 -0.002551  0.001494 -0.002441 -0.003035  0.004436   \n",
       "carat    0.001804  1.000000 -0.132754 -0.291382 -0.040854  0.023118  0.181725   \n",
       "cut     -0.002551 -0.132754  1.000000  0.018865  0.040908 -0.213022 -0.432025   \n",
       "color    0.001494 -0.291382  0.018865  1.000000  0.011880 -0.044171 -0.026576   \n",
       "clarity -0.002441 -0.040854  0.040908  0.011880  1.000000 -0.004216 -0.032344   \n",
       "depth   -0.003035  0.023118 -0.213022 -0.044171 -0.004216  1.000000 -0.299534   \n",
       "table    0.004436  0.181725 -0.432025 -0.026576 -0.032344 -0.299534  1.000000   \n",
       "x        0.003238  0.976267 -0.124552 -0.270998 -0.060480 -0.028765  0.195775   \n",
       "y        0.002021  0.945757 -0.119245 -0.262095 -0.060030 -0.032894  0.182559   \n",
       "z        0.002507  0.968685 -0.149094 -0.273173 -0.061368  0.092482  0.154399   \n",
       "price    0.001823  0.922345 -0.053086 -0.173932 -0.040825 -0.013307  0.126545   \n",
       "\n",
       "                x         y         z     price  \n",
       "id       0.003238  0.002021  0.002507  0.001823  \n",
       "carat    0.976267  0.945757  0.968685  0.922345  \n",
       "cut     -0.124552 -0.119245 -0.149094 -0.053086  \n",
       "color   -0.270998 -0.262095 -0.273173 -0.173932  \n",
       "clarity -0.060480 -0.060030 -0.061368 -0.040825  \n",
       "depth   -0.028765 -0.032894  0.092482 -0.013307  \n",
       "table    0.195775  0.182559  0.154399  0.126545  \n",
       "x        1.000000  0.967143  0.985385  0.886168  \n",
       "y        0.967143  1.000000  0.960350  0.860499  \n",
       "z        0.985385  0.960350  1.000000  0.876061  \n",
       "price    0.886168  0.860499  0.876061  1.000000  "
      ]
     },
     "execution_count": 5,
     "metadata": {},
     "output_type": "execute_result"
    }
   ],
   "source": [
    "diam_corr = diam.corr()\n",
    "diam_corr"
   ]
  },
  {
   "cell_type": "code",
   "execution_count": 6,
   "metadata": {},
   "outputs": [
    {
     "data": {
      "text/plain": [
       "<matplotlib.axes._subplots.AxesSubplot at 0x7f359e362dd0>"
      ]
     },
     "execution_count": 6,
     "metadata": {},
     "output_type": "execute_result"
    },
    {
     "data": {
      "image/png": "[encoded data removed]",
      "text/plain": [
       "<Figure size 504x504 with 2 Axes>"
      ]
     },
     "metadata": {
      "needs_background": "light"
     },
     "output_type": "display_data"
    }
   ],
   "source": [
    "plt.figure(figsize=(7,7))\n",
    "sns.heatmap(round(diam_corr,2), annot=True)"
   ]
  },
  {
   "cell_type": "markdown",
   "metadata": {},
   "source": [
    "So a good first step would be to get rid of the x,y,z variables, since they have a very strong correlation among themselves, and with carat (i.e. weight)"
   ]
  },
  {
   "cell_type": "code",
   "execution_count": 7,
   "metadata": {},
   "outputs": [
    {
     "data": {
      "text/plain": [
       "<matplotlib.axes._subplots.AxesSubplot at 0x7f359ba7fad0>"
      ]
     },
     "execution_count": 7,
     "metadata": {},
     "output_type": "execute_result"
    },
    {
     "data": {
      "image/png": "[encoded data removed]",
      "text/plain": [
       "<Figure size 504x504 with 2 Axes>"
      ]
     },
     "metadata": {
      "needs_background": "light"
     },
     "output_type": "display_data"
    }
   ],
   "source": [
    "diam_red = diam.drop(columns=['x','y', 'z'])\n",
    "diam_red_corr = diam_red.corr()\n",
    "plt.figure(figsize=(7,7))\n",
    "sns.heatmap(round(diam_red_corr,2), annot=True)"
   ]
  },
  {
   "cell_type": "markdown",
   "metadata": {},
   "source": [
    "## Splitting the data\n",
    "\n",
    "Another idea, is to split the dataset in two. We can see from the following price-distribution, that there are at least two groups of diamonds."
   ]
  },
  {
   "cell_type": "code",
   "execution_count": 8,
   "metadata": {},
   "outputs": [
    {
     "data": {
      "text/plain": [
       "<matplotlib.axes._subplots.AxesSubplot at 0x7f359b93a5d0>"
      ]
     },
     "execution_count": 8,
     "metadata": {},
     "output_type": "execute_result"
    },
    {
     "data": {
      "image/png": "[encoded data removed]",
      "text/plain": [
       "<Figure size 432x288 with 1 Axes>"
      ]
     },
     "metadata": {
      "needs_background": "light"
     },
     "output_type": "display_data"
    }
   ],
   "source": [
    "sns.kdeplot(diam.price)"
   ]
  },
  {
   "cell_type": "code",
   "execution_count": 9,
   "metadata": {},
   "outputs": [
    {
     "data": {
      "text/plain": [
       "<matplotlib.axes._subplots.AxesSubplot at 0x7f359b8b5590>"
      ]
     },
     "execution_count": 9,
     "metadata": {},
     "output_type": "execute_result"
    },
    {
     "data": {
      "image/png": "[encoded data removed]",
      "text/plain": [
       "<Figure size 432x288 with 1 Axes>"
      ]
     },
     "metadata": {
      "needs_background": "light"
     },
     "output_type": "display_data"
    }
   ],
   "source": [
    "sns.kdeplot(diam.carat)"
   ]
  },
  {
   "cell_type": "code",
   "execution_count": 10,
   "metadata": {},
   "outputs": [
    {
     "data": {
      "text/plain": [
       "<matplotlib.axes._subplots.AxesSubplot at 0x7f359b82eed0>"
      ]
     },
     "execution_count": 10,
     "metadata": {},
     "output_type": "execute_result"
    },
    {
     "data": {
      "image/png": "[encoded data removed]",
      "text/plain": [
       "<Figure size 432x288 with 1 Axes>"
      ]
     },
     "metadata": {
      "needs_background": "light"
     },
     "output_type": "display_data"
    }
   ],
   "source": [
    "sns.distplot(diam.carat)"
   ]
  },
  {
   "cell_type": "code",
   "execution_count": 13,
   "metadata": {},
   "outputs": [
    {
     "data": {
      "text/plain": [
       "<matplotlib.axes._subplots.AxesSubplot at 0x7f359b5c0850>"
      ]
     },
     "execution_count": 13,
     "metadata": {},
     "output_type": "execute_result"
    },
    {
     "data": {
      "image/png": "[encoded data removed]",
      "text/plain": [
       "<Figure size 432x288 with 1 Axes>"
      ]
     },
     "metadata": {
      "needs_background": "light"
     },
     "output_type": "display_data"
    }
   ],
   "source": [
    "sns.distplot(diam.carat[diam.carat > 1.95])"
   ]
  },
  {
   "cell_type": "code",
   "execution_count": 18,
   "metadata": {},
   "outputs": [
    {
     "data": {
      "text/plain": [
       "<matplotlib.axes._subplots.AxesSubplot at 0x7f359b1d64d0>"
      ]
     },
     "execution_count": 18,
     "metadata": {},
     "output_type": "execute_result"
    },
    {
     "data": {
      "image/png": "[encoded data removed]",
      "text/plain": [
       "<Figure size 432x288 with 1 Axes>"
      ]
     },
     "metadata": {
      "needs_background": "light"
     },
     "output_type": "display_data"
    }
   ],
   "source": [
    "sns.distplot(diam.carat[diam.carat < 2])"
   ]
  },
  {
   "cell_type": "code",
   "execution_count": 23,
   "metadata": {},
   "outputs": [
    {
     "data": {
      "text/plain": [
       "<matplotlib.axes._subplots.AxesSubplot at 0x7f359ad3c050>"
      ]
     },
     "execution_count": 23,
     "metadata": {},
     "output_type": "execute_result"
    },
    {
     "data": {
      "image/png": "[encoded data removed]",
      "text/plain": [
       "<Figure size 432x288 with 1 Axes>"
      ]
     },
     "metadata": {
      "needs_background": "light"
     },
     "output_type": "display_data"
    }
   ],
   "source": [
    "sns.distplot(diam.loc[(diam.carat >= 2) & (diam.carat <= 2.6)].carat)"
   ]
  },
  {
   "cell_type": "code",
   "execution_count": 24,
   "metadata": {},
   "outputs": [
    {
     "data": {
      "text/plain": [
       "<matplotlib.axes._subplots.AxesSubplot at 0x7f359ac793d0>"
      ]
     },
     "execution_count": 24,
     "metadata": {},
     "output_type": "execute_result"
    },
    {
     "data": {
      "image/png": "[encoded data removed]",
      "text/plain": [
       "<Figure size 432x288 with 1 Axes>"
      ]
     },
     "metadata": {
      "needs_background": "light"
     },
     "output_type": "display_data"
    }
   ],
   "source": [
    "sns.distplot(diam.carat.loc[diam.carat > 2.6])"
   ]
  },
  {
   "cell_type": "code",
   "execution_count": 34,
   "metadata": {},
   "outputs": [
    {
     "data": {
      "text/plain": [
       "<matplotlib.axes._subplots.AxesSubplot at 0x7fb83b7f3b10>"
      ]
     },
     "execution_count": 34,
     "metadata": {},
     "output_type": "execute_result"
    },
    {
     "data": {
      "image/png": "[encoded data removed]",
      "text/plain": [
       "<Figure size 432x288 with 1 Axes>"
      ]
     },
     "metadata": {
      "needs_background": "light"
     },
     "output_type": "display_data"
    }
   ],
   "source": [
    "sns.distplot(diam.loc[(diam.carat >= 2.0) & (diam.carat <= 2.8)].carat)"
   ]
  },
  {
   "cell_type": "code",
   "execution_count": 35,
   "metadata": {},
   "outputs": [
    {
     "data": {
      "text/plain": [
       "<matplotlib.axes._subplots.AxesSubplot at 0x7fb83b741990>"
      ]
     },
     "execution_count": 35,
     "metadata": {},
     "output_type": "execute_result"
    },
    {
     "data": {
      "image/png": "[encoded data removed]",
      "text/plain": [
       "<Figure size 432x288 with 1 Axes>"
      ]
     },
     "metadata": {
      "needs_background": "light"
     },
     "output_type": "display_data"
    }
   ],
   "source": [
    "sns.distplot(diam.loc[(diam.carat >= 2.8) & (diam.carat <= 900)].carat)"
   ]
  },
  {
   "cell_type": "markdown",
   "metadata": {},
   "source": [
    "A first idea would be to divide in two - below or equal 2 carats, and above two carats."
   ]
  },
  {
   "cell_type": "code",
   "execution_count": 36,
   "metadata": {},
   "outputs": [],
   "source": [
    "def splitFrame(df):\n",
    "    df = df.drop(columns=['x','y','z'])\n",
    "    dflow = df.loc[df.carat < 2.0]\n",
    "    dfhigh = df.loc[df.carat >= 2.0]\n",
    "    return dflow, dfhigh\n",
    "\n",
    "\n",
    "train_low, train_high = splitFrame(diam)\n",
    "test_low, test_high = splitFrame(diam_test)"
   ]
  },
  {
   "cell_type": "code",
   "execution_count": 41,
   "metadata": {},
   "outputs": [
    {
     "data": {
      "text/html": [
       "<div>\n",
       "<style scoped>\n",
       "    .dataframe tbody tr th:only-of-type {\n",
       "        vertical-align: middle;\n",
       "    }\n",
       "\n",
       "    .dataframe tbody tr th {\n",
       "        vertical-align: top;\n",
       "    }\n",
       "\n",
       "    .dataframe thead th {\n",
       "        text-align: right;\n",
       "    }\n",
       "</style>\n",
       "<table border=\"1\" class=\"dataframe\">\n",
       "  <thead>\n",
       "    <tr style=\"text-align: right;\">\n",
       "      <th></th>\n",
       "      <th>id</th>\n",
       "      <th>carat</th>\n",
       "      <th>cut</th>\n",
       "      <th>color</th>\n",
       "      <th>clarity</th>\n",
       "      <th>depth</th>\n",
       "      <th>table</th>\n",
       "    </tr>\n",
       "  </thead>\n",
       "  <tbody>\n",
       "    <tr>\n",
       "      <th>0</th>\n",
       "      <td>0</td>\n",
       "      <td>1.10</td>\n",
       "      <td>3</td>\n",
       "      <td>3</td>\n",
       "      <td>3</td>\n",
       "      <td>62.2</td>\n",
       "      <td>58.0</td>\n",
       "    </tr>\n",
       "    <tr>\n",
       "      <th>1</th>\n",
       "      <td>1</td>\n",
       "      <td>0.51</td>\n",
       "      <td>4</td>\n",
       "      <td>2</td>\n",
       "      <td>1</td>\n",
       "      <td>62.5</td>\n",
       "      <td>57.0</td>\n",
       "    </tr>\n",
       "    <tr>\n",
       "      <th>3</th>\n",
       "      <td>3</td>\n",
       "      <td>1.21</td>\n",
       "      <td>3</td>\n",
       "      <td>5</td>\n",
       "      <td>1</td>\n",
       "      <td>60.0</td>\n",
       "      <td>60.0</td>\n",
       "    </tr>\n",
       "    <tr>\n",
       "      <th>4</th>\n",
       "      <td>4</td>\n",
       "      <td>0.55</td>\n",
       "      <td>4</td>\n",
       "      <td>5</td>\n",
       "      <td>1</td>\n",
       "      <td>61.8</td>\n",
       "      <td>55.0</td>\n",
       "    </tr>\n",
       "    <tr>\n",
       "      <th>5</th>\n",
       "      <td>5</td>\n",
       "      <td>0.70</td>\n",
       "      <td>3</td>\n",
       "      <td>3</td>\n",
       "      <td>1</td>\n",
       "      <td>61.1</td>\n",
       "      <td>58.0</td>\n",
       "    </tr>\n",
       "  </tbody>\n",
       "</table>\n",
       "</div>"
      ],
      "text/plain": [
       "   id  carat  cut  color  clarity  depth  table\n",
       "0   0   1.10    3      3        3   62.2   58.0\n",
       "1   1   0.51    4      2        1   62.5   57.0\n",
       "3   3   1.21    3      5        1   60.0   60.0\n",
       "4   4   0.55    4      5        1   61.8   55.0\n",
       "5   5   0.70    3      3        1   61.1   58.0"
      ]
     },
     "execution_count": 41,
     "metadata": {},
     "output_type": "execute_result"
    }
   ],
   "source": [
    "test_low.head()"
   ]
  },
  {
   "cell_type": "code",
   "execution_count": 38,
   "metadata": {},
   "outputs": [],
   "source": [
    "for e,i in zip([train_low, train_high, test_low, test_high], [\"train_low\", \"train_high\", \"test_low\", \"test_high\"]):\n",
    "    e.to_csv(f'../cleaned-data/03-{i}.csv', index=False)"
   ]
  },
  {
   "cell_type": "code",
   "execution_count": 39,
   "metadata": {},
   "outputs": [
    {
     "data": {
      "text/plain": [
       "id           int64\n",
       "carat      float64\n",
       "cut          int64\n",
       "color        int64\n",
       "clarity      int64\n",
       "depth      float64\n",
       "table      float64\n",
       "dtype: object"
      ]
     },
     "execution_count": 39,
     "metadata": {},
     "output_type": "execute_result"
    }
   ],
   "source": [
    "test_low.dtypes"
   ]
  },
  {
   "cell_type": "markdown",
   "metadata": {},
   "source": [
    "## Trying different approaches\n",
    "\n",
    "Our initial results with the split model were not an improvement of the earlier model. We changed multiple variables at once however - we both removed collinear variables and split the dataset. We come back here to readd the variables x,y,z, to see if this was the cause of the discrepancy"
   ]
  },
  {
   "cell_type": "code",
   "execution_count": 51,
   "metadata": {},
   "outputs": [],
   "source": [
    "from sklearn.preprocessing import MinMaxScaler"
   ]
  },
  {
   "cell_type": "code",
   "execution_count": 4,
   "metadata": {},
   "outputs": [],
   "source": [
    "def splitFrame(df):\n",
    "    dflow = df.loc[df.carat < 2.0]\n",
    "    dfhigh = df.loc[df.carat >= 2.0]\n",
    "    return dflow, dfhigh\n",
    "\n",
    "def splitFrameDropXYZ(df):\n",
    "    df = df.drop(columns=['x','y','z'])\n",
    "    dflow = df.loc[df.carat < 2.0]\n",
    "    dfhigh = df.loc[df.carat >= 2.0]\n",
    "    return dflow, dfhigh"
   ]
  },
  {
   "cell_type": "code",
   "execution_count": 62,
   "metadata": {},
   "outputs": [],
   "source": [
    "diamTrainCompl = pd.read_csv('../cleaned-data/01-diamonds-train-cl.csv')\n",
    "diamTestCompl = pd.read_csv('../cleaned-data/01-diamonds-test-cl.csv')\n",
    "\n",
    "train_low, train_high = splitFrame(diamTrainCompl)\n",
    "test_low, test_high = splitFrame(diamTestCompl)"
   ]
  },
  {
   "cell_type": "code",
   "execution_count": 56,
   "metadata": {},
   "outputs": [
    {
     "data": {
      "text/html": [
       "<div>\n",
       "<style scoped>\n",
       "    .dataframe tbody tr th:only-of-type {\n",
       "        vertical-align: middle;\n",
       "    }\n",
       "\n",
       "    .dataframe tbody tr th {\n",
       "        vertical-align: top;\n",
       "    }\n",
       "\n",
       "    .dataframe thead th {\n",
       "        text-align: right;\n",
       "    }\n",
       "</style>\n",
       "<table border=\"1\" class=\"dataframe\">\n",
       "  <thead>\n",
       "    <tr style=\"text-align: right;\">\n",
       "      <th></th>\n",
       "      <th>id</th>\n",
       "      <th>carat</th>\n",
       "      <th>cut</th>\n",
       "      <th>color</th>\n",
       "      <th>clarity</th>\n",
       "      <th>depth</th>\n",
       "      <th>table</th>\n",
       "      <th>price</th>\n",
       "    </tr>\n",
       "  </thead>\n",
       "  <tbody>\n",
       "    <tr>\n",
       "      <th>0</th>\n",
       "      <td>0.000000</td>\n",
       "      <td>0.324022</td>\n",
       "      <td>0.75</td>\n",
       "      <td>0.666667</td>\n",
       "      <td>0.000000</td>\n",
       "      <td>0.513889</td>\n",
       "      <td>0.416667</td>\n",
       "      <td>0.168831</td>\n",
       "    </tr>\n",
       "    <tr>\n",
       "      <th>1</th>\n",
       "      <td>0.000025</td>\n",
       "      <td>0.061453</td>\n",
       "      <td>1.00</td>\n",
       "      <td>1.000000</td>\n",
       "      <td>0.142857</td>\n",
       "      <td>0.494444</td>\n",
       "      <td>0.361111</td>\n",
       "      <td>0.021970</td>\n",
       "    </tr>\n",
       "    <tr>\n",
       "      <th>2</th>\n",
       "      <td>0.000050</td>\n",
       "      <td>0.055866</td>\n",
       "      <td>1.00</td>\n",
       "      <td>0.666667</td>\n",
       "      <td>0.142857</td>\n",
       "      <td>0.536111</td>\n",
       "      <td>0.305556</td>\n",
       "      <td>0.008063</td>\n",
       "    </tr>\n",
       "    <tr>\n",
       "      <th>3</th>\n",
       "      <td>0.000074</td>\n",
       "      <td>0.469274</td>\n",
       "      <td>1.00</td>\n",
       "      <td>0.833333</td>\n",
       "      <td>0.285714</td>\n",
       "      <td>0.527778</td>\n",
       "      <td>0.416667</td>\n",
       "      <td>0.499242</td>\n",
       "    </tr>\n",
       "    <tr>\n",
       "      <th>4</th>\n",
       "      <td>0.000099</td>\n",
       "      <td>0.251397</td>\n",
       "      <td>1.00</td>\n",
       "      <td>0.000000</td>\n",
       "      <td>0.142857</td>\n",
       "      <td>0.511111</td>\n",
       "      <td>0.333333</td>\n",
       "      <td>0.051407</td>\n",
       "    </tr>\n",
       "    <tr>\n",
       "      <th>...</th>\n",
       "      <td>...</td>\n",
       "      <td>...</td>\n",
       "      <td>...</td>\n",
       "      <td>...</td>\n",
       "      <td>...</td>\n",
       "      <td>...</td>\n",
       "      <td>...</td>\n",
       "      <td>...</td>\n",
       "    </tr>\n",
       "    <tr>\n",
       "      <th>38725</th>\n",
       "      <td>0.999901</td>\n",
       "      <td>0.167598</td>\n",
       "      <td>1.00</td>\n",
       "      <td>0.833333</td>\n",
       "      <td>0.000000</td>\n",
       "      <td>0.525000</td>\n",
       "      <td>0.361111</td>\n",
       "      <td>0.075216</td>\n",
       "    </tr>\n",
       "    <tr>\n",
       "      <th>38726</th>\n",
       "      <td>0.999926</td>\n",
       "      <td>0.072626</td>\n",
       "      <td>1.00</td>\n",
       "      <td>1.000000</td>\n",
       "      <td>0.571429</td>\n",
       "      <td>0.522222</td>\n",
       "      <td>0.361111</td>\n",
       "      <td>0.024621</td>\n",
       "    </tr>\n",
       "    <tr>\n",
       "      <th>38727</th>\n",
       "      <td>0.999950</td>\n",
       "      <td>0.111732</td>\n",
       "      <td>0.75</td>\n",
       "      <td>0.500000</td>\n",
       "      <td>0.857143</td>\n",
       "      <td>0.513889</td>\n",
       "      <td>0.416667</td>\n",
       "      <td>0.043128</td>\n",
       "    </tr>\n",
       "    <tr>\n",
       "      <th>38728</th>\n",
       "      <td>0.999975</td>\n",
       "      <td>0.480447</td>\n",
       "      <td>1.00</td>\n",
       "      <td>0.166667</td>\n",
       "      <td>0.000000</td>\n",
       "      <td>0.505556</td>\n",
       "      <td>0.388889</td>\n",
       "      <td>0.288149</td>\n",
       "    </tr>\n",
       "    <tr>\n",
       "      <th>38729</th>\n",
       "      <td>1.000000</td>\n",
       "      <td>0.452514</td>\n",
       "      <td>0.50</td>\n",
       "      <td>0.333333</td>\n",
       "      <td>0.428571</td>\n",
       "      <td>0.566667</td>\n",
       "      <td>0.333333</td>\n",
       "      <td>0.196591</td>\n",
       "    </tr>\n",
       "  </tbody>\n",
       "</table>\n",
       "<p>38730 rows × 8 columns</p>\n",
       "</div>"
      ],
      "text/plain": [
       "             id     carat   cut     color   clarity     depth     table  \\\n",
       "0      0.000000  0.324022  0.75  0.666667  0.000000  0.513889  0.416667   \n",
       "1      0.000025  0.061453  1.00  1.000000  0.142857  0.494444  0.361111   \n",
       "2      0.000050  0.055866  1.00  0.666667  0.142857  0.536111  0.305556   \n",
       "3      0.000074  0.469274  1.00  0.833333  0.285714  0.527778  0.416667   \n",
       "4      0.000099  0.251397  1.00  0.000000  0.142857  0.511111  0.333333   \n",
       "...         ...       ...   ...       ...       ...       ...       ...   \n",
       "38725  0.999901  0.167598  1.00  0.833333  0.000000  0.525000  0.361111   \n",
       "38726  0.999926  0.072626  1.00  1.000000  0.571429  0.522222  0.361111   \n",
       "38727  0.999950  0.111732  0.75  0.500000  0.857143  0.513889  0.416667   \n",
       "38728  0.999975  0.480447  1.00  0.166667  0.000000  0.505556  0.388889   \n",
       "38729  1.000000  0.452514  0.50  0.333333  0.428571  0.566667  0.333333   \n",
       "\n",
       "          price  \n",
       "0      0.168831  \n",
       "1      0.021970  \n",
       "2      0.008063  \n",
       "3      0.499242  \n",
       "4      0.051407  \n",
       "...         ...  \n",
       "38725  0.075216  \n",
       "38726  0.024621  \n",
       "38727  0.043128  \n",
       "38728  0.288149  \n",
       "38729  0.196591  \n",
       "\n",
       "[38730 rows x 8 columns]"
      ]
     },
     "execution_count": 56,
     "metadata": {},
     "output_type": "execute_result"
    }
   ],
   "source": [
    "scaler = MinMaxScaler()\n",
    "pd.DataFrame(scaler.fit_transform(train_low), columns=train_low.columns)"
   ]
  },
  {
   "cell_type": "code",
   "execution_count": 63,
   "metadata": {},
   "outputs": [],
   "source": [
    "for e,i in zip([train_low, train_high, test_low, test_high], [\"train_low\", \"train_high\", \"test_low\", \"test_high\"]):\n",
    "    e.to_csv(f'../cleaned-data/04-{i}-catAsInt-withXYZ.csv', index=False)"
   ]
  },
  {
   "cell_type": "markdown",
   "metadata": {},
   "source": [
    "Another approach we have not yet tried with the split dataset is to use categorical variables as dummies instead of integers, so we will prep the data for that as well here."
   ]
  },
  {
   "cell_type": "code",
   "execution_count": 73,
   "metadata": {},
   "outputs": [],
   "source": [
    "diamTrainCompl = pd.read_csv('../cleaned-data/02_diamonds_train_alldummies.csv')\n",
    "diamTestCompl = pd.read_csv('../cleaned-data/02_diamonds_test_alldummies.csv')\n",
    "\n",
    "train_low, train_high = splitFrame(diamTrainCompl)\n",
    "test_low, test_high = splitFrame(diamTestCompl)"
   ]
  },
  {
   "cell_type": "code",
   "execution_count": 74,
   "metadata": {},
   "outputs": [],
   "source": [
    "for e,i in zip([train_low, train_high, test_low, test_high], [\"train_low\", \"train_high\", \"test_low\", \"test_high\"]):\n",
    "    e.to_csv(f'../cleaned-data/05-{i}-catAsDummies-withXYZ.csv', index=False)"
   ]
  },
  {
   "cell_type": "markdown",
   "metadata": {},
   "source": [
    "Similarly, we should also have dataset with dummies, and without x, y, z variables to test out."
   ]
  },
  {
   "cell_type": "code",
   "execution_count": 75,
   "metadata": {},
   "outputs": [],
   "source": [
    "diamTrainDumXYZdrop = pd.read_csv('../cleaned-data/02_diamonds_train_alldummies.csv')\n",
    "diamTestDumXYZdrop = pd.read_csv('../cleaned-data/02_diamonds_test_alldummies.csv')"
   ]
  },
  {
   "cell_type": "code",
   "execution_count": 76,
   "metadata": {},
   "outputs": [],
   "source": [
    "train_low, train_high = splitFrameDropXYZ(diamTrainDumXYZdrop)\n",
    "test_low, test_high = splitFrameDropXYZ(diamTestDumXYZdrop)"
   ]
  },
  {
   "cell_type": "code",
   "execution_count": 77,
   "metadata": {},
   "outputs": [],
   "source": [
    "for e,i in zip([train_low, train_high, test_low, test_high], [\"train_low\", \"train_high\", \"test_low\", \"test_high\"]):\n",
    "    e.to_csv(f'../cleaned-data/06-{i}-catAsDummies-droppedXYZ.csv', index=False)"
   ]
  },
  {
   "cell_type": "markdown",
   "metadata": {},
   "source": [
    "## Combining several methods\n",
    "\n",
    "We want to try a model where we comebine some of the earlier methods:\n",
    "- Split the dataset in two by carat\n",
    "- Use an int scale for color\n",
    "- Use dummies for clarity and cut"
   ]
  },
  {
   "cell_type": "code",
   "execution_count": 9,
   "metadata": {},
   "outputs": [],
   "source": [
    "diamTrainCombIntAndDum = pd.read_csv('../cleaned-data/07_diamonds_train_colorAsInt_othersAsDummies.csv')\n",
    "diamTestCombIntAndDum = pd.read_csv('../cleaned-data/07_diamonds_test_colorAsInt_othersAsDummies.csv')\n",
    "train_low, train_high = splitFrame(diamTrainCombIntAndDum)\n",
    "test_low, test_high = splitFrame(diamTestCombIntAndDum)"
   ]
  },
  {
   "cell_type": "code",
   "execution_count": 10,
   "metadata": {},
   "outputs": [],
   "source": [
    "for e,i in zip([train_low, train_high, test_low, test_high], [\"train_low\", \"train_high\", \"test_low\", \"test_high\"]):\n",
    "    e.to_csv(f'../cleaned-data/08-{i}-colorAsInt-restAsDummies.csv', index=False)"
   ]
  },
  {
   "cell_type": "code",
   "execution_count": null,
   "metadata": {},
   "outputs": [],
   "source": []
  },
  {
   "cell_type": "code",
   "execution_count": 25,
   "metadata": {},
   "outputs": [],
   "source": [
    "def splitFrame3(df):\n",
    "    dflow = df.loc[df.carat < 2.0]\n",
    "    dfmid = df.loc[(df.carat >= 2) & (df.carat <= 2.6)]\n",
    "    dfhigh = df.loc[df.carat > 2.6]\n",
    "    return dflow, dfmid, dfhigh\n"
   ]
  },
  {
   "cell_type": "code",
   "execution_count": 26,
   "metadata": {},
   "outputs": [],
   "source": [
    "threeWaySplitTrain = pd.read_csv('../cleaned-data/02_diamonds_train_alldummies.csv')\n",
    "threeWaySplitTest = pd.read_csv('../cleaned-data/02_diamonds_test_alldummies.csv')"
   ]
  },
  {
   "cell_type": "code",
   "execution_count": 27,
   "metadata": {},
   "outputs": [],
   "source": [
    "trainLow, trainMid, trainHigh = splitFrame3(threeWaySplitTrain)"
   ]
  },
  {
   "cell_type": "code",
   "execution_count": 28,
   "metadata": {},
   "outputs": [
    {
     "data": {
      "text/html": [
       "<div>\n",
       "<style scoped>\n",
       "    .dataframe tbody tr th:only-of-type {\n",
       "        vertical-align: middle;\n",
       "    }\n",
       "\n",
       "    .dataframe tbody tr th {\n",
       "        vertical-align: top;\n",
       "    }\n",
       "\n",
       "    .dataframe thead th {\n",
       "        text-align: right;\n",
       "    }\n",
       "</style>\n",
       "<table border=\"1\" class=\"dataframe\">\n",
       "  <thead>\n",
       "    <tr style=\"text-align: right;\">\n",
       "      <th></th>\n",
       "      <th>id</th>\n",
       "      <th>carat</th>\n",
       "      <th>depth</th>\n",
       "      <th>table</th>\n",
       "      <th>x</th>\n",
       "      <th>y</th>\n",
       "      <th>z</th>\n",
       "      <th>cut_0</th>\n",
       "      <th>cut_1</th>\n",
       "      <th>cut_2</th>\n",
       "      <th>...</th>\n",
       "      <th>color_7</th>\n",
       "      <th>clarity_0</th>\n",
       "      <th>clarity_1</th>\n",
       "      <th>clarity_2</th>\n",
       "      <th>clarity_3</th>\n",
       "      <th>clarity_4</th>\n",
       "      <th>clarity_5</th>\n",
       "      <th>clarity_6</th>\n",
       "      <th>clarity_7</th>\n",
       "      <th>price</th>\n",
       "    </tr>\n",
       "  </thead>\n",
       "  <tbody>\n",
       "    <tr>\n",
       "      <th>0</th>\n",
       "      <td>0</td>\n",
       "      <td>0.78</td>\n",
       "      <td>61.5</td>\n",
       "      <td>58.0</td>\n",
       "      <td>5.93</td>\n",
       "      <td>5.98</td>\n",
       "      <td>3.66</td>\n",
       "      <td>0</td>\n",
       "      <td>0</td>\n",
       "      <td>0</td>\n",
       "      <td>...</td>\n",
       "      <td>0</td>\n",
       "      <td>1</td>\n",
       "      <td>0</td>\n",
       "      <td>0</td>\n",
       "      <td>0</td>\n",
       "      <td>0</td>\n",
       "      <td>0</td>\n",
       "      <td>0</td>\n",
       "      <td>0</td>\n",
       "      <td>3446</td>\n",
       "    </tr>\n",
       "    <tr>\n",
       "      <th>1</th>\n",
       "      <td>1</td>\n",
       "      <td>0.31</td>\n",
       "      <td>60.8</td>\n",
       "      <td>56.0</td>\n",
       "      <td>4.37</td>\n",
       "      <td>4.32</td>\n",
       "      <td>2.64</td>\n",
       "      <td>0</td>\n",
       "      <td>0</td>\n",
       "      <td>0</td>\n",
       "      <td>...</td>\n",
       "      <td>1</td>\n",
       "      <td>0</td>\n",
       "      <td>1</td>\n",
       "      <td>0</td>\n",
       "      <td>0</td>\n",
       "      <td>0</td>\n",
       "      <td>0</td>\n",
       "      <td>0</td>\n",
       "      <td>0</td>\n",
       "      <td>732</td>\n",
       "    </tr>\n",
       "    <tr>\n",
       "      <th>2</th>\n",
       "      <td>2</td>\n",
       "      <td>0.30</td>\n",
       "      <td>62.3</td>\n",
       "      <td>54.0</td>\n",
       "      <td>4.30</td>\n",
       "      <td>4.34</td>\n",
       "      <td>2.69</td>\n",
       "      <td>0</td>\n",
       "      <td>0</td>\n",
       "      <td>0</td>\n",
       "      <td>...</td>\n",
       "      <td>0</td>\n",
       "      <td>0</td>\n",
       "      <td>1</td>\n",
       "      <td>0</td>\n",
       "      <td>0</td>\n",
       "      <td>0</td>\n",
       "      <td>0</td>\n",
       "      <td>0</td>\n",
       "      <td>0</td>\n",
       "      <td>475</td>\n",
       "    </tr>\n",
       "    <tr>\n",
       "      <th>3</th>\n",
       "      <td>3</td>\n",
       "      <td>1.04</td>\n",
       "      <td>62.0</td>\n",
       "      <td>58.0</td>\n",
       "      <td>6.54</td>\n",
       "      <td>6.46</td>\n",
       "      <td>4.03</td>\n",
       "      <td>0</td>\n",
       "      <td>0</td>\n",
       "      <td>0</td>\n",
       "      <td>...</td>\n",
       "      <td>0</td>\n",
       "      <td>0</td>\n",
       "      <td>0</td>\n",
       "      <td>1</td>\n",
       "      <td>0</td>\n",
       "      <td>0</td>\n",
       "      <td>0</td>\n",
       "      <td>0</td>\n",
       "      <td>0</td>\n",
       "      <td>9552</td>\n",
       "    </tr>\n",
       "    <tr>\n",
       "      <th>4</th>\n",
       "      <td>4</td>\n",
       "      <td>0.65</td>\n",
       "      <td>61.4</td>\n",
       "      <td>55.0</td>\n",
       "      <td>5.58</td>\n",
       "      <td>5.62</td>\n",
       "      <td>3.44</td>\n",
       "      <td>0</td>\n",
       "      <td>0</td>\n",
       "      <td>0</td>\n",
       "      <td>...</td>\n",
       "      <td>0</td>\n",
       "      <td>0</td>\n",
       "      <td>1</td>\n",
       "      <td>0</td>\n",
       "      <td>0</td>\n",
       "      <td>0</td>\n",
       "      <td>0</td>\n",
       "      <td>0</td>\n",
       "      <td>0</td>\n",
       "      <td>1276</td>\n",
       "    </tr>\n",
       "    <tr>\n",
       "      <th>...</th>\n",
       "      <td>...</td>\n",
       "      <td>...</td>\n",
       "      <td>...</td>\n",
       "      <td>...</td>\n",
       "      <td>...</td>\n",
       "      <td>...</td>\n",
       "      <td>...</td>\n",
       "      <td>...</td>\n",
       "      <td>...</td>\n",
       "      <td>...</td>\n",
       "      <td>...</td>\n",
       "      <td>...</td>\n",
       "      <td>...</td>\n",
       "      <td>...</td>\n",
       "      <td>...</td>\n",
       "      <td>...</td>\n",
       "      <td>...</td>\n",
       "      <td>...</td>\n",
       "      <td>...</td>\n",
       "      <td>...</td>\n",
       "      <td>...</td>\n",
       "    </tr>\n",
       "    <tr>\n",
       "      <th>40340</th>\n",
       "      <td>40340</td>\n",
       "      <td>0.50</td>\n",
       "      <td>61.9</td>\n",
       "      <td>56.0</td>\n",
       "      <td>5.09</td>\n",
       "      <td>5.12</td>\n",
       "      <td>3.16</td>\n",
       "      <td>0</td>\n",
       "      <td>0</td>\n",
       "      <td>0</td>\n",
       "      <td>...</td>\n",
       "      <td>0</td>\n",
       "      <td>1</td>\n",
       "      <td>0</td>\n",
       "      <td>0</td>\n",
       "      <td>0</td>\n",
       "      <td>0</td>\n",
       "      <td>0</td>\n",
       "      <td>0</td>\n",
       "      <td>0</td>\n",
       "      <td>1716</td>\n",
       "    </tr>\n",
       "    <tr>\n",
       "      <th>40341</th>\n",
       "      <td>40341</td>\n",
       "      <td>0.33</td>\n",
       "      <td>61.8</td>\n",
       "      <td>56.0</td>\n",
       "      <td>4.40</td>\n",
       "      <td>4.44</td>\n",
       "      <td>2.73</td>\n",
       "      <td>0</td>\n",
       "      <td>0</td>\n",
       "      <td>0</td>\n",
       "      <td>...</td>\n",
       "      <td>1</td>\n",
       "      <td>0</td>\n",
       "      <td>0</td>\n",
       "      <td>0</td>\n",
       "      <td>0</td>\n",
       "      <td>1</td>\n",
       "      <td>0</td>\n",
       "      <td>0</td>\n",
       "      <td>0</td>\n",
       "      <td>781</td>\n",
       "    </tr>\n",
       "    <tr>\n",
       "      <th>40342</th>\n",
       "      <td>40342</td>\n",
       "      <td>0.40</td>\n",
       "      <td>61.5</td>\n",
       "      <td>58.0</td>\n",
       "      <td>4.69</td>\n",
       "      <td>4.74</td>\n",
       "      <td>2.90</td>\n",
       "      <td>0</td>\n",
       "      <td>0</td>\n",
       "      <td>0</td>\n",
       "      <td>...</td>\n",
       "      <td>0</td>\n",
       "      <td>0</td>\n",
       "      <td>0</td>\n",
       "      <td>0</td>\n",
       "      <td>0</td>\n",
       "      <td>0</td>\n",
       "      <td>0</td>\n",
       "      <td>1</td>\n",
       "      <td>0</td>\n",
       "      <td>1123</td>\n",
       "    </tr>\n",
       "    <tr>\n",
       "      <th>40343</th>\n",
       "      <td>40343</td>\n",
       "      <td>1.06</td>\n",
       "      <td>61.2</td>\n",
       "      <td>57.0</td>\n",
       "      <td>6.59</td>\n",
       "      <td>6.56</td>\n",
       "      <td>4.03</td>\n",
       "      <td>0</td>\n",
       "      <td>0</td>\n",
       "      <td>0</td>\n",
       "      <td>...</td>\n",
       "      <td>0</td>\n",
       "      <td>1</td>\n",
       "      <td>0</td>\n",
       "      <td>0</td>\n",
       "      <td>0</td>\n",
       "      <td>0</td>\n",
       "      <td>0</td>\n",
       "      <td>0</td>\n",
       "      <td>0</td>\n",
       "      <td>5651</td>\n",
       "    </tr>\n",
       "    <tr>\n",
       "      <th>40344</th>\n",
       "      <td>40344</td>\n",
       "      <td>1.01</td>\n",
       "      <td>63.4</td>\n",
       "      <td>55.0</td>\n",
       "      <td>6.35</td>\n",
       "      <td>6.29</td>\n",
       "      <td>4.01</td>\n",
       "      <td>0</td>\n",
       "      <td>0</td>\n",
       "      <td>1</td>\n",
       "      <td>...</td>\n",
       "      <td>0</td>\n",
       "      <td>0</td>\n",
       "      <td>0</td>\n",
       "      <td>0</td>\n",
       "      <td>1</td>\n",
       "      <td>0</td>\n",
       "      <td>0</td>\n",
       "      <td>0</td>\n",
       "      <td>0</td>\n",
       "      <td>3959</td>\n",
       "    </tr>\n",
       "  </tbody>\n",
       "</table>\n",
       "<p>38730 rows × 28 columns</p>\n",
       "</div>"
      ],
      "text/plain": [
       "          id  carat  depth  table     x     y     z  cut_0  cut_1  cut_2  ...  \\\n",
       "0          0   0.78   61.5   58.0  5.93  5.98  3.66      0      0      0  ...   \n",
       "1          1   0.31   60.8   56.0  4.37  4.32  2.64      0      0      0  ...   \n",
       "2          2   0.30   62.3   54.0  4.30  4.34  2.69      0      0      0  ...   \n",
       "3          3   1.04   62.0   58.0  6.54  6.46  4.03      0      0      0  ...   \n",
       "4          4   0.65   61.4   55.0  5.58  5.62  3.44      0      0      0  ...   \n",
       "...      ...    ...    ...    ...   ...   ...   ...    ...    ...    ...  ...   \n",
       "40340  40340   0.50   61.9   56.0  5.09  5.12  3.16      0      0      0  ...   \n",
       "40341  40341   0.33   61.8   56.0  4.40  4.44  2.73      0      0      0  ...   \n",
       "40342  40342   0.40   61.5   58.0  4.69  4.74  2.90      0      0      0  ...   \n",
       "40343  40343   1.06   61.2   57.0  6.59  6.56  4.03      0      0      0  ...   \n",
       "40344  40344   1.01   63.4   55.0  6.35  6.29  4.01      0      0      1  ...   \n",
       "\n",
       "       color_7  clarity_0  clarity_1  clarity_2  clarity_3  clarity_4  \\\n",
       "0            0          1          0          0          0          0   \n",
       "1            1          0          1          0          0          0   \n",
       "2            0          0          1          0          0          0   \n",
       "3            0          0          0          1          0          0   \n",
       "4            0          0          1          0          0          0   \n",
       "...        ...        ...        ...        ...        ...        ...   \n",
       "40340        0          1          0          0          0          0   \n",
       "40341        1          0          0          0          0          1   \n",
       "40342        0          0          0          0          0          0   \n",
       "40343        0          1          0          0          0          0   \n",
       "40344        0          0          0          0          1          0   \n",
       "\n",
       "       clarity_5  clarity_6  clarity_7  price  \n",
       "0              0          0          0   3446  \n",
       "1              0          0          0    732  \n",
       "2              0          0          0    475  \n",
       "3              0          0          0   9552  \n",
       "4              0          0          0   1276  \n",
       "...          ...        ...        ...    ...  \n",
       "40340          0          0          0   1716  \n",
       "40341          0          0          0    781  \n",
       "40342          0          1          0   1123  \n",
       "40343          0          0          0   5651  \n",
       "40344          0          0          0   3959  \n",
       "\n",
       "[38730 rows x 28 columns]"
      ]
     },
     "execution_count": 28,
     "metadata": {},
     "output_type": "execute_result"
    }
   ],
   "source": [
    "trainLow"
   ]
  },
  {
   "cell_type": "code",
   "execution_count": 29,
   "metadata": {},
   "outputs": [],
   "source": [
    "testLow, testMid, testHigh = splitFrame3(threeWaySplitTest)"
   ]
  },
  {
   "cell_type": "code",
   "execution_count": 30,
   "metadata": {},
   "outputs": [
    {
     "data": {
      "text/html": [
       "<div>\n",
       "<style scoped>\n",
       "    .dataframe tbody tr th:only-of-type {\n",
       "        vertical-align: middle;\n",
       "    }\n",
       "\n",
       "    .dataframe tbody tr th {\n",
       "        vertical-align: top;\n",
       "    }\n",
       "\n",
       "    .dataframe thead th {\n",
       "        text-align: right;\n",
       "    }\n",
       "</style>\n",
       "<table border=\"1\" class=\"dataframe\">\n",
       "  <thead>\n",
       "    <tr style=\"text-align: right;\">\n",
       "      <th></th>\n",
       "      <th>id</th>\n",
       "      <th>carat</th>\n",
       "      <th>depth</th>\n",
       "      <th>table</th>\n",
       "      <th>x</th>\n",
       "      <th>y</th>\n",
       "      <th>z</th>\n",
       "      <th>cut_0</th>\n",
       "      <th>cut_1</th>\n",
       "      <th>cut_2</th>\n",
       "      <th>...</th>\n",
       "      <th>color_6</th>\n",
       "      <th>color_7</th>\n",
       "      <th>clarity_0</th>\n",
       "      <th>clarity_1</th>\n",
       "      <th>clarity_2</th>\n",
       "      <th>clarity_3</th>\n",
       "      <th>clarity_4</th>\n",
       "      <th>clarity_5</th>\n",
       "      <th>clarity_6</th>\n",
       "      <th>clarity_7</th>\n",
       "    </tr>\n",
       "  </thead>\n",
       "  <tbody>\n",
       "    <tr>\n",
       "      <th>0</th>\n",
       "      <td>0</td>\n",
       "      <td>1.10</td>\n",
       "      <td>62.2</td>\n",
       "      <td>58.0</td>\n",
       "      <td>6.69</td>\n",
       "      <td>6.60</td>\n",
       "      <td>4.13</td>\n",
       "      <td>0</td>\n",
       "      <td>0</td>\n",
       "      <td>0</td>\n",
       "      <td>...</td>\n",
       "      <td>0</td>\n",
       "      <td>0</td>\n",
       "      <td>0</td>\n",
       "      <td>0</td>\n",
       "      <td>0</td>\n",
       "      <td>1</td>\n",
       "      <td>0</td>\n",
       "      <td>0</td>\n",
       "      <td>0</td>\n",
       "      <td>0</td>\n",
       "    </tr>\n",
       "    <tr>\n",
       "      <th>1</th>\n",
       "      <td>1</td>\n",
       "      <td>0.51</td>\n",
       "      <td>62.5</td>\n",
       "      <td>57.0</td>\n",
       "      <td>5.07</td>\n",
       "      <td>5.10</td>\n",
       "      <td>3.18</td>\n",
       "      <td>0</td>\n",
       "      <td>0</td>\n",
       "      <td>0</td>\n",
       "      <td>...</td>\n",
       "      <td>0</td>\n",
       "      <td>0</td>\n",
       "      <td>0</td>\n",
       "      <td>1</td>\n",
       "      <td>0</td>\n",
       "      <td>0</td>\n",
       "      <td>0</td>\n",
       "      <td>0</td>\n",
       "      <td>0</td>\n",
       "      <td>0</td>\n",
       "    </tr>\n",
       "    <tr>\n",
       "      <th>3</th>\n",
       "      <td>3</td>\n",
       "      <td>1.21</td>\n",
       "      <td>60.0</td>\n",
       "      <td>60.0</td>\n",
       "      <td>6.96</td>\n",
       "      <td>6.91</td>\n",
       "      <td>4.16</td>\n",
       "      <td>0</td>\n",
       "      <td>0</td>\n",
       "      <td>0</td>\n",
       "      <td>...</td>\n",
       "      <td>0</td>\n",
       "      <td>0</td>\n",
       "      <td>0</td>\n",
       "      <td>1</td>\n",
       "      <td>0</td>\n",
       "      <td>0</td>\n",
       "      <td>0</td>\n",
       "      <td>0</td>\n",
       "      <td>0</td>\n",
       "      <td>0</td>\n",
       "    </tr>\n",
       "    <tr>\n",
       "      <th>4</th>\n",
       "      <td>4</td>\n",
       "      <td>0.55</td>\n",
       "      <td>61.8</td>\n",
       "      <td>55.0</td>\n",
       "      <td>5.27</td>\n",
       "      <td>5.22</td>\n",
       "      <td>3.24</td>\n",
       "      <td>0</td>\n",
       "      <td>0</td>\n",
       "      <td>0</td>\n",
       "      <td>...</td>\n",
       "      <td>0</td>\n",
       "      <td>0</td>\n",
       "      <td>0</td>\n",
       "      <td>1</td>\n",
       "      <td>0</td>\n",
       "      <td>0</td>\n",
       "      <td>0</td>\n",
       "      <td>0</td>\n",
       "      <td>0</td>\n",
       "      <td>0</td>\n",
       "    </tr>\n",
       "    <tr>\n",
       "      <th>5</th>\n",
       "      <td>5</td>\n",
       "      <td>0.70</td>\n",
       "      <td>61.1</td>\n",
       "      <td>58.0</td>\n",
       "      <td>5.74</td>\n",
       "      <td>5.79</td>\n",
       "      <td>3.52</td>\n",
       "      <td>0</td>\n",
       "      <td>0</td>\n",
       "      <td>0</td>\n",
       "      <td>...</td>\n",
       "      <td>0</td>\n",
       "      <td>0</td>\n",
       "      <td>0</td>\n",
       "      <td>1</td>\n",
       "      <td>0</td>\n",
       "      <td>0</td>\n",
       "      <td>0</td>\n",
       "      <td>0</td>\n",
       "      <td>0</td>\n",
       "      <td>0</td>\n",
       "    </tr>\n",
       "    <tr>\n",
       "      <th>...</th>\n",
       "      <td>...</td>\n",
       "      <td>...</td>\n",
       "      <td>...</td>\n",
       "      <td>...</td>\n",
       "      <td>...</td>\n",
       "      <td>...</td>\n",
       "      <td>...</td>\n",
       "      <td>...</td>\n",
       "      <td>...</td>\n",
       "      <td>...</td>\n",
       "      <td>...</td>\n",
       "      <td>...</td>\n",
       "      <td>...</td>\n",
       "      <td>...</td>\n",
       "      <td>...</td>\n",
       "      <td>...</td>\n",
       "      <td>...</td>\n",
       "      <td>...</td>\n",
       "      <td>...</td>\n",
       "      <td>...</td>\n",
       "      <td>...</td>\n",
       "    </tr>\n",
       "    <tr>\n",
       "      <th>13444</th>\n",
       "      <td>13444</td>\n",
       "      <td>0.30</td>\n",
       "      <td>60.0</td>\n",
       "      <td>58.0</td>\n",
       "      <td>4.37</td>\n",
       "      <td>4.40</td>\n",
       "      <td>2.63</td>\n",
       "      <td>0</td>\n",
       "      <td>0</td>\n",
       "      <td>0</td>\n",
       "      <td>...</td>\n",
       "      <td>1</td>\n",
       "      <td>0</td>\n",
       "      <td>0</td>\n",
       "      <td>0</td>\n",
       "      <td>0</td>\n",
       "      <td>0</td>\n",
       "      <td>1</td>\n",
       "      <td>0</td>\n",
       "      <td>0</td>\n",
       "      <td>0</td>\n",
       "    </tr>\n",
       "    <tr>\n",
       "      <th>13445</th>\n",
       "      <td>13445</td>\n",
       "      <td>0.55</td>\n",
       "      <td>60.8</td>\n",
       "      <td>56.0</td>\n",
       "      <td>5.31</td>\n",
       "      <td>5.34</td>\n",
       "      <td>3.24</td>\n",
       "      <td>0</td>\n",
       "      <td>0</td>\n",
       "      <td>0</td>\n",
       "      <td>...</td>\n",
       "      <td>0</td>\n",
       "      <td>1</td>\n",
       "      <td>0</td>\n",
       "      <td>0</td>\n",
       "      <td>1</td>\n",
       "      <td>0</td>\n",
       "      <td>0</td>\n",
       "      <td>0</td>\n",
       "      <td>0</td>\n",
       "      <td>0</td>\n",
       "    </tr>\n",
       "    <tr>\n",
       "      <th>13446</th>\n",
       "      <td>13446</td>\n",
       "      <td>0.23</td>\n",
       "      <td>61.3</td>\n",
       "      <td>58.0</td>\n",
       "      <td>3.94</td>\n",
       "      <td>3.96</td>\n",
       "      <td>2.42</td>\n",
       "      <td>0</td>\n",
       "      <td>0</td>\n",
       "      <td>1</td>\n",
       "      <td>...</td>\n",
       "      <td>1</td>\n",
       "      <td>0</td>\n",
       "      <td>0</td>\n",
       "      <td>0</td>\n",
       "      <td>0</td>\n",
       "      <td>0</td>\n",
       "      <td>0</td>\n",
       "      <td>0</td>\n",
       "      <td>1</td>\n",
       "      <td>0</td>\n",
       "    </tr>\n",
       "    <tr>\n",
       "      <th>13447</th>\n",
       "      <td>13447</td>\n",
       "      <td>0.30</td>\n",
       "      <td>61.4</td>\n",
       "      <td>58.0</td>\n",
       "      <td>4.29</td>\n",
       "      <td>4.31</td>\n",
       "      <td>2.64</td>\n",
       "      <td>0</td>\n",
       "      <td>0</td>\n",
       "      <td>0</td>\n",
       "      <td>...</td>\n",
       "      <td>0</td>\n",
       "      <td>1</td>\n",
       "      <td>0</td>\n",
       "      <td>0</td>\n",
       "      <td>0</td>\n",
       "      <td>0</td>\n",
       "      <td>1</td>\n",
       "      <td>0</td>\n",
       "      <td>0</td>\n",
       "      <td>0</td>\n",
       "    </tr>\n",
       "    <tr>\n",
       "      <th>13448</th>\n",
       "      <td>13448</td>\n",
       "      <td>0.54</td>\n",
       "      <td>61.4</td>\n",
       "      <td>53.0</td>\n",
       "      <td>5.28</td>\n",
       "      <td>5.30</td>\n",
       "      <td>3.25</td>\n",
       "      <td>0</td>\n",
       "      <td>0</td>\n",
       "      <td>0</td>\n",
       "      <td>...</td>\n",
       "      <td>0</td>\n",
       "      <td>1</td>\n",
       "      <td>1</td>\n",
       "      <td>0</td>\n",
       "      <td>0</td>\n",
       "      <td>0</td>\n",
       "      <td>0</td>\n",
       "      <td>0</td>\n",
       "      <td>0</td>\n",
       "      <td>0</td>\n",
       "    </tr>\n",
       "  </tbody>\n",
       "</table>\n",
       "<p>12928 rows × 27 columns</p>\n",
       "</div>"
      ],
      "text/plain": [
       "          id  carat  depth  table     x     y     z  cut_0  cut_1  cut_2  ...  \\\n",
       "0          0   1.10   62.2   58.0  6.69  6.60  4.13      0      0      0  ...   \n",
       "1          1   0.51   62.5   57.0  5.07  5.10  3.18      0      0      0  ...   \n",
       "3          3   1.21   60.0   60.0  6.96  6.91  4.16      0      0      0  ...   \n",
       "4          4   0.55   61.8   55.0  5.27  5.22  3.24      0      0      0  ...   \n",
       "5          5   0.70   61.1   58.0  5.74  5.79  3.52      0      0      0  ...   \n",
       "...      ...    ...    ...    ...   ...   ...   ...    ...    ...    ...  ...   \n",
       "13444  13444   0.30   60.0   58.0  4.37  4.40  2.63      0      0      0  ...   \n",
       "13445  13445   0.55   60.8   56.0  5.31  5.34  3.24      0      0      0  ...   \n",
       "13446  13446   0.23   61.3   58.0  3.94  3.96  2.42      0      0      1  ...   \n",
       "13447  13447   0.30   61.4   58.0  4.29  4.31  2.64      0      0      0  ...   \n",
       "13448  13448   0.54   61.4   53.0  5.28  5.30  3.25      0      0      0  ...   \n",
       "\n",
       "       color_6  color_7  clarity_0  clarity_1  clarity_2  clarity_3  \\\n",
       "0            0        0          0          0          0          1   \n",
       "1            0        0          0          1          0          0   \n",
       "3            0        0          0          1          0          0   \n",
       "4            0        0          0          1          0          0   \n",
       "5            0        0          0          1          0          0   \n",
       "...        ...      ...        ...        ...        ...        ...   \n",
       "13444        1        0          0          0          0          0   \n",
       "13445        0        1          0          0          1          0   \n",
       "13446        1        0          0          0          0          0   \n",
       "13447        0        1          0          0          0          0   \n",
       "13448        0        1          1          0          0          0   \n",
       "\n",
       "       clarity_4  clarity_5  clarity_6  clarity_7  \n",
       "0              0          0          0          0  \n",
       "1              0          0          0          0  \n",
       "3              0          0          0          0  \n",
       "4              0          0          0          0  \n",
       "5              0          0          0          0  \n",
       "...          ...        ...        ...        ...  \n",
       "13444          1          0          0          0  \n",
       "13445          0          0          0          0  \n",
       "13446          0          0          1          0  \n",
       "13447          1          0          0          0  \n",
       "13448          0          0          0          0  \n",
       "\n",
       "[12928 rows x 27 columns]"
      ]
     },
     "execution_count": 30,
     "metadata": {},
     "output_type": "execute_result"
    }
   ],
   "source": [
    "testLow"
   ]
  },
  {
   "cell_type": "code",
   "execution_count": 36,
   "metadata": {},
   "outputs": [],
   "source": [
    "from varname import varname"
   ]
  },
  {
   "cell_type": "code",
   "execution_count": 44,
   "metadata": {},
   "outputs": [],
   "source": [
    "names = ['trainLow', 'trainMid', 'trainHigh', 'testLow', 'testMid', 'testHigh']\n",
    "for e, name in zip([trainLow, trainMid, trainHigh, testLow, testMid, testHigh], names):\n",
    "    e.to_csv(f'../cleaned-data/09-{name}allCatAsDummies-split3Way.csv', index=False)"
   ]
  },
  {
   "cell_type": "code",
   "execution_count": null,
   "metadata": {},
   "outputs": [],
   "source": []
  }
 ],
 "metadata": {
  "kernelspec": {
   "display_name": "Python 3.7.6 64-bit",
   "language": "python",
   "name": "python37664bitc736265aa96942798be544ff59087e30"
  },
  "language_info": {
   "codemirror_mode": {
    "name": "ipython",
    "version": 3
   },
   "file_extension": ".py",
   "mimetype": "text/x-python",
   "name": "python",
   "nbconvert_exporter": "python",
   "pygments_lexer": "ipython3",
   "version": "3.7.6"
  }
 },
 "nbformat": 4,
 "nbformat_minor": 4
}
