{
 "cells": [
  {
   "cell_type": "code",
   "execution_count": 2,
   "metadata": {},
   "outputs": [
    {
     "name": "stdout",
     "output_type": "stream",
     "text": [
      "Checking whether there is an H2O instance running at http://localhost:54321 ..... not found.\n",
      "Attempting to start a local H2O server...\n",
      "  Java Version: openjdk version \"11.0.6\" 2020-01-14; OpenJDK Runtime Environment (build 11.0.6+10-post-Ubuntu-1ubuntu118.04.1); OpenJDK 64-Bit Server VM (build 11.0.6+10-post-Ubuntu-1ubuntu118.04.1, mixed mode, sharing)\n",
      "  Starting server from /home/edu/.local/lib/python3.7/site-packages/h2o/backend/bin/h2o.jar\n",
      "  Ice root: /tmp/tmpl5gc080i\n",
      "  JVM stdout: /tmp/tmpl5gc080i/h2o_edu_started_from_python.out\n",
      "  JVM stderr: /tmp/tmpl5gc080i/h2o_edu_started_from_python.err\n",
      "  Server is running at http://127.0.0.1:54321\n",
      "Connecting to H2O server at http://127.0.0.1:54321 ... successful.\n"
     ]
    },
    {
     "data": {
      "text/html": [
       "<div style=\"overflow:auto\"><table style=\"width:50%\"><tr><td>H2O cluster uptime:</td>\n",
       "<td>01 secs</td></tr>\n",
       "<tr><td>H2O cluster timezone:</td>\n",
       "<td>Europe/Paris</td></tr>\n",
       "<tr><td>H2O data parsing timezone:</td>\n",
       "<td>UTC</td></tr>\n",
       "<tr><td>H2O cluster version:</td>\n",
       "<td>3.28.0.3</td></tr>\n",
       "<tr><td>H2O cluster version age:</td>\n",
       "<td>23 days </td></tr>\n",
       "<tr><td>H2O cluster name:</td>\n",
       "<td>H2O_from_python_edu_1ahlr2</td></tr>\n",
       "<tr><td>H2O cluster total nodes:</td>\n",
       "<td>1</td></tr>\n",
       "<tr><td>H2O cluster free memory:</td>\n",
       "<td>1.887 Gb</td></tr>\n",
       "<tr><td>H2O cluster total cores:</td>\n",
       "<td>8</td></tr>\n",
       "<tr><td>H2O cluster allowed cores:</td>\n",
       "<td>8</td></tr>\n",
       "<tr><td>H2O cluster status:</td>\n",
       "<td>accepting new members, healthy</td></tr>\n",
       "<tr><td>H2O connection url:</td>\n",
       "<td>http://127.0.0.1:54321</td></tr>\n",
       "<tr><td>H2O connection proxy:</td>\n",
       "<td>{'http': None, 'https': None}</td></tr>\n",
       "<tr><td>H2O internal security:</td>\n",
       "<td>False</td></tr>\n",
       "<tr><td>H2O API Extensions:</td>\n",
       "<td>Amazon S3, XGBoost, Algos, AutoML, Core V3, TargetEncoder, Core V4</td></tr>\n",
       "<tr><td>Python version:</td>\n",
       "<td>3.7.6 final</td></tr></table></div>"
      ],
      "text/plain": [
       "--------------------------  ------------------------------------------------------------------\n",
       "H2O cluster uptime:         01 secs\n",
       "H2O cluster timezone:       Europe/Paris\n",
       "H2O data parsing timezone:  UTC\n",
       "H2O cluster version:        3.28.0.3\n",
       "H2O cluster version age:    23 days\n",
       "H2O cluster name:           H2O_from_python_edu_1ahlr2\n",
       "H2O cluster total nodes:    1\n",
       "H2O cluster free memory:    1.887 Gb\n",
       "H2O cluster total cores:    8\n",
       "H2O cluster allowed cores:  8\n",
       "H2O cluster status:         accepting new members, healthy\n",
       "H2O connection url:         http://127.0.0.1:54321\n",
       "H2O connection proxy:       {'http': None, 'https': None}\n",
       "H2O internal security:      False\n",
       "H2O API Extensions:         Amazon S3, XGBoost, Algos, AutoML, Core V3, TargetEncoder, Core V4\n",
       "Python version:             3.7.6 final\n",
       "--------------------------  ------------------------------------------------------------------"
      ]
     },
     "metadata": {},
     "output_type": "display_data"
    }
   ],
   "source": [
    "import h2o\n",
    "h2o.init()"
   ]
  },
  {
   "cell_type": "code",
   "execution_count": 3,
   "metadata": {},
   "outputs": [
    {
     "name": "stdout",
     "output_type": "stream",
     "text": [
      "Parse progress: |█████████████████████████████████████████████████████████| 100%\n",
      "Rows:40345\n",
      "Cols:12\n",
      "\n",
      "\n"
     ]
    },
    {
     "data": {
      "text/html": [
       "<table>\n",
       "<thead>\n",
       "<tr><th>       </th><th>C1                </th><th>id                </th><th>carat             </th><th>cut               </th><th>color             </th><th>clarity          </th><th>depth             </th><th>table             </th><th>x                 </th><th>y                 </th><th>z                </th><th>price             </th></tr>\n",
       "</thead>\n",
       "<tbody>\n",
       "<tr><td>type   </td><td>int               </td><td>int               </td><td>real              </td><td>int               </td><td>int               </td><td>int              </td><td>real              </td><td>real              </td><td>real              </td><td>real              </td><td>real             </td><td>int               </td></tr>\n",
       "<tr><td>mins   </td><td>0.0               </td><td>0.0               </td><td>0.2               </td><td>0.0               </td><td>1.0               </td><td>0.0              </td><td>43.0              </td><td>43.0              </td><td>0.0               </td><td>0.0               </td><td>0.0              </td><td>326.0             </td></tr>\n",
       "<tr><td>mean   </td><td>20172.0           </td><td>20172.0           </td><td>0.7976990953030115</td><td>2.9059362994175237</td><td>4.406518775560788 </td><td>2.524129384062462</td><td>61.74972115503781 </td><td>57.449421241789565</td><td>5.730823646052793 </td><td>5.734807782872721 </td><td>3.537958111290124</td><td>3931.9022431528065</td></tr>\n",
       "<tr><td>maxs   </td><td>40344.0           </td><td>40344.0           </td><td>5.01              </td><td>4.0               </td><td>7.0               </td><td>7.0              </td><td>79.0              </td><td>95.0              </td><td>10.74             </td><td>58.9              </td><td>8.06             </td><td>18823.0           </td></tr>\n",
       "<tr><td>sigma  </td><td>11646.742641900639</td><td>11646.742641900639</td><td>0.4743090591131859</td><td>1.1154151728126471</td><td>1.7006671128832478</td><td>1.839946880272431</td><td>1.4277278054903706</td><td>2.234087256614312 </td><td>1.1217667368900286</td><td>1.1515362870115242</td><td>0.695039090575716</td><td>3994.3188317181416</td></tr>\n",
       "<tr><td>zeros  </td><td>1                 </td><td>1                 </td><td>0                 </td><td>1202              </td><td>0                 </td><td>6092             </td><td>0                 </td><td>0                 </td><td>4                 </td><td>3                 </td><td>14               </td><td>0                 </td></tr>\n",
       "<tr><td>missing</td><td>0                 </td><td>0                 </td><td>0                 </td><td>0                 </td><td>0                 </td><td>0                </td><td>0                 </td><td>0                 </td><td>0                 </td><td>0                 </td><td>0                </td><td>0                 </td></tr>\n",
       "<tr><td>0      </td><td>0.0               </td><td>0.0               </td><td>0.78              </td><td>3.0               </td><td>5.0               </td><td>0.0              </td><td>61.5              </td><td>58.0              </td><td>5.93              </td><td>5.98              </td><td>3.66             </td><td>3446.0            </td></tr>\n",
       "<tr><td>1      </td><td>1.0               </td><td>1.0               </td><td>0.31              </td><td>4.0               </td><td>7.0               </td><td>1.0              </td><td>60.8              </td><td>56.0              </td><td>4.37              </td><td>4.32              </td><td>2.64             </td><td>732.0             </td></tr>\n",
       "<tr><td>2      </td><td>2.0               </td><td>2.0               </td><td>0.3               </td><td>4.0               </td><td>5.0               </td><td>1.0              </td><td>62.3              </td><td>54.0              </td><td>4.3               </td><td>4.34              </td><td>2.69             </td><td>475.0             </td></tr>\n",
       "<tr><td>3      </td><td>3.0               </td><td>3.0               </td><td>1.04              </td><td>4.0               </td><td>6.0               </td><td>2.0              </td><td>62.0              </td><td>58.0              </td><td>6.54              </td><td>6.46              </td><td>4.03             </td><td>9552.0            </td></tr>\n",
       "<tr><td>4      </td><td>4.0               </td><td>4.0               </td><td>0.65              </td><td>4.0               </td><td>1.0               </td><td>1.0              </td><td>61.4              </td><td>55.0              </td><td>5.58              </td><td>5.62              </td><td>3.44             </td><td>1276.0            </td></tr>\n",
       "<tr><td>5      </td><td>5.0               </td><td>5.0               </td><td>0.9               </td><td>3.0               </td><td>6.0               </td><td>3.0              </td><td>62.2              </td><td>60.0              </td><td>6.15              </td><td>6.19              </td><td>3.84             </td><td>3662.0            </td></tr>\n",
       "<tr><td>6      </td><td>6.0               </td><td>6.0               </td><td>0.31              </td><td>2.0               </td><td>3.0               </td><td>1.0              </td><td>62.3              </td><td>55.0              </td><td>4.34              </td><td>4.36              </td><td>2.71             </td><td>446.0             </td></tr>\n",
       "<tr><td>7      </td><td>7.0               </td><td>7.0               </td><td>0.71              </td><td>0.0               </td><td>6.0               </td><td>4.0              </td><td>64.6              </td><td>59.0              </td><td>5.62              </td><td>5.59              </td><td>3.62             </td><td>2902.0            </td></tr>\n",
       "<tr><td>8      </td><td>8.0               </td><td>8.0               </td><td>2.05              </td><td>4.0               </td><td>6.0               </td><td>1.0              </td><td>62.4              </td><td>57.0              </td><td>8.17              </td><td>8.09              </td><td>5.08             </td><td>18193.0           </td></tr>\n",
       "<tr><td>9      </td><td>9.0               </td><td>9.0               </td><td>1.1               </td><td>2.0               </td><td>6.0               </td><td>1.0              </td><td>61.3              </td><td>58.0              </td><td>6.64              </td><td>6.71              </td><td>4.09             </td><td>4791.0            </td></tr>\n",
       "</tbody>\n",
       "</table>"
      ]
     },
     "metadata": {},
     "output_type": "display_data"
    }
   ],
   "source": [
    "from h2o.estimators.gbm import H2OGradientBoostingEstimator\n",
    "diamond_path = '../cleaned-data/01-diamonds-train-cl.csv'\n",
    "diam_df = h2o.import_file(path=diamond_path)\n",
    "diam_df.describe()"
   ]
  },
  {
   "cell_type": "code",
   "execution_count": null,
   "metadata": {},
   "outputs": [],
   "source": []
  }
 ],
 "metadata": {
  "kernelspec": {
   "display_name": "Python 3.7.6 64-bit",
   "language": "python",
   "name": "python37664bitc736265aa96942798be544ff59087e30"
  },
  "language_info": {
   "codemirror_mode": {
    "name": "ipython",
    "version": 3
   },
   "file_extension": ".py",
   "mimetype": "text/x-python",
   "name": "python",
   "nbconvert_exporter": "python",
   "pygments_lexer": "ipython3",
   "version": "3.7.6"
  }
 },
 "nbformat": 4,
 "nbformat_minor": 4
}
