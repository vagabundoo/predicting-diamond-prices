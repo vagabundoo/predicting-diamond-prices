{
 "cells": [
  {
   "cell_type": "code",
   "execution_count": 1,
   "metadata": {},
   "outputs": [
    {
     "name": "stdout",
     "output_type": "stream",
     "text": [
      "Checking whether there is an H2O instance running at http://localhost:54321 . connected.\n"
     ]
    },
    {
     "data": {
      "text/html": [
       "<div style=\"overflow:auto\"><table style=\"width:50%\"><tr><td>H2O cluster uptime:</td>\n",
       "<td>1 hour 33 mins</td></tr>\n",
       "<tr><td>H2O cluster timezone:</td>\n",
       "<td>Europe/Paris</td></tr>\n",
       "<tr><td>H2O data parsing timezone:</td>\n",
       "<td>UTC</td></tr>\n",
       "<tr><td>H2O cluster version:</td>\n",
       "<td>3.28.0.3</td></tr>\n",
       "<tr><td>H2O cluster version age:</td>\n",
       "<td>25 days </td></tr>\n",
       "<tr><td>H2O cluster name:</td>\n",
       "<td>H2O_from_python_edu_yuaa4k</td></tr>\n",
       "<tr><td>H2O cluster total nodes:</td>\n",
       "<td>1</td></tr>\n",
       "<tr><td>H2O cluster free memory:</td>\n",
       "<td>386.7 Mb</td></tr>\n",
       "<tr><td>H2O cluster total cores:</td>\n",
       "<td>8</td></tr>\n",
       "<tr><td>H2O cluster allowed cores:</td>\n",
       "<td>8</td></tr>\n",
       "<tr><td>H2O cluster status:</td>\n",
       "<td>locked, healthy</td></tr>\n",
       "<tr><td>H2O connection url:</td>\n",
       "<td>http://localhost:54321</td></tr>\n",
       "<tr><td>H2O connection proxy:</td>\n",
       "<td>{'http': None, 'https': None}</td></tr>\n",
       "<tr><td>H2O internal security:</td>\n",
       "<td>False</td></tr>\n",
       "<tr><td>H2O API Extensions:</td>\n",
       "<td>Amazon S3, XGBoost, Algos, AutoML, Core V3, TargetEncoder, Core V4</td></tr>\n",
       "<tr><td>Python version:</td>\n",
       "<td>3.7.6 final</td></tr></table></div>"
      ],
      "text/plain": [
       "--------------------------  ------------------------------------------------------------------\n",
       "H2O cluster uptime:         1 hour 33 mins\n",
       "H2O cluster timezone:       Europe/Paris\n",
       "H2O data parsing timezone:  UTC\n",
       "H2O cluster version:        3.28.0.3\n",
       "H2O cluster version age:    25 days\n",
       "H2O cluster name:           H2O_from_python_edu_yuaa4k\n",
       "H2O cluster total nodes:    1\n",
       "H2O cluster free memory:    386.7 Mb\n",
       "H2O cluster total cores:    8\n",
       "H2O cluster allowed cores:  8\n",
       "H2O cluster status:         locked, healthy\n",
       "H2O connection url:         http://localhost:54321\n",
       "H2O connection proxy:       {'http': None, 'https': None}\n",
       "H2O internal security:      False\n",
       "H2O API Extensions:         Amazon S3, XGBoost, Algos, AutoML, Core V3, TargetEncoder, Core V4\n",
       "Python version:             3.7.6 final\n",
       "--------------------------  ------------------------------------------------------------------"
      ]
     },
     "metadata": {},
     "output_type": "display_data"
    }
   ],
   "source": [
    "import pandas as pd\n",
    "import numpy as np\n",
    "import seaborn as sns\n",
    "import matplotlib.pyplot as plt\n",
    "import h2o\n",
    "from h2o.automl import H2OAutoML\n",
    "h2o.init(nthreads=7,\n",
    "        max_mem_size='6g')"
   ]
  },
  {
   "cell_type": "code",
   "execution_count": 2,
   "metadata": {},
   "outputs": [],
   "source": [
    "runtime = 300"
   ]
  },
  {
   "cell_type": "code",
   "execution_count": 3,
   "metadata": {},
   "outputs": [
    {
     "name": "stdout",
     "output_type": "stream",
     "text": [
      "Parse progress: |█████████████████████████████████████████████████████████| 100%\n",
      "Parse progress: |█████████████████████████████████████████████████████████| 100%\n",
      "Parse progress: |█████████████████████████████████████████████████████████| 100%\n",
      "Parse progress: |█████████████████████████████████████████████████████████| 100%\n"
     ]
    },
    {
     "data": {
      "text/html": [
       "<table>\n",
       "<thead>\n",
       "<tr><th style=\"text-align: right;\">  id</th><th style=\"text-align: right;\">  carat</th><th style=\"text-align: right;\">  color</th><th style=\"text-align: right;\">  depth</th><th style=\"text-align: right;\">  table</th><th style=\"text-align: right;\">   x</th><th style=\"text-align: right;\">   y</th><th style=\"text-align: right;\">   z</th><th style=\"text-align: right;\">  cut_Fair</th><th style=\"text-align: right;\">  cut_Good</th><th style=\"text-align: right;\">  cut_Ideal</th><th style=\"text-align: right;\">  cut_Premium</th><th style=\"text-align: right;\">  cut_Very Good</th><th style=\"text-align: right;\">  clarity_I1</th><th style=\"text-align: right;\">  clarity_IF</th><th style=\"text-align: right;\">  clarity_SI1</th><th style=\"text-align: right;\">  clarity_SI2</th><th style=\"text-align: right;\">  clarity_VS1</th><th style=\"text-align: right;\">  clarity_VS2</th><th style=\"text-align: right;\">  clarity_VVS1</th><th style=\"text-align: right;\">  clarity_VVS2</th><th style=\"text-align: right;\">  price</th></tr>\n",
       "</thead>\n",
       "<tbody>\n",
       "<tr><td style=\"text-align: right;\">   8</td><td style=\"text-align: right;\">   2.05</td><td style=\"text-align: right;\">      7</td><td style=\"text-align: right;\">   62.4</td><td style=\"text-align: right;\">     57</td><td style=\"text-align: right;\">8.17</td><td style=\"text-align: right;\">8.09</td><td style=\"text-align: right;\">5.08</td><td style=\"text-align: right;\">         0</td><td style=\"text-align: right;\">         0</td><td style=\"text-align: right;\">          1</td><td style=\"text-align: right;\">            0</td><td style=\"text-align: right;\">              0</td><td style=\"text-align: right;\">           0</td><td style=\"text-align: right;\">           0</td><td style=\"text-align: right;\">            1</td><td style=\"text-align: right;\">            0</td><td style=\"text-align: right;\">            0</td><td style=\"text-align: right;\">            0</td><td style=\"text-align: right;\">             0</td><td style=\"text-align: right;\">             0</td><td style=\"text-align: right;\">  18193</td></tr>\n",
       "<tr><td style=\"text-align: right;\">  34</td><td style=\"text-align: right;\">   2.01</td><td style=\"text-align: right;\">      6</td><td style=\"text-align: right;\">   64.9</td><td style=\"text-align: right;\">     60</td><td style=\"text-align: right;\">7.82</td><td style=\"text-align: right;\">7.78</td><td style=\"text-align: right;\">5.06</td><td style=\"text-align: right;\">         1</td><td style=\"text-align: right;\">         0</td><td style=\"text-align: right;\">          0</td><td style=\"text-align: right;\">            0</td><td style=\"text-align: right;\">              0</td><td style=\"text-align: right;\">           0</td><td style=\"text-align: right;\">           0</td><td style=\"text-align: right;\">            0</td><td style=\"text-align: right;\">            0</td><td style=\"text-align: right;\">            0</td><td style=\"text-align: right;\">            1</td><td style=\"text-align: right;\">             0</td><td style=\"text-align: right;\">             0</td><td style=\"text-align: right;\">  13744</td></tr>\n",
       "<tr><td style=\"text-align: right;\">  42</td><td style=\"text-align: right;\">   2   </td><td style=\"text-align: right;\">      5</td><td style=\"text-align: right;\">   64.2</td><td style=\"text-align: right;\">     52</td><td style=\"text-align: right;\">7.91</td><td style=\"text-align: right;\">7.88</td><td style=\"text-align: right;\">5.07</td><td style=\"text-align: right;\">         0</td><td style=\"text-align: right;\">         1</td><td style=\"text-align: right;\">          0</td><td style=\"text-align: right;\">            0</td><td style=\"text-align: right;\">              0</td><td style=\"text-align: right;\">           0</td><td style=\"text-align: right;\">           0</td><td style=\"text-align: right;\">            0</td><td style=\"text-align: right;\">            1</td><td style=\"text-align: right;\">            0</td><td style=\"text-align: right;\">            0</td><td style=\"text-align: right;\">             0</td><td style=\"text-align: right;\">             0</td><td style=\"text-align: right;\">  11400</td></tr>\n",
       "<tr><td style=\"text-align: right;\">  72</td><td style=\"text-align: right;\">   2   </td><td style=\"text-align: right;\">      5</td><td style=\"text-align: right;\">   60.3</td><td style=\"text-align: right;\">     56</td><td style=\"text-align: right;\">8.08</td><td style=\"text-align: right;\">8.11</td><td style=\"text-align: right;\">4.88</td><td style=\"text-align: right;\">         0</td><td style=\"text-align: right;\">         1</td><td style=\"text-align: right;\">          0</td><td style=\"text-align: right;\">            0</td><td style=\"text-align: right;\">              0</td><td style=\"text-align: right;\">           0</td><td style=\"text-align: right;\">           0</td><td style=\"text-align: right;\">            0</td><td style=\"text-align: right;\">            1</td><td style=\"text-align: right;\">            0</td><td style=\"text-align: right;\">            0</td><td style=\"text-align: right;\">             0</td><td style=\"text-align: right;\">             0</td><td style=\"text-align: right;\">  16425</td></tr>\n",
       "<tr><td style=\"text-align: right;\">  82</td><td style=\"text-align: right;\">   2.28</td><td style=\"text-align: right;\">      3</td><td style=\"text-align: right;\">   62.7</td><td style=\"text-align: right;\">     57</td><td style=\"text-align: right;\">8.43</td><td style=\"text-align: right;\">8.36</td><td style=\"text-align: right;\">5.26</td><td style=\"text-align: right;\">         0</td><td style=\"text-align: right;\">         0</td><td style=\"text-align: right;\">          1</td><td style=\"text-align: right;\">            0</td><td style=\"text-align: right;\">              0</td><td style=\"text-align: right;\">           0</td><td style=\"text-align: right;\">           0</td><td style=\"text-align: right;\">            0</td><td style=\"text-align: right;\">            0</td><td style=\"text-align: right;\">            0</td><td style=\"text-align: right;\">            1</td><td style=\"text-align: right;\">             0</td><td style=\"text-align: right;\">             0</td><td style=\"text-align: right;\">  16450</td></tr>\n",
       "<tr><td style=\"text-align: right;\">  93</td><td style=\"text-align: right;\">   2.02</td><td style=\"text-align: right;\">      1</td><td style=\"text-align: right;\">   60.4</td><td style=\"text-align: right;\">     58</td><td style=\"text-align: right;\">8.2 </td><td style=\"text-align: right;\">8.16</td><td style=\"text-align: right;\">4.94</td><td style=\"text-align: right;\">         0</td><td style=\"text-align: right;\">         0</td><td style=\"text-align: right;\">          0</td><td style=\"text-align: right;\">            0</td><td style=\"text-align: right;\">              1</td><td style=\"text-align: right;\">           0</td><td style=\"text-align: right;\">           0</td><td style=\"text-align: right;\">            1</td><td style=\"text-align: right;\">            0</td><td style=\"text-align: right;\">            0</td><td style=\"text-align: right;\">            0</td><td style=\"text-align: right;\">             0</td><td style=\"text-align: right;\">             0</td><td style=\"text-align: right;\">  17357</td></tr>\n",
       "<tr><td style=\"text-align: right;\"> 141</td><td style=\"text-align: right;\">   2   </td><td style=\"text-align: right;\">      1</td><td style=\"text-align: right;\">   60.7</td><td style=\"text-align: right;\">     60</td><td style=\"text-align: right;\">8.07</td><td style=\"text-align: right;\">8.11</td><td style=\"text-align: right;\">4.91</td><td style=\"text-align: right;\">         0</td><td style=\"text-align: right;\">         0</td><td style=\"text-align: right;\">          0</td><td style=\"text-align: right;\">            1</td><td style=\"text-align: right;\">              0</td><td style=\"text-align: right;\">           0</td><td style=\"text-align: right;\">           0</td><td style=\"text-align: right;\">            0</td><td style=\"text-align: right;\">            1</td><td style=\"text-align: right;\">            0</td><td style=\"text-align: right;\">            0</td><td style=\"text-align: right;\">             0</td><td style=\"text-align: right;\">             0</td><td style=\"text-align: right;\">  15312</td></tr>\n",
       "<tr><td style=\"text-align: right;\"> 154</td><td style=\"text-align: right;\">   2.01</td><td style=\"text-align: right;\">      5</td><td style=\"text-align: right;\">   61.5</td><td style=\"text-align: right;\">     62</td><td style=\"text-align: right;\">8.07</td><td style=\"text-align: right;\">7.94</td><td style=\"text-align: right;\">4.92</td><td style=\"text-align: right;\">         0</td><td style=\"text-align: right;\">         0</td><td style=\"text-align: right;\">          0</td><td style=\"text-align: right;\">            1</td><td style=\"text-align: right;\">              0</td><td style=\"text-align: right;\">           0</td><td style=\"text-align: right;\">           0</td><td style=\"text-align: right;\">            0</td><td style=\"text-align: right;\">            0</td><td style=\"text-align: right;\">            1</td><td style=\"text-align: right;\">            0</td><td style=\"text-align: right;\">             0</td><td style=\"text-align: right;\">             0</td><td style=\"text-align: right;\">  15475</td></tr>\n",
       "<tr><td style=\"text-align: right;\"> 165</td><td style=\"text-align: right;\">   2.31</td><td style=\"text-align: right;\">      6</td><td style=\"text-align: right;\">   62.9</td><td style=\"text-align: right;\">     58</td><td style=\"text-align: right;\">8.43</td><td style=\"text-align: right;\">8.34</td><td style=\"text-align: right;\">5.27</td><td style=\"text-align: right;\">         0</td><td style=\"text-align: right;\">         0</td><td style=\"text-align: right;\">          0</td><td style=\"text-align: right;\">            1</td><td style=\"text-align: right;\">              0</td><td style=\"text-align: right;\">           0</td><td style=\"text-align: right;\">           0</td><td style=\"text-align: right;\">            0</td><td style=\"text-align: right;\">            1</td><td style=\"text-align: right;\">            0</td><td style=\"text-align: right;\">            0</td><td style=\"text-align: right;\">             0</td><td style=\"text-align: right;\">             0</td><td style=\"text-align: right;\">  17218</td></tr>\n",
       "<tr><td style=\"text-align: right;\"> 167</td><td style=\"text-align: right;\">   2.01</td><td style=\"text-align: right;\">      5</td><td style=\"text-align: right;\">   60.6</td><td style=\"text-align: right;\">     57</td><td style=\"text-align: right;\">8.19</td><td style=\"text-align: right;\">8.09</td><td style=\"text-align: right;\">4.92</td><td style=\"text-align: right;\">         0</td><td style=\"text-align: right;\">         0</td><td style=\"text-align: right;\">          1</td><td style=\"text-align: right;\">            0</td><td style=\"text-align: right;\">              0</td><td style=\"text-align: right;\">           0</td><td style=\"text-align: right;\">           0</td><td style=\"text-align: right;\">            1</td><td style=\"text-align: right;\">            0</td><td style=\"text-align: right;\">            0</td><td style=\"text-align: right;\">            0</td><td style=\"text-align: right;\">             0</td><td style=\"text-align: right;\">             0</td><td style=\"text-align: right;\">  17383</td></tr>\n",
       "</tbody>\n",
       "</table>"
      ]
     },
     "metadata": {},
     "output_type": "display_data"
    },
    {
     "data": {
      "text/plain": []
     },
     "metadata": {},
     "output_type": "display_data"
    },
    {
     "data": {
      "text/html": [
       "<table>\n",
       "<thead>\n",
       "<tr><th style=\"text-align: right;\">  id</th><th style=\"text-align: right;\">  carat</th><th style=\"text-align: right;\">  color</th><th style=\"text-align: right;\">  depth</th><th style=\"text-align: right;\">  table</th><th style=\"text-align: right;\">   x</th><th style=\"text-align: right;\">   y</th><th style=\"text-align: right;\">   z</th><th style=\"text-align: right;\">  cut_Fair</th><th style=\"text-align: right;\">  cut_Good</th><th style=\"text-align: right;\">  cut_Ideal</th><th style=\"text-align: right;\">  cut_Premium</th><th style=\"text-align: right;\">  cut_Very Good</th><th style=\"text-align: right;\">  clarity_I1</th><th style=\"text-align: right;\">  clarity_IF</th><th style=\"text-align: right;\">  clarity_SI1</th><th style=\"text-align: right;\">  clarity_SI2</th><th style=\"text-align: right;\">  clarity_VS1</th><th style=\"text-align: right;\">  clarity_VS2</th><th style=\"text-align: right;\">  clarity_VVS1</th><th style=\"text-align: right;\">  clarity_VVS2</th></tr>\n",
       "</thead>\n",
       "<tbody>\n",
       "<tr><td style=\"text-align: right;\">   2</td><td style=\"text-align: right;\">   2.03</td><td style=\"text-align: right;\">      4</td><td style=\"text-align: right;\">   61.9</td><td style=\"text-align: right;\">     59</td><td style=\"text-align: right;\">8.14</td><td style=\"text-align: right;\">8.09</td><td style=\"text-align: right;\">5.02</td><td style=\"text-align: right;\">         0</td><td style=\"text-align: right;\">         0</td><td style=\"text-align: right;\">          0</td><td style=\"text-align: right;\">            1</td><td style=\"text-align: right;\">              0</td><td style=\"text-align: right;\">           0</td><td style=\"text-align: right;\">           0</td><td style=\"text-align: right;\">            1</td><td style=\"text-align: right;\">            0</td><td style=\"text-align: right;\">            0</td><td style=\"text-align: right;\">            0</td><td style=\"text-align: right;\">             0</td><td style=\"text-align: right;\">             0</td></tr>\n",
       "<tr><td style=\"text-align: right;\">  29</td><td style=\"text-align: right;\">   2.52</td><td style=\"text-align: right;\">      4</td><td style=\"text-align: right;\">   63.7</td><td style=\"text-align: right;\">     59</td><td style=\"text-align: right;\">8.57</td><td style=\"text-align: right;\">8.52</td><td style=\"text-align: right;\">5.44</td><td style=\"text-align: right;\">         0</td><td style=\"text-align: right;\">         1</td><td style=\"text-align: right;\">          0</td><td style=\"text-align: right;\">            0</td><td style=\"text-align: right;\">              0</td><td style=\"text-align: right;\">           0</td><td style=\"text-align: right;\">           0</td><td style=\"text-align: right;\">            0</td><td style=\"text-align: right;\">            1</td><td style=\"text-align: right;\">            0</td><td style=\"text-align: right;\">            0</td><td style=\"text-align: right;\">             0</td><td style=\"text-align: right;\">             0</td></tr>\n",
       "<tr><td style=\"text-align: right;\">  38</td><td style=\"text-align: right;\">   2   </td><td style=\"text-align: right;\">      5</td><td style=\"text-align: right;\">   58.8</td><td style=\"text-align: right;\">     61</td><td style=\"text-align: right;\">8.29</td><td style=\"text-align: right;\">8.23</td><td style=\"text-align: right;\">4.86</td><td style=\"text-align: right;\">         0</td><td style=\"text-align: right;\">         0</td><td style=\"text-align: right;\">          0</td><td style=\"text-align: right;\">            1</td><td style=\"text-align: right;\">              0</td><td style=\"text-align: right;\">           0</td><td style=\"text-align: right;\">           0</td><td style=\"text-align: right;\">            1</td><td style=\"text-align: right;\">            0</td><td style=\"text-align: right;\">            0</td><td style=\"text-align: right;\">            0</td><td style=\"text-align: right;\">             0</td><td style=\"text-align: right;\">             0</td></tr>\n",
       "<tr><td style=\"text-align: right;\">  75</td><td style=\"text-align: right;\">   2.01</td><td style=\"text-align: right;\">      4</td><td style=\"text-align: right;\">   60.3</td><td style=\"text-align: right;\">     59</td><td style=\"text-align: right;\">8.23</td><td style=\"text-align: right;\">8.15</td><td style=\"text-align: right;\">4.94</td><td style=\"text-align: right;\">         0</td><td style=\"text-align: right;\">         0</td><td style=\"text-align: right;\">          0</td><td style=\"text-align: right;\">            1</td><td style=\"text-align: right;\">              0</td><td style=\"text-align: right;\">           0</td><td style=\"text-align: right;\">           0</td><td style=\"text-align: right;\">            1</td><td style=\"text-align: right;\">            0</td><td style=\"text-align: right;\">            0</td><td style=\"text-align: right;\">            0</td><td style=\"text-align: right;\">             0</td><td style=\"text-align: right;\">             0</td></tr>\n",
       "<tr><td style=\"text-align: right;\">  76</td><td style=\"text-align: right;\">   2.15</td><td style=\"text-align: right;\">      2</td><td style=\"text-align: right;\">   62.5</td><td style=\"text-align: right;\">     57</td><td style=\"text-align: right;\">8.2 </td><td style=\"text-align: right;\">8.16</td><td style=\"text-align: right;\">5.11</td><td style=\"text-align: right;\">         0</td><td style=\"text-align: right;\">         0</td><td style=\"text-align: right;\">          1</td><td style=\"text-align: right;\">            0</td><td style=\"text-align: right;\">              0</td><td style=\"text-align: right;\">           0</td><td style=\"text-align: right;\">           0</td><td style=\"text-align: right;\">            1</td><td style=\"text-align: right;\">            0</td><td style=\"text-align: right;\">            0</td><td style=\"text-align: right;\">            0</td><td style=\"text-align: right;\">             0</td><td style=\"text-align: right;\">             0</td></tr>\n",
       "<tr><td style=\"text-align: right;\">  90</td><td style=\"text-align: right;\">   2.02</td><td style=\"text-align: right;\">      2</td><td style=\"text-align: right;\">   61.7</td><td style=\"text-align: right;\">     57</td><td style=\"text-align: right;\">8.12</td><td style=\"text-align: right;\">8.05</td><td style=\"text-align: right;\">4.99</td><td style=\"text-align: right;\">         0</td><td style=\"text-align: right;\">         0</td><td style=\"text-align: right;\">          1</td><td style=\"text-align: right;\">            0</td><td style=\"text-align: right;\">              0</td><td style=\"text-align: right;\">           0</td><td style=\"text-align: right;\">           0</td><td style=\"text-align: right;\">            0</td><td style=\"text-align: right;\">            1</td><td style=\"text-align: right;\">            0</td><td style=\"text-align: right;\">            0</td><td style=\"text-align: right;\">             0</td><td style=\"text-align: right;\">             0</td></tr>\n",
       "<tr><td style=\"text-align: right;\"> 116</td><td style=\"text-align: right;\">   2.02</td><td style=\"text-align: right;\">      4</td><td style=\"text-align: right;\">   61.8</td><td style=\"text-align: right;\">     58</td><td style=\"text-align: right;\">8.16</td><td style=\"text-align: right;\">8.1 </td><td style=\"text-align: right;\">4.94</td><td style=\"text-align: right;\">         0</td><td style=\"text-align: right;\">         0</td><td style=\"text-align: right;\">          0</td><td style=\"text-align: right;\">            1</td><td style=\"text-align: right;\">              0</td><td style=\"text-align: right;\">           0</td><td style=\"text-align: right;\">           0</td><td style=\"text-align: right;\">            1</td><td style=\"text-align: right;\">            0</td><td style=\"text-align: right;\">            0</td><td style=\"text-align: right;\">            0</td><td style=\"text-align: right;\">             0</td><td style=\"text-align: right;\">             0</td></tr>\n",
       "<tr><td style=\"text-align: right;\"> 143</td><td style=\"text-align: right;\">   2.11</td><td style=\"text-align: right;\">      5</td><td style=\"text-align: right;\">   63.5</td><td style=\"text-align: right;\">     55</td><td style=\"text-align: right;\">8.08</td><td style=\"text-align: right;\">8.13</td><td style=\"text-align: right;\">5.15</td><td style=\"text-align: right;\">         0</td><td style=\"text-align: right;\">         0</td><td style=\"text-align: right;\">          0</td><td style=\"text-align: right;\">            0</td><td style=\"text-align: right;\">              1</td><td style=\"text-align: right;\">           0</td><td style=\"text-align: right;\">           0</td><td style=\"text-align: right;\">            0</td><td style=\"text-align: right;\">            1</td><td style=\"text-align: right;\">            0</td><td style=\"text-align: right;\">            0</td><td style=\"text-align: right;\">             0</td><td style=\"text-align: right;\">             0</td></tr>\n",
       "<tr><td style=\"text-align: right;\"> 189</td><td style=\"text-align: right;\">   2.05</td><td style=\"text-align: right;\">      1</td><td style=\"text-align: right;\">   62.5</td><td style=\"text-align: right;\">     60</td><td style=\"text-align: right;\">8.09</td><td style=\"text-align: right;\">8.14</td><td style=\"text-align: right;\">5.07</td><td style=\"text-align: right;\">         0</td><td style=\"text-align: right;\">         0</td><td style=\"text-align: right;\">          0</td><td style=\"text-align: right;\">            1</td><td style=\"text-align: right;\">              0</td><td style=\"text-align: right;\">           0</td><td style=\"text-align: right;\">           0</td><td style=\"text-align: right;\">            0</td><td style=\"text-align: right;\">            0</td><td style=\"text-align: right;\">            1</td><td style=\"text-align: right;\">            0</td><td style=\"text-align: right;\">             0</td><td style=\"text-align: right;\">             0</td></tr>\n",
       "<tr><td style=\"text-align: right;\"> 242</td><td style=\"text-align: right;\">   2.54</td><td style=\"text-align: right;\">      3</td><td style=\"text-align: right;\">   63.5</td><td style=\"text-align: right;\">     56</td><td style=\"text-align: right;\">8.68</td><td style=\"text-align: right;\">8.65</td><td style=\"text-align: right;\">5.5 </td><td style=\"text-align: right;\">         0</td><td style=\"text-align: right;\">         0</td><td style=\"text-align: right;\">          0</td><td style=\"text-align: right;\">            0</td><td style=\"text-align: right;\">              1</td><td style=\"text-align: right;\">           0</td><td style=\"text-align: right;\">           0</td><td style=\"text-align: right;\">            0</td><td style=\"text-align: right;\">            1</td><td style=\"text-align: right;\">            0</td><td style=\"text-align: right;\">            0</td><td style=\"text-align: right;\">             0</td><td style=\"text-align: right;\">             0</td></tr>\n",
       "</tbody>\n",
       "</table>"
      ]
     },
     "metadata": {},
     "output_type": "display_data"
    },
    {
     "data": {
      "text/plain": []
     },
     "execution_count": 3,
     "metadata": {},
     "output_type": "execute_result"
    }
   ],
   "source": [
    "train_high = h2o.import_file('../cleaned-data/08-train_high-colorAsInt-restAsDummies.csv')\n",
    "train_low = h2o.import_file('../cleaned-data/08-train_low-colorAsInt-restAsDummies.csv')\n",
    "test_high = h2o.import_file('../cleaned-data/08-test_high-colorAsInt-restAsDummies.csv')\n",
    "test_low = h2o.import_file('../cleaned-data/08-test_low-colorAsInt-restAsDummies.csv')      \n",
    "display(train_high)\n",
    "test_high"
   ]
  },
  {
   "cell_type": "code",
   "execution_count": 4,
   "metadata": {},
   "outputs": [
    {
     "name": "stdout",
     "output_type": "stream",
     "text": [
      "(1615, 22)\n",
      "(38730, 22)\n",
      "(521, 21)\n",
      "(12928, 21)\n"
     ]
    },
    {
     "data": {
      "text/plain": [
       "[None, None, None, None]"
      ]
     },
     "execution_count": 4,
     "metadata": {},
     "output_type": "execute_result"
    }
   ],
   "source": [
    "list(map(lambda x: print(x.shape),[train_high, train_low, test_high, test_low]))"
   ]
  },
  {
   "cell_type": "code",
   "execution_count": 5,
   "metadata": {},
   "outputs": [
    {
     "data": {
      "text/plain": [
       "['carat',\n",
       " 'color',\n",
       " 'depth',\n",
       " 'table',\n",
       " 'x',\n",
       " 'y',\n",
       " 'z',\n",
       " 'cut_Fair',\n",
       " 'cut_Good',\n",
       " 'cut_Ideal',\n",
       " 'cut_Premium',\n",
       " 'cut_Very Good',\n",
       " 'clarity_I1',\n",
       " 'clarity_IF',\n",
       " 'clarity_SI1',\n",
       " 'clarity_SI2',\n",
       " 'clarity_VS1',\n",
       " 'clarity_VS2',\n",
       " 'clarity_VVS1',\n",
       " 'clarity_VVS2']"
      ]
     },
     "execution_count": 5,
     "metadata": {},
     "output_type": "execute_result"
    }
   ],
   "source": [
    "xTrainCols = train_high.col_names[1:-1]\n",
    "xTrainCols"
   ]
  },
  {
   "cell_type": "code",
   "execution_count": 6,
   "metadata": {},
   "outputs": [
    {
     "name": "stdout",
     "output_type": "stream",
     "text": [
      "AutoML progress: |\n",
      "11:28:28.614: New models will be added to existing leaderboard diamonds_high@@price (leaderboard frame=null) with already 54 models.\n",
      "\n",
      "████████████████████████████████████Failed polling AutoML progress log: HTTP 500 Server Error:\n",
      "'<html>\\n<head>\\n<meta http-equiv=\"Content-Type\" content=\"text/html;charset=ISO-8859-1\"/>\\n<title>Error 500 Server Error</title>\\n</head>\\n<body>\\n<h2>HTTP ERROR: 500</h2>\\n<p>Problem accessing /99/AutoML/diamonds_high@@price. Reason:\\n<pre>    Server Error</pre></p>\\n\\n                                                \\n                                                \\n                                                \\n                                                \\n                                                \\n                                                \\n                                                \\n                                                \\n                                                \\n                                                \\n                                                \\n                                                \\n                                                \\n                                                \\n                                                \\n                                                \\n                                                \\n                                                \\n                                                \\n                                                \\n</body>\\n</html>\\n'\n",
      "██████████████████Failed polling AutoML progress log: HTTP 500 Server Error:\n",
      "'<html>\\n<head>\\n<meta http-equiv=\"Content-Type\" content=\"text/html;charset=ISO-8859-1\"/>\\n<title>Error 500 Server Error</title>\\n</head>\\n<body>\\n<h2>HTTP ERROR: 500</h2>\\n<p>Problem accessing /99/AutoML/diamonds_high@@price. Reason:\\n<pre>    Server Error</pre></p>\\n\\n                                                \\n                                                \\n                                                \\n                                                \\n                                                \\n                                                \\n                                                \\n                                                \\n                                                \\n                                                \\n                                                \\n                                                \\n                                                \\n                                                \\n                                                \\n                                                \\n                                                \\n                                                \\n                                                \\n                                                \\n</body>\\n</html>\\n'\n",
      "██| 100%\n",
      "\n",
      "11:31:28.257: StackedEnsemble_BestOfFamily_AutoML_20200302_112828 [StackedEnsemble best (built using top model from each algorithm type)] failed: water.exceptions.H2OIllegalArgumentException: Failed to find the xval predictions frame. . .  Looks like keep_cross_validation_predictions wasn't set when building the models, or the frame was deleted.\n",
      "11:31:29.261: StackedEnsemble_AllModels_AutoML_20200302_112828 [StackedEnsemble all (built using all AutoML models)] failed: water.exceptions.H2OIllegalArgumentException: Failed to find the xval predictions frame. . .  Looks like keep_cross_validation_predictions wasn't set when building the models, or the frame was deleted.\n",
      "\n",
      "stackedensemble prediction progress: |████████████████████████████████████| 100%\n"
     ]
    },
    {
     "name": "stderr",
     "output_type": "stream",
     "text": [
      "/home/edu/.local/lib/python3.7/site-packages/h2o/job.py:70: UserWarning: Test/Validation dataset is missing column 'cut_0': substituting in a column of NaN\n",
      "  warnings.warn(w)\n",
      "/home/edu/.local/lib/python3.7/site-packages/h2o/job.py:70: UserWarning: Test/Validation dataset is missing column 'cut_1': substituting in a column of NaN\n",
      "  warnings.warn(w)\n",
      "/home/edu/.local/lib/python3.7/site-packages/h2o/job.py:70: UserWarning: Test/Validation dataset is missing column 'cut_2': substituting in a column of NaN\n",
      "  warnings.warn(w)\n",
      "/home/edu/.local/lib/python3.7/site-packages/h2o/job.py:70: UserWarning: Test/Validation dataset is missing column 'cut_3': substituting in a column of NaN\n",
      "  warnings.warn(w)\n",
      "/home/edu/.local/lib/python3.7/site-packages/h2o/job.py:70: UserWarning: Test/Validation dataset is missing column 'cut_4': substituting in a column of NaN\n",
      "  warnings.warn(w)\n",
      "/home/edu/.local/lib/python3.7/site-packages/h2o/job.py:70: UserWarning: Test/Validation dataset is missing column 'color_1': substituting in a column of NaN\n",
      "  warnings.warn(w)\n",
      "/home/edu/.local/lib/python3.7/site-packages/h2o/job.py:70: UserWarning: Test/Validation dataset is missing column 'color_2': substituting in a column of NaN\n",
      "  warnings.warn(w)\n",
      "/home/edu/.local/lib/python3.7/site-packages/h2o/job.py:70: UserWarning: Test/Validation dataset is missing column 'color_3': substituting in a column of NaN\n",
      "  warnings.warn(w)\n",
      "/home/edu/.local/lib/python3.7/site-packages/h2o/job.py:70: UserWarning: Test/Validation dataset is missing column 'color_4': substituting in a column of NaN\n",
      "  warnings.warn(w)\n",
      "/home/edu/.local/lib/python3.7/site-packages/h2o/job.py:70: UserWarning: Test/Validation dataset is missing column 'color_5': substituting in a column of NaN\n",
      "  warnings.warn(w)\n",
      "/home/edu/.local/lib/python3.7/site-packages/h2o/job.py:70: UserWarning: Test/Validation dataset is missing column 'color_6': substituting in a column of NaN\n",
      "  warnings.warn(w)\n",
      "/home/edu/.local/lib/python3.7/site-packages/h2o/job.py:70: UserWarning: Test/Validation dataset is missing column 'color_7': substituting in a column of NaN\n",
      "  warnings.warn(w)\n",
      "/home/edu/.local/lib/python3.7/site-packages/h2o/job.py:70: UserWarning: Test/Validation dataset is missing column 'clarity_0': substituting in a column of NaN\n",
      "  warnings.warn(w)\n",
      "/home/edu/.local/lib/python3.7/site-packages/h2o/job.py:70: UserWarning: Test/Validation dataset is missing column 'clarity_1': substituting in a column of NaN\n",
      "  warnings.warn(w)\n",
      "/home/edu/.local/lib/python3.7/site-packages/h2o/job.py:70: UserWarning: Test/Validation dataset is missing column 'clarity_2': substituting in a column of NaN\n",
      "  warnings.warn(w)\n",
      "/home/edu/.local/lib/python3.7/site-packages/h2o/job.py:70: UserWarning: Test/Validation dataset is missing column 'clarity_3': substituting in a column of NaN\n",
      "  warnings.warn(w)\n",
      "/home/edu/.local/lib/python3.7/site-packages/h2o/job.py:70: UserWarning: Test/Validation dataset is missing column 'clarity_4': substituting in a column of NaN\n",
      "  warnings.warn(w)\n",
      "/home/edu/.local/lib/python3.7/site-packages/h2o/job.py:70: UserWarning: Test/Validation dataset is missing column 'clarity_5': substituting in a column of NaN\n",
      "  warnings.warn(w)\n",
      "/home/edu/.local/lib/python3.7/site-packages/h2o/job.py:70: UserWarning: Test/Validation dataset is missing column 'clarity_6': substituting in a column of NaN\n",
      "  warnings.warn(w)\n",
      "/home/edu/.local/lib/python3.7/site-packages/h2o/job.py:70: UserWarning: Test/Validation dataset is missing column 'clarity_7': substituting in a column of NaN\n",
      "  warnings.warn(w)\n"
     ]
    },
    {
     "data": {
      "text/html": [
       "<table>\n",
       "<thead>\n",
       "<tr><th style=\"text-align: right;\">  predict</th></tr>\n",
       "</thead>\n",
       "<tbody>\n",
       "<tr><td style=\"text-align: right;\">  16258.6</td></tr>\n",
       "<tr><td style=\"text-align: right;\">  17287.5</td></tr>\n",
       "<tr><td style=\"text-align: right;\">  15744.8</td></tr>\n",
       "<tr><td style=\"text-align: right;\">  16308.7</td></tr>\n",
       "<tr><td style=\"text-align: right;\">  16393.5</td></tr>\n",
       "<tr><td style=\"text-align: right;\">  15852.7</td></tr>\n",
       "<tr><td style=\"text-align: right;\">  16483.2</td></tr>\n",
       "<tr><td style=\"text-align: right;\">  15855.5</td></tr>\n",
       "<tr><td style=\"text-align: right;\">  16771.3</td></tr>\n",
       "<tr><td style=\"text-align: right;\">  17200  </td></tr>\n",
       "</tbody>\n",
       "</table>"
      ]
     },
     "metadata": {},
     "output_type": "display_data"
    },
    {
     "data": {
      "text/plain": []
     },
     "metadata": {},
     "output_type": "display_data"
    },
    {
     "data": {
      "text/html": [
       "<table>\n",
       "<thead>\n",
       "<tr><th>model_id                                           </th><th style=\"text-align: right;\">  mean_residual_deviance</th><th style=\"text-align: right;\">   rmse</th><th style=\"text-align: right;\">        mse</th><th style=\"text-align: right;\">    mae</th><th style=\"text-align: right;\">   rmsle</th></tr>\n",
       "</thead>\n",
       "<tbody>\n",
       "<tr><td>StackedEnsemble_BestOfFamily_AutoML_20200302_095451</td><td style=\"text-align: right;\">             2.77492e+06</td><td style=\"text-align: right;\">1665.81</td><td style=\"text-align: right;\">2.77492e+06</td><td style=\"text-align: right;\">1295.86</td><td style=\"text-align: right;\">0.118979</td></tr>\n",
       "<tr><td>StackedEnsemble_AllModels_AutoML_20200302_095451   </td><td style=\"text-align: right;\">             2.7786e+06 </td><td style=\"text-align: right;\">1666.91</td><td style=\"text-align: right;\">2.7786e+06 </td><td style=\"text-align: right;\">1295.38</td><td style=\"text-align: right;\">0.119127</td></tr>\n",
       "<tr><td>XGBoost_1_AutoML_20200302_095451                   </td><td style=\"text-align: right;\">             2.80204e+06</td><td style=\"text-align: right;\">1673.93</td><td style=\"text-align: right;\">2.80204e+06</td><td style=\"text-align: right;\">1319.05</td><td style=\"text-align: right;\">0.120058</td></tr>\n",
       "<tr><td>XGBoost_grid__1_AutoML_20200302_095451_model_2     </td><td style=\"text-align: right;\">             2.83379e+06</td><td style=\"text-align: right;\">1683.39</td><td style=\"text-align: right;\">2.83379e+06</td><td style=\"text-align: right;\">1326.08</td><td style=\"text-align: right;\">0.120946</td></tr>\n",
       "<tr><td>XGBoost_grid__1_AutoML_20200302_095451_model_3     </td><td style=\"text-align: right;\">             2.83793e+06</td><td style=\"text-align: right;\">1684.62</td><td style=\"text-align: right;\">2.83793e+06</td><td style=\"text-align: right;\">1326.07</td><td style=\"text-align: right;\">0.121122</td></tr>\n",
       "<tr><td>XGBoost_2_AutoML_20200302_095451                   </td><td style=\"text-align: right;\">             2.8446e+06 </td><td style=\"text-align: right;\">1686.59</td><td style=\"text-align: right;\">2.8446e+06 </td><td style=\"text-align: right;\">1322.08</td><td style=\"text-align: right;\">0.120807</td></tr>\n",
       "<tr><td>XGBoost_3_AutoML_20200302_095451                   </td><td style=\"text-align: right;\">             2.85922e+06</td><td style=\"text-align: right;\">1690.92</td><td style=\"text-align: right;\">2.85922e+06</td><td style=\"text-align: right;\">1339.77</td><td style=\"text-align: right;\">0.121469</td></tr>\n",
       "<tr><td>GBM_4_AutoML_20200302_095451                       </td><td style=\"text-align: right;\">             2.85974e+06</td><td style=\"text-align: right;\">1691.08</td><td style=\"text-align: right;\">2.85974e+06</td><td style=\"text-align: right;\">1323.8 </td><td style=\"text-align: right;\">0.121413</td></tr>\n",
       "<tr><td>XGBoost_grid__1_AutoML_20200302_095451_model_4     </td><td style=\"text-align: right;\">             2.87104e+06</td><td style=\"text-align: right;\">1694.41</td><td style=\"text-align: right;\">2.87104e+06</td><td style=\"text-align: right;\">1317.51</td><td style=\"text-align: right;\">0.121331</td></tr>\n",
       "<tr><td>GBM_2_AutoML_20200302_095451                       </td><td style=\"text-align: right;\">             2.87277e+06</td><td style=\"text-align: right;\">1694.92</td><td style=\"text-align: right;\">2.87277e+06</td><td style=\"text-align: right;\">1323.63</td><td style=\"text-align: right;\">0.122075</td></tr>\n",
       "</tbody>\n",
       "</table>"
      ]
     },
     "metadata": {},
     "output_type": "display_data"
    },
    {
     "data": {
      "text/plain": []
     },
     "metadata": {},
     "output_type": "display_data"
    }
   ],
   "source": [
    "train_frame = train_high\n",
    "model_name = 'diamonds_high'\n",
    "runtime = 180\n",
    "\n",
    "aml_high = H2OAutoML(max_runtime_secs = runtime, project_name = f'{model_name}', keep_cross_validation_models=True)\n",
    "aml_high.train(x=xTrainCols, y = 'price', training_frame = train_frame)\n",
    "pred_high = aml_high.leader.predict(test_high)\n",
    "display(pred_high)\n",
    "display(aml_high.leaderboard)"
   ]
  },
  {
   "cell_type": "code",
   "execution_count": 7,
   "metadata": {},
   "outputs": [],
   "source": [
    "tableHighPreds = test_high['id'].cbind(pred_high)\n",
    "tableHighPreds = tableHighPreds.rename(columns={'predict':'price'})"
   ]
  },
  {
   "cell_type": "code",
   "execution_count": 8,
   "metadata": {},
   "outputs": [
    {
     "name": "stdout",
     "output_type": "stream",
     "text": [
      "AutoML progress: |\n",
      "11:31:30.718: New models will be added to existing leaderboard diamonds_low@@price (leaderboard frame=null) with already 10 models.\n",
      "\n",
      "████████████████████████████████████████████████████████| 100%\n",
      "\n",
      "11:34:32.241: StackedEnsemble_BestOfFamily_AutoML_20200302_113130 [StackedEnsemble best (built using top model from each algorithm type)] failed: water.exceptions.H2OIllegalArgumentException: Failed to find the xval predictions frame. . .  Looks like keep_cross_validation_predictions wasn't set when building the models, or the frame was deleted.\n",
      "11:34:33.248: StackedEnsemble_AllModels_AutoML_20200302_113130 [StackedEnsemble all (built using all AutoML models)] failed: water.exceptions.H2OIllegalArgumentException: Failed to find the xval predictions frame. . .  Looks like keep_cross_validation_predictions wasn't set when building the models, or the frame was deleted.\n",
      "\n",
      "stackedensemble prediction progress: |████████████████████████████████████| 100%\n"
     ]
    },
    {
     "data": {
      "text/html": [
       "<table>\n",
       "<thead>\n",
       "<tr><th style=\"text-align: right;\">  predict</th></tr>\n",
       "</thead>\n",
       "<tbody>\n",
       "<tr><td style=\"text-align: right;\">  6582.53</td></tr>\n",
       "<tr><td style=\"text-align: right;\">  1644.72</td></tr>\n",
       "<tr><td style=\"text-align: right;\">  8037.98</td></tr>\n",
       "<tr><td style=\"text-align: right;\">  1773.58</td></tr>\n",
       "<tr><td style=\"text-align: right;\">  2706.57</td></tr>\n",
       "<tr><td style=\"text-align: right;\">  1866.29</td></tr>\n",
       "<tr><td style=\"text-align: right;\">  1706.03</td></tr>\n",
       "<tr><td style=\"text-align: right;\">  4116.48</td></tr>\n",
       "<tr><td style=\"text-align: right;\">  9271.52</td></tr>\n",
       "<tr><td style=\"text-align: right;\">  3170.92</td></tr>\n",
       "</tbody>\n",
       "</table>"
      ]
     },
     "metadata": {},
     "output_type": "display_data"
    },
    {
     "data": {
      "text/plain": []
     },
     "metadata": {},
     "output_type": "display_data"
    },
    {
     "data": {
      "text/html": [
       "<table>\n",
       "<thead>\n",
       "<tr><th>model_id                                           </th><th style=\"text-align: right;\">  mean_residual_deviance</th><th style=\"text-align: right;\">   rmse</th><th style=\"text-align: right;\">   mse</th><th style=\"text-align: right;\">    mae</th><th style=\"text-align: right;\">    rmsle</th></tr>\n",
       "</thead>\n",
       "<tbody>\n",
       "<tr><td>StackedEnsemble_AllModels_AutoML_20200302_095957   </td><td style=\"text-align: right;\">                  183477</td><td style=\"text-align: right;\">428.342</td><td style=\"text-align: right;\">183477</td><td style=\"text-align: right;\">225.514</td><td style=\"text-align: right;\">0.0900198</td></tr>\n",
       "<tr><td>StackedEnsemble_BestOfFamily_AutoML_20200302_095957</td><td style=\"text-align: right;\">                  184253</td><td style=\"text-align: right;\">429.247</td><td style=\"text-align: right;\">184253</td><td style=\"text-align: right;\">227.276</td><td style=\"text-align: right;\">0.0916806</td></tr>\n",
       "<tr><td>XGBoost_1_AutoML_20200302_095957                   </td><td style=\"text-align: right;\">                  185430</td><td style=\"text-align: right;\">430.616</td><td style=\"text-align: right;\">185430</td><td style=\"text-align: right;\">229.266</td><td style=\"text-align: right;\">0.0933194</td></tr>\n",
       "<tr><td>XGBoost_2_AutoML_20200302_095957                   </td><td style=\"text-align: right;\">                  192142</td><td style=\"text-align: right;\">438.34 </td><td style=\"text-align: right;\">192142</td><td style=\"text-align: right;\">227.848</td><td style=\"text-align: right;\">0.0885417</td></tr>\n",
       "<tr><td>DRF_1_AutoML_20200302_095957                       </td><td style=\"text-align: right;\">                  215090</td><td style=\"text-align: right;\">463.778</td><td style=\"text-align: right;\">215090</td><td style=\"text-align: right;\">245.752</td><td style=\"text-align: right;\">0.0980872</td></tr>\n",
       "<tr><td>XGBoost_3_AutoML_20200302_095957                   </td><td style=\"text-align: right;\">                  237756</td><td style=\"text-align: right;\">487.603</td><td style=\"text-align: right;\">237756</td><td style=\"text-align: right;\">271.153</td><td style=\"text-align: right;\">0.119445 </td></tr>\n",
       "<tr><td>GBM_1_AutoML_20200302_095957                       </td><td style=\"text-align: right;\">                  402840</td><td style=\"text-align: right;\">634.697</td><td style=\"text-align: right;\">402840</td><td style=\"text-align: right;\">370.03 </td><td style=\"text-align: right;\">0.190534 </td></tr>\n",
       "<tr><td>XGBoost_1_AutoML_20200302_113130                   </td><td style=\"text-align: right;\">                  792971</td><td style=\"text-align: right;\">890.489</td><td style=\"text-align: right;\">792971</td><td style=\"text-align: right;\">466.907</td><td style=\"text-align: right;\">0.158628 </td></tr>\n",
       "<tr><td>XGBoost_2_AutoML_20200302_113130                   </td><td style=\"text-align: right;\">                  802200</td><td style=\"text-align: right;\">895.656</td><td style=\"text-align: right;\">802200</td><td style=\"text-align: right;\">468.001</td><td style=\"text-align: right;\">0.156882 </td></tr>\n",
       "<tr><td>XGBoost_3_AutoML_20200302_113130                   </td><td style=\"text-align: right;\">                  812149</td><td style=\"text-align: right;\">901.193</td><td style=\"text-align: right;\">812149</td><td style=\"text-align: right;\">485.134</td><td style=\"text-align: right;\">0.172407 </td></tr>\n",
       "</tbody>\n",
       "</table>"
      ]
     },
     "metadata": {},
     "output_type": "display_data"
    },
    {
     "data": {
      "text/plain": []
     },
     "metadata": {},
     "output_type": "display_data"
    }
   ],
   "source": [
    "train_frame = train_low\n",
    "model_name = 'diamonds_low'\n",
    "\n",
    "aml_low = H2OAutoML(max_runtime_secs = runtime, project_name = f'{model_name}', keep_cross_validation_models=True)\n",
    "aml_low.train(x=xTrainCols, y = 'price', training_frame = train_frame)\n",
    "pred_low = aml_low.leader.predict(test_low)\n",
    "display(pred_low)\n",
    "display(aml_low.leaderboard)"
   ]
  },
  {
   "cell_type": "code",
   "execution_count": 9,
   "metadata": {},
   "outputs": [],
   "source": [
    "tableLowPreds = test_low['id'].cbind(pred_low)\n",
    "tableLowPreds = tableLowPreds.rename(columns={'predict':'price'})"
   ]
  },
  {
   "cell_type": "code",
   "execution_count": 10,
   "metadata": {},
   "outputs": [
    {
     "data": {
      "text/plain": [
       "(13449, 2)"
      ]
     },
     "execution_count": 10,
     "metadata": {},
     "output_type": "execute_result"
    }
   ],
   "source": [
    "combinedTable = tableLowPreds.concat(tableHighPreds, axis=0)\n",
    "combinedTable.shape"
   ]
  },
  {
   "cell_type": "code",
   "execution_count": 11,
   "metadata": {},
   "outputs": [
    {
     "ename": "H2OResponseError",
     "evalue": "Server error water.exceptions.H2OIllegalArgumentException:\n  Error: Illegal argument: ../predictions/13-Auto-ML-Split-data-colorAsInt-restAsDummies-v4.csv of function: exportFrame: File ../predictions/13-Auto-ML-Split-data-colorAsInt-restAsDummies-v4.csv already exists!\n  Request: POST /3/Frames/py_511_sid_9049/export\n    data: {'path': '../predictions/13-Auto-ML-Split-data-colorAsInt-restAsDummies-v4.csv', 'num_parts': '1', 'force': 'False', 'separator': '44'}\n",
     "output_type": "error",
     "traceback": [
      "\u001b[0;31m---------------------------------------------------------------------------\u001b[0m",
      "\u001b[0;31mH2OResponseError\u001b[0m                          Traceback (most recent call last)",
      "\u001b[0;32m<ipython-input-11-41fdafb2c026>\u001b[0m in \u001b[0;36m<module>\u001b[0;34m\u001b[0m\n\u001b[0;32m----> 1\u001b[0;31m \u001b[0mh2o\u001b[0m\u001b[0;34m.\u001b[0m\u001b[0mexport_file\u001b[0m\u001b[0;34m(\u001b[0m\u001b[0mframe\u001b[0m\u001b[0;34m=\u001b[0m\u001b[0mcombinedTable\u001b[0m\u001b[0;34m,\u001b[0m\u001b[0mpath\u001b[0m\u001b[0;34m=\u001b[0m\u001b[0;34m'../predictions/13-Auto-ML-Split-data-colorAsInt-restAsDummies-v4.csv'\u001b[0m\u001b[0;34m)\u001b[0m\u001b[0;34m\u001b[0m\u001b[0;34m\u001b[0m\u001b[0m\n\u001b[0m",
      "\u001b[0;32m~/.local/lib/python3.7/site-packages/h2o/h2o.py\u001b[0m in \u001b[0;36mexport_file\u001b[0;34m(frame, path, force, sep, compression, parts)\u001b[0m\n\u001b[1;32m   1500\u001b[0m     \u001b[0massert_is_type\u001b[0m\u001b[0;34m(\u001b[0m\u001b[0mcompression\u001b[0m\u001b[0;34m,\u001b[0m \u001b[0mstr\u001b[0m\u001b[0;34m,\u001b[0m \u001b[0;32mNone\u001b[0m\u001b[0;34m)\u001b[0m\u001b[0;34m\u001b[0m\u001b[0;34m\u001b[0m\u001b[0m\n\u001b[1;32m   1501\u001b[0m     H2OJob(api(\"POST /3/Frames/%s/export\" % (frame.frame_id), \n\u001b[0;32m-> 1502\u001b[0;31m                data={\"path\": path, \"num_parts\": parts, \"force\": force, \"compression\": compression, \"separator\": ord(sep)}),\n\u001b[0m\u001b[1;32m   1503\u001b[0m            \"Export File\").poll()\n\u001b[1;32m   1504\u001b[0m \u001b[0;34m\u001b[0m\u001b[0m\n",
      "\u001b[0;32m~/.local/lib/python3.7/site-packages/h2o/h2o.py\u001b[0m in \u001b[0;36mapi\u001b[0;34m(endpoint, data, json, filename, save_to)\u001b[0m\n\u001b[1;32m    121\u001b[0m     \u001b[0;31m# type checks are performed in H2OConnection class\u001b[0m\u001b[0;34m\u001b[0m\u001b[0;34m\u001b[0m\u001b[0;34m\u001b[0m\u001b[0m\n\u001b[1;32m    122\u001b[0m     \u001b[0m_check_connection\u001b[0m\u001b[0;34m(\u001b[0m\u001b[0;34m)\u001b[0m\u001b[0;34m\u001b[0m\u001b[0;34m\u001b[0m\u001b[0m\n\u001b[0;32m--> 123\u001b[0;31m     \u001b[0;32mreturn\u001b[0m \u001b[0mh2oconn\u001b[0m\u001b[0;34m.\u001b[0m\u001b[0mrequest\u001b[0m\u001b[0;34m(\u001b[0m\u001b[0mendpoint\u001b[0m\u001b[0;34m,\u001b[0m \u001b[0mdata\u001b[0m\u001b[0;34m=\u001b[0m\u001b[0mdata\u001b[0m\u001b[0;34m,\u001b[0m \u001b[0mjson\u001b[0m\u001b[0;34m=\u001b[0m\u001b[0mjson\u001b[0m\u001b[0;34m,\u001b[0m \u001b[0mfilename\u001b[0m\u001b[0;34m=\u001b[0m\u001b[0mfilename\u001b[0m\u001b[0;34m,\u001b[0m \u001b[0msave_to\u001b[0m\u001b[0;34m=\u001b[0m\u001b[0msave_to\u001b[0m\u001b[0;34m)\u001b[0m\u001b[0;34m\u001b[0m\u001b[0;34m\u001b[0m\u001b[0m\n\u001b[0m\u001b[1;32m    124\u001b[0m \u001b[0;34m\u001b[0m\u001b[0m\n\u001b[1;32m    125\u001b[0m \u001b[0;34m\u001b[0m\u001b[0m\n",
      "\u001b[0;32m~/.local/lib/python3.7/site-packages/h2o/backend/connection.py\u001b[0m in \u001b[0;36mrequest\u001b[0;34m(self, endpoint, data, json, filename, save_to)\u001b[0m\n\u001b[1;32m    476\u001b[0m                 \u001b[0msave_to\u001b[0m \u001b[0;34m=\u001b[0m \u001b[0msave_to\u001b[0m\u001b[0;34m(\u001b[0m\u001b[0mresp\u001b[0m\u001b[0;34m)\u001b[0m\u001b[0;34m\u001b[0m\u001b[0;34m\u001b[0m\u001b[0m\n\u001b[1;32m    477\u001b[0m             \u001b[0mself\u001b[0m\u001b[0;34m.\u001b[0m\u001b[0m_log_end_transaction\u001b[0m\u001b[0;34m(\u001b[0m\u001b[0mstart_time\u001b[0m\u001b[0;34m,\u001b[0m \u001b[0mresp\u001b[0m\u001b[0;34m)\u001b[0m\u001b[0;34m\u001b[0m\u001b[0;34m\u001b[0m\u001b[0m\n\u001b[0;32m--> 478\u001b[0;31m             \u001b[0;32mreturn\u001b[0m \u001b[0mself\u001b[0m\u001b[0;34m.\u001b[0m\u001b[0m_process_response\u001b[0m\u001b[0;34m(\u001b[0m\u001b[0mresp\u001b[0m\u001b[0;34m,\u001b[0m \u001b[0msave_to\u001b[0m\u001b[0;34m)\u001b[0m\u001b[0;34m\u001b[0m\u001b[0;34m\u001b[0m\u001b[0m\n\u001b[0m\u001b[1;32m    479\u001b[0m \u001b[0;34m\u001b[0m\u001b[0m\n\u001b[1;32m    480\u001b[0m         \u001b[0;32mexcept\u001b[0m \u001b[0;34m(\u001b[0m\u001b[0mrequests\u001b[0m\u001b[0;34m.\u001b[0m\u001b[0mexceptions\u001b[0m\u001b[0;34m.\u001b[0m\u001b[0mConnectionError\u001b[0m\u001b[0;34m,\u001b[0m \u001b[0mrequests\u001b[0m\u001b[0;34m.\u001b[0m\u001b[0mexceptions\u001b[0m\u001b[0;34m.\u001b[0m\u001b[0mHTTPError\u001b[0m\u001b[0;34m)\u001b[0m \u001b[0;32mas\u001b[0m \u001b[0me\u001b[0m\u001b[0;34m:\u001b[0m\u001b[0;34m\u001b[0m\u001b[0;34m\u001b[0m\u001b[0m\n",
      "\u001b[0;32m~/.local/lib/python3.7/site-packages/h2o/backend/connection.py\u001b[0m in \u001b[0;36m_process_response\u001b[0;34m(response, save_to)\u001b[0m\n\u001b[1;32m    822\u001b[0m         \u001b[0;31m# Client errors (400 = \"Bad Request\", 404 = \"Not Found\", 412 = \"Precondition Failed\")\u001b[0m\u001b[0;34m\u001b[0m\u001b[0;34m\u001b[0m\u001b[0;34m\u001b[0m\u001b[0m\n\u001b[1;32m    823\u001b[0m         \u001b[0;32mif\u001b[0m \u001b[0mstatus_code\u001b[0m \u001b[0;32min\u001b[0m \u001b[0;34m{\u001b[0m\u001b[0;36m400\u001b[0m\u001b[0;34m,\u001b[0m \u001b[0;36m404\u001b[0m\u001b[0;34m,\u001b[0m \u001b[0;36m412\u001b[0m\u001b[0;34m}\u001b[0m \u001b[0;32mand\u001b[0m \u001b[0misinstance\u001b[0m\u001b[0;34m(\u001b[0m\u001b[0mdata\u001b[0m\u001b[0;34m,\u001b[0m \u001b[0;34m(\u001b[0m\u001b[0mH2OErrorV3\u001b[0m\u001b[0;34m,\u001b[0m \u001b[0mH2OModelBuilderErrorV3\u001b[0m\u001b[0;34m)\u001b[0m\u001b[0;34m)\u001b[0m\u001b[0;34m:\u001b[0m\u001b[0;34m\u001b[0m\u001b[0;34m\u001b[0m\u001b[0m\n\u001b[0;32m--> 824\u001b[0;31m             \u001b[0;32mraise\u001b[0m \u001b[0mH2OResponseError\u001b[0m\u001b[0;34m(\u001b[0m\u001b[0mdata\u001b[0m\u001b[0;34m)\u001b[0m\u001b[0;34m\u001b[0m\u001b[0;34m\u001b[0m\u001b[0m\n\u001b[0m\u001b[1;32m    825\u001b[0m \u001b[0;34m\u001b[0m\u001b[0m\n\u001b[1;32m    826\u001b[0m         \u001b[0;31m# Server errors (notably 500 = \"Server Error\")\u001b[0m\u001b[0;34m\u001b[0m\u001b[0;34m\u001b[0m\u001b[0;34m\u001b[0m\u001b[0m\n",
      "\u001b[0;31mH2OResponseError\u001b[0m: Server error water.exceptions.H2OIllegalArgumentException:\n  Error: Illegal argument: ../predictions/13-Auto-ML-Split-data-colorAsInt-restAsDummies-v4.csv of function: exportFrame: File ../predictions/13-Auto-ML-Split-data-colorAsInt-restAsDummies-v4.csv already exists!\n  Request: POST /3/Frames/py_511_sid_9049/export\n    data: {'path': '../predictions/13-Auto-ML-Split-data-colorAsInt-restAsDummies-v4.csv', 'num_parts': '1', 'force': 'False', 'separator': '44'}\n"
     ]
    }
   ],
   "source": [
    "h2o.export_file(frame=combinedTable,path='../predictions/15-Auto-ML-Split-data-colorAsInt-restAsDummies-v4.csv')"
   ]
  },
  {
   "cell_type": "code",
   "execution_count": null,
   "metadata": {},
   "outputs": [],
   "source": []
  }
 ],
 "metadata": {
  "kernelspec": {
   "display_name": "Python 3.7.6 64-bit",
   "language": "python",
   "name": "python37664bitc736265aa96942798be544ff59087e30"
  },
  "language_info": {
   "codemirror_mode": {
    "name": "ipython",
    "version": 3
   },
   "file_extension": ".py",
   "mimetype": "text/x-python",
   "name": "python",
   "nbconvert_exporter": "python",
   "pygments_lexer": "ipython3",
   "version": "3.7.6"
  }
 },
 "nbformat": 4,
 "nbformat_minor": 4
}
