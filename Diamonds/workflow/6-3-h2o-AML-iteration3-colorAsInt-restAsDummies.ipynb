{
 "cells": [
  {
   "cell_type": "code",
   "execution_count": 2,
   "metadata": {},
   "outputs": [
    {
     "name": "stdout",
     "output_type": "stream",
     "text": [
      "Checking whether there is an H2O instance running at http://localhost:54321 . connected.\n"
     ]
    },
    {
     "data": {
      "text/html": [
       "<div style=\"overflow:auto\"><table style=\"width:50%\"><tr><td>H2O cluster uptime:</td>\n",
       "<td>07 secs</td></tr>\n",
       "<tr><td>H2O cluster timezone:</td>\n",
       "<td>Europe/Paris</td></tr>\n",
       "<tr><td>H2O data parsing timezone:</td>\n",
       "<td>UTC</td></tr>\n",
       "<tr><td>H2O cluster version:</td>\n",
       "<td>3.28.0.3</td></tr>\n",
       "<tr><td>H2O cluster version age:</td>\n",
       "<td>24 days </td></tr>\n",
       "<tr><td>H2O cluster name:</td>\n",
       "<td>H2O_from_python_edu_r8114u</td></tr>\n",
       "<tr><td>H2O cluster total nodes:</td>\n",
       "<td>1</td></tr>\n",
       "<tr><td>H2O cluster free memory:</td>\n",
       "<td>1.887 Gb</td></tr>\n",
       "<tr><td>H2O cluster total cores:</td>\n",
       "<td>8</td></tr>\n",
       "<tr><td>H2O cluster allowed cores:</td>\n",
       "<td>7</td></tr>\n",
       "<tr><td>H2O cluster status:</td>\n",
       "<td>locked, healthy</td></tr>\n",
       "<tr><td>H2O connection url:</td>\n",
       "<td>http://localhost:54321</td></tr>\n",
       "<tr><td>H2O connection proxy:</td>\n",
       "<td>{'http': None, 'https': None}</td></tr>\n",
       "<tr><td>H2O internal security:</td>\n",
       "<td>False</td></tr>\n",
       "<tr><td>H2O API Extensions:</td>\n",
       "<td>Amazon S3, XGBoost, Algos, AutoML, Core V3, TargetEncoder, Core V4</td></tr>\n",
       "<tr><td>Python version:</td>\n",
       "<td>3.7.6 final</td></tr></table></div>"
      ],
      "text/plain": [
       "--------------------------  ------------------------------------------------------------------\n",
       "H2O cluster uptime:         07 secs\n",
       "H2O cluster timezone:       Europe/Paris\n",
       "H2O data parsing timezone:  UTC\n",
       "H2O cluster version:        3.28.0.3\n",
       "H2O cluster version age:    24 days\n",
       "H2O cluster name:           H2O_from_python_edu_r8114u\n",
       "H2O cluster total nodes:    1\n",
       "H2O cluster free memory:    1.887 Gb\n",
       "H2O cluster total cores:    8\n",
       "H2O cluster allowed cores:  7\n",
       "H2O cluster status:         locked, healthy\n",
       "H2O connection url:         http://localhost:54321\n",
       "H2O connection proxy:       {'http': None, 'https': None}\n",
       "H2O internal security:      False\n",
       "H2O API Extensions:         Amazon S3, XGBoost, Algos, AutoML, Core V3, TargetEncoder, Core V4\n",
       "Python version:             3.7.6 final\n",
       "--------------------------  ------------------------------------------------------------------"
      ]
     },
     "metadata": {},
     "output_type": "display_data"
    }
   ],
   "source": [
    "import pandas as pd\n",
    "import numpy as np\n",
    "import seaborn as sns\n",
    "import matplotlib.pyplot as plt\n",
    "import h2o\n",
    "from h2o.automl import H2OAutoML\n",
    "h2o.init(nthreads=7)"
   ]
  },
  {
   "cell_type": "code",
   "execution_count": 3,
   "metadata": {},
   "outputs": [],
   "source": [
    "runtime = 300"
   ]
  },
  {
   "cell_type": "code",
   "execution_count": 4,
   "metadata": {},
   "outputs": [
    {
     "name": "stdout",
     "output_type": "stream",
     "text": [
      "Parse progress: |█████████████████████████████████████████████████████████| 100%\n",
      "Parse progress: |█████████████████████████████████████████████████████████| 100%\n",
      "Parse progress: |█████████████████████████████████████████████████████████| 100%\n",
      "Parse progress: |█████████████████████████████████████████████████████████| 100%\n"
     ]
    },
    {
     "data": {
      "text/html": [
       "<table>\n",
       "<thead>\n",
       "<tr><th style=\"text-align: right;\">  id</th><th style=\"text-align: right;\">  carat</th><th style=\"text-align: right;\">  color</th><th style=\"text-align: right;\">  depth</th><th style=\"text-align: right;\">  table</th><th style=\"text-align: right;\">   x</th><th style=\"text-align: right;\">   y</th><th style=\"text-align: right;\">   z</th><th style=\"text-align: right;\">  cut_Fair</th><th style=\"text-align: right;\">  cut_Good</th><th style=\"text-align: right;\">  cut_Ideal</th><th style=\"text-align: right;\">  cut_Premium</th><th style=\"text-align: right;\">  cut_Very Good</th><th style=\"text-align: right;\">  clarity_I1</th><th style=\"text-align: right;\">  clarity_IF</th><th style=\"text-align: right;\">  clarity_SI1</th><th style=\"text-align: right;\">  clarity_SI2</th><th style=\"text-align: right;\">  clarity_VS1</th><th style=\"text-align: right;\">  clarity_VS2</th><th style=\"text-align: right;\">  clarity_VVS1</th><th style=\"text-align: right;\">  clarity_VVS2</th><th style=\"text-align: right;\">  price</th></tr>\n",
       "</thead>\n",
       "<tbody>\n",
       "<tr><td style=\"text-align: right;\">   8</td><td style=\"text-align: right;\">   2.05</td><td style=\"text-align: right;\">      7</td><td style=\"text-align: right;\">   62.4</td><td style=\"text-align: right;\">     57</td><td style=\"text-align: right;\">8.17</td><td style=\"text-align: right;\">8.09</td><td style=\"text-align: right;\">5.08</td><td style=\"text-align: right;\">         0</td><td style=\"text-align: right;\">         0</td><td style=\"text-align: right;\">          1</td><td style=\"text-align: right;\">            0</td><td style=\"text-align: right;\">              0</td><td style=\"text-align: right;\">           0</td><td style=\"text-align: right;\">           0</td><td style=\"text-align: right;\">            1</td><td style=\"text-align: right;\">            0</td><td style=\"text-align: right;\">            0</td><td style=\"text-align: right;\">            0</td><td style=\"text-align: right;\">             0</td><td style=\"text-align: right;\">             0</td><td style=\"text-align: right;\">  18193</td></tr>\n",
       "<tr><td style=\"text-align: right;\">  34</td><td style=\"text-align: right;\">   2.01</td><td style=\"text-align: right;\">      6</td><td style=\"text-align: right;\">   64.9</td><td style=\"text-align: right;\">     60</td><td style=\"text-align: right;\">7.82</td><td style=\"text-align: right;\">7.78</td><td style=\"text-align: right;\">5.06</td><td style=\"text-align: right;\">         1</td><td style=\"text-align: right;\">         0</td><td style=\"text-align: right;\">          0</td><td style=\"text-align: right;\">            0</td><td style=\"text-align: right;\">              0</td><td style=\"text-align: right;\">           0</td><td style=\"text-align: right;\">           0</td><td style=\"text-align: right;\">            0</td><td style=\"text-align: right;\">            0</td><td style=\"text-align: right;\">            0</td><td style=\"text-align: right;\">            1</td><td style=\"text-align: right;\">             0</td><td style=\"text-align: right;\">             0</td><td style=\"text-align: right;\">  13744</td></tr>\n",
       "<tr><td style=\"text-align: right;\">  42</td><td style=\"text-align: right;\">   2   </td><td style=\"text-align: right;\">      5</td><td style=\"text-align: right;\">   64.2</td><td style=\"text-align: right;\">     52</td><td style=\"text-align: right;\">7.91</td><td style=\"text-align: right;\">7.88</td><td style=\"text-align: right;\">5.07</td><td style=\"text-align: right;\">         0</td><td style=\"text-align: right;\">         1</td><td style=\"text-align: right;\">          0</td><td style=\"text-align: right;\">            0</td><td style=\"text-align: right;\">              0</td><td style=\"text-align: right;\">           0</td><td style=\"text-align: right;\">           0</td><td style=\"text-align: right;\">            0</td><td style=\"text-align: right;\">            1</td><td style=\"text-align: right;\">            0</td><td style=\"text-align: right;\">            0</td><td style=\"text-align: right;\">             0</td><td style=\"text-align: right;\">             0</td><td style=\"text-align: right;\">  11400</td></tr>\n",
       "<tr><td style=\"text-align: right;\">  72</td><td style=\"text-align: right;\">   2   </td><td style=\"text-align: right;\">      5</td><td style=\"text-align: right;\">   60.3</td><td style=\"text-align: right;\">     56</td><td style=\"text-align: right;\">8.08</td><td style=\"text-align: right;\">8.11</td><td style=\"text-align: right;\">4.88</td><td style=\"text-align: right;\">         0</td><td style=\"text-align: right;\">         1</td><td style=\"text-align: right;\">          0</td><td style=\"text-align: right;\">            0</td><td style=\"text-align: right;\">              0</td><td style=\"text-align: right;\">           0</td><td style=\"text-align: right;\">           0</td><td style=\"text-align: right;\">            0</td><td style=\"text-align: right;\">            1</td><td style=\"text-align: right;\">            0</td><td style=\"text-align: right;\">            0</td><td style=\"text-align: right;\">             0</td><td style=\"text-align: right;\">             0</td><td style=\"text-align: right;\">  16425</td></tr>\n",
       "<tr><td style=\"text-align: right;\">  82</td><td style=\"text-align: right;\">   2.28</td><td style=\"text-align: right;\">      3</td><td style=\"text-align: right;\">   62.7</td><td style=\"text-align: right;\">     57</td><td style=\"text-align: right;\">8.43</td><td style=\"text-align: right;\">8.36</td><td style=\"text-align: right;\">5.26</td><td style=\"text-align: right;\">         0</td><td style=\"text-align: right;\">         0</td><td style=\"text-align: right;\">          1</td><td style=\"text-align: right;\">            0</td><td style=\"text-align: right;\">              0</td><td style=\"text-align: right;\">           0</td><td style=\"text-align: right;\">           0</td><td style=\"text-align: right;\">            0</td><td style=\"text-align: right;\">            0</td><td style=\"text-align: right;\">            0</td><td style=\"text-align: right;\">            1</td><td style=\"text-align: right;\">             0</td><td style=\"text-align: right;\">             0</td><td style=\"text-align: right;\">  16450</td></tr>\n",
       "<tr><td style=\"text-align: right;\">  93</td><td style=\"text-align: right;\">   2.02</td><td style=\"text-align: right;\">      1</td><td style=\"text-align: right;\">   60.4</td><td style=\"text-align: right;\">     58</td><td style=\"text-align: right;\">8.2 </td><td style=\"text-align: right;\">8.16</td><td style=\"text-align: right;\">4.94</td><td style=\"text-align: right;\">         0</td><td style=\"text-align: right;\">         0</td><td style=\"text-align: right;\">          0</td><td style=\"text-align: right;\">            0</td><td style=\"text-align: right;\">              1</td><td style=\"text-align: right;\">           0</td><td style=\"text-align: right;\">           0</td><td style=\"text-align: right;\">            1</td><td style=\"text-align: right;\">            0</td><td style=\"text-align: right;\">            0</td><td style=\"text-align: right;\">            0</td><td style=\"text-align: right;\">             0</td><td style=\"text-align: right;\">             0</td><td style=\"text-align: right;\">  17357</td></tr>\n",
       "<tr><td style=\"text-align: right;\"> 141</td><td style=\"text-align: right;\">   2   </td><td style=\"text-align: right;\">      1</td><td style=\"text-align: right;\">   60.7</td><td style=\"text-align: right;\">     60</td><td style=\"text-align: right;\">8.07</td><td style=\"text-align: right;\">8.11</td><td style=\"text-align: right;\">4.91</td><td style=\"text-align: right;\">         0</td><td style=\"text-align: right;\">         0</td><td style=\"text-align: right;\">          0</td><td style=\"text-align: right;\">            1</td><td style=\"text-align: right;\">              0</td><td style=\"text-align: right;\">           0</td><td style=\"text-align: right;\">           0</td><td style=\"text-align: right;\">            0</td><td style=\"text-align: right;\">            1</td><td style=\"text-align: right;\">            0</td><td style=\"text-align: right;\">            0</td><td style=\"text-align: right;\">             0</td><td style=\"text-align: right;\">             0</td><td style=\"text-align: right;\">  15312</td></tr>\n",
       "<tr><td style=\"text-align: right;\"> 154</td><td style=\"text-align: right;\">   2.01</td><td style=\"text-align: right;\">      5</td><td style=\"text-align: right;\">   61.5</td><td style=\"text-align: right;\">     62</td><td style=\"text-align: right;\">8.07</td><td style=\"text-align: right;\">7.94</td><td style=\"text-align: right;\">4.92</td><td style=\"text-align: right;\">         0</td><td style=\"text-align: right;\">         0</td><td style=\"text-align: right;\">          0</td><td style=\"text-align: right;\">            1</td><td style=\"text-align: right;\">              0</td><td style=\"text-align: right;\">           0</td><td style=\"text-align: right;\">           0</td><td style=\"text-align: right;\">            0</td><td style=\"text-align: right;\">            0</td><td style=\"text-align: right;\">            1</td><td style=\"text-align: right;\">            0</td><td style=\"text-align: right;\">             0</td><td style=\"text-align: right;\">             0</td><td style=\"text-align: right;\">  15475</td></tr>\n",
       "<tr><td style=\"text-align: right;\"> 165</td><td style=\"text-align: right;\">   2.31</td><td style=\"text-align: right;\">      6</td><td style=\"text-align: right;\">   62.9</td><td style=\"text-align: right;\">     58</td><td style=\"text-align: right;\">8.43</td><td style=\"text-align: right;\">8.34</td><td style=\"text-align: right;\">5.27</td><td style=\"text-align: right;\">         0</td><td style=\"text-align: right;\">         0</td><td style=\"text-align: right;\">          0</td><td style=\"text-align: right;\">            1</td><td style=\"text-align: right;\">              0</td><td style=\"text-align: right;\">           0</td><td style=\"text-align: right;\">           0</td><td style=\"text-align: right;\">            0</td><td style=\"text-align: right;\">            1</td><td style=\"text-align: right;\">            0</td><td style=\"text-align: right;\">            0</td><td style=\"text-align: right;\">             0</td><td style=\"text-align: right;\">             0</td><td style=\"text-align: right;\">  17218</td></tr>\n",
       "<tr><td style=\"text-align: right;\"> 167</td><td style=\"text-align: right;\">   2.01</td><td style=\"text-align: right;\">      5</td><td style=\"text-align: right;\">   60.6</td><td style=\"text-align: right;\">     57</td><td style=\"text-align: right;\">8.19</td><td style=\"text-align: right;\">8.09</td><td style=\"text-align: right;\">4.92</td><td style=\"text-align: right;\">         0</td><td style=\"text-align: right;\">         0</td><td style=\"text-align: right;\">          1</td><td style=\"text-align: right;\">            0</td><td style=\"text-align: right;\">              0</td><td style=\"text-align: right;\">           0</td><td style=\"text-align: right;\">           0</td><td style=\"text-align: right;\">            1</td><td style=\"text-align: right;\">            0</td><td style=\"text-align: right;\">            0</td><td style=\"text-align: right;\">            0</td><td style=\"text-align: right;\">             0</td><td style=\"text-align: right;\">             0</td><td style=\"text-align: right;\">  17383</td></tr>\n",
       "</tbody>\n",
       "</table>"
      ]
     },
     "metadata": {},
     "output_type": "display_data"
    },
    {
     "data": {
      "text/plain": []
     },
     "metadata": {},
     "output_type": "display_data"
    },
    {
     "data": {
      "text/html": [
       "<table>\n",
       "<thead>\n",
       "<tr><th style=\"text-align: right;\">  id</th><th style=\"text-align: right;\">  carat</th><th style=\"text-align: right;\">  color</th><th style=\"text-align: right;\">  depth</th><th style=\"text-align: right;\">  table</th><th style=\"text-align: right;\">   x</th><th style=\"text-align: right;\">   y</th><th style=\"text-align: right;\">   z</th><th style=\"text-align: right;\">  cut_Fair</th><th style=\"text-align: right;\">  cut_Good</th><th style=\"text-align: right;\">  cut_Ideal</th><th style=\"text-align: right;\">  cut_Premium</th><th style=\"text-align: right;\">  cut_Very Good</th><th style=\"text-align: right;\">  clarity_I1</th><th style=\"text-align: right;\">  clarity_IF</th><th style=\"text-align: right;\">  clarity_SI1</th><th style=\"text-align: right;\">  clarity_SI2</th><th style=\"text-align: right;\">  clarity_VS1</th><th style=\"text-align: right;\">  clarity_VS2</th><th style=\"text-align: right;\">  clarity_VVS1</th><th style=\"text-align: right;\">  clarity_VVS2</th></tr>\n",
       "</thead>\n",
       "<tbody>\n",
       "<tr><td style=\"text-align: right;\">   2</td><td style=\"text-align: right;\">   2.03</td><td style=\"text-align: right;\">      4</td><td style=\"text-align: right;\">   61.9</td><td style=\"text-align: right;\">     59</td><td style=\"text-align: right;\">8.14</td><td style=\"text-align: right;\">8.09</td><td style=\"text-align: right;\">5.02</td><td style=\"text-align: right;\">         0</td><td style=\"text-align: right;\">         0</td><td style=\"text-align: right;\">          0</td><td style=\"text-align: right;\">            1</td><td style=\"text-align: right;\">              0</td><td style=\"text-align: right;\">           0</td><td style=\"text-align: right;\">           0</td><td style=\"text-align: right;\">            1</td><td style=\"text-align: right;\">            0</td><td style=\"text-align: right;\">            0</td><td style=\"text-align: right;\">            0</td><td style=\"text-align: right;\">             0</td><td style=\"text-align: right;\">             0</td></tr>\n",
       "<tr><td style=\"text-align: right;\">  29</td><td style=\"text-align: right;\">   2.52</td><td style=\"text-align: right;\">      4</td><td style=\"text-align: right;\">   63.7</td><td style=\"text-align: right;\">     59</td><td style=\"text-align: right;\">8.57</td><td style=\"text-align: right;\">8.52</td><td style=\"text-align: right;\">5.44</td><td style=\"text-align: right;\">         0</td><td style=\"text-align: right;\">         1</td><td style=\"text-align: right;\">          0</td><td style=\"text-align: right;\">            0</td><td style=\"text-align: right;\">              0</td><td style=\"text-align: right;\">           0</td><td style=\"text-align: right;\">           0</td><td style=\"text-align: right;\">            0</td><td style=\"text-align: right;\">            1</td><td style=\"text-align: right;\">            0</td><td style=\"text-align: right;\">            0</td><td style=\"text-align: right;\">             0</td><td style=\"text-align: right;\">             0</td></tr>\n",
       "<tr><td style=\"text-align: right;\">  38</td><td style=\"text-align: right;\">   2   </td><td style=\"text-align: right;\">      5</td><td style=\"text-align: right;\">   58.8</td><td style=\"text-align: right;\">     61</td><td style=\"text-align: right;\">8.29</td><td style=\"text-align: right;\">8.23</td><td style=\"text-align: right;\">4.86</td><td style=\"text-align: right;\">         0</td><td style=\"text-align: right;\">         0</td><td style=\"text-align: right;\">          0</td><td style=\"text-align: right;\">            1</td><td style=\"text-align: right;\">              0</td><td style=\"text-align: right;\">           0</td><td style=\"text-align: right;\">           0</td><td style=\"text-align: right;\">            1</td><td style=\"text-align: right;\">            0</td><td style=\"text-align: right;\">            0</td><td style=\"text-align: right;\">            0</td><td style=\"text-align: right;\">             0</td><td style=\"text-align: right;\">             0</td></tr>\n",
       "<tr><td style=\"text-align: right;\">  75</td><td style=\"text-align: right;\">   2.01</td><td style=\"text-align: right;\">      4</td><td style=\"text-align: right;\">   60.3</td><td style=\"text-align: right;\">     59</td><td style=\"text-align: right;\">8.23</td><td style=\"text-align: right;\">8.15</td><td style=\"text-align: right;\">4.94</td><td style=\"text-align: right;\">         0</td><td style=\"text-align: right;\">         0</td><td style=\"text-align: right;\">          0</td><td style=\"text-align: right;\">            1</td><td style=\"text-align: right;\">              0</td><td style=\"text-align: right;\">           0</td><td style=\"text-align: right;\">           0</td><td style=\"text-align: right;\">            1</td><td style=\"text-align: right;\">            0</td><td style=\"text-align: right;\">            0</td><td style=\"text-align: right;\">            0</td><td style=\"text-align: right;\">             0</td><td style=\"text-align: right;\">             0</td></tr>\n",
       "<tr><td style=\"text-align: right;\">  76</td><td style=\"text-align: right;\">   2.15</td><td style=\"text-align: right;\">      2</td><td style=\"text-align: right;\">   62.5</td><td style=\"text-align: right;\">     57</td><td style=\"text-align: right;\">8.2 </td><td style=\"text-align: right;\">8.16</td><td style=\"text-align: right;\">5.11</td><td style=\"text-align: right;\">         0</td><td style=\"text-align: right;\">         0</td><td style=\"text-align: right;\">          1</td><td style=\"text-align: right;\">            0</td><td style=\"text-align: right;\">              0</td><td style=\"text-align: right;\">           0</td><td style=\"text-align: right;\">           0</td><td style=\"text-align: right;\">            1</td><td style=\"text-align: right;\">            0</td><td style=\"text-align: right;\">            0</td><td style=\"text-align: right;\">            0</td><td style=\"text-align: right;\">             0</td><td style=\"text-align: right;\">             0</td></tr>\n",
       "<tr><td style=\"text-align: right;\">  90</td><td style=\"text-align: right;\">   2.02</td><td style=\"text-align: right;\">      2</td><td style=\"text-align: right;\">   61.7</td><td style=\"text-align: right;\">     57</td><td style=\"text-align: right;\">8.12</td><td style=\"text-align: right;\">8.05</td><td style=\"text-align: right;\">4.99</td><td style=\"text-align: right;\">         0</td><td style=\"text-align: right;\">         0</td><td style=\"text-align: right;\">          1</td><td style=\"text-align: right;\">            0</td><td style=\"text-align: right;\">              0</td><td style=\"text-align: right;\">           0</td><td style=\"text-align: right;\">           0</td><td style=\"text-align: right;\">            0</td><td style=\"text-align: right;\">            1</td><td style=\"text-align: right;\">            0</td><td style=\"text-align: right;\">            0</td><td style=\"text-align: right;\">             0</td><td style=\"text-align: right;\">             0</td></tr>\n",
       "<tr><td style=\"text-align: right;\"> 116</td><td style=\"text-align: right;\">   2.02</td><td style=\"text-align: right;\">      4</td><td style=\"text-align: right;\">   61.8</td><td style=\"text-align: right;\">     58</td><td style=\"text-align: right;\">8.16</td><td style=\"text-align: right;\">8.1 </td><td style=\"text-align: right;\">4.94</td><td style=\"text-align: right;\">         0</td><td style=\"text-align: right;\">         0</td><td style=\"text-align: right;\">          0</td><td style=\"text-align: right;\">            1</td><td style=\"text-align: right;\">              0</td><td style=\"text-align: right;\">           0</td><td style=\"text-align: right;\">           0</td><td style=\"text-align: right;\">            1</td><td style=\"text-align: right;\">            0</td><td style=\"text-align: right;\">            0</td><td style=\"text-align: right;\">            0</td><td style=\"text-align: right;\">             0</td><td style=\"text-align: right;\">             0</td></tr>\n",
       "<tr><td style=\"text-align: right;\"> 143</td><td style=\"text-align: right;\">   2.11</td><td style=\"text-align: right;\">      5</td><td style=\"text-align: right;\">   63.5</td><td style=\"text-align: right;\">     55</td><td style=\"text-align: right;\">8.08</td><td style=\"text-align: right;\">8.13</td><td style=\"text-align: right;\">5.15</td><td style=\"text-align: right;\">         0</td><td style=\"text-align: right;\">         0</td><td style=\"text-align: right;\">          0</td><td style=\"text-align: right;\">            0</td><td style=\"text-align: right;\">              1</td><td style=\"text-align: right;\">           0</td><td style=\"text-align: right;\">           0</td><td style=\"text-align: right;\">            0</td><td style=\"text-align: right;\">            1</td><td style=\"text-align: right;\">            0</td><td style=\"text-align: right;\">            0</td><td style=\"text-align: right;\">             0</td><td style=\"text-align: right;\">             0</td></tr>\n",
       "<tr><td style=\"text-align: right;\"> 189</td><td style=\"text-align: right;\">   2.05</td><td style=\"text-align: right;\">      1</td><td style=\"text-align: right;\">   62.5</td><td style=\"text-align: right;\">     60</td><td style=\"text-align: right;\">8.09</td><td style=\"text-align: right;\">8.14</td><td style=\"text-align: right;\">5.07</td><td style=\"text-align: right;\">         0</td><td style=\"text-align: right;\">         0</td><td style=\"text-align: right;\">          0</td><td style=\"text-align: right;\">            1</td><td style=\"text-align: right;\">              0</td><td style=\"text-align: right;\">           0</td><td style=\"text-align: right;\">           0</td><td style=\"text-align: right;\">            0</td><td style=\"text-align: right;\">            0</td><td style=\"text-align: right;\">            1</td><td style=\"text-align: right;\">            0</td><td style=\"text-align: right;\">             0</td><td style=\"text-align: right;\">             0</td></tr>\n",
       "<tr><td style=\"text-align: right;\"> 242</td><td style=\"text-align: right;\">   2.54</td><td style=\"text-align: right;\">      3</td><td style=\"text-align: right;\">   63.5</td><td style=\"text-align: right;\">     56</td><td style=\"text-align: right;\">8.68</td><td style=\"text-align: right;\">8.65</td><td style=\"text-align: right;\">5.5 </td><td style=\"text-align: right;\">         0</td><td style=\"text-align: right;\">         0</td><td style=\"text-align: right;\">          0</td><td style=\"text-align: right;\">            0</td><td style=\"text-align: right;\">              1</td><td style=\"text-align: right;\">           0</td><td style=\"text-align: right;\">           0</td><td style=\"text-align: right;\">            0</td><td style=\"text-align: right;\">            1</td><td style=\"text-align: right;\">            0</td><td style=\"text-align: right;\">            0</td><td style=\"text-align: right;\">             0</td><td style=\"text-align: right;\">             0</td></tr>\n",
       "</tbody>\n",
       "</table>"
      ]
     },
     "metadata": {},
     "output_type": "display_data"
    },
    {
     "data": {
      "text/plain": []
     },
     "execution_count": 4,
     "metadata": {},
     "output_type": "execute_result"
    }
   ],
   "source": [
    "train_high = h2o.import_file('../cleaned-data/08-train_high-colorAsInt-restAsDummies.csv')\n",
    "train_low = h2o.import_file('../cleaned-data/08-train_low-colorAsInt-restAsDummies.csv')\n",
    "test_high = h2o.import_file('../cleaned-data/08-test_high-colorAsInt-restAsDummies.csv')\n",
    "test_low = h2o.import_file('../cleaned-data/08-test_low-colorAsInt-restAsDummies.csv')      \n",
    "display(train_high)\n",
    "test_high"
   ]
  },
  {
   "cell_type": "code",
   "execution_count": 5,
   "metadata": {},
   "outputs": [
    {
     "name": "stdout",
     "output_type": "stream",
     "text": [
      "(1615, 22)\n",
      "(38730, 22)\n",
      "(521, 21)\n",
      "(12928, 21)\n"
     ]
    },
    {
     "data": {
      "text/plain": [
       "[None, None, None, None]"
      ]
     },
     "execution_count": 5,
     "metadata": {},
     "output_type": "execute_result"
    }
   ],
   "source": [
    "list(map(lambda x: print(x.shape),[train_high, train_low, test_high, test_low]))"
   ]
  },
  {
   "cell_type": "code",
   "execution_count": 6,
   "metadata": {},
   "outputs": [
    {
     "data": {
      "text/plain": [
       "['carat',\n",
       " 'color',\n",
       " 'depth',\n",
       " 'table',\n",
       " 'x',\n",
       " 'y',\n",
       " 'z',\n",
       " 'cut_Fair',\n",
       " 'cut_Good',\n",
       " 'cut_Ideal',\n",
       " 'cut_Premium',\n",
       " 'cut_Very Good',\n",
       " 'clarity_I1',\n",
       " 'clarity_IF',\n",
       " 'clarity_SI1',\n",
       " 'clarity_SI2',\n",
       " 'clarity_VS1',\n",
       " 'clarity_VS2',\n",
       " 'clarity_VVS1',\n",
       " 'clarity_VVS2']"
      ]
     },
     "execution_count": 6,
     "metadata": {},
     "output_type": "execute_result"
    }
   ],
   "source": [
    "xTrainCols = train_high.col_names[1:-1]\n",
    "xTrainCols"
   ]
  },
  {
   "cell_type": "code",
   "execution_count": 7,
   "metadata": {},
   "outputs": [
    {
     "name": "stdout",
     "output_type": "stream",
     "text": [
      "AutoML progress: |████████████████████████████████████████████████████████| 100%\n",
      "stackedensemble prediction progress: |████████████████████████████████████| 100%\n"
     ]
    },
    {
     "data": {
      "text/html": [
       "<table>\n",
       "<thead>\n",
       "<tr><th style=\"text-align: right;\">  predict</th></tr>\n",
       "</thead>\n",
       "<tbody>\n",
       "<tr><td style=\"text-align: right;\">  15426.9</td></tr>\n",
       "<tr><td style=\"text-align: right;\">  16224.1</td></tr>\n",
       "<tr><td style=\"text-align: right;\">  15857.7</td></tr>\n",
       "<tr><td style=\"text-align: right;\">  15554  </td></tr>\n",
       "<tr><td style=\"text-align: right;\">  15564.1</td></tr>\n",
       "<tr><td style=\"text-align: right;\">  14982.2</td></tr>\n",
       "<tr><td style=\"text-align: right;\">  15330.4</td></tr>\n",
       "<tr><td style=\"text-align: right;\">  14391.6</td></tr>\n",
       "<tr><td style=\"text-align: right;\">  15616.2</td></tr>\n",
       "<tr><td style=\"text-align: right;\">  16207.8</td></tr>\n",
       "</tbody>\n",
       "</table>"
      ]
     },
     "metadata": {},
     "output_type": "display_data"
    },
    {
     "data": {
      "text/plain": []
     },
     "metadata": {},
     "output_type": "display_data"
    },
    {
     "data": {
      "text/html": [
       "<table>\n",
       "<thead>\n",
       "<tr><th>model_id                                           </th><th style=\"text-align: right;\">  mean_residual_deviance</th><th style=\"text-align: right;\">   rmse</th><th style=\"text-align: right;\">        mse</th><th style=\"text-align: right;\">    mae</th><th style=\"text-align: right;\">   rmsle</th></tr>\n",
       "</thead>\n",
       "<tbody>\n",
       "<tr><td>StackedEnsemble_BestOfFamily_AutoML_20200301_143246</td><td style=\"text-align: right;\">             4.42018e+06</td><td style=\"text-align: right;\">2102.42</td><td style=\"text-align: right;\">4.42018e+06</td><td style=\"text-align: right;\">1746.54</td><td style=\"text-align: right;\">0.14893 </td></tr>\n",
       "<tr><td>XGBoost_3_AutoML_20200301_143246                   </td><td style=\"text-align: right;\">             4.43703e+06</td><td style=\"text-align: right;\">2106.43</td><td style=\"text-align: right;\">4.43703e+06</td><td style=\"text-align: right;\">1755.01</td><td style=\"text-align: right;\">0.149262</td></tr>\n",
       "<tr><td>StackedEnsemble_AllModels_AutoML_20200301_143246   </td><td style=\"text-align: right;\">             4.45012e+06</td><td style=\"text-align: right;\">2109.53</td><td style=\"text-align: right;\">4.45012e+06</td><td style=\"text-align: right;\">1748.55</td><td style=\"text-align: right;\">0.1492  </td></tr>\n",
       "<tr><td>XGBoost_grid__1_AutoML_20200301_143246_model_4     </td><td style=\"text-align: right;\">             4.49906e+06</td><td style=\"text-align: right;\">2121.1 </td><td style=\"text-align: right;\">4.49906e+06</td><td style=\"text-align: right;\">1766.58</td><td style=\"text-align: right;\">0.150977</td></tr>\n",
       "<tr><td>GBM_grid__1_AutoML_20200301_143246_model_35        </td><td style=\"text-align: right;\">             4.50676e+06</td><td style=\"text-align: right;\">2122.91</td><td style=\"text-align: right;\">4.50676e+06</td><td style=\"text-align: right;\">1770.25</td><td style=\"text-align: right;\">0.151458</td></tr>\n",
       "<tr><td>GBM_2_AutoML_20200301_143246                       </td><td style=\"text-align: right;\">             4.51368e+06</td><td style=\"text-align: right;\">2124.54</td><td style=\"text-align: right;\">4.51368e+06</td><td style=\"text-align: right;\">1763.32</td><td style=\"text-align: right;\">0.150788</td></tr>\n",
       "<tr><td>GBM_grid__1_AutoML_20200301_143246_model_37        </td><td style=\"text-align: right;\">             4.52908e+06</td><td style=\"text-align: right;\">2128.16</td><td style=\"text-align: right;\">4.52908e+06</td><td style=\"text-align: right;\">1785.34</td><td style=\"text-align: right;\">0.152594</td></tr>\n",
       "<tr><td>GBM_1_AutoML_20200301_143246                       </td><td style=\"text-align: right;\">             4.5296e+06 </td><td style=\"text-align: right;\">2128.29</td><td style=\"text-align: right;\">4.5296e+06 </td><td style=\"text-align: right;\">1766.92</td><td style=\"text-align: right;\">0.151453</td></tr>\n",
       "<tr><td>GBM_grid__1_AutoML_20200301_143246_model_31        </td><td style=\"text-align: right;\">             4.53335e+06</td><td style=\"text-align: right;\">2129.17</td><td style=\"text-align: right;\">4.53335e+06</td><td style=\"text-align: right;\">1759.22</td><td style=\"text-align: right;\">0.151371</td></tr>\n",
       "<tr><td>XGBoost_grid__1_AutoML_20200301_143246_model_2     </td><td style=\"text-align: right;\">             4.55803e+06</td><td style=\"text-align: right;\">2134.96</td><td style=\"text-align: right;\">4.55803e+06</td><td style=\"text-align: right;\">1773.25</td><td style=\"text-align: right;\">0.151158</td></tr>\n",
       "</tbody>\n",
       "</table>"
      ]
     },
     "metadata": {},
     "output_type": "display_data"
    },
    {
     "data": {
      "text/plain": []
     },
     "metadata": {},
     "output_type": "display_data"
    }
   ],
   "source": [
    "train_frame = train_high\n",
    "model_name = 'diamonds_high'\n",
    "\n",
    "aml_high = H2OAutoML(max_runtime_secs = runtime, project_name = f'{model_name}', keep_cross_validation_models=True)\n",
    "aml_high.train(x=xTrainCols, y = 'price', training_frame = train_frame)\n",
    "pred_high = aml_high.leader.predict(test_high)\n",
    "display(pred_high)\n",
    "display(aml_high.leaderboard)"
   ]
  },
  {
   "cell_type": "code",
   "execution_count": 8,
   "metadata": {},
   "outputs": [],
   "source": [
    "tableHighPreds = test_high['id'].cbind(pred_high)\n",
    "tableHighPreds = tableHighPreds.rename(columns={'predict':'price'})"
   ]
  },
  {
   "cell_type": "code",
   "execution_count": 9,
   "metadata": {},
   "outputs": [
    {
     "name": "stdout",
     "output_type": "stream",
     "text": [
      "AutoML progress: |████████████████████████████████████████████████████████| 100%\n",
      "stackedensemble prediction progress: |████████████████████████████████████| 100%\n"
     ]
    },
    {
     "data": {
      "text/html": [
       "<table>\n",
       "<thead>\n",
       "<tr><th style=\"text-align: right;\">  predict</th></tr>\n",
       "</thead>\n",
       "<tbody>\n",
       "<tr><td style=\"text-align: right;\">  4528.73</td></tr>\n",
       "<tr><td style=\"text-align: right;\">  1349.84</td></tr>\n",
       "<tr><td style=\"text-align: right;\">  6116.22</td></tr>\n",
       "<tr><td style=\"text-align: right;\">  1508.97</td></tr>\n",
       "<tr><td style=\"text-align: right;\">  2444.34</td></tr>\n",
       "<tr><td style=\"text-align: right;\">  1866.56</td></tr>\n",
       "<tr><td style=\"text-align: right;\">  2144.11</td></tr>\n",
       "<tr><td style=\"text-align: right;\">  3231.82</td></tr>\n",
       "<tr><td style=\"text-align: right;\"> 13174.2 </td></tr>\n",
       "<tr><td style=\"text-align: right;\">  3351.14</td></tr>\n",
       "</tbody>\n",
       "</table>"
      ]
     },
     "metadata": {},
     "output_type": "display_data"
    },
    {
     "data": {
      "text/plain": []
     },
     "metadata": {},
     "output_type": "display_data"
    },
    {
     "data": {
      "text/html": [
       "<table>\n",
       "<thead>\n",
       "<tr><th>model_id                                           </th><th style=\"text-align: right;\">  mean_residual_deviance</th><th style=\"text-align: right;\">   rmse</th><th style=\"text-align: right;\">   mse</th><th style=\"text-align: right;\">    mae</th><th style=\"text-align: right;\">     rmsle</th></tr>\n",
       "</thead>\n",
       "<tbody>\n",
       "<tr><td>StackedEnsemble_AllModels_AutoML_20200301_143752   </td><td style=\"text-align: right;\">                  777032</td><td style=\"text-align: right;\">881.494</td><td style=\"text-align: right;\">777032</td><td style=\"text-align: right;\">465.78 </td><td style=\"text-align: right;\">  0.159941</td></tr>\n",
       "<tr><td>StackedEnsemble_BestOfFamily_AutoML_20200301_143752</td><td style=\"text-align: right;\">                  778214</td><td style=\"text-align: right;\">882.164</td><td style=\"text-align: right;\">778214</td><td style=\"text-align: right;\">465.353</td><td style=\"text-align: right;\">  0.159268</td></tr>\n",
       "<tr><td>XGBoost_1_AutoML_20200301_143752                   </td><td style=\"text-align: right;\">                  790013</td><td style=\"text-align: right;\">888.827</td><td style=\"text-align: right;\">790013</td><td style=\"text-align: right;\">466.448</td><td style=\"text-align: right;\">  0.158266</td></tr>\n",
       "<tr><td>XGBoost_3_AutoML_20200301_143752                   </td><td style=\"text-align: right;\">                  792305</td><td style=\"text-align: right;\">890.115</td><td style=\"text-align: right;\">792305</td><td style=\"text-align: right;\">476.693</td><td style=\"text-align: right;\">  0.170006</td></tr>\n",
       "<tr><td>GBM_3_AutoML_20200301_143752                       </td><td style=\"text-align: right;\">                  794128</td><td style=\"text-align: right;\">891.139</td><td style=\"text-align: right;\">794128</td><td style=\"text-align: right;\">470.499</td><td style=\"text-align: right;\">  0.161753</td></tr>\n",
       "<tr><td>GBM_2_AutoML_20200301_143752                       </td><td style=\"text-align: right;\">                  794635</td><td style=\"text-align: right;\">891.423</td><td style=\"text-align: right;\">794635</td><td style=\"text-align: right;\">472.354</td><td style=\"text-align: right;\">  0.163894</td></tr>\n",
       "<tr><td>GBM_1_AutoML_20200301_143752                       </td><td style=\"text-align: right;\">                  795479</td><td style=\"text-align: right;\">891.896</td><td style=\"text-align: right;\">795479</td><td style=\"text-align: right;\">474.931</td><td style=\"text-align: right;\">nan       </td></tr>\n",
       "<tr><td>DRF_1_AutoML_20200301_143752                       </td><td style=\"text-align: right;\">                  801014</td><td style=\"text-align: right;\">894.994</td><td style=\"text-align: right;\">801014</td><td style=\"text-align: right;\">468.793</td><td style=\"text-align: right;\">  0.159395</td></tr>\n",
       "<tr><td>GBM_4_AutoML_20200301_143752                       </td><td style=\"text-align: right;\">                  802360</td><td style=\"text-align: right;\">895.745</td><td style=\"text-align: right;\">802360</td><td style=\"text-align: right;\">469.637</td><td style=\"text-align: right;\">  0.160809</td></tr>\n",
       "<tr><td>XGBoost_2_AutoML_20200301_143752                   </td><td style=\"text-align: right;\">                  804025</td><td style=\"text-align: right;\">896.674</td><td style=\"text-align: right;\">804025</td><td style=\"text-align: right;\">468.353</td><td style=\"text-align: right;\">  0.157513</td></tr>\n",
       "</tbody>\n",
       "</table>"
      ]
     },
     "metadata": {},
     "output_type": "display_data"
    },
    {
     "data": {
      "text/plain": []
     },
     "metadata": {},
     "output_type": "display_data"
    }
   ],
   "source": [
    "train_frame = train_low\n",
    "model_name = 'diamonds_low'\n",
    "\n",
    "aml_low = H2OAutoML(max_runtime_secs = runtime, project_name = f'{model_name}', keep_cross_validation_models=True)\n",
    "aml_low.train(x=xTrainCols, y = 'price', training_frame = train_frame)\n",
    "pred_low = aml_low.leader.predict(test_low)\n",
    "display(pred_low)\n",
    "display(aml_low.leaderboard)"
   ]
  },
  {
   "cell_type": "code",
   "execution_count": 10,
   "metadata": {},
   "outputs": [],
   "source": [
    "tableLowPreds = test_low['id'].cbind(pred_low)\n",
    "tableLowPreds = tableLowPreds.rename(columns={'predict':'price'})"
   ]
  },
  {
   "cell_type": "code",
   "execution_count": 11,
   "metadata": {},
   "outputs": [
    {
     "data": {
      "text/plain": [
       "(13449, 2)"
      ]
     },
     "execution_count": 11,
     "metadata": {},
     "output_type": "execute_result"
    }
   ],
   "source": [
    "combinedTable = tableLowPreds.concat(tableHighPreds, axis=0)\n",
    "combinedTable.shape"
   ]
  },
  {
   "cell_type": "code",
   "execution_count": 12,
   "metadata": {},
   "outputs": [
    {
     "name": "stdout",
     "output_type": "stream",
     "text": [
      "Export File progress: |███████████████████████████████████████████████████| 100%\n"
     ]
    }
   ],
   "source": [
    "h2o.export_file(frame=combinedTable,path='../predictions/13-Auto-ML-Split-data-colorAsInt-restAsDummies-v4.csv')"
   ]
  },
  {
   "cell_type": "code",
   "execution_count": null,
   "metadata": {},
   "outputs": [],
   "source": []
  }
 ],
 "metadata": {
  "kernelspec": {
   "display_name": "Python 3.7.6 64-bit",
   "language": "python",
   "name": "python37664bitc736265aa96942798be544ff59087e30"
  },
  "language_info": {
   "codemirror_mode": {
    "name": "ipython",
    "version": 3
   },
   "file_extension": ".py",
   "mimetype": "text/x-python",
   "name": "python",
   "nbconvert_exporter": "python",
   "pygments_lexer": "ipython3",
   "version": "3.7.6"
  }
 },
 "nbformat": 4,
 "nbformat_minor": 4
}
