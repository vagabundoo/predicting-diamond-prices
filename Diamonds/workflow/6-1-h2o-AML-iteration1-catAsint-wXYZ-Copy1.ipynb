{
 "cells": [
  {
   "cell_type": "code",
   "execution_count": null,
   "metadata": {},
   "outputs": [],
   "source": [
    "import pandas as pd\n",
    "import numpy as np\n",
    "import seaborn as sns\n",
    "import matplotlib.pyplot as plt\n",
    "import h2o\n",
    "from h2o.automl import H2OAutoML\n",
    "h2o.init(nthreads=7)"
   ]
  },
  {
   "cell_type": "code",
   "execution_count": null,
   "metadata": {},
   "outputs": [],
   "source": [
    "train_high = h2o.import_file('../cleaned-data/04-train_high-catAsInt-withXYZ.csv')\n",
    "train_low = h2o.import_file('../cleaned-data/04-train_low-catAsInt-withXYZ.csv')\n",
    "test_high = h2o.import_file('../cleaned-data/04-test_high-catAsInt-withXYZ.csv')\n",
    "test_low = h2o.import_file('../cleaned-data/04-test_low-catAsInt-withXYZ.csv')      \n",
    "train_high.head()"
   ]
  },
  {
   "cell_type": "code",
   "execution_count": null,
   "metadata": {},
   "outputs": [],
   "source": [
    "list(map(lambda x: print(x.shape),[train_high, train_low, test_high, test_low]))"
   ]
  },
  {
   "cell_type": "code",
   "execution_count": null,
   "metadata": {},
   "outputs": [],
   "source": [
    "xTrainCols = train_high.col_names[1:-1]\n",
    "xTrainCols"
   ]
  },
  {
   "cell_type": "code",
   "execution_count": null,
   "metadata": {},
   "outputs": [],
   "source": [
    "train_frame = train_high\n",
    "model_name = 'diamonds_high'\n",
    "runtime = 3540\n",
    "\n",
    "aml_high = H2OAutoML(max_runtime_secs = runtime, project_name = f'{model_name}', keep_cross_validation_models=True)\n",
    "aml_high.train(x=xTrainCols, y = 'price', training_frame = train_frame)\n",
    "pred_high = aml_high.leader.predict(test_high)\n",
    "display(pred_high)\n",
    "display(aml_high.leaderboard)"
   ]
  },
  {
   "cell_type": "code",
   "execution_count": null,
   "metadata": {},
   "outputs": [],
   "source": [
    "tableHighPreds = test_high['id'].cbind(pred_high)\n",
    "tableHighPreds = tableHighPreds.rename(columns={'predict':'price'})"
   ]
  },
  {
   "cell_type": "code",
   "execution_count": null,
   "metadata": {},
   "outputs": [],
   "source": [
    "train_frame = train_low\n",
    "model_name = 'diamonds_low'\n",
    "\n",
    "aml_low = H2OAutoML(max_runtime_secs = runtime, project_name = f'{model_name}', keep_cross_validation_models=True)\n",
    "aml_low.train(x=xTrainCols, y = 'price', training_frame = train_frame)\n",
    "pred_low = aml_low.leader.predict(test_low)\n",
    "display(pred_low)\n",
    "display(aml_low.leaderboard)"
   ]
  },
  {
   "cell_type": "code",
   "execution_count": null,
   "metadata": {},
   "outputs": [],
   "source": [
    "tableLowPreds = test_low['id'].cbind(pred_low)\n",
    "tableLowPreds = tableLowPreds.rename(columns={'predict':'price'})"
   ]
  },
  {
   "cell_type": "code",
   "execution_count": null,
   "metadata": {},
   "outputs": [],
   "source": [
    "combinedTable = tableLowPreds.concat(tableHighPreds, axis=0)\n",
    "combinedTable.shape"
   ]
  },
  {
   "cell_type": "code",
   "execution_count": null,
   "metadata": {},
   "outputs": [],
   "source": [
    "h2o.export_file(frame=combinedTable,path='../predictions/16-Auto-ML-Split-data-catAsInt-withXYZ.csv')"
   ]
  },
  {
   "cell_type": "code",
   "execution_count": null,
   "metadata": {},
   "outputs": [],
   "source": []
  }
 ],
 "metadata": {
  "kernelspec": {
   "display_name": "Python 3.7.6 64-bit",
   "language": "python",
   "name": "python37664bitc736265aa96942798be544ff59087e30"
  },
  "language_info": {
   "codemirror_mode": {
    "name": "ipython",
    "version": 3
   },
   "file_extension": ".py",
   "mimetype": "text/x-python",
   "name": "python",
   "nbconvert_exporter": "python",
   "pygments_lexer": "ipython3",
   "version": "3.7.6"
  }
 },
 "nbformat": 4,
 "nbformat_minor": 4
}
