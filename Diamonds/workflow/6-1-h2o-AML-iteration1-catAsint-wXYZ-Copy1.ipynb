{
 "cells": [
  {
   "cell_type": "code",
   "execution_count": 2,
   "metadata": {},
   "outputs": [
    {
     "name": "stdout",
     "output_type": "stream",
     "text": [
      "Checking whether there is an H2O instance running at http://localhost:54321 . connected.\n"
     ]
    },
    {
     "data": {
      "text/html": [
       "<div style=\"overflow:auto\"><table style=\"width:50%\"><tr><td>H2O cluster uptime:</td>\n",
       "<td>21 mins 19 secs</td></tr>\n",
       "<tr><td>H2O cluster timezone:</td>\n",
       "<td>Europe/Paris</td></tr>\n",
       "<tr><td>H2O data parsing timezone:</td>\n",
       "<td>UTC</td></tr>\n",
       "<tr><td>H2O cluster version:</td>\n",
       "<td>3.28.0.3</td></tr>\n",
       "<tr><td>H2O cluster version age:</td>\n",
       "<td>24 days </td></tr>\n",
       "<tr><td>H2O cluster name:</td>\n",
       "<td>H2O_from_python_edu_r8114u</td></tr>\n",
       "<tr><td>H2O cluster total nodes:</td>\n",
       "<td>1</td></tr>\n",
       "<tr><td>H2O cluster free memory:</td>\n",
       "<td>990 Mb</td></tr>\n",
       "<tr><td>H2O cluster total cores:</td>\n",
       "<td>8</td></tr>\n",
       "<tr><td>H2O cluster allowed cores:</td>\n",
       "<td>7</td></tr>\n",
       "<tr><td>H2O cluster status:</td>\n",
       "<td>locked, healthy</td></tr>\n",
       "<tr><td>H2O connection url:</td>\n",
       "<td>http://localhost:54321</td></tr>\n",
       "<tr><td>H2O connection proxy:</td>\n",
       "<td>{'http': None, 'https': None}</td></tr>\n",
       "<tr><td>H2O internal security:</td>\n",
       "<td>False</td></tr>\n",
       "<tr><td>H2O API Extensions:</td>\n",
       "<td>Amazon S3, XGBoost, Algos, AutoML, Core V3, TargetEncoder, Core V4</td></tr>\n",
       "<tr><td>Python version:</td>\n",
       "<td>3.7.6 final</td></tr></table></div>"
      ],
      "text/plain": [
       "--------------------------  ------------------------------------------------------------------\n",
       "H2O cluster uptime:         21 mins 19 secs\n",
       "H2O cluster timezone:       Europe/Paris\n",
       "H2O data parsing timezone:  UTC\n",
       "H2O cluster version:        3.28.0.3\n",
       "H2O cluster version age:    24 days\n",
       "H2O cluster name:           H2O_from_python_edu_r8114u\n",
       "H2O cluster total nodes:    1\n",
       "H2O cluster free memory:    990 Mb\n",
       "H2O cluster total cores:    8\n",
       "H2O cluster allowed cores:  7\n",
       "H2O cluster status:         locked, healthy\n",
       "H2O connection url:         http://localhost:54321\n",
       "H2O connection proxy:       {'http': None, 'https': None}\n",
       "H2O internal security:      False\n",
       "H2O API Extensions:         Amazon S3, XGBoost, Algos, AutoML, Core V3, TargetEncoder, Core V4\n",
       "Python version:             3.7.6 final\n",
       "--------------------------  ------------------------------------------------------------------"
      ]
     },
     "metadata": {},
     "output_type": "display_data"
    }
   ],
   "source": [
    "import pandas as pd\n",
    "import numpy as np\n",
    "import seaborn as sns\n",
    "import matplotlib.pyplot as plt\n",
    "import h2o\n",
    "from h2o.automl import H2OAutoML\n",
    "h2o.init(nthreads=7)"
   ]
  },
  {
   "cell_type": "code",
   "execution_count": 3,
   "metadata": {},
   "outputs": [
    {
     "name": "stdout",
     "output_type": "stream",
     "text": [
      "Parse progress: |█████████████████████████████████████████████████████████| 100%\n",
      "Parse progress: |█████████████████████████████████████████████████████████| 100%\n",
      "Parse progress: |█████████████████████████████████████████████████████████| 100%\n",
      "Parse progress: |█████████████████████████████████████████████████████████| 100%\n"
     ]
    },
    {
     "data": {
      "text/html": [
       "<table>\n",
       "<thead>\n",
       "<tr><th style=\"text-align: right;\">  id</th><th style=\"text-align: right;\">  carat</th><th style=\"text-align: right;\">  cut</th><th style=\"text-align: right;\">  color</th><th style=\"text-align: right;\">  clarity</th><th style=\"text-align: right;\">  depth</th><th style=\"text-align: right;\">  table</th><th style=\"text-align: right;\">   x</th><th style=\"text-align: right;\">   y</th><th style=\"text-align: right;\">   z</th><th style=\"text-align: right;\">  price</th></tr>\n",
       "</thead>\n",
       "<tbody>\n",
       "<tr><td style=\"text-align: right;\">   8</td><td style=\"text-align: right;\">   2.05</td><td style=\"text-align: right;\">    4</td><td style=\"text-align: right;\">      6</td><td style=\"text-align: right;\">        1</td><td style=\"text-align: right;\">   62.4</td><td style=\"text-align: right;\">     57</td><td style=\"text-align: right;\">8.17</td><td style=\"text-align: right;\">8.09</td><td style=\"text-align: right;\">5.08</td><td style=\"text-align: right;\">  18193</td></tr>\n",
       "<tr><td style=\"text-align: right;\">  34</td><td style=\"text-align: right;\">   2.01</td><td style=\"text-align: right;\">    0</td><td style=\"text-align: right;\">      1</td><td style=\"text-align: right;\">        4</td><td style=\"text-align: right;\">   64.9</td><td style=\"text-align: right;\">     60</td><td style=\"text-align: right;\">7.82</td><td style=\"text-align: right;\">7.78</td><td style=\"text-align: right;\">5.06</td><td style=\"text-align: right;\">  13744</td></tr>\n",
       "<tr><td style=\"text-align: right;\">  42</td><td style=\"text-align: right;\">   2   </td><td style=\"text-align: right;\">    1</td><td style=\"text-align: right;\">      2</td><td style=\"text-align: right;\">        3</td><td style=\"text-align: right;\">   64.2</td><td style=\"text-align: right;\">     52</td><td style=\"text-align: right;\">7.91</td><td style=\"text-align: right;\">7.88</td><td style=\"text-align: right;\">5.07</td><td style=\"text-align: right;\">  11400</td></tr>\n",
       "<tr><td style=\"text-align: right;\">  72</td><td style=\"text-align: right;\">   2   </td><td style=\"text-align: right;\">    1</td><td style=\"text-align: right;\">      7</td><td style=\"text-align: right;\">        3</td><td style=\"text-align: right;\">   60.3</td><td style=\"text-align: right;\">     56</td><td style=\"text-align: right;\">8.08</td><td style=\"text-align: right;\">8.11</td><td style=\"text-align: right;\">4.88</td><td style=\"text-align: right;\">  16425</td></tr>\n",
       "<tr><td style=\"text-align: right;\">  82</td><td style=\"text-align: right;\">   2.28</td><td style=\"text-align: right;\">    4</td><td style=\"text-align: right;\">      1</td><td style=\"text-align: right;\">        4</td><td style=\"text-align: right;\">   62.7</td><td style=\"text-align: right;\">     57</td><td style=\"text-align: right;\">8.43</td><td style=\"text-align: right;\">8.36</td><td style=\"text-align: right;\">5.26</td><td style=\"text-align: right;\">  16450</td></tr>\n",
       "<tr><td style=\"text-align: right;\">  93</td><td style=\"text-align: right;\">   2.02</td><td style=\"text-align: right;\">    2</td><td style=\"text-align: right;\">      2</td><td style=\"text-align: right;\">        1</td><td style=\"text-align: right;\">   60.4</td><td style=\"text-align: right;\">     58</td><td style=\"text-align: right;\">8.2 </td><td style=\"text-align: right;\">8.16</td><td style=\"text-align: right;\">4.94</td><td style=\"text-align: right;\">  17357</td></tr>\n",
       "<tr><td style=\"text-align: right;\"> 141</td><td style=\"text-align: right;\">   2   </td><td style=\"text-align: right;\">    3</td><td style=\"text-align: right;\">      3</td><td style=\"text-align: right;\">        3</td><td style=\"text-align: right;\">   60.7</td><td style=\"text-align: right;\">     60</td><td style=\"text-align: right;\">8.07</td><td style=\"text-align: right;\">8.11</td><td style=\"text-align: right;\">4.91</td><td style=\"text-align: right;\">  15312</td></tr>\n",
       "<tr><td style=\"text-align: right;\"> 154</td><td style=\"text-align: right;\">   2.01</td><td style=\"text-align: right;\">    3</td><td style=\"text-align: right;\">      2</td><td style=\"text-align: right;\">        0</td><td style=\"text-align: right;\">   61.5</td><td style=\"text-align: right;\">     62</td><td style=\"text-align: right;\">8.07</td><td style=\"text-align: right;\">7.94</td><td style=\"text-align: right;\">4.92</td><td style=\"text-align: right;\">  15475</td></tr>\n",
       "<tr><td style=\"text-align: right;\"> 165</td><td style=\"text-align: right;\">   2.31</td><td style=\"text-align: right;\">    3</td><td style=\"text-align: right;\">      2</td><td style=\"text-align: right;\">        3</td><td style=\"text-align: right;\">   62.9</td><td style=\"text-align: right;\">     58</td><td style=\"text-align: right;\">8.43</td><td style=\"text-align: right;\">8.34</td><td style=\"text-align: right;\">5.27</td><td style=\"text-align: right;\">  17218</td></tr>\n",
       "<tr><td style=\"text-align: right;\"> 167</td><td style=\"text-align: right;\">   2.01</td><td style=\"text-align: right;\">    4</td><td style=\"text-align: right;\">      3</td><td style=\"text-align: right;\">        1</td><td style=\"text-align: right;\">   60.6</td><td style=\"text-align: right;\">     57</td><td style=\"text-align: right;\">8.19</td><td style=\"text-align: right;\">8.09</td><td style=\"text-align: right;\">4.92</td><td style=\"text-align: right;\">  17383</td></tr>\n",
       "</tbody>\n",
       "</table>"
      ]
     },
     "metadata": {},
     "output_type": "display_data"
    },
    {
     "data": {
      "text/plain": []
     },
     "execution_count": 3,
     "metadata": {},
     "output_type": "execute_result"
    }
   ],
   "source": [
    "train_high = h2o.import_file('../cleaned-data/04-train_high-catAsInt-withXYZ.csv')\n",
    "train_low = h2o.import_file('../cleaned-data/04-train_low-catAsInt-withXYZ.csv')\n",
    "test_high = h2o.import_file('../cleaned-data/04-test_high-catAsInt-withXYZ.csv')\n",
    "test_low = h2o.import_file('../cleaned-data/04-test_low-catAsInt-withXYZ.csv')      \n",
    "train_high.head()"
   ]
  },
  {
   "cell_type": "code",
   "execution_count": 4,
   "metadata": {},
   "outputs": [
    {
     "name": "stdout",
     "output_type": "stream",
     "text": [
      "(1615, 11)\n",
      "(38730, 11)\n",
      "(521, 10)\n",
      "(12928, 10)\n"
     ]
    },
    {
     "data": {
      "text/plain": [
       "[None, None, None, None]"
      ]
     },
     "execution_count": 4,
     "metadata": {},
     "output_type": "execute_result"
    }
   ],
   "source": [
    "list(map(lambda x: print(x.shape),[train_high, train_low, test_high, test_low]))"
   ]
  },
  {
   "cell_type": "code",
   "execution_count": 5,
   "metadata": {},
   "outputs": [
    {
     "data": {
      "text/plain": [
       "['carat', 'cut', 'color', 'clarity', 'depth', 'table', 'x', 'y', 'z']"
      ]
     },
     "execution_count": 5,
     "metadata": {},
     "output_type": "execute_result"
    }
   ],
   "source": [
    "xTrainCols = train_high.col_names[1:-1]\n",
    "xTrainCols"
   ]
  },
  {
   "cell_type": "code",
   "execution_count": 6,
   "metadata": {},
   "outputs": [
    {
     "name": "stdout",
     "output_type": "stream",
     "text": [
      "AutoML progress: |\n",
      "14:53:57.352: New models will be added to existing leaderboard diamonds_high@@price (leaderboard frame=null) with already 66 models.\n",
      "\n",
      "████████████████████████████████████████████████████████| 100%\n",
      "\n",
      "15:54:22.777: StackedEnsemble_BestOfFamily_AutoML_20200301_145357 [StackedEnsemble best (built using top model from each algorithm type)] failed: water.exceptions.H2OIllegalArgumentException: Failed to find the xval predictions frame. . .  Looks like keep_cross_validation_predictions wasn't set when building the models, or the frame was deleted.\n",
      "15:54:23.779: StackedEnsemble_AllModels_AutoML_20200301_145357 [StackedEnsemble all (built using all AutoML models)] failed: water.exceptions.H2OIllegalArgumentException: Failed to find the xval predictions frame. . .  Looks like keep_cross_validation_predictions wasn't set when building the models, or the frame was deleted.\n",
      "\n",
      "gbm prediction progress: |████████████████████████████████████████████████| 100%\n"
     ]
    },
    {
     "data": {
      "text/html": [
       "<table>\n",
       "<thead>\n",
       "<tr><th style=\"text-align: right;\">  predict</th></tr>\n",
       "</thead>\n",
       "<tbody>\n",
       "<tr><td style=\"text-align: right;\">  16912.2</td></tr>\n",
       "<tr><td style=\"text-align: right;\">  16459.6</td></tr>\n",
       "<tr><td style=\"text-align: right;\">  16056.5</td></tr>\n",
       "<tr><td style=\"text-align: right;\">  17029  </td></tr>\n",
       "<tr><td style=\"text-align: right;\">  15680.3</td></tr>\n",
       "<tr><td style=\"text-align: right;\">  13442.7</td></tr>\n",
       "<tr><td style=\"text-align: right;\">  16592.6</td></tr>\n",
       "<tr><td style=\"text-align: right;\">  16900.9</td></tr>\n",
       "<tr><td style=\"text-align: right;\">  15108.7</td></tr>\n",
       "<tr><td style=\"text-align: right;\">  15600.8</td></tr>\n",
       "</tbody>\n",
       "</table>"
      ]
     },
     "metadata": {},
     "output_type": "display_data"
    },
    {
     "data": {
      "text/plain": []
     },
     "metadata": {},
     "output_type": "display_data"
    },
    {
     "data": {
      "text/html": [
       "<table>\n",
       "<thead>\n",
       "<tr><th>model_id                                       </th><th style=\"text-align: right;\">  mean_residual_deviance</th><th style=\"text-align: right;\">   rmse</th><th style=\"text-align: right;\">        mse</th><th style=\"text-align: right;\">    mae</th><th style=\"text-align: right;\">   rmsle</th></tr>\n",
       "</thead>\n",
       "<tbody>\n",
       "<tr><td>GBM_2_AutoML_20200301_145357                   </td><td style=\"text-align: right;\">             2.82563e+06</td><td style=\"text-align: right;\">1680.96</td><td style=\"text-align: right;\">2.82563e+06</td><td style=\"text-align: right;\">1323.02</td><td style=\"text-align: right;\">0.120789</td></tr>\n",
       "<tr><td>XGBoost_3_AutoML_20200301_145357               </td><td style=\"text-align: right;\">             2.84805e+06</td><td style=\"text-align: right;\">1687.62</td><td style=\"text-align: right;\">2.84805e+06</td><td style=\"text-align: right;\">1340.91</td><td style=\"text-align: right;\">0.120861</td></tr>\n",
       "<tr><td>GBM_4_AutoML_20200301_145357                   </td><td style=\"text-align: right;\">             2.86207e+06</td><td style=\"text-align: right;\">1691.76</td><td style=\"text-align: right;\">2.86207e+06</td><td style=\"text-align: right;\">1324.68</td><td style=\"text-align: right;\">0.12116 </td></tr>\n",
       "<tr><td>GBM_grid__1_AutoML_20200301_145357_model_26    </td><td style=\"text-align: right;\">             2.86458e+06</td><td style=\"text-align: right;\">1692.51</td><td style=\"text-align: right;\">2.86458e+06</td><td style=\"text-align: right;\">1344.39</td><td style=\"text-align: right;\">0.121908</td></tr>\n",
       "<tr><td>XGBoost_1_AutoML_20200301_145357               </td><td style=\"text-align: right;\">             2.87152e+06</td><td style=\"text-align: right;\">1694.55</td><td style=\"text-align: right;\">2.87152e+06</td><td style=\"text-align: right;\">1327.06</td><td style=\"text-align: right;\">0.121378</td></tr>\n",
       "<tr><td>XGBoost_2_AutoML_20200301_145357               </td><td style=\"text-align: right;\">             2.87222e+06</td><td style=\"text-align: right;\">1694.76</td><td style=\"text-align: right;\">2.87222e+06</td><td style=\"text-align: right;\">1324.59</td><td style=\"text-align: right;\">0.121121</td></tr>\n",
       "<tr><td>GBM_grid__1_AutoML_20200301_145357_model_36    </td><td style=\"text-align: right;\">             2.87278e+06</td><td style=\"text-align: right;\">1694.93</td><td style=\"text-align: right;\">2.87278e+06</td><td style=\"text-align: right;\">1328.35</td><td style=\"text-align: right;\">0.122212</td></tr>\n",
       "<tr><td>XGBoost_grid__1_AutoML_20200301_145357_model_10</td><td style=\"text-align: right;\">             2.87705e+06</td><td style=\"text-align: right;\">1696.19</td><td style=\"text-align: right;\">2.87705e+06</td><td style=\"text-align: right;\">1339.96</td><td style=\"text-align: right;\">0.121893</td></tr>\n",
       "<tr><td>GBM_1_AutoML_20200301_145357                   </td><td style=\"text-align: right;\">             2.8777e+06 </td><td style=\"text-align: right;\">1696.38</td><td style=\"text-align: right;\">2.8777e+06 </td><td style=\"text-align: right;\">1329.94</td><td style=\"text-align: right;\">0.122071</td></tr>\n",
       "<tr><td>GBM_3_AutoML_20200301_145357                   </td><td style=\"text-align: right;\">             2.87771e+06</td><td style=\"text-align: right;\">1696.38</td><td style=\"text-align: right;\">2.87771e+06</td><td style=\"text-align: right;\">1330.09</td><td style=\"text-align: right;\">0.122157</td></tr>\n",
       "</tbody>\n",
       "</table>"
      ]
     },
     "metadata": {},
     "output_type": "display_data"
    },
    {
     "data": {
      "text/plain": []
     },
     "metadata": {},
     "output_type": "display_data"
    }
   ],
   "source": [
    "train_frame = train_high\n",
    "model_name = 'diamonds_high'\n",
    "runtime = 3540\n",
    "\n",
    "aml_high = H2OAutoML(max_runtime_secs = runtime, project_name = f'{model_name}', keep_cross_validation_models=True)\n",
    "aml_high.train(x=xTrainCols, y = 'price', training_frame = train_frame)\n",
    "pred_high = aml_high.leader.predict(test_high)\n",
    "display(pred_high)\n",
    "display(aml_high.leaderboard)"
   ]
  },
  {
   "cell_type": "code",
   "execution_count": 7,
   "metadata": {},
   "outputs": [],
   "source": [
    "tableHighPreds = test_high['id'].cbind(pred_high)\n",
    "tableHighPreds = tableHighPreds.rename(columns={'predict':'price'})"
   ]
  },
  {
   "cell_type": "code",
   "execution_count": null,
   "metadata": {},
   "outputs": [],
   "source": [
    "train_frame = train_low\n",
    "model_name = 'diamonds_low'\n",
    "\n",
    "aml_low = H2OAutoML(max_runtime_secs = runtime, project_name = f'{model_name}', keep_cross_validation_models=True)\n",
    "aml_low.train(x=xTrainCols, y = 'price', training_frame = train_frame)\n",
    "pred_low = aml_low.leader.predict(test_low)\n",
    "display(pred_low)\n",
    "display(aml_low.leaderboard)"
   ]
  },
  {
   "cell_type": "code",
   "execution_count": null,
   "metadata": {},
   "outputs": [],
   "source": [
    "tableLowPreds = test_low['id'].cbind(pred_low)\n",
    "tableLowPreds = tableLowPreds.rename(columns={'predict':'price'})"
   ]
  },
  {
   "cell_type": "code",
   "execution_count": null,
   "metadata": {},
   "outputs": [],
   "source": [
    "combinedTable = tableLowPreds.concat(tableHighPreds, axis=0)\n",
    "combinedTable.shape"
   ]
  },
  {
   "cell_type": "code",
   "execution_count": null,
   "metadata": {},
   "outputs": [],
   "source": [
    "h2o.export_file(frame=combinedTable,path='../predictions/14-Auto-ML-Split-data-catAsInt-withXYZ.csv')"
   ]
  },
  {
   "cell_type": "code",
   "execution_count": null,
   "metadata": {},
   "outputs": [],
   "source": []
  }
 ],
 "metadata": {
  "kernelspec": {
   "display_name": "Python 3.7.6 64-bit",
   "language": "python",
   "name": "python37664bitc736265aa96942798be544ff59087e30"
  },
  "language_info": {
   "codemirror_mode": {
    "name": "ipython",
    "version": 3
   },
   "file_extension": ".py",
   "mimetype": "text/x-python",
   "name": "python",
   "nbconvert_exporter": "python",
   "pygments_lexer": "ipython3",
   "version": "3.7.6"
  }
 },
 "nbformat": 4,
 "nbformat_minor": 4
}
