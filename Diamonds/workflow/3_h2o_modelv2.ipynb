{
 "cells": [
  {
   "cell_type": "markdown",
   "metadata": {},
   "source": [
    "# Working with AutoML (H2O)\n",
    "\n",
    "Having cleaned our model,"
   ]
  },
  {
   "cell_type": "code",
   "execution_count": 1,
   "metadata": {},
   "outputs": [
    {
     "name": "stdout",
     "output_type": "stream",
     "text": [
      "Checking whether there is an H2O instance running at http://localhost:54321 ..... not found.\n",
      "Attempting to start a local H2O server...\n",
      "  Java Version: openjdk version \"11.0.6\" 2020-01-14; OpenJDK Runtime Environment (build 11.0.6+10-post-Ubuntu-1ubuntu118.04.1); OpenJDK 64-Bit Server VM (build 11.0.6+10-post-Ubuntu-1ubuntu118.04.1, mixed mode, sharing)\n",
      "  Starting server from /home/edu/.local/lib/python3.7/site-packages/h2o/backend/bin/h2o.jar\n",
      "  Ice root: /tmp/tmpp5ib5a7v\n",
      "  JVM stdout: /tmp/tmpp5ib5a7v/h2o_edu_started_from_python.out\n",
      "  JVM stderr: /tmp/tmpp5ib5a7v/h2o_edu_started_from_python.err\n",
      "  Server is running at http://127.0.0.1:54321\n",
      "Connecting to H2O server at http://127.0.0.1:54321 ... successful.\n"
     ]
    },
    {
     "data": {
      "text/html": [
       "<div style=\"overflow:auto\"><table style=\"width:50%\"><tr><td>H2O cluster uptime:</td>\n",
       "<td>01 secs</td></tr>\n",
       "<tr><td>H2O cluster timezone:</td>\n",
       "<td>Europe/Paris</td></tr>\n",
       "<tr><td>H2O data parsing timezone:</td>\n",
       "<td>UTC</td></tr>\n",
       "<tr><td>H2O cluster version:</td>\n",
       "<td>3.28.0.3</td></tr>\n",
       "<tr><td>H2O cluster version age:</td>\n",
       "<td>25 days </td></tr>\n",
       "<tr><td>H2O cluster name:</td>\n",
       "<td>H2O_from_python_edu_k82t3p</td></tr>\n",
       "<tr><td>H2O cluster total nodes:</td>\n",
       "<td>1</td></tr>\n",
       "<tr><td>H2O cluster free memory:</td>\n",
       "<td>6 Gb</td></tr>\n",
       "<tr><td>H2O cluster total cores:</td>\n",
       "<td>8</td></tr>\n",
       "<tr><td>H2O cluster allowed cores:</td>\n",
       "<td>7</td></tr>\n",
       "<tr><td>H2O cluster status:</td>\n",
       "<td>accepting new members, healthy</td></tr>\n",
       "<tr><td>H2O connection url:</td>\n",
       "<td>http://127.0.0.1:54321</td></tr>\n",
       "<tr><td>H2O connection proxy:</td>\n",
       "<td>{'http': None, 'https': None}</td></tr>\n",
       "<tr><td>H2O internal security:</td>\n",
       "<td>False</td></tr>\n",
       "<tr><td>H2O API Extensions:</td>\n",
       "<td>Amazon S3, XGBoost, Algos, AutoML, Core V3, TargetEncoder, Core V4</td></tr>\n",
       "<tr><td>Python version:</td>\n",
       "<td>3.7.6 final</td></tr></table></div>"
      ],
      "text/plain": [
       "--------------------------  ------------------------------------------------------------------\n",
       "H2O cluster uptime:         01 secs\n",
       "H2O cluster timezone:       Europe/Paris\n",
       "H2O data parsing timezone:  UTC\n",
       "H2O cluster version:        3.28.0.3\n",
       "H2O cluster version age:    25 days\n",
       "H2O cluster name:           H2O_from_python_edu_k82t3p\n",
       "H2O cluster total nodes:    1\n",
       "H2O cluster free memory:    6 Gb\n",
       "H2O cluster total cores:    8\n",
       "H2O cluster allowed cores:  7\n",
       "H2O cluster status:         accepting new members, healthy\n",
       "H2O connection url:         http://127.0.0.1:54321\n",
       "H2O connection proxy:       {'http': None, 'https': None}\n",
       "H2O internal security:      False\n",
       "H2O API Extensions:         Amazon S3, XGBoost, Algos, AutoML, Core V3, TargetEncoder, Core V4\n",
       "Python version:             3.7.6 final\n",
       "--------------------------  ------------------------------------------------------------------"
      ]
     },
     "metadata": {},
     "output_type": "display_data"
    },
    {
     "name": "stdout",
     "output_type": "stream",
     "text": [
      "Parse progress: |█████████████████████████████████████████████████████████| 100%\n",
      "Parse progress: |█████████████████████████████████████████████████████████| 100%\n"
     ]
    }
   ],
   "source": [
    "import h2o\n",
    "h2o.init(nthreads=7,\n",
    "        max_mem_size='6G')\n",
    "from h2o.estimators import deeplearning\n",
    "from h2o.estimators import H2ORandomForestEstimator\n",
    "from h2o.automl import H2OAutoML\n",
    "import pandas as pd\n",
    "dum_train = h2o.import_file('../cleaned-data/02_diamonds_train_alldummies.csv')\n",
    "dum_test = h2o.import_file('../cleaned-data/02_diamonds_test_alldummies.csv')"
   ]
  },
  {
   "cell_type": "code",
   "execution_count": 32,
   "metadata": {},
   "outputs": [
    {
     "data": {
      "text/html": [
       "<div>\n",
       "<style scoped>\n",
       "    .dataframe tbody tr th:only-of-type {\n",
       "        vertical-align: middle;\n",
       "    }\n",
       "\n",
       "    .dataframe tbody tr th {\n",
       "        vertical-align: top;\n",
       "    }\n",
       "\n",
       "    .dataframe thead th {\n",
       "        text-align: right;\n",
       "    }\n",
       "</style>\n",
       "<table border=\"1\" class=\"dataframe\">\n",
       "  <thead>\n",
       "    <tr style=\"text-align: right;\">\n",
       "      <th></th>\n",
       "      <th>id</th>\n",
       "      <th>id</th>\n",
       "      <th>carat</th>\n",
       "      <th>depth</th>\n",
       "      <th>table</th>\n",
       "      <th>x</th>\n",
       "      <th>y</th>\n",
       "      <th>z</th>\n",
       "      <th>cut_0</th>\n",
       "      <th>cut_1</th>\n",
       "      <th>...</th>\n",
       "      <th>color_7</th>\n",
       "      <th>clarity_0</th>\n",
       "      <th>clarity_1</th>\n",
       "      <th>clarity_2</th>\n",
       "      <th>clarity_3</th>\n",
       "      <th>clarity_4</th>\n",
       "      <th>clarity_5</th>\n",
       "      <th>clarity_6</th>\n",
       "      <th>clarity_7</th>\n",
       "      <th>price</th>\n",
       "    </tr>\n",
       "  </thead>\n",
       "  <tbody>\n",
       "    <tr>\n",
       "      <th>0</th>\n",
       "      <td>0</td>\n",
       "      <td>0</td>\n",
       "      <td>0.78</td>\n",
       "      <td>61.5</td>\n",
       "      <td>58.0</td>\n",
       "      <td>5.93</td>\n",
       "      <td>5.98</td>\n",
       "      <td>3.66</td>\n",
       "      <td>0</td>\n",
       "      <td>0</td>\n",
       "      <td>...</td>\n",
       "      <td>0</td>\n",
       "      <td>1</td>\n",
       "      <td>0</td>\n",
       "      <td>0</td>\n",
       "      <td>0</td>\n",
       "      <td>0</td>\n",
       "      <td>0</td>\n",
       "      <td>0</td>\n",
       "      <td>0</td>\n",
       "      <td>3446</td>\n",
       "    </tr>\n",
       "    <tr>\n",
       "      <th>1</th>\n",
       "      <td>1</td>\n",
       "      <td>1</td>\n",
       "      <td>0.31</td>\n",
       "      <td>60.8</td>\n",
       "      <td>56.0</td>\n",
       "      <td>4.37</td>\n",
       "      <td>4.32</td>\n",
       "      <td>2.64</td>\n",
       "      <td>0</td>\n",
       "      <td>0</td>\n",
       "      <td>...</td>\n",
       "      <td>1</td>\n",
       "      <td>0</td>\n",
       "      <td>1</td>\n",
       "      <td>0</td>\n",
       "      <td>0</td>\n",
       "      <td>0</td>\n",
       "      <td>0</td>\n",
       "      <td>0</td>\n",
       "      <td>0</td>\n",
       "      <td>732</td>\n",
       "    </tr>\n",
       "    <tr>\n",
       "      <th>2</th>\n",
       "      <td>2</td>\n",
       "      <td>2</td>\n",
       "      <td>0.30</td>\n",
       "      <td>62.3</td>\n",
       "      <td>54.0</td>\n",
       "      <td>4.30</td>\n",
       "      <td>4.34</td>\n",
       "      <td>2.69</td>\n",
       "      <td>0</td>\n",
       "      <td>0</td>\n",
       "      <td>...</td>\n",
       "      <td>0</td>\n",
       "      <td>0</td>\n",
       "      <td>1</td>\n",
       "      <td>0</td>\n",
       "      <td>0</td>\n",
       "      <td>0</td>\n",
       "      <td>0</td>\n",
       "      <td>0</td>\n",
       "      <td>0</td>\n",
       "      <td>475</td>\n",
       "    </tr>\n",
       "    <tr>\n",
       "      <th>3</th>\n",
       "      <td>3</td>\n",
       "      <td>3</td>\n",
       "      <td>1.04</td>\n",
       "      <td>62.0</td>\n",
       "      <td>58.0</td>\n",
       "      <td>6.54</td>\n",
       "      <td>6.46</td>\n",
       "      <td>4.03</td>\n",
       "      <td>0</td>\n",
       "      <td>0</td>\n",
       "      <td>...</td>\n",
       "      <td>0</td>\n",
       "      <td>0</td>\n",
       "      <td>0</td>\n",
       "      <td>1</td>\n",
       "      <td>0</td>\n",
       "      <td>0</td>\n",
       "      <td>0</td>\n",
       "      <td>0</td>\n",
       "      <td>0</td>\n",
       "      <td>9552</td>\n",
       "    </tr>\n",
       "    <tr>\n",
       "      <th>4</th>\n",
       "      <td>4</td>\n",
       "      <td>4</td>\n",
       "      <td>0.65</td>\n",
       "      <td>61.4</td>\n",
       "      <td>55.0</td>\n",
       "      <td>5.58</td>\n",
       "      <td>5.62</td>\n",
       "      <td>3.44</td>\n",
       "      <td>0</td>\n",
       "      <td>0</td>\n",
       "      <td>...</td>\n",
       "      <td>0</td>\n",
       "      <td>0</td>\n",
       "      <td>1</td>\n",
       "      <td>0</td>\n",
       "      <td>0</td>\n",
       "      <td>0</td>\n",
       "      <td>0</td>\n",
       "      <td>0</td>\n",
       "      <td>0</td>\n",
       "      <td>1276</td>\n",
       "    </tr>\n",
       "    <tr>\n",
       "      <th>...</th>\n",
       "      <td>...</td>\n",
       "      <td>...</td>\n",
       "      <td>...</td>\n",
       "      <td>...</td>\n",
       "      <td>...</td>\n",
       "      <td>...</td>\n",
       "      <td>...</td>\n",
       "      <td>...</td>\n",
       "      <td>...</td>\n",
       "      <td>...</td>\n",
       "      <td>...</td>\n",
       "      <td>...</td>\n",
       "      <td>...</td>\n",
       "      <td>...</td>\n",
       "      <td>...</td>\n",
       "      <td>...</td>\n",
       "      <td>...</td>\n",
       "      <td>...</td>\n",
       "      <td>...</td>\n",
       "      <td>...</td>\n",
       "      <td>...</td>\n",
       "    </tr>\n",
       "    <tr>\n",
       "      <th>40340</th>\n",
       "      <td>40340</td>\n",
       "      <td>40340</td>\n",
       "      <td>0.50</td>\n",
       "      <td>61.9</td>\n",
       "      <td>56.0</td>\n",
       "      <td>5.09</td>\n",
       "      <td>5.12</td>\n",
       "      <td>3.16</td>\n",
       "      <td>0</td>\n",
       "      <td>0</td>\n",
       "      <td>...</td>\n",
       "      <td>0</td>\n",
       "      <td>1</td>\n",
       "      <td>0</td>\n",
       "      <td>0</td>\n",
       "      <td>0</td>\n",
       "      <td>0</td>\n",
       "      <td>0</td>\n",
       "      <td>0</td>\n",
       "      <td>0</td>\n",
       "      <td>1716</td>\n",
       "    </tr>\n",
       "    <tr>\n",
       "      <th>40341</th>\n",
       "      <td>40341</td>\n",
       "      <td>40341</td>\n",
       "      <td>0.33</td>\n",
       "      <td>61.8</td>\n",
       "      <td>56.0</td>\n",
       "      <td>4.40</td>\n",
       "      <td>4.44</td>\n",
       "      <td>2.73</td>\n",
       "      <td>0</td>\n",
       "      <td>0</td>\n",
       "      <td>...</td>\n",
       "      <td>1</td>\n",
       "      <td>0</td>\n",
       "      <td>0</td>\n",
       "      <td>0</td>\n",
       "      <td>0</td>\n",
       "      <td>1</td>\n",
       "      <td>0</td>\n",
       "      <td>0</td>\n",
       "      <td>0</td>\n",
       "      <td>781</td>\n",
       "    </tr>\n",
       "    <tr>\n",
       "      <th>40342</th>\n",
       "      <td>40342</td>\n",
       "      <td>40342</td>\n",
       "      <td>0.40</td>\n",
       "      <td>61.5</td>\n",
       "      <td>58.0</td>\n",
       "      <td>4.69</td>\n",
       "      <td>4.74</td>\n",
       "      <td>2.90</td>\n",
       "      <td>0</td>\n",
       "      <td>0</td>\n",
       "      <td>...</td>\n",
       "      <td>0</td>\n",
       "      <td>0</td>\n",
       "      <td>0</td>\n",
       "      <td>0</td>\n",
       "      <td>0</td>\n",
       "      <td>0</td>\n",
       "      <td>0</td>\n",
       "      <td>1</td>\n",
       "      <td>0</td>\n",
       "      <td>1123</td>\n",
       "    </tr>\n",
       "    <tr>\n",
       "      <th>40343</th>\n",
       "      <td>40343</td>\n",
       "      <td>40343</td>\n",
       "      <td>1.06</td>\n",
       "      <td>61.2</td>\n",
       "      <td>57.0</td>\n",
       "      <td>6.59</td>\n",
       "      <td>6.56</td>\n",
       "      <td>4.03</td>\n",
       "      <td>0</td>\n",
       "      <td>0</td>\n",
       "      <td>...</td>\n",
       "      <td>0</td>\n",
       "      <td>1</td>\n",
       "      <td>0</td>\n",
       "      <td>0</td>\n",
       "      <td>0</td>\n",
       "      <td>0</td>\n",
       "      <td>0</td>\n",
       "      <td>0</td>\n",
       "      <td>0</td>\n",
       "      <td>5651</td>\n",
       "    </tr>\n",
       "    <tr>\n",
       "      <th>40344</th>\n",
       "      <td>40344</td>\n",
       "      <td>40344</td>\n",
       "      <td>1.01</td>\n",
       "      <td>63.4</td>\n",
       "      <td>55.0</td>\n",
       "      <td>6.35</td>\n",
       "      <td>6.29</td>\n",
       "      <td>4.01</td>\n",
       "      <td>0</td>\n",
       "      <td>0</td>\n",
       "      <td>...</td>\n",
       "      <td>0</td>\n",
       "      <td>0</td>\n",
       "      <td>0</td>\n",
       "      <td>0</td>\n",
       "      <td>1</td>\n",
       "      <td>0</td>\n",
       "      <td>0</td>\n",
       "      <td>0</td>\n",
       "      <td>0</td>\n",
       "      <td>3959</td>\n",
       "    </tr>\n",
       "  </tbody>\n",
       "</table>\n",
       "<p>40345 rows × 29 columns</p>\n",
       "</div>"
      ],
      "text/plain": [
       "          id     id  carat  depth  table     x     y     z  cut_0  cut_1  ...  \\\n",
       "0          0      0   0.78   61.5   58.0  5.93  5.98  3.66      0      0  ...   \n",
       "1          1      1   0.31   60.8   56.0  4.37  4.32  2.64      0      0  ...   \n",
       "2          2      2   0.30   62.3   54.0  4.30  4.34  2.69      0      0  ...   \n",
       "3          3      3   1.04   62.0   58.0  6.54  6.46  4.03      0      0  ...   \n",
       "4          4      4   0.65   61.4   55.0  5.58  5.62  3.44      0      0  ...   \n",
       "...      ...    ...    ...    ...    ...   ...   ...   ...    ...    ...  ...   \n",
       "40340  40340  40340   0.50   61.9   56.0  5.09  5.12  3.16      0      0  ...   \n",
       "40341  40341  40341   0.33   61.8   56.0  4.40  4.44  2.73      0      0  ...   \n",
       "40342  40342  40342   0.40   61.5   58.0  4.69  4.74  2.90      0      0  ...   \n",
       "40343  40343  40343   1.06   61.2   57.0  6.59  6.56  4.03      0      0  ...   \n",
       "40344  40344  40344   1.01   63.4   55.0  6.35  6.29  4.01      0      0  ...   \n",
       "\n",
       "       color_7  clarity_0  clarity_1  clarity_2  clarity_3  clarity_4  \\\n",
       "0            0          1          0          0          0          0   \n",
       "1            1          0          1          0          0          0   \n",
       "2            0          0          1          0          0          0   \n",
       "3            0          0          0          1          0          0   \n",
       "4            0          0          1          0          0          0   \n",
       "...        ...        ...        ...        ...        ...        ...   \n",
       "40340        0          1          0          0          0          0   \n",
       "40341        1          0          0          0          0          1   \n",
       "40342        0          0          0          0          0          0   \n",
       "40343        0          1          0          0          0          0   \n",
       "40344        0          0          0          0          1          0   \n",
       "\n",
       "       clarity_5  clarity_6  clarity_7  price  \n",
       "0              0          0          0   3446  \n",
       "1              0          0          0    732  \n",
       "2              0          0          0    475  \n",
       "3              0          0          0   9552  \n",
       "4              0          0          0   1276  \n",
       "...          ...        ...        ...    ...  \n",
       "40340          0          0          0   1716  \n",
       "40341          0          0          0    781  \n",
       "40342          0          1          0   1123  \n",
       "40343          0          0          0   5651  \n",
       "40344          0          0          0   3959  \n",
       "\n",
       "[40345 rows x 29 columns]"
      ]
     },
     "execution_count": 32,
     "metadata": {},
     "output_type": "execute_result"
    }
   ],
   "source": [
    "df = dum_train.as_data_frame()\n",
    "df = df.reset_index()\n",
    "df.rename(columns={'index':'id'})"
   ]
  },
  {
   "cell_type": "code",
   "execution_count": 33,
   "metadata": {},
   "outputs": [],
   "source": [
    "deep_v1 = deeplearning.H2ODeepLearningEstimator()"
   ]
  },
  {
   "cell_type": "code",
   "execution_count": 34,
   "metadata": {},
   "outputs": [],
   "source": [
    "train_1, test_1 = dum_train.split_frame([0.8])"
   ]
  },
  {
   "cell_type": "code",
   "execution_count": null,
   "metadata": {},
   "outputs": [
    {
     "name": "stdout",
     "output_type": "stream",
     "text": [
      "deeplearning Model Build progress: |███████████████████████████████████"
     ]
    }
   ],
   "source": [
    "deep_v1.train(dum_train.col_names[:-1], y='price', training_frame=train_1, validation_frame=test_1)"
   ]
  },
  {
   "cell_type": "code",
   "execution_count": null,
   "metadata": {},
   "outputs": [],
   "source": [
    "deep_v1"
   ]
  },
  {
   "cell_type": "code",
   "execution_count": null,
   "metadata": {},
   "outputs": [],
   "source": [
    "diam_forest_v1 = H2ORandomForestEstimator(\n",
    "    ntrees=10,\n",
    "    stopping_rounds=2,\n",
    "    score_each_iteration=True,\n",
    "    seed=1000000)"
   ]
  },
  {
   "cell_type": "code",
   "execution_count": null,
   "metadata": {},
   "outputs": [],
   "source": [
    "diam_forest_v1.train(dum_train.col_names[:-1], y='price', training_frame=train_1, validation_frame=test_1)"
   ]
  },
  {
   "cell_type": "code",
   "execution_count": null,
   "metadata": {},
   "outputs": [],
   "source": [
    "diam_forest_v1"
   ]
  },
  {
   "cell_type": "code",
   "execution_count": null,
   "metadata": {},
   "outputs": [],
   "source": [
    "# aml = H2OAutoML(max_runtime_secs = 60, seed = 1, project_name = \"diamonds\")\n",
    "# aml.train(y = 'price', training_frame = train_1, leaderboard_frame = test_1)\n"
   ]
  },
  {
   "cell_type": "code",
   "execution_count": null,
   "metadata": {},
   "outputs": [],
   "source": [
    "aml.leaderboard"
   ]
  },
  {
   "cell_type": "code",
   "execution_count": 4,
   "metadata": {},
   "outputs": [
    {
     "data": {
      "text/html": [
       "<table>\n",
       "<thead>\n",
       "<tr><th style=\"text-align: right;\">  id</th><th style=\"text-align: right;\">  carat</th><th style=\"text-align: right;\">  depth</th><th style=\"text-align: right;\">  table</th><th style=\"text-align: right;\">   x</th><th style=\"text-align: right;\">   y</th><th style=\"text-align: right;\">   z</th><th style=\"text-align: right;\">  cut_0</th><th style=\"text-align: right;\">  cut_1</th><th style=\"text-align: right;\">  cut_2</th><th style=\"text-align: right;\">  cut_3</th><th style=\"text-align: right;\">  cut_4</th><th style=\"text-align: right;\">  color_1</th><th style=\"text-align: right;\">  color_2</th><th style=\"text-align: right;\">  color_3</th><th style=\"text-align: right;\">  color_4</th><th style=\"text-align: right;\">  color_5</th><th style=\"text-align: right;\">  color_6</th><th style=\"text-align: right;\">  color_7</th><th style=\"text-align: right;\">  clarity_0</th><th style=\"text-align: right;\">  clarity_1</th><th style=\"text-align: right;\">  clarity_2</th><th style=\"text-align: right;\">  clarity_3</th><th style=\"text-align: right;\">  clarity_4</th><th style=\"text-align: right;\">  clarity_5</th><th style=\"text-align: right;\">  clarity_6</th><th style=\"text-align: right;\">  clarity_7</th><th style=\"text-align: right;\">  price</th></tr>\n",
       "</thead>\n",
       "<tbody>\n",
       "<tr><td style=\"text-align: right;\">   0</td><td style=\"text-align: right;\">   0.78</td><td style=\"text-align: right;\">   61.5</td><td style=\"text-align: right;\">     58</td><td style=\"text-align: right;\">5.93</td><td style=\"text-align: right;\">5.98</td><td style=\"text-align: right;\">3.66</td><td style=\"text-align: right;\">      0</td><td style=\"text-align: right;\">      0</td><td style=\"text-align: right;\">      0</td><td style=\"text-align: right;\">      1</td><td style=\"text-align: right;\">      0</td><td style=\"text-align: right;\">        0</td><td style=\"text-align: right;\">        0</td><td style=\"text-align: right;\">        0</td><td style=\"text-align: right;\">        0</td><td style=\"text-align: right;\">        1</td><td style=\"text-align: right;\">        0</td><td style=\"text-align: right;\">        0</td><td style=\"text-align: right;\">          1</td><td style=\"text-align: right;\">          0</td><td style=\"text-align: right;\">          0</td><td style=\"text-align: right;\">          0</td><td style=\"text-align: right;\">          0</td><td style=\"text-align: right;\">          0</td><td style=\"text-align: right;\">          0</td><td style=\"text-align: right;\">          0</td><td style=\"text-align: right;\">   3446</td></tr>\n",
       "<tr><td style=\"text-align: right;\">   1</td><td style=\"text-align: right;\">   0.31</td><td style=\"text-align: right;\">   60.8</td><td style=\"text-align: right;\">     56</td><td style=\"text-align: right;\">4.37</td><td style=\"text-align: right;\">4.32</td><td style=\"text-align: right;\">2.64</td><td style=\"text-align: right;\">      0</td><td style=\"text-align: right;\">      0</td><td style=\"text-align: right;\">      0</td><td style=\"text-align: right;\">      0</td><td style=\"text-align: right;\">      1</td><td style=\"text-align: right;\">        0</td><td style=\"text-align: right;\">        0</td><td style=\"text-align: right;\">        0</td><td style=\"text-align: right;\">        0</td><td style=\"text-align: right;\">        0</td><td style=\"text-align: right;\">        0</td><td style=\"text-align: right;\">        1</td><td style=\"text-align: right;\">          0</td><td style=\"text-align: right;\">          1</td><td style=\"text-align: right;\">          0</td><td style=\"text-align: right;\">          0</td><td style=\"text-align: right;\">          0</td><td style=\"text-align: right;\">          0</td><td style=\"text-align: right;\">          0</td><td style=\"text-align: right;\">          0</td><td style=\"text-align: right;\">    732</td></tr>\n",
       "<tr><td style=\"text-align: right;\">   2</td><td style=\"text-align: right;\">   0.3 </td><td style=\"text-align: right;\">   62.3</td><td style=\"text-align: right;\">     54</td><td style=\"text-align: right;\">4.3 </td><td style=\"text-align: right;\">4.34</td><td style=\"text-align: right;\">2.69</td><td style=\"text-align: right;\">      0</td><td style=\"text-align: right;\">      0</td><td style=\"text-align: right;\">      0</td><td style=\"text-align: right;\">      0</td><td style=\"text-align: right;\">      1</td><td style=\"text-align: right;\">        0</td><td style=\"text-align: right;\">        0</td><td style=\"text-align: right;\">        0</td><td style=\"text-align: right;\">        0</td><td style=\"text-align: right;\">        1</td><td style=\"text-align: right;\">        0</td><td style=\"text-align: right;\">        0</td><td style=\"text-align: right;\">          0</td><td style=\"text-align: right;\">          1</td><td style=\"text-align: right;\">          0</td><td style=\"text-align: right;\">          0</td><td style=\"text-align: right;\">          0</td><td style=\"text-align: right;\">          0</td><td style=\"text-align: right;\">          0</td><td style=\"text-align: right;\">          0</td><td style=\"text-align: right;\">    475</td></tr>\n",
       "<tr><td style=\"text-align: right;\">   3</td><td style=\"text-align: right;\">   1.04</td><td style=\"text-align: right;\">   62  </td><td style=\"text-align: right;\">     58</td><td style=\"text-align: right;\">6.54</td><td style=\"text-align: right;\">6.46</td><td style=\"text-align: right;\">4.03</td><td style=\"text-align: right;\">      0</td><td style=\"text-align: right;\">      0</td><td style=\"text-align: right;\">      0</td><td style=\"text-align: right;\">      0</td><td style=\"text-align: right;\">      1</td><td style=\"text-align: right;\">        0</td><td style=\"text-align: right;\">        0</td><td style=\"text-align: right;\">        0</td><td style=\"text-align: right;\">        0</td><td style=\"text-align: right;\">        0</td><td style=\"text-align: right;\">        1</td><td style=\"text-align: right;\">        0</td><td style=\"text-align: right;\">          0</td><td style=\"text-align: right;\">          0</td><td style=\"text-align: right;\">          1</td><td style=\"text-align: right;\">          0</td><td style=\"text-align: right;\">          0</td><td style=\"text-align: right;\">          0</td><td style=\"text-align: right;\">          0</td><td style=\"text-align: right;\">          0</td><td style=\"text-align: right;\">   9552</td></tr>\n",
       "<tr><td style=\"text-align: right;\">   4</td><td style=\"text-align: right;\">   0.65</td><td style=\"text-align: right;\">   61.4</td><td style=\"text-align: right;\">     55</td><td style=\"text-align: right;\">5.58</td><td style=\"text-align: right;\">5.62</td><td style=\"text-align: right;\">3.44</td><td style=\"text-align: right;\">      0</td><td style=\"text-align: right;\">      0</td><td style=\"text-align: right;\">      0</td><td style=\"text-align: right;\">      0</td><td style=\"text-align: right;\">      1</td><td style=\"text-align: right;\">        1</td><td style=\"text-align: right;\">        0</td><td style=\"text-align: right;\">        0</td><td style=\"text-align: right;\">        0</td><td style=\"text-align: right;\">        0</td><td style=\"text-align: right;\">        0</td><td style=\"text-align: right;\">        0</td><td style=\"text-align: right;\">          0</td><td style=\"text-align: right;\">          1</td><td style=\"text-align: right;\">          0</td><td style=\"text-align: right;\">          0</td><td style=\"text-align: right;\">          0</td><td style=\"text-align: right;\">          0</td><td style=\"text-align: right;\">          0</td><td style=\"text-align: right;\">          0</td><td style=\"text-align: right;\">   1276</td></tr>\n",
       "<tr><td style=\"text-align: right;\">   5</td><td style=\"text-align: right;\">   0.9 </td><td style=\"text-align: right;\">   62.2</td><td style=\"text-align: right;\">     60</td><td style=\"text-align: right;\">6.15</td><td style=\"text-align: right;\">6.19</td><td style=\"text-align: right;\">3.84</td><td style=\"text-align: right;\">      0</td><td style=\"text-align: right;\">      0</td><td style=\"text-align: right;\">      0</td><td style=\"text-align: right;\">      1</td><td style=\"text-align: right;\">      0</td><td style=\"text-align: right;\">        0</td><td style=\"text-align: right;\">        0</td><td style=\"text-align: right;\">        0</td><td style=\"text-align: right;\">        0</td><td style=\"text-align: right;\">        0</td><td style=\"text-align: right;\">        1</td><td style=\"text-align: right;\">        0</td><td style=\"text-align: right;\">          0</td><td style=\"text-align: right;\">          0</td><td style=\"text-align: right;\">          0</td><td style=\"text-align: right;\">          1</td><td style=\"text-align: right;\">          0</td><td style=\"text-align: right;\">          0</td><td style=\"text-align: right;\">          0</td><td style=\"text-align: right;\">          0</td><td style=\"text-align: right;\">   3662</td></tr>\n",
       "<tr><td style=\"text-align: right;\">   6</td><td style=\"text-align: right;\">   0.31</td><td style=\"text-align: right;\">   62.3</td><td style=\"text-align: right;\">     55</td><td style=\"text-align: right;\">4.34</td><td style=\"text-align: right;\">4.36</td><td style=\"text-align: right;\">2.71</td><td style=\"text-align: right;\">      0</td><td style=\"text-align: right;\">      0</td><td style=\"text-align: right;\">      1</td><td style=\"text-align: right;\">      0</td><td style=\"text-align: right;\">      0</td><td style=\"text-align: right;\">        0</td><td style=\"text-align: right;\">        0</td><td style=\"text-align: right;\">        1</td><td style=\"text-align: right;\">        0</td><td style=\"text-align: right;\">        0</td><td style=\"text-align: right;\">        0</td><td style=\"text-align: right;\">        0</td><td style=\"text-align: right;\">          0</td><td style=\"text-align: right;\">          1</td><td style=\"text-align: right;\">          0</td><td style=\"text-align: right;\">          0</td><td style=\"text-align: right;\">          0</td><td style=\"text-align: right;\">          0</td><td style=\"text-align: right;\">          0</td><td style=\"text-align: right;\">          0</td><td style=\"text-align: right;\">    446</td></tr>\n",
       "<tr><td style=\"text-align: right;\">   7</td><td style=\"text-align: right;\">   0.71</td><td style=\"text-align: right;\">   64.6</td><td style=\"text-align: right;\">     59</td><td style=\"text-align: right;\">5.62</td><td style=\"text-align: right;\">5.59</td><td style=\"text-align: right;\">3.62</td><td style=\"text-align: right;\">      1</td><td style=\"text-align: right;\">      0</td><td style=\"text-align: right;\">      0</td><td style=\"text-align: right;\">      0</td><td style=\"text-align: right;\">      0</td><td style=\"text-align: right;\">        0</td><td style=\"text-align: right;\">        0</td><td style=\"text-align: right;\">        0</td><td style=\"text-align: right;\">        0</td><td style=\"text-align: right;\">        0</td><td style=\"text-align: right;\">        1</td><td style=\"text-align: right;\">        0</td><td style=\"text-align: right;\">          0</td><td style=\"text-align: right;\">          0</td><td style=\"text-align: right;\">          0</td><td style=\"text-align: right;\">          0</td><td style=\"text-align: right;\">          1</td><td style=\"text-align: right;\">          0</td><td style=\"text-align: right;\">          0</td><td style=\"text-align: right;\">          0</td><td style=\"text-align: right;\">   2902</td></tr>\n",
       "<tr><td style=\"text-align: right;\">   8</td><td style=\"text-align: right;\">   2.05</td><td style=\"text-align: right;\">   62.4</td><td style=\"text-align: right;\">     57</td><td style=\"text-align: right;\">8.17</td><td style=\"text-align: right;\">8.09</td><td style=\"text-align: right;\">5.08</td><td style=\"text-align: right;\">      0</td><td style=\"text-align: right;\">      0</td><td style=\"text-align: right;\">      0</td><td style=\"text-align: right;\">      0</td><td style=\"text-align: right;\">      1</td><td style=\"text-align: right;\">        0</td><td style=\"text-align: right;\">        0</td><td style=\"text-align: right;\">        0</td><td style=\"text-align: right;\">        0</td><td style=\"text-align: right;\">        0</td><td style=\"text-align: right;\">        1</td><td style=\"text-align: right;\">        0</td><td style=\"text-align: right;\">          0</td><td style=\"text-align: right;\">          1</td><td style=\"text-align: right;\">          0</td><td style=\"text-align: right;\">          0</td><td style=\"text-align: right;\">          0</td><td style=\"text-align: right;\">          0</td><td style=\"text-align: right;\">          0</td><td style=\"text-align: right;\">          0</td><td style=\"text-align: right;\">  18193</td></tr>\n",
       "<tr><td style=\"text-align: right;\">   9</td><td style=\"text-align: right;\">   1.1 </td><td style=\"text-align: right;\">   61.3</td><td style=\"text-align: right;\">     58</td><td style=\"text-align: right;\">6.64</td><td style=\"text-align: right;\">6.71</td><td style=\"text-align: right;\">4.09</td><td style=\"text-align: right;\">      0</td><td style=\"text-align: right;\">      0</td><td style=\"text-align: right;\">      1</td><td style=\"text-align: right;\">      0</td><td style=\"text-align: right;\">      0</td><td style=\"text-align: right;\">        0</td><td style=\"text-align: right;\">        0</td><td style=\"text-align: right;\">        0</td><td style=\"text-align: right;\">        0</td><td style=\"text-align: right;\">        0</td><td style=\"text-align: right;\">        1</td><td style=\"text-align: right;\">        0</td><td style=\"text-align: right;\">          0</td><td style=\"text-align: right;\">          1</td><td style=\"text-align: right;\">          0</td><td style=\"text-align: right;\">          0</td><td style=\"text-align: right;\">          0</td><td style=\"text-align: right;\">          0</td><td style=\"text-align: right;\">          0</td><td style=\"text-align: right;\">          0</td><td style=\"text-align: right;\">   4791</td></tr>\n",
       "</tbody>\n",
       "</table>"
      ]
     },
     "metadata": {},
     "output_type": "display_data"
    },
    {
     "name": "stdout",
     "output_type": "stream",
     "text": [
      "\n"
     ]
    },
    {
     "data": {
      "text/plain": [
       "['carat',\n",
       " 'depth',\n",
       " 'table',\n",
       " 'x',\n",
       " 'y',\n",
       " 'z',\n",
       " 'cut_0',\n",
       " 'cut_1',\n",
       " 'cut_2',\n",
       " 'cut_3',\n",
       " 'cut_4',\n",
       " 'color_1',\n",
       " 'color_2',\n",
       " 'color_3',\n",
       " 'color_4',\n",
       " 'color_5',\n",
       " 'color_6',\n",
       " 'color_7',\n",
       " 'clarity_0',\n",
       " 'clarity_1',\n",
       " 'clarity_2',\n",
       " 'clarity_3',\n",
       " 'clarity_4',\n",
       " 'clarity_5',\n",
       " 'clarity_6',\n",
       " 'clarity_7']"
      ]
     },
     "execution_count": 4,
     "metadata": {},
     "output_type": "execute_result"
    }
   ],
   "source": [
    "print(dum_train.head())\n",
    "X = dum_train.col_names[1:-1]\n",
    "X"
   ]
  },
  {
   "cell_type": "code",
   "execution_count": null,
   "metadata": {},
   "outputs": [],
   "source": [
    "aml2 = H2OAutoML(max_runtime_secs = 180, project_name = \"diamonds\", keep_cross_validation_models=True)\n",
    "aml2.train(x=X, y= 'price', training_frame = dum_train)"
   ]
  },
  {
   "cell_type": "code",
   "execution_count": null,
   "metadata": {},
   "outputs": [],
   "source": [
    "aml2.leaderboard"
   ]
  },
  {
   "cell_type": "code",
   "execution_count": null,
   "metadata": {},
   "outputs": [],
   "source": [
    "pred_leader = aml2.leader.predict(dum_test)"
   ]
  },
  {
   "cell_type": "code",
   "execution_count": null,
   "metadata": {},
   "outputs": [],
   "source": [
    "pred_df = pred_leader.as_data_frame()\n",
    "pred_df = pred_df.reset_index()\n",
    "pred_df = pred_df.rename(columns={'index':'id', 'predict':'price'})"
   ]
  },
  {
   "cell_type": "code",
   "execution_count": null,
   "metadata": {},
   "outputs": [],
   "source": [
    "pred_df[['id','price']].to_csv('../predictions/16-Auto-ML-v2.csv', index=False)"
   ]
  },
  {
   "cell_type": "code",
   "execution_count": null,
   "metadata": {},
   "outputs": [],
   "source": [
    "aml3 = H2OAutoML(max_runtime_secs = 600, seed = 1, project_name = \"diamonds\", keep_cross_validation_models=True)\n",
    "aml3.train(y = 'price', training_frame = dum_train)"
   ]
  },
  {
   "cell_type": "code",
   "execution_count": null,
   "metadata": {},
   "outputs": [],
   "source": [
    "pred_leader = aml3.leader.predict(dum_test)"
   ]
  },
  {
   "cell_type": "code",
   "execution_count": null,
   "metadata": {},
   "outputs": [],
   "source": [
    "pred_df = pred_leader.as_data_frame()\n",
    "pred_df = pred_df.reset_index()\n",
    "pred_df = pred_df.rename(columns={'index':'id', 'predict':'price'})"
   ]
  },
  {
   "cell_type": "code",
   "execution_count": null,
   "metadata": {},
   "outputs": [],
   "source": [
    "pred_df[['id','price']].to_csv('../predictions/15-Auto-ML-back-t.csv', index=False)"
   ]
  },
  {
   "cell_type": "code",
   "execution_count": null,
   "metadata": {},
   "outputs": [],
   "source": [
    "aml3.leaderboard"
   ]
  },
  {
   "cell_type": "markdown",
   "metadata": {},
   "source": [
    "## Applying AutoML to the model without dummies\n",
    "\n",
    "Next, we can use this algorithm on the dataset we cleaned differently, with the categorical variables as integers going up and down, to see if we get better results than with earlier models (notebook 2)"
   ]
  },
  {
   "cell_type": "code",
   "execution_count": 5,
   "metadata": {},
   "outputs": [
    {
     "name": "stdout",
     "output_type": "stream",
     "text": [
      "Parse progress: |█████████████████████████████████████████████████████████| 100%\n",
      "Parse progress: |█████████████████████████████████████████████████████████| 100%\n"
     ]
    },
    {
     "data": {
      "text/html": [
       "<table>\n",
       "<thead>\n",
       "<tr><th style=\"text-align: right;\">  carat</th><th style=\"text-align: right;\">  cut</th><th style=\"text-align: right;\">  color</th><th style=\"text-align: right;\">  clarity</th><th style=\"text-align: right;\">  depth</th><th style=\"text-align: right;\">  table</th><th style=\"text-align: right;\">   x</th><th style=\"text-align: right;\">   y</th><th style=\"text-align: right;\">   z</th><th style=\"text-align: right;\">  price</th></tr>\n",
       "</thead>\n",
       "<tbody>\n",
       "<tr><td style=\"text-align: right;\">   0.78</td><td style=\"text-align: right;\">    3</td><td style=\"text-align: right;\">      5</td><td style=\"text-align: right;\">        0</td><td style=\"text-align: right;\">   61.5</td><td style=\"text-align: right;\">     58</td><td style=\"text-align: right;\">5.93</td><td style=\"text-align: right;\">5.98</td><td style=\"text-align: right;\">3.66</td><td style=\"text-align: right;\">   3446</td></tr>\n",
       "<tr><td style=\"text-align: right;\">   0.31</td><td style=\"text-align: right;\">    4</td><td style=\"text-align: right;\">      7</td><td style=\"text-align: right;\">        1</td><td style=\"text-align: right;\">   60.8</td><td style=\"text-align: right;\">     56</td><td style=\"text-align: right;\">4.37</td><td style=\"text-align: right;\">4.32</td><td style=\"text-align: right;\">2.64</td><td style=\"text-align: right;\">    732</td></tr>\n",
       "<tr><td style=\"text-align: right;\">   0.3 </td><td style=\"text-align: right;\">    4</td><td style=\"text-align: right;\">      5</td><td style=\"text-align: right;\">        1</td><td style=\"text-align: right;\">   62.3</td><td style=\"text-align: right;\">     54</td><td style=\"text-align: right;\">4.3 </td><td style=\"text-align: right;\">4.34</td><td style=\"text-align: right;\">2.69</td><td style=\"text-align: right;\">    475</td></tr>\n",
       "<tr><td style=\"text-align: right;\">   1.04</td><td style=\"text-align: right;\">    4</td><td style=\"text-align: right;\">      6</td><td style=\"text-align: right;\">        2</td><td style=\"text-align: right;\">   62  </td><td style=\"text-align: right;\">     58</td><td style=\"text-align: right;\">6.54</td><td style=\"text-align: right;\">6.46</td><td style=\"text-align: right;\">4.03</td><td style=\"text-align: right;\">   9552</td></tr>\n",
       "<tr><td style=\"text-align: right;\">   0.65</td><td style=\"text-align: right;\">    4</td><td style=\"text-align: right;\">      1</td><td style=\"text-align: right;\">        1</td><td style=\"text-align: right;\">   61.4</td><td style=\"text-align: right;\">     55</td><td style=\"text-align: right;\">5.58</td><td style=\"text-align: right;\">5.62</td><td style=\"text-align: right;\">3.44</td><td style=\"text-align: right;\">   1276</td></tr>\n",
       "<tr><td style=\"text-align: right;\">   0.9 </td><td style=\"text-align: right;\">    3</td><td style=\"text-align: right;\">      6</td><td style=\"text-align: right;\">        3</td><td style=\"text-align: right;\">   62.2</td><td style=\"text-align: right;\">     60</td><td style=\"text-align: right;\">6.15</td><td style=\"text-align: right;\">6.19</td><td style=\"text-align: right;\">3.84</td><td style=\"text-align: right;\">   3662</td></tr>\n",
       "<tr><td style=\"text-align: right;\">   0.31</td><td style=\"text-align: right;\">    2</td><td style=\"text-align: right;\">      3</td><td style=\"text-align: right;\">        1</td><td style=\"text-align: right;\">   62.3</td><td style=\"text-align: right;\">     55</td><td style=\"text-align: right;\">4.34</td><td style=\"text-align: right;\">4.36</td><td style=\"text-align: right;\">2.71</td><td style=\"text-align: right;\">    446</td></tr>\n",
       "<tr><td style=\"text-align: right;\">   0.71</td><td style=\"text-align: right;\">    0</td><td style=\"text-align: right;\">      6</td><td style=\"text-align: right;\">        4</td><td style=\"text-align: right;\">   64.6</td><td style=\"text-align: right;\">     59</td><td style=\"text-align: right;\">5.62</td><td style=\"text-align: right;\">5.59</td><td style=\"text-align: right;\">3.62</td><td style=\"text-align: right;\">   2902</td></tr>\n",
       "<tr><td style=\"text-align: right;\">   2.05</td><td style=\"text-align: right;\">    4</td><td style=\"text-align: right;\">      6</td><td style=\"text-align: right;\">        1</td><td style=\"text-align: right;\">   62.4</td><td style=\"text-align: right;\">     57</td><td style=\"text-align: right;\">8.17</td><td style=\"text-align: right;\">8.09</td><td style=\"text-align: right;\">5.08</td><td style=\"text-align: right;\">  18193</td></tr>\n",
       "<tr><td style=\"text-align: right;\">   1.1 </td><td style=\"text-align: right;\">    2</td><td style=\"text-align: right;\">      6</td><td style=\"text-align: right;\">        1</td><td style=\"text-align: right;\">   61.3</td><td style=\"text-align: right;\">     58</td><td style=\"text-align: right;\">6.64</td><td style=\"text-align: right;\">6.71</td><td style=\"text-align: right;\">4.09</td><td style=\"text-align: right;\">   4791</td></tr>\n",
       "</tbody>\n",
       "</table>"
      ]
     },
     "metadata": {},
     "output_type": "display_data"
    },
    {
     "data": {
      "text/plain": []
     },
     "metadata": {},
     "output_type": "display_data"
    },
    {
     "data": {
      "text/html": [
       "<table>\n",
       "<thead>\n",
       "<tr><th style=\"text-align: right;\">  carat</th><th style=\"text-align: right;\">  cut</th><th style=\"text-align: right;\">  color</th><th style=\"text-align: right;\">  clarity</th><th style=\"text-align: right;\">  depth</th><th style=\"text-align: right;\">  table</th><th style=\"text-align: right;\">   x</th><th style=\"text-align: right;\">   y</th><th style=\"text-align: right;\">   z</th></tr>\n",
       "</thead>\n",
       "<tbody>\n",
       "<tr><td style=\"text-align: right;\">   1.1 </td><td style=\"text-align: right;\">    3</td><td style=\"text-align: right;\">      3</td><td style=\"text-align: right;\">        3</td><td style=\"text-align: right;\">   62.2</td><td style=\"text-align: right;\">     58</td><td style=\"text-align: right;\">6.69</td><td style=\"text-align: right;\">6.6 </td><td style=\"text-align: right;\">4.13</td></tr>\n",
       "<tr><td style=\"text-align: right;\">   0.51</td><td style=\"text-align: right;\">    4</td><td style=\"text-align: right;\">      2</td><td style=\"text-align: right;\">        1</td><td style=\"text-align: right;\">   62.5</td><td style=\"text-align: right;\">     57</td><td style=\"text-align: right;\">5.07</td><td style=\"text-align: right;\">5.1 </td><td style=\"text-align: right;\">3.18</td></tr>\n",
       "<tr><td style=\"text-align: right;\">   2.03</td><td style=\"text-align: right;\">    3</td><td style=\"text-align: right;\">      4</td><td style=\"text-align: right;\">        1</td><td style=\"text-align: right;\">   61.9</td><td style=\"text-align: right;\">     59</td><td style=\"text-align: right;\">8.14</td><td style=\"text-align: right;\">8.09</td><td style=\"text-align: right;\">5.02</td></tr>\n",
       "<tr><td style=\"text-align: right;\">   1.21</td><td style=\"text-align: right;\">    3</td><td style=\"text-align: right;\">      5</td><td style=\"text-align: right;\">        1</td><td style=\"text-align: right;\">   60  </td><td style=\"text-align: right;\">     60</td><td style=\"text-align: right;\">6.96</td><td style=\"text-align: right;\">6.91</td><td style=\"text-align: right;\">4.16</td></tr>\n",
       "<tr><td style=\"text-align: right;\">   0.55</td><td style=\"text-align: right;\">    4</td><td style=\"text-align: right;\">      5</td><td style=\"text-align: right;\">        1</td><td style=\"text-align: right;\">   61.8</td><td style=\"text-align: right;\">     55</td><td style=\"text-align: right;\">5.27</td><td style=\"text-align: right;\">5.22</td><td style=\"text-align: right;\">3.24</td></tr>\n",
       "<tr><td style=\"text-align: right;\">   0.7 </td><td style=\"text-align: right;\">    3</td><td style=\"text-align: right;\">      3</td><td style=\"text-align: right;\">        1</td><td style=\"text-align: right;\">   61.1</td><td style=\"text-align: right;\">     58</td><td style=\"text-align: right;\">5.74</td><td style=\"text-align: right;\">5.79</td><td style=\"text-align: right;\">3.52</td></tr>\n",
       "<tr><td style=\"text-align: right;\">   0.59</td><td style=\"text-align: right;\">    4</td><td style=\"text-align: right;\">      6</td><td style=\"text-align: right;\">        4</td><td style=\"text-align: right;\">   60.2</td><td style=\"text-align: right;\">     61</td><td style=\"text-align: right;\">5.43</td><td style=\"text-align: right;\">5.47</td><td style=\"text-align: right;\">3.28</td></tr>\n",
       "<tr><td style=\"text-align: right;\">   0.54</td><td style=\"text-align: right;\">    4</td><td style=\"text-align: right;\">      3</td><td style=\"text-align: right;\">        6</td><td style=\"text-align: right;\">   61.9</td><td style=\"text-align: right;\">     54</td><td style=\"text-align: right;\">5.22</td><td style=\"text-align: right;\">5.25</td><td style=\"text-align: right;\">3.24</td></tr>\n",
       "<tr><td style=\"text-align: right;\">   0.9 </td><td style=\"text-align: right;\">    3</td><td style=\"text-align: right;\">      7</td><td style=\"text-align: right;\">        3</td><td style=\"text-align: right;\">   58.1</td><td style=\"text-align: right;\">     60</td><td style=\"text-align: right;\">6.26</td><td style=\"text-align: right;\">6.24</td><td style=\"text-align: right;\">3.63</td></tr>\n",
       "<tr><td style=\"text-align: right;\">   1.33</td><td style=\"text-align: right;\">    4</td><td style=\"text-align: right;\">      5</td><td style=\"text-align: right;\">        5</td><td style=\"text-align: right;\">   60.2</td><td style=\"text-align: right;\">     57</td><td style=\"text-align: right;\">7.12</td><td style=\"text-align: right;\">7.17</td><td style=\"text-align: right;\">4.3 </td></tr>\n",
       "</tbody>\n",
       "</table>"
      ]
     },
     "metadata": {},
     "output_type": "display_data"
    },
    {
     "data": {
      "text/plain": []
     },
     "metadata": {},
     "output_type": "display_data"
    }
   ],
   "source": [
    "int_train = h2o.import_file('../cleaned-data/01-diamonds-train-cl.csv').drop(index=[0], axis=1)\n",
    "int_test = h2o.import_file('../cleaned-data/01-diamonds-test-cl.csv').drop(index=[0], axis=1)\n",
    "display(int_train.head())\n",
    "display(int_test.head())"
   ]
  },
  {
   "cell_type": "code",
   "execution_count": 6,
   "metadata": {},
   "outputs": [
    {
     "name": "stdout",
     "output_type": "stream",
     "text": [
      "AutoML progress: |████████████████████████████████████████████████████████| 100%\n"
     ]
    }
   ],
   "source": [
    "aml4 = H2OAutoML(max_runtime_secs = 180, project_name = \"diamonds\", keep_cross_validation_models=True)\n",
    "aml4.train(x=X, y = 'price', training_frame = dum_train)"
   ]
  },
  {
   "cell_type": "code",
   "execution_count": 7,
   "metadata": {},
   "outputs": [
    {
     "name": "stdout",
     "output_type": "stream",
     "text": [
      "stackedensemble prediction progress: |████████████████████████████████████| 100%\n"
     ]
    }
   ],
   "source": [
    "pred_leader2 = aml4.leader.predict(dum_test)"
   ]
  },
  {
   "cell_type": "code",
   "execution_count": 12,
   "metadata": {},
   "outputs": [
    {
     "data": {
      "text/html": [
       "<table>\n",
       "<thead>\n",
       "<tr><th>model_id                                           </th><th style=\"text-align: right;\">  mean_residual_deviance</th><th style=\"text-align: right;\">    rmse</th><th style=\"text-align: right;\">             mse</th><th style=\"text-align: right;\">     mae</th><th style=\"text-align: right;\">    rmsle</th></tr>\n",
       "</thead>\n",
       "<tbody>\n",
       "<tr><td>StackedEnsemble_AllModels_AutoML_20200302_133656   </td><td style=\"text-align: right;\">        295470          </td><td style=\"text-align: right;\"> 543.572</td><td style=\"text-align: right;\">295470          </td><td style=\"text-align: right;\"> 271.132</td><td style=\"text-align: right;\">0.0928975</td></tr>\n",
       "<tr><td>StackedEnsemble_BestOfFamily_AutoML_20200302_133656</td><td style=\"text-align: right;\">        296368          </td><td style=\"text-align: right;\"> 544.397</td><td style=\"text-align: right;\">296368          </td><td style=\"text-align: right;\"> 273.222</td><td style=\"text-align: right;\">0.0946461</td></tr>\n",
       "<tr><td>XGBoost_1_AutoML_20200302_133656                   </td><td style=\"text-align: right;\">        297214          </td><td style=\"text-align: right;\"> 545.174</td><td style=\"text-align: right;\">297214          </td><td style=\"text-align: right;\"> 274.611</td><td style=\"text-align: right;\">0.0956813</td></tr>\n",
       "<tr><td>XGBoost_2_AutoML_20200302_133656                   </td><td style=\"text-align: right;\">        321685          </td><td style=\"text-align: right;\"> 567.173</td><td style=\"text-align: right;\">321685          </td><td style=\"text-align: right;\"> 281.786</td><td style=\"text-align: right;\">0.0922997</td></tr>\n",
       "<tr><td>DRF_1_AutoML_20200302_133656                       </td><td style=\"text-align: right;\">        416440          </td><td style=\"text-align: right;\"> 645.322</td><td style=\"text-align: right;\">416440          </td><td style=\"text-align: right;\"> 326.572</td><td style=\"text-align: right;\">0.112548 </td></tr>\n",
       "<tr><td>XGBoost_3_AutoML_20200302_133656                   </td><td style=\"text-align: right;\">        479841          </td><td style=\"text-align: right;\"> 692.706</td><td style=\"text-align: right;\">479841          </td><td style=\"text-align: right;\"> 374.486</td><td style=\"text-align: right;\">0.141208 </td></tr>\n",
       "<tr><td>GBM_1_AutoML_20200302_133656                       </td><td style=\"text-align: right;\">             1.31688e+07</td><td style=\"text-align: right;\">3628.88 </td><td style=\"text-align: right;\">     1.31688e+07</td><td style=\"text-align: right;\">2738.99 </td><td style=\"text-align: right;\">1.05038  </td></tr>\n",
       "<tr><td>GLM_1_AutoML_20200302_133656                       </td><td style=\"text-align: right;\">             1.59554e+07</td><td style=\"text-align: right;\">3994.42 </td><td style=\"text-align: right;\">     1.59554e+07</td><td style=\"text-align: right;\">3033.6  </td><td style=\"text-align: right;\">1.12611  </td></tr>\n",
       "</tbody>\n",
       "</table>"
      ]
     },
     "metadata": {},
     "output_type": "display_data"
    },
    {
     "data": {
      "text/plain": []
     },
     "execution_count": 12,
     "metadata": {},
     "output_type": "execute_result"
    }
   ],
   "source": [
    "aml4.leaderboard"
   ]
  },
  {
   "cell_type": "code",
   "execution_count": null,
   "metadata": {},
   "outputs": [],
   "source": []
  },
  {
   "cell_type": "code",
   "execution_count": 13,
   "metadata": {},
   "outputs": [],
   "source": [
    "pred_df2 = pred_leader2.as_data_frame()\n",
    "pred_df2 = pred_df2.reset_index()\n",
    "pred_df2 = pred_df2.rename(columns={'index':'id', 'predict':'price'})"
   ]
  },
  {
   "cell_type": "code",
   "execution_count": 14,
   "metadata": {},
   "outputs": [],
   "source": [
    "pred_df2[['id','price']].to_csv('../predictions/17-Auto-ML-v3-without-dummies.csv', index=False)"
   ]
  },
  {
   "cell_type": "code",
   "execution_count": 19,
   "metadata": {},
   "outputs": [
    {
     "ename": "H2OResponseError",
     "evalue": "Server error water.exceptions.H2OIllegalArgumentException:\n  Error: Required field base_models not specified\n  Request: POST /99/ModelBuilders/stackedensemble\n    data: {'max_runtime_secs': '180', 'training_frame': 'X02_diamonds_train_alldummies.hex', 'response_column': 'price', 'ignored_columns': '[\"id\"]'}\n",
     "output_type": "error",
     "traceback": [
      "\u001b[0;31m---------------------------------------------------------------------------\u001b[0m",
      "\u001b[0;31mH2OResponseError\u001b[0m                          Traceback (most recent call last)",
      "\u001b[0;32m<ipython-input-19-2cbc0f879b99>\u001b[0m in \u001b[0;36m<module>\u001b[0;34m\u001b[0m\n\u001b[0;32m----> 1\u001b[0;31m \u001b[0maml4\u001b[0m\u001b[0;34m.\u001b[0m\u001b[0mleader\u001b[0m\u001b[0;34m.\u001b[0m\u001b[0mtrain\u001b[0m\u001b[0;34m(\u001b[0m\u001b[0mmax_runtime_secs\u001b[0m \u001b[0;34m=\u001b[0m \u001b[0;36m180\u001b[0m\u001b[0;34m,\u001b[0m \u001b[0mx\u001b[0m\u001b[0;34m=\u001b[0m\u001b[0mX\u001b[0m\u001b[0;34m,\u001b[0m \u001b[0my\u001b[0m \u001b[0;34m=\u001b[0m \u001b[0;34m'price'\u001b[0m\u001b[0;34m,\u001b[0m \u001b[0mtraining_frame\u001b[0m \u001b[0;34m=\u001b[0m \u001b[0mdum_train\u001b[0m\u001b[0;34m)\u001b[0m\u001b[0;34m\u001b[0m\u001b[0;34m\u001b[0m\u001b[0m\n\u001b[0m",
      "\u001b[0;32m~/.local/lib/python3.7/site-packages/h2o/estimators/stackedensemble.py\u001b[0m in \u001b[0;36mtrain\u001b[0;34m(self, x, y, training_frame, blending_frame, **kwargs)\u001b[0m\n\u001b[1;32m    779\u001b[0m         super(self.__class__, self)._train(x, y, training_frame,\n\u001b[1;32m    780\u001b[0m                                            \u001b[0mextend_parms_fn\u001b[0m\u001b[0;34m=\u001b[0m\u001b[0mextend_parms\u001b[0m\u001b[0;34m,\u001b[0m\u001b[0;34m\u001b[0m\u001b[0;34m\u001b[0m\u001b[0m\n\u001b[0;32m--> 781\u001b[0;31m                                            **kwargs)\n\u001b[0m",
      "\u001b[0;32m~/.local/lib/python3.7/site-packages/h2o/estimators/estimator_base.py\u001b[0m in \u001b[0;36m_train\u001b[0;34m(self, x, y, training_frame, offset_column, fold_column, weights_column, validation_frame, max_runtime_secs, ignored_columns, model_id, verbose, extend_parms_fn)\u001b[0m\n\u001b[1;32m    255\u001b[0m         \u001b[0mrest_ver\u001b[0m \u001b[0;34m=\u001b[0m \u001b[0mparms\u001b[0m\u001b[0;34m.\u001b[0m\u001b[0mpop\u001b[0m\u001b[0;34m(\u001b[0m\u001b[0;34m\"_rest_version\"\u001b[0m\u001b[0;34m)\u001b[0m \u001b[0;32mif\u001b[0m \u001b[0;34m\"_rest_version\"\u001b[0m \u001b[0;32min\u001b[0m \u001b[0mparms\u001b[0m \u001b[0;32melse\u001b[0m \u001b[0;36m3\u001b[0m\u001b[0;34m\u001b[0m\u001b[0;34m\u001b[0m\u001b[0m\n\u001b[1;32m    256\u001b[0m \u001b[0;34m\u001b[0m\u001b[0m\n\u001b[0;32m--> 257\u001b[0;31m         \u001b[0mmodel_builder_json\u001b[0m \u001b[0;34m=\u001b[0m \u001b[0mh2o\u001b[0m\u001b[0;34m.\u001b[0m\u001b[0mapi\u001b[0m\u001b[0;34m(\u001b[0m\u001b[0;34m\"POST /%d/ModelBuilders/%s\"\u001b[0m \u001b[0;34m%\u001b[0m \u001b[0;34m(\u001b[0m\u001b[0mrest_ver\u001b[0m\u001b[0;34m,\u001b[0m \u001b[0mself\u001b[0m\u001b[0;34m.\u001b[0m\u001b[0malgo\u001b[0m\u001b[0;34m)\u001b[0m\u001b[0;34m,\u001b[0m \u001b[0mdata\u001b[0m\u001b[0;34m=\u001b[0m\u001b[0mparms\u001b[0m\u001b[0;34m)\u001b[0m\u001b[0;34m\u001b[0m\u001b[0;34m\u001b[0m\u001b[0m\n\u001b[0m\u001b[1;32m    258\u001b[0m         \u001b[0mmodel\u001b[0m \u001b[0;34m=\u001b[0m \u001b[0mH2OJob\u001b[0m\u001b[0;34m(\u001b[0m\u001b[0mmodel_builder_json\u001b[0m\u001b[0;34m,\u001b[0m \u001b[0mjob_type\u001b[0m\u001b[0;34m=\u001b[0m\u001b[0;34m(\u001b[0m\u001b[0mself\u001b[0m\u001b[0;34m.\u001b[0m\u001b[0malgo\u001b[0m \u001b[0;34m+\u001b[0m \u001b[0;34m\" Model Build\"\u001b[0m\u001b[0;34m)\u001b[0m\u001b[0;34m)\u001b[0m\u001b[0;34m\u001b[0m\u001b[0;34m\u001b[0m\u001b[0m\n\u001b[1;32m    259\u001b[0m \u001b[0;34m\u001b[0m\u001b[0m\n",
      "\u001b[0;32m~/.local/lib/python3.7/site-packages/h2o/h2o.py\u001b[0m in \u001b[0;36mapi\u001b[0;34m(endpoint, data, json, filename, save_to)\u001b[0m\n\u001b[1;32m    121\u001b[0m     \u001b[0;31m# type checks are performed in H2OConnection class\u001b[0m\u001b[0;34m\u001b[0m\u001b[0;34m\u001b[0m\u001b[0;34m\u001b[0m\u001b[0m\n\u001b[1;32m    122\u001b[0m     \u001b[0m_check_connection\u001b[0m\u001b[0;34m(\u001b[0m\u001b[0;34m)\u001b[0m\u001b[0;34m\u001b[0m\u001b[0;34m\u001b[0m\u001b[0m\n\u001b[0;32m--> 123\u001b[0;31m     \u001b[0;32mreturn\u001b[0m \u001b[0mh2oconn\u001b[0m\u001b[0;34m.\u001b[0m\u001b[0mrequest\u001b[0m\u001b[0;34m(\u001b[0m\u001b[0mendpoint\u001b[0m\u001b[0;34m,\u001b[0m \u001b[0mdata\u001b[0m\u001b[0;34m=\u001b[0m\u001b[0mdata\u001b[0m\u001b[0;34m,\u001b[0m \u001b[0mjson\u001b[0m\u001b[0;34m=\u001b[0m\u001b[0mjson\u001b[0m\u001b[0;34m,\u001b[0m \u001b[0mfilename\u001b[0m\u001b[0;34m=\u001b[0m\u001b[0mfilename\u001b[0m\u001b[0;34m,\u001b[0m \u001b[0msave_to\u001b[0m\u001b[0;34m=\u001b[0m\u001b[0msave_to\u001b[0m\u001b[0;34m)\u001b[0m\u001b[0;34m\u001b[0m\u001b[0;34m\u001b[0m\u001b[0m\n\u001b[0m\u001b[1;32m    124\u001b[0m \u001b[0;34m\u001b[0m\u001b[0m\n\u001b[1;32m    125\u001b[0m \u001b[0;34m\u001b[0m\u001b[0m\n",
      "\u001b[0;32m~/.local/lib/python3.7/site-packages/h2o/backend/connection.py\u001b[0m in \u001b[0;36mrequest\u001b[0;34m(self, endpoint, data, json, filename, save_to)\u001b[0m\n\u001b[1;32m    476\u001b[0m                 \u001b[0msave_to\u001b[0m \u001b[0;34m=\u001b[0m \u001b[0msave_to\u001b[0m\u001b[0;34m(\u001b[0m\u001b[0mresp\u001b[0m\u001b[0;34m)\u001b[0m\u001b[0;34m\u001b[0m\u001b[0;34m\u001b[0m\u001b[0m\n\u001b[1;32m    477\u001b[0m             \u001b[0mself\u001b[0m\u001b[0;34m.\u001b[0m\u001b[0m_log_end_transaction\u001b[0m\u001b[0;34m(\u001b[0m\u001b[0mstart_time\u001b[0m\u001b[0;34m,\u001b[0m \u001b[0mresp\u001b[0m\u001b[0;34m)\u001b[0m\u001b[0;34m\u001b[0m\u001b[0;34m\u001b[0m\u001b[0m\n\u001b[0;32m--> 478\u001b[0;31m             \u001b[0;32mreturn\u001b[0m \u001b[0mself\u001b[0m\u001b[0;34m.\u001b[0m\u001b[0m_process_response\u001b[0m\u001b[0;34m(\u001b[0m\u001b[0mresp\u001b[0m\u001b[0;34m,\u001b[0m \u001b[0msave_to\u001b[0m\u001b[0;34m)\u001b[0m\u001b[0;34m\u001b[0m\u001b[0;34m\u001b[0m\u001b[0m\n\u001b[0m\u001b[1;32m    479\u001b[0m \u001b[0;34m\u001b[0m\u001b[0m\n\u001b[1;32m    480\u001b[0m         \u001b[0;32mexcept\u001b[0m \u001b[0;34m(\u001b[0m\u001b[0mrequests\u001b[0m\u001b[0;34m.\u001b[0m\u001b[0mexceptions\u001b[0m\u001b[0;34m.\u001b[0m\u001b[0mConnectionError\u001b[0m\u001b[0;34m,\u001b[0m \u001b[0mrequests\u001b[0m\u001b[0;34m.\u001b[0m\u001b[0mexceptions\u001b[0m\u001b[0;34m.\u001b[0m\u001b[0mHTTPError\u001b[0m\u001b[0;34m)\u001b[0m \u001b[0;32mas\u001b[0m \u001b[0me\u001b[0m\u001b[0;34m:\u001b[0m\u001b[0;34m\u001b[0m\u001b[0;34m\u001b[0m\u001b[0m\n",
      "\u001b[0;32m~/.local/lib/python3.7/site-packages/h2o/backend/connection.py\u001b[0m in \u001b[0;36m_process_response\u001b[0;34m(response, save_to)\u001b[0m\n\u001b[1;32m    822\u001b[0m         \u001b[0;31m# Client errors (400 = \"Bad Request\", 404 = \"Not Found\", 412 = \"Precondition Failed\")\u001b[0m\u001b[0;34m\u001b[0m\u001b[0;34m\u001b[0m\u001b[0;34m\u001b[0m\u001b[0m\n\u001b[1;32m    823\u001b[0m         \u001b[0;32mif\u001b[0m \u001b[0mstatus_code\u001b[0m \u001b[0;32min\u001b[0m \u001b[0;34m{\u001b[0m\u001b[0;36m400\u001b[0m\u001b[0;34m,\u001b[0m \u001b[0;36m404\u001b[0m\u001b[0;34m,\u001b[0m \u001b[0;36m412\u001b[0m\u001b[0;34m}\u001b[0m \u001b[0;32mand\u001b[0m \u001b[0misinstance\u001b[0m\u001b[0;34m(\u001b[0m\u001b[0mdata\u001b[0m\u001b[0;34m,\u001b[0m \u001b[0;34m(\u001b[0m\u001b[0mH2OErrorV3\u001b[0m\u001b[0;34m,\u001b[0m \u001b[0mH2OModelBuilderErrorV3\u001b[0m\u001b[0;34m)\u001b[0m\u001b[0;34m)\u001b[0m\u001b[0;34m:\u001b[0m\u001b[0;34m\u001b[0m\u001b[0;34m\u001b[0m\u001b[0m\n\u001b[0;32m--> 824\u001b[0;31m             \u001b[0;32mraise\u001b[0m \u001b[0mH2OResponseError\u001b[0m\u001b[0;34m(\u001b[0m\u001b[0mdata\u001b[0m\u001b[0;34m)\u001b[0m\u001b[0;34m\u001b[0m\u001b[0;34m\u001b[0m\u001b[0m\n\u001b[0m\u001b[1;32m    825\u001b[0m \u001b[0;34m\u001b[0m\u001b[0m\n\u001b[1;32m    826\u001b[0m         \u001b[0;31m# Server errors (notably 500 = \"Server Error\")\u001b[0m\u001b[0;34m\u001b[0m\u001b[0;34m\u001b[0m\u001b[0;34m\u001b[0m\u001b[0m\n",
      "\u001b[0;31mH2OResponseError\u001b[0m: Server error water.exceptions.H2OIllegalArgumentException:\n  Error: Required field base_models not specified\n  Request: POST /99/ModelBuilders/stackedensemble\n    data: {'max_runtime_secs': '180', 'training_frame': 'X02_diamonds_train_alldummies.hex', 'response_column': 'price', 'ignored_columns': '[\"id\"]'}\n"
     ]
    }
   ],
   "source": [
    "aml4.leader.train(max_runtime_secs = 180, x=X, y = 'price', training_frame = dum_train)"
   ]
  },
  {
   "cell_type": "code",
   "execution_count": null,
   "metadata": {},
   "outputs": [],
   "source": [
    "pred_df2 = aml4.leader.predict(dum_test)"
   ]
  },
  {
   "cell_type": "code",
   "execution_count": null,
   "metadata": {},
   "outputs": [],
   "source": [
    "pred_df2 = pred_leader2.as_data_frame()\n",
    "pred_df2 = pred_df2.reset_index()\n",
    "pred_df2 = pred_df2.rename(columns={'index':'id', 'predict':'price'})\n",
    "pred_df2[['id','price']].to_csv('../predictions/18-Auto-ML-v3-without-dummies.csv', index=False)"
   ]
  },
  {
   "cell_type": "code",
   "execution_count": null,
   "metadata": {},
   "outputs": [],
   "source": [
    "aml4.leaderboard"
   ]
  },
  {
   "cell_type": "code",
   "execution_count": null,
   "metadata": {},
   "outputs": [],
   "source": [
    "aml5 = H2OAutoML(max_runtime_secs = 90, project_name = \"diamonds\", keep_cross_validation_models=True)\n",
    "aml5.train(y = 'price', training_frame = dum_train)"
   ]
  },
  {
   "cell_type": "code",
   "execution_count": null,
   "metadata": {},
   "outputs": [],
   "source": [
    "pred_leader2 = aml5.leader.predict(dum_test)"
   ]
  },
  {
   "cell_type": "code",
   "execution_count": null,
   "metadata": {},
   "outputs": [],
   "source": [
    "pred_df2 = pred_leader2.as_data_frame()\n",
    "pred_df2 = pred_df2.reset_index()\n",
    "pred_df2 = pred_df2.rename(columns={'index':'id', 'predict':'price'})"
   ]
  },
  {
   "cell_type": "code",
   "execution_count": null,
   "metadata": {},
   "outputs": [],
   "source": [
    "pred_df2[['id','price']].to_csv('../predictions/06-Auto-ML-v3-without-dummies.csv', index=False)"
   ]
  },
  {
   "cell_type": "code",
   "execution_count": null,
   "metadata": {},
   "outputs": [],
   "source": [
    "aml5.leaderboard"
   ]
  },
  {
   "cell_type": "markdown",
   "metadata": {},
   "source": [
    "## Done for now\n",
    "\n",
    "With a series of tests done, we will go back to preprocessing the data to be able to improve our model"
   ]
  },
  {
   "cell_type": "code",
   "execution_count": null,
   "metadata": {},
   "outputs": [],
   "source": []
  }
 ],
 "metadata": {
  "kernelspec": {
   "display_name": "Python 3.7.6 64-bit",
   "language": "python",
   "name": "python37664bitc736265aa96942798be544ff59087e30"
  },
  "language_info": {
   "codemirror_mode": {
    "name": "ipython",
    "version": 3
   },
   "file_extension": ".py",
   "mimetype": "text/x-python",
   "name": "python",
   "nbconvert_exporter": "python",
   "pygments_lexer": "ipython3",
   "version": "3.7.6"
  }
 },
 "nbformat": 4,
 "nbformat_minor": 4
}
