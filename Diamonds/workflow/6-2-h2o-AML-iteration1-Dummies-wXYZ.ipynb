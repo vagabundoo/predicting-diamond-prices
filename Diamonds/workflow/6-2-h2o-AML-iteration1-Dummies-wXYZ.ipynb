{
 "cells": [
  {
   "cell_type": "code",
   "execution_count": 1,
   "metadata": {},
   "outputs": [
    {
     "name": "stdout",
     "output_type": "stream",
     "text": [
      "Checking whether there is an H2O instance running at http://localhost:54321 ..... not found.\n",
      "Attempting to start a local H2O server...\n",
      "  Java Version: openjdk version \"11.0.6\" 2020-01-14; OpenJDK Runtime Environment (build 11.0.6+10-post-Ubuntu-1ubuntu118.04.1); OpenJDK 64-Bit Server VM (build 11.0.6+10-post-Ubuntu-1ubuntu118.04.1, mixed mode, sharing)\n",
      "  Starting server from /home/edu/.local/lib/python3.7/site-packages/h2o/backend/bin/h2o.jar\n",
      "  Ice root: /tmp/tmp031p70qc\n",
      "  JVM stdout: /tmp/tmp031p70qc/h2o_edu_started_from_python.out\n",
      "  JVM stderr: /tmp/tmp031p70qc/h2o_edu_started_from_python.err\n",
      "  Server is running at http://127.0.0.1:54321\n",
      "Connecting to H2O server at http://127.0.0.1:54321 ... successful.\n"
     ]
    },
    {
     "data": {
      "text/html": [
       "<div style=\"overflow:auto\"><table style=\"width:50%\"><tr><td>H2O cluster uptime:</td>\n",
       "<td>01 secs</td></tr>\n",
       "<tr><td>H2O cluster timezone:</td>\n",
       "<td>Europe/Paris</td></tr>\n",
       "<tr><td>H2O data parsing timezone:</td>\n",
       "<td>UTC</td></tr>\n",
       "<tr><td>H2O cluster version:</td>\n",
       "<td>3.28.0.3</td></tr>\n",
       "<tr><td>H2O cluster version age:</td>\n",
       "<td>25 days </td></tr>\n",
       "<tr><td>H2O cluster name:</td>\n",
       "<td>H2O_from_python_edu_yuaa4k</td></tr>\n",
       "<tr><td>H2O cluster total nodes:</td>\n",
       "<td>1</td></tr>\n",
       "<tr><td>H2O cluster free memory:</td>\n",
       "<td>1.887 Gb</td></tr>\n",
       "<tr><td>H2O cluster total cores:</td>\n",
       "<td>8</td></tr>\n",
       "<tr><td>H2O cluster allowed cores:</td>\n",
       "<td>8</td></tr>\n",
       "<tr><td>H2O cluster status:</td>\n",
       "<td>accepting new members, healthy</td></tr>\n",
       "<tr><td>H2O connection url:</td>\n",
       "<td>http://127.0.0.1:54321</td></tr>\n",
       "<tr><td>H2O connection proxy:</td>\n",
       "<td>{'http': None, 'https': None}</td></tr>\n",
       "<tr><td>H2O internal security:</td>\n",
       "<td>False</td></tr>\n",
       "<tr><td>H2O API Extensions:</td>\n",
       "<td>Amazon S3, XGBoost, Algos, AutoML, Core V3, TargetEncoder, Core V4</td></tr>\n",
       "<tr><td>Python version:</td>\n",
       "<td>3.7.6 final</td></tr></table></div>"
      ],
      "text/plain": [
       "--------------------------  ------------------------------------------------------------------\n",
       "H2O cluster uptime:         01 secs\n",
       "H2O cluster timezone:       Europe/Paris\n",
       "H2O data parsing timezone:  UTC\n",
       "H2O cluster version:        3.28.0.3\n",
       "H2O cluster version age:    25 days\n",
       "H2O cluster name:           H2O_from_python_edu_yuaa4k\n",
       "H2O cluster total nodes:    1\n",
       "H2O cluster free memory:    1.887 Gb\n",
       "H2O cluster total cores:    8\n",
       "H2O cluster allowed cores:  8\n",
       "H2O cluster status:         accepting new members, healthy\n",
       "H2O connection url:         http://127.0.0.1:54321\n",
       "H2O connection proxy:       {'http': None, 'https': None}\n",
       "H2O internal security:      False\n",
       "H2O API Extensions:         Amazon S3, XGBoost, Algos, AutoML, Core V3, TargetEncoder, Core V4\n",
       "Python version:             3.7.6 final\n",
       "--------------------------  ------------------------------------------------------------------"
      ]
     },
     "metadata": {},
     "output_type": "display_data"
    }
   ],
   "source": [
    "import pandas as pd\n",
    "import numpy as np\n",
    "import seaborn as sns\n",
    "import matplotlib.pyplot as plt\n",
    "import h2o\n",
    "from h2o.automl import H2OAutoML\n",
    "h2o.init()"
   ]
  },
  {
   "cell_type": "code",
   "execution_count": 2,
   "metadata": {},
   "outputs": [
    {
     "name": "stdout",
     "output_type": "stream",
     "text": [
      "Parse progress: |█████████████████████████████████████████████████████████| 100%\n",
      "Parse progress: |█████████████████████████████████████████████████████████| 100%\n",
      "Parse progress: |█████████████████████████████████████████████████████████| 100%\n",
      "Parse progress: |█████████████████████████████████████████████████████████| 100%\n"
     ]
    },
    {
     "data": {
      "text/html": [
       "<table>\n",
       "<thead>\n",
       "<tr><th style=\"text-align: right;\">  id</th><th style=\"text-align: right;\">  carat</th><th style=\"text-align: right;\">  depth</th><th style=\"text-align: right;\">  table</th><th style=\"text-align: right;\">   x</th><th style=\"text-align: right;\">   y</th><th style=\"text-align: right;\">   z</th><th style=\"text-align: right;\">  cut_0</th><th style=\"text-align: right;\">  cut_1</th><th style=\"text-align: right;\">  cut_2</th><th style=\"text-align: right;\">  cut_3</th><th style=\"text-align: right;\">  cut_4</th><th style=\"text-align: right;\">  color_1</th><th style=\"text-align: right;\">  color_2</th><th style=\"text-align: right;\">  color_3</th><th style=\"text-align: right;\">  color_4</th><th style=\"text-align: right;\">  color_5</th><th style=\"text-align: right;\">  color_6</th><th style=\"text-align: right;\">  color_7</th><th style=\"text-align: right;\">  clarity_0</th><th style=\"text-align: right;\">  clarity_1</th><th style=\"text-align: right;\">  clarity_2</th><th style=\"text-align: right;\">  clarity_3</th><th style=\"text-align: right;\">  clarity_4</th><th style=\"text-align: right;\">  clarity_5</th><th style=\"text-align: right;\">  clarity_6</th><th style=\"text-align: right;\">  clarity_7</th><th style=\"text-align: right;\">  price</th></tr>\n",
       "</thead>\n",
       "<tbody>\n",
       "<tr><td style=\"text-align: right;\">   8</td><td style=\"text-align: right;\">   2.05</td><td style=\"text-align: right;\">   62.4</td><td style=\"text-align: right;\">     57</td><td style=\"text-align: right;\">8.17</td><td style=\"text-align: right;\">8.09</td><td style=\"text-align: right;\">5.08</td><td style=\"text-align: right;\">      0</td><td style=\"text-align: right;\">      0</td><td style=\"text-align: right;\">      0</td><td style=\"text-align: right;\">      0</td><td style=\"text-align: right;\">      1</td><td style=\"text-align: right;\">        0</td><td style=\"text-align: right;\">        0</td><td style=\"text-align: right;\">        0</td><td style=\"text-align: right;\">        0</td><td style=\"text-align: right;\">        0</td><td style=\"text-align: right;\">        1</td><td style=\"text-align: right;\">        0</td><td style=\"text-align: right;\">          0</td><td style=\"text-align: right;\">          1</td><td style=\"text-align: right;\">          0</td><td style=\"text-align: right;\">          0</td><td style=\"text-align: right;\">          0</td><td style=\"text-align: right;\">          0</td><td style=\"text-align: right;\">          0</td><td style=\"text-align: right;\">          0</td><td style=\"text-align: right;\">  18193</td></tr>\n",
       "<tr><td style=\"text-align: right;\">  34</td><td style=\"text-align: right;\">   2.01</td><td style=\"text-align: right;\">   64.9</td><td style=\"text-align: right;\">     60</td><td style=\"text-align: right;\">7.82</td><td style=\"text-align: right;\">7.78</td><td style=\"text-align: right;\">5.06</td><td style=\"text-align: right;\">      1</td><td style=\"text-align: right;\">      0</td><td style=\"text-align: right;\">      0</td><td style=\"text-align: right;\">      0</td><td style=\"text-align: right;\">      0</td><td style=\"text-align: right;\">        1</td><td style=\"text-align: right;\">        0</td><td style=\"text-align: right;\">        0</td><td style=\"text-align: right;\">        0</td><td style=\"text-align: right;\">        0</td><td style=\"text-align: right;\">        0</td><td style=\"text-align: right;\">        0</td><td style=\"text-align: right;\">          0</td><td style=\"text-align: right;\">          0</td><td style=\"text-align: right;\">          0</td><td style=\"text-align: right;\">          0</td><td style=\"text-align: right;\">          1</td><td style=\"text-align: right;\">          0</td><td style=\"text-align: right;\">          0</td><td style=\"text-align: right;\">          0</td><td style=\"text-align: right;\">  13744</td></tr>\n",
       "<tr><td style=\"text-align: right;\">  42</td><td style=\"text-align: right;\">   2   </td><td style=\"text-align: right;\">   64.2</td><td style=\"text-align: right;\">     52</td><td style=\"text-align: right;\">7.91</td><td style=\"text-align: right;\">7.88</td><td style=\"text-align: right;\">5.07</td><td style=\"text-align: right;\">      0</td><td style=\"text-align: right;\">      1</td><td style=\"text-align: right;\">      0</td><td style=\"text-align: right;\">      0</td><td style=\"text-align: right;\">      0</td><td style=\"text-align: right;\">        0</td><td style=\"text-align: right;\">        1</td><td style=\"text-align: right;\">        0</td><td style=\"text-align: right;\">        0</td><td style=\"text-align: right;\">        0</td><td style=\"text-align: right;\">        0</td><td style=\"text-align: right;\">        0</td><td style=\"text-align: right;\">          0</td><td style=\"text-align: right;\">          0</td><td style=\"text-align: right;\">          0</td><td style=\"text-align: right;\">          1</td><td style=\"text-align: right;\">          0</td><td style=\"text-align: right;\">          0</td><td style=\"text-align: right;\">          0</td><td style=\"text-align: right;\">          0</td><td style=\"text-align: right;\">  11400</td></tr>\n",
       "<tr><td style=\"text-align: right;\">  72</td><td style=\"text-align: right;\">   2   </td><td style=\"text-align: right;\">   60.3</td><td style=\"text-align: right;\">     56</td><td style=\"text-align: right;\">8.08</td><td style=\"text-align: right;\">8.11</td><td style=\"text-align: right;\">4.88</td><td style=\"text-align: right;\">      0</td><td style=\"text-align: right;\">      1</td><td style=\"text-align: right;\">      0</td><td style=\"text-align: right;\">      0</td><td style=\"text-align: right;\">      0</td><td style=\"text-align: right;\">        0</td><td style=\"text-align: right;\">        0</td><td style=\"text-align: right;\">        0</td><td style=\"text-align: right;\">        0</td><td style=\"text-align: right;\">        0</td><td style=\"text-align: right;\">        0</td><td style=\"text-align: right;\">        1</td><td style=\"text-align: right;\">          0</td><td style=\"text-align: right;\">          0</td><td style=\"text-align: right;\">          0</td><td style=\"text-align: right;\">          1</td><td style=\"text-align: right;\">          0</td><td style=\"text-align: right;\">          0</td><td style=\"text-align: right;\">          0</td><td style=\"text-align: right;\">          0</td><td style=\"text-align: right;\">  16425</td></tr>\n",
       "<tr><td style=\"text-align: right;\">  82</td><td style=\"text-align: right;\">   2.28</td><td style=\"text-align: right;\">   62.7</td><td style=\"text-align: right;\">     57</td><td style=\"text-align: right;\">8.43</td><td style=\"text-align: right;\">8.36</td><td style=\"text-align: right;\">5.26</td><td style=\"text-align: right;\">      0</td><td style=\"text-align: right;\">      0</td><td style=\"text-align: right;\">      0</td><td style=\"text-align: right;\">      0</td><td style=\"text-align: right;\">      1</td><td style=\"text-align: right;\">        1</td><td style=\"text-align: right;\">        0</td><td style=\"text-align: right;\">        0</td><td style=\"text-align: right;\">        0</td><td style=\"text-align: right;\">        0</td><td style=\"text-align: right;\">        0</td><td style=\"text-align: right;\">        0</td><td style=\"text-align: right;\">          0</td><td style=\"text-align: right;\">          0</td><td style=\"text-align: right;\">          0</td><td style=\"text-align: right;\">          0</td><td style=\"text-align: right;\">          1</td><td style=\"text-align: right;\">          0</td><td style=\"text-align: right;\">          0</td><td style=\"text-align: right;\">          0</td><td style=\"text-align: right;\">  16450</td></tr>\n",
       "<tr><td style=\"text-align: right;\">  93</td><td style=\"text-align: right;\">   2.02</td><td style=\"text-align: right;\">   60.4</td><td style=\"text-align: right;\">     58</td><td style=\"text-align: right;\">8.2 </td><td style=\"text-align: right;\">8.16</td><td style=\"text-align: right;\">4.94</td><td style=\"text-align: right;\">      0</td><td style=\"text-align: right;\">      0</td><td style=\"text-align: right;\">      1</td><td style=\"text-align: right;\">      0</td><td style=\"text-align: right;\">      0</td><td style=\"text-align: right;\">        0</td><td style=\"text-align: right;\">        1</td><td style=\"text-align: right;\">        0</td><td style=\"text-align: right;\">        0</td><td style=\"text-align: right;\">        0</td><td style=\"text-align: right;\">        0</td><td style=\"text-align: right;\">        0</td><td style=\"text-align: right;\">          0</td><td style=\"text-align: right;\">          1</td><td style=\"text-align: right;\">          0</td><td style=\"text-align: right;\">          0</td><td style=\"text-align: right;\">          0</td><td style=\"text-align: right;\">          0</td><td style=\"text-align: right;\">          0</td><td style=\"text-align: right;\">          0</td><td style=\"text-align: right;\">  17357</td></tr>\n",
       "<tr><td style=\"text-align: right;\"> 141</td><td style=\"text-align: right;\">   2   </td><td style=\"text-align: right;\">   60.7</td><td style=\"text-align: right;\">     60</td><td style=\"text-align: right;\">8.07</td><td style=\"text-align: right;\">8.11</td><td style=\"text-align: right;\">4.91</td><td style=\"text-align: right;\">      0</td><td style=\"text-align: right;\">      0</td><td style=\"text-align: right;\">      0</td><td style=\"text-align: right;\">      1</td><td style=\"text-align: right;\">      0</td><td style=\"text-align: right;\">        0</td><td style=\"text-align: right;\">        0</td><td style=\"text-align: right;\">        1</td><td style=\"text-align: right;\">        0</td><td style=\"text-align: right;\">        0</td><td style=\"text-align: right;\">        0</td><td style=\"text-align: right;\">        0</td><td style=\"text-align: right;\">          0</td><td style=\"text-align: right;\">          0</td><td style=\"text-align: right;\">          0</td><td style=\"text-align: right;\">          1</td><td style=\"text-align: right;\">          0</td><td style=\"text-align: right;\">          0</td><td style=\"text-align: right;\">          0</td><td style=\"text-align: right;\">          0</td><td style=\"text-align: right;\">  15312</td></tr>\n",
       "<tr><td style=\"text-align: right;\"> 154</td><td style=\"text-align: right;\">   2.01</td><td style=\"text-align: right;\">   61.5</td><td style=\"text-align: right;\">     62</td><td style=\"text-align: right;\">8.07</td><td style=\"text-align: right;\">7.94</td><td style=\"text-align: right;\">4.92</td><td style=\"text-align: right;\">      0</td><td style=\"text-align: right;\">      0</td><td style=\"text-align: right;\">      0</td><td style=\"text-align: right;\">      1</td><td style=\"text-align: right;\">      0</td><td style=\"text-align: right;\">        0</td><td style=\"text-align: right;\">        1</td><td style=\"text-align: right;\">        0</td><td style=\"text-align: right;\">        0</td><td style=\"text-align: right;\">        0</td><td style=\"text-align: right;\">        0</td><td style=\"text-align: right;\">        0</td><td style=\"text-align: right;\">          1</td><td style=\"text-align: right;\">          0</td><td style=\"text-align: right;\">          0</td><td style=\"text-align: right;\">          0</td><td style=\"text-align: right;\">          0</td><td style=\"text-align: right;\">          0</td><td style=\"text-align: right;\">          0</td><td style=\"text-align: right;\">          0</td><td style=\"text-align: right;\">  15475</td></tr>\n",
       "<tr><td style=\"text-align: right;\"> 165</td><td style=\"text-align: right;\">   2.31</td><td style=\"text-align: right;\">   62.9</td><td style=\"text-align: right;\">     58</td><td style=\"text-align: right;\">8.43</td><td style=\"text-align: right;\">8.34</td><td style=\"text-align: right;\">5.27</td><td style=\"text-align: right;\">      0</td><td style=\"text-align: right;\">      0</td><td style=\"text-align: right;\">      0</td><td style=\"text-align: right;\">      1</td><td style=\"text-align: right;\">      0</td><td style=\"text-align: right;\">        0</td><td style=\"text-align: right;\">        1</td><td style=\"text-align: right;\">        0</td><td style=\"text-align: right;\">        0</td><td style=\"text-align: right;\">        0</td><td style=\"text-align: right;\">        0</td><td style=\"text-align: right;\">        0</td><td style=\"text-align: right;\">          0</td><td style=\"text-align: right;\">          0</td><td style=\"text-align: right;\">          0</td><td style=\"text-align: right;\">          1</td><td style=\"text-align: right;\">          0</td><td style=\"text-align: right;\">          0</td><td style=\"text-align: right;\">          0</td><td style=\"text-align: right;\">          0</td><td style=\"text-align: right;\">  17218</td></tr>\n",
       "<tr><td style=\"text-align: right;\"> 167</td><td style=\"text-align: right;\">   2.01</td><td style=\"text-align: right;\">   60.6</td><td style=\"text-align: right;\">     57</td><td style=\"text-align: right;\">8.19</td><td style=\"text-align: right;\">8.09</td><td style=\"text-align: right;\">4.92</td><td style=\"text-align: right;\">      0</td><td style=\"text-align: right;\">      0</td><td style=\"text-align: right;\">      0</td><td style=\"text-align: right;\">      0</td><td style=\"text-align: right;\">      1</td><td style=\"text-align: right;\">        0</td><td style=\"text-align: right;\">        0</td><td style=\"text-align: right;\">        1</td><td style=\"text-align: right;\">        0</td><td style=\"text-align: right;\">        0</td><td style=\"text-align: right;\">        0</td><td style=\"text-align: right;\">        0</td><td style=\"text-align: right;\">          0</td><td style=\"text-align: right;\">          1</td><td style=\"text-align: right;\">          0</td><td style=\"text-align: right;\">          0</td><td style=\"text-align: right;\">          0</td><td style=\"text-align: right;\">          0</td><td style=\"text-align: right;\">          0</td><td style=\"text-align: right;\">          0</td><td style=\"text-align: right;\">  17383</td></tr>\n",
       "</tbody>\n",
       "</table>"
      ]
     },
     "metadata": {},
     "output_type": "display_data"
    },
    {
     "data": {
      "text/plain": []
     },
     "execution_count": 2,
     "metadata": {},
     "output_type": "execute_result"
    }
   ],
   "source": [
    "train_high = h2o.import_file('../cleaned-data/05-train_high-catAsDummies-withXYZ.csv')\n",
    "train_low = h2o.import_file('../cleaned-data/05-train_low-catAsDummies-withXYZ.csv')\n",
    "test_high = h2o.import_file('../cleaned-data/05-test_high-catAsDummies-withXYZ.csv')\n",
    "test_low = h2o.import_file('../cleaned-data/05-test_low-catAsDummies-withXYZ.csv')      \n",
    "train_high.head()"
   ]
  },
  {
   "cell_type": "code",
   "execution_count": 3,
   "metadata": {},
   "outputs": [
    {
     "name": "stdout",
     "output_type": "stream",
     "text": [
      "(1615, 28)\n",
      "(38730, 28)\n",
      "(521, 27)\n",
      "(12928, 27)\n"
     ]
    },
    {
     "data": {
      "text/plain": [
       "[None, None, None, None]"
      ]
     },
     "execution_count": 3,
     "metadata": {},
     "output_type": "execute_result"
    }
   ],
   "source": [
    "list(map(lambda x: print(x.shape),[train_high, train_low, test_high, test_low]))"
   ]
  },
  {
   "cell_type": "code",
   "execution_count": 4,
   "metadata": {},
   "outputs": [
    {
     "data": {
      "text/plain": [
       "['carat',\n",
       " 'depth',\n",
       " 'table',\n",
       " 'x',\n",
       " 'y',\n",
       " 'z',\n",
       " 'cut_0',\n",
       " 'cut_1',\n",
       " 'cut_2',\n",
       " 'cut_3',\n",
       " 'cut_4',\n",
       " 'color_1',\n",
       " 'color_2',\n",
       " 'color_3',\n",
       " 'color_4',\n",
       " 'color_5',\n",
       " 'color_6',\n",
       " 'color_7',\n",
       " 'clarity_0',\n",
       " 'clarity_1',\n",
       " 'clarity_2',\n",
       " 'clarity_3',\n",
       " 'clarity_4',\n",
       " 'clarity_5',\n",
       " 'clarity_6',\n",
       " 'clarity_7']"
      ]
     },
     "execution_count": 4,
     "metadata": {},
     "output_type": "execute_result"
    }
   ],
   "source": [
    "xTrainCols = train_high.col_names[1:-1]\n",
    "xTrainCols"
   ]
  },
  {
   "cell_type": "code",
   "execution_count": 5,
   "metadata": {},
   "outputs": [
    {
     "name": "stdout",
     "output_type": "stream",
     "text": [
      "AutoML progress: |████████████████████████████████████████████████████████| 100%\n",
      "stackedensemble prediction progress: |████████████████████████████████████| 100%\n"
     ]
    },
    {
     "data": {
      "text/html": [
       "<table>\n",
       "<thead>\n",
       "<tr><th style=\"text-align: right;\">  predict</th></tr>\n",
       "</thead>\n",
       "<tbody>\n",
       "<tr><td style=\"text-align: right;\">  16545.5</td></tr>\n",
       "<tr><td style=\"text-align: right;\">  16282.2</td></tr>\n",
       "<tr><td style=\"text-align: right;\">  16019.2</td></tr>\n",
       "<tr><td style=\"text-align: right;\">  16665.1</td></tr>\n",
       "<tr><td style=\"text-align: right;\">  15522.1</td></tr>\n",
       "<tr><td style=\"text-align: right;\">  13044.3</td></tr>\n",
       "<tr><td style=\"text-align: right;\">  16875.9</td></tr>\n",
       "<tr><td style=\"text-align: right;\">  16868.8</td></tr>\n",
       "<tr><td style=\"text-align: right;\">  14732.8</td></tr>\n",
       "<tr><td style=\"text-align: right;\">  16330.9</td></tr>\n",
       "</tbody>\n",
       "</table>"
      ]
     },
     "metadata": {},
     "output_type": "display_data"
    },
    {
     "data": {
      "text/plain": []
     },
     "metadata": {},
     "output_type": "display_data"
    },
    {
     "data": {
      "text/html": [
       "<table>\n",
       "<thead>\n",
       "<tr><th>model_id                                           </th><th style=\"text-align: right;\">  mean_residual_deviance</th><th style=\"text-align: right;\">   rmse</th><th style=\"text-align: right;\">        mse</th><th style=\"text-align: right;\">    mae</th><th style=\"text-align: right;\">   rmsle</th></tr>\n",
       "</thead>\n",
       "<tbody>\n",
       "<tr><td>StackedEnsemble_BestOfFamily_AutoML_20200302_095451</td><td style=\"text-align: right;\">             2.77492e+06</td><td style=\"text-align: right;\">1665.81</td><td style=\"text-align: right;\">2.77492e+06</td><td style=\"text-align: right;\">1295.86</td><td style=\"text-align: right;\">0.118979</td></tr>\n",
       "<tr><td>StackedEnsemble_AllModels_AutoML_20200302_095451   </td><td style=\"text-align: right;\">             2.7786e+06 </td><td style=\"text-align: right;\">1666.91</td><td style=\"text-align: right;\">2.7786e+06 </td><td style=\"text-align: right;\">1295.38</td><td style=\"text-align: right;\">0.119127</td></tr>\n",
       "<tr><td>XGBoost_1_AutoML_20200302_095451                   </td><td style=\"text-align: right;\">             2.80204e+06</td><td style=\"text-align: right;\">1673.93</td><td style=\"text-align: right;\">2.80204e+06</td><td style=\"text-align: right;\">1319.05</td><td style=\"text-align: right;\">0.120058</td></tr>\n",
       "<tr><td>XGBoost_grid__1_AutoML_20200302_095451_model_2     </td><td style=\"text-align: right;\">             2.83379e+06</td><td style=\"text-align: right;\">1683.39</td><td style=\"text-align: right;\">2.83379e+06</td><td style=\"text-align: right;\">1326.08</td><td style=\"text-align: right;\">0.120946</td></tr>\n",
       "<tr><td>XGBoost_grid__1_AutoML_20200302_095451_model_3     </td><td style=\"text-align: right;\">             2.83793e+06</td><td style=\"text-align: right;\">1684.62</td><td style=\"text-align: right;\">2.83793e+06</td><td style=\"text-align: right;\">1326.07</td><td style=\"text-align: right;\">0.121122</td></tr>\n",
       "<tr><td>XGBoost_2_AutoML_20200302_095451                   </td><td style=\"text-align: right;\">             2.8446e+06 </td><td style=\"text-align: right;\">1686.59</td><td style=\"text-align: right;\">2.8446e+06 </td><td style=\"text-align: right;\">1322.08</td><td style=\"text-align: right;\">0.120807</td></tr>\n",
       "<tr><td>XGBoost_3_AutoML_20200302_095451                   </td><td style=\"text-align: right;\">             2.85922e+06</td><td style=\"text-align: right;\">1690.92</td><td style=\"text-align: right;\">2.85922e+06</td><td style=\"text-align: right;\">1339.77</td><td style=\"text-align: right;\">0.121469</td></tr>\n",
       "<tr><td>GBM_4_AutoML_20200302_095451                       </td><td style=\"text-align: right;\">             2.85974e+06</td><td style=\"text-align: right;\">1691.08</td><td style=\"text-align: right;\">2.85974e+06</td><td style=\"text-align: right;\">1323.8 </td><td style=\"text-align: right;\">0.121413</td></tr>\n",
       "<tr><td>XGBoost_grid__1_AutoML_20200302_095451_model_4     </td><td style=\"text-align: right;\">             2.87104e+06</td><td style=\"text-align: right;\">1694.41</td><td style=\"text-align: right;\">2.87104e+06</td><td style=\"text-align: right;\">1317.51</td><td style=\"text-align: right;\">0.121331</td></tr>\n",
       "<tr><td>GBM_2_AutoML_20200302_095451                       </td><td style=\"text-align: right;\">             2.87277e+06</td><td style=\"text-align: right;\">1694.92</td><td style=\"text-align: right;\">2.87277e+06</td><td style=\"text-align: right;\">1323.63</td><td style=\"text-align: right;\">0.122075</td></tr>\n",
       "</tbody>\n",
       "</table>"
      ]
     },
     "metadata": {},
     "output_type": "display_data"
    },
    {
     "data": {
      "text/plain": []
     },
     "metadata": {},
     "output_type": "display_data"
    }
   ],
   "source": [
    "train_frame = train_high\n",
    "model_name = 'diamonds_high'\n",
    "\n",
    "aml_high = H2OAutoML(max_runtime_secs = 300, project_name = f'{model_name}', keep_cross_validation_models=True)\n",
    "aml_high.train(x=xTrainCols, y = 'price', training_frame = train_frame)\n",
    "pred_high = aml_high.leader.predict(test_high)\n",
    "display(pred_high)\n",
    "display(aml_high.leaderboard)"
   ]
  },
  {
   "cell_type": "code",
   "execution_count": 6,
   "metadata": {},
   "outputs": [],
   "source": [
    "tableHighPreds = test_high['id'].cbind(pred_high)\n",
    "tableHighPreds = tableHighPreds.rename(columns={'predict':'price'})"
   ]
  },
  {
   "cell_type": "code",
   "execution_count": 7,
   "metadata": {},
   "outputs": [
    {
     "name": "stdout",
     "output_type": "stream",
     "text": [
      "AutoML progress: |████████████████████████████████████████████████████████| 100%\n",
      "stackedensemble prediction progress: |████████████████████████████████████| 100%\n"
     ]
    },
    {
     "data": {
      "text/html": [
       "<table>\n",
       "<thead>\n",
       "<tr><th style=\"text-align: right;\">  predict</th></tr>\n",
       "</thead>\n",
       "<tbody>\n",
       "<tr><td style=\"text-align: right;\">  4426.16</td></tr>\n",
       "<tr><td style=\"text-align: right;\">  1023.57</td></tr>\n",
       "<tr><td style=\"text-align: right;\">  7077.31</td></tr>\n",
       "<tr><td style=\"text-align: right;\">  1470.5 </td></tr>\n",
       "<tr><td style=\"text-align: right;\">  2224.82</td></tr>\n",
       "<tr><td style=\"text-align: right;\">  1939.41</td></tr>\n",
       "<tr><td style=\"text-align: right;\">  1815.82</td></tr>\n",
       "<tr><td style=\"text-align: right;\">  3491.33</td></tr>\n",
       "<tr><td style=\"text-align: right;\"> 15099.8 </td></tr>\n",
       "<tr><td style=\"text-align: right;\">  3686.54</td></tr>\n",
       "</tbody>\n",
       "</table>"
      ]
     },
     "metadata": {},
     "output_type": "display_data"
    },
    {
     "data": {
      "text/plain": []
     },
     "metadata": {},
     "output_type": "display_data"
    },
    {
     "data": {
      "text/html": [
       "<table>\n",
       "<thead>\n",
       "<tr><th>model_id                                           </th><th style=\"text-align: right;\">  mean_residual_deviance</th><th style=\"text-align: right;\">    rmse</th><th style=\"text-align: right;\">             mse</th><th style=\"text-align: right;\">     mae</th><th style=\"text-align: right;\">    rmsle</th></tr>\n",
       "</thead>\n",
       "<tbody>\n",
       "<tr><td>StackedEnsemble_AllModels_AutoML_20200302_095957   </td><td style=\"text-align: right;\">        183477          </td><td style=\"text-align: right;\"> 428.342</td><td style=\"text-align: right;\">183477          </td><td style=\"text-align: right;\"> 225.514</td><td style=\"text-align: right;\">0.0900198</td></tr>\n",
       "<tr><td>StackedEnsemble_BestOfFamily_AutoML_20200302_095957</td><td style=\"text-align: right;\">        184253          </td><td style=\"text-align: right;\"> 429.247</td><td style=\"text-align: right;\">184253          </td><td style=\"text-align: right;\"> 227.276</td><td style=\"text-align: right;\">0.0916806</td></tr>\n",
       "<tr><td>XGBoost_1_AutoML_20200302_095957                   </td><td style=\"text-align: right;\">        185430          </td><td style=\"text-align: right;\"> 430.616</td><td style=\"text-align: right;\">185430          </td><td style=\"text-align: right;\"> 229.266</td><td style=\"text-align: right;\">0.0933194</td></tr>\n",
       "<tr><td>XGBoost_2_AutoML_20200302_095957                   </td><td style=\"text-align: right;\">        192142          </td><td style=\"text-align: right;\"> 438.34 </td><td style=\"text-align: right;\">192142          </td><td style=\"text-align: right;\"> 227.848</td><td style=\"text-align: right;\">0.0885417</td></tr>\n",
       "<tr><td>DRF_1_AutoML_20200302_095957                       </td><td style=\"text-align: right;\">        215090          </td><td style=\"text-align: right;\"> 463.778</td><td style=\"text-align: right;\">215090          </td><td style=\"text-align: right;\"> 245.752</td><td style=\"text-align: right;\">0.0980872</td></tr>\n",
       "<tr><td>XGBoost_3_AutoML_20200302_095957                   </td><td style=\"text-align: right;\">        237756          </td><td style=\"text-align: right;\"> 487.603</td><td style=\"text-align: right;\">237756          </td><td style=\"text-align: right;\"> 271.153</td><td style=\"text-align: right;\">0.119445 </td></tr>\n",
       "<tr><td>GBM_1_AutoML_20200302_095957                       </td><td style=\"text-align: right;\">        402840          </td><td style=\"text-align: right;\"> 634.697</td><td style=\"text-align: right;\">402840          </td><td style=\"text-align: right;\"> 370.03 </td><td style=\"text-align: right;\">0.190534 </td></tr>\n",
       "<tr><td>GBM_2_AutoML_20200302_095957                       </td><td style=\"text-align: right;\">             2.16187e+06</td><td style=\"text-align: right;\">1470.33 </td><td style=\"text-align: right;\">     2.16187e+06</td><td style=\"text-align: right;\">1053.41 </td><td style=\"text-align: right;\">0.577914 </td></tr>\n",
       "<tr><td>GBM_3_AutoML_20200302_095957                       </td><td style=\"text-align: right;\">             8.18346e+06</td><td style=\"text-align: right;\">2860.67 </td><td style=\"text-align: right;\">     8.18346e+06</td><td style=\"text-align: right;\">2189.3  </td><td style=\"text-align: right;\">0.948307 </td></tr>\n",
       "<tr><td>GLM_1_AutoML_20200302_095957                       </td><td style=\"text-align: right;\">             1.11047e+07</td><td style=\"text-align: right;\">3332.36 </td><td style=\"text-align: right;\">     1.11047e+07</td><td style=\"text-align: right;\">2572.5  </td><td style=\"text-align: right;\">1.05989  </td></tr>\n",
       "</tbody>\n",
       "</table>"
      ]
     },
     "metadata": {},
     "output_type": "display_data"
    },
    {
     "data": {
      "text/plain": []
     },
     "metadata": {},
     "output_type": "display_data"
    }
   ],
   "source": [
    "train_frame = train_low\n",
    "model_name = 'diamonds_low'\n",
    "\n",
    "aml_low = H2OAutoML(max_runtime_secs = 300, project_name = f'{model_name}', keep_cross_validation_models=True)\n",
    "aml_low.train(x=xTrainCols, y = 'price', training_frame = train_frame)\n",
    "pred_low = aml_low.leader.predict(test_low)\n",
    "display(pred_low)\n",
    "display(aml_low.leaderboard)"
   ]
  },
  {
   "cell_type": "code",
   "execution_count": 8,
   "metadata": {},
   "outputs": [],
   "source": [
    "tableLowPreds = test_low['id'].cbind(pred_low)\n",
    "tableLowPreds = tableLowPreds.rename(columns={'predict':'price'})"
   ]
  },
  {
   "cell_type": "code",
   "execution_count": 9,
   "metadata": {},
   "outputs": [
    {
     "data": {
      "text/plain": [
       "(13449, 2)"
      ]
     },
     "execution_count": 9,
     "metadata": {},
     "output_type": "execute_result"
    }
   ],
   "source": [
    "combinedTable = tableLowPreds.concat(tableHighPreds, axis=0)\n",
    "combinedTable.shape"
   ]
  },
  {
   "cell_type": "code",
   "execution_count": 11,
   "metadata": {},
   "outputs": [
    {
     "name": "stdout",
     "output_type": "stream",
     "text": [
      "Export File progress: |███████████████████████████████████████████████████| 100%\n"
     ]
    }
   ],
   "source": [
    "h2o.export_file(frame=combinedTable,path='../predictions/14-Auto-ML-Split-data-Dummies-compl-data-v2.csv')"
   ]
  },
  {
   "cell_type": "code",
   "execution_count": null,
   "metadata": {},
   "outputs": [],
   "source": []
  }
 ],
 "metadata": {
  "kernelspec": {
   "display_name": "Python 3.7.6 64-bit",
   "language": "python",
   "name": "python37664bitc736265aa96942798be544ff59087e30"
  },
  "language_info": {
   "codemirror_mode": {
    "name": "ipython",
    "version": 3
   },
   "file_extension": ".py",
   "mimetype": "text/x-python",
   "name": "python",
   "nbconvert_exporter": "python",
   "pygments_lexer": "ipython3",
   "version": "3.7.6"
  }
 },
 "nbformat": 4,
 "nbformat_minor": 4
}
