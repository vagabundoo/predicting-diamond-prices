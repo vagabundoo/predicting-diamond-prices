{
 "cells": [
  {
   "cell_type": "code",
   "execution_count": 2,
   "metadata": {},
   "outputs": [
    {
     "name": "stdout",
     "output_type": "stream",
     "text": [
      "Checking whether there is an H2O instance running at http://localhost:54321 . connected.\n"
     ]
    },
    {
     "data": {
      "text/html": [
       "<div style=\"overflow:auto\"><table style=\"width:50%\"><tr><td>H2O cluster uptime:</td>\n",
       "<td>38 mins 52 secs</td></tr>\n",
       "<tr><td>H2O cluster timezone:</td>\n",
       "<td>Europe/Paris</td></tr>\n",
       "<tr><td>H2O data parsing timezone:</td>\n",
       "<td>UTC</td></tr>\n",
       "<tr><td>H2O cluster version:</td>\n",
       "<td>3.28.0.3</td></tr>\n",
       "<tr><td>H2O cluster version age:</td>\n",
       "<td>25 days </td></tr>\n",
       "<tr><td>H2O cluster name:</td>\n",
       "<td>H2O_from_python_edu_yuaa4k</td></tr>\n",
       "<tr><td>H2O cluster total nodes:</td>\n",
       "<td>1</td></tr>\n",
       "<tr><td>H2O cluster free memory:</td>\n",
       "<td>1.236 Gb</td></tr>\n",
       "<tr><td>H2O cluster total cores:</td>\n",
       "<td>8</td></tr>\n",
       "<tr><td>H2O cluster allowed cores:</td>\n",
       "<td>8</td></tr>\n",
       "<tr><td>H2O cluster status:</td>\n",
       "<td>locked, healthy</td></tr>\n",
       "<tr><td>H2O connection url:</td>\n",
       "<td>http://localhost:54321</td></tr>\n",
       "<tr><td>H2O connection proxy:</td>\n",
       "<td>{'http': None, 'https': None}</td></tr>\n",
       "<tr><td>H2O internal security:</td>\n",
       "<td>False</td></tr>\n",
       "<tr><td>H2O API Extensions:</td>\n",
       "<td>Amazon S3, XGBoost, Algos, AutoML, Core V3, TargetEncoder, Core V4</td></tr>\n",
       "<tr><td>Python version:</td>\n",
       "<td>3.7.6 final</td></tr></table></div>"
      ],
      "text/plain": [
       "--------------------------  ------------------------------------------------------------------\n",
       "H2O cluster uptime:         38 mins 52 secs\n",
       "H2O cluster timezone:       Europe/Paris\n",
       "H2O data parsing timezone:  UTC\n",
       "H2O cluster version:        3.28.0.3\n",
       "H2O cluster version age:    25 days\n",
       "H2O cluster name:           H2O_from_python_edu_yuaa4k\n",
       "H2O cluster total nodes:    1\n",
       "H2O cluster free memory:    1.236 Gb\n",
       "H2O cluster total cores:    8\n",
       "H2O cluster allowed cores:  8\n",
       "H2O cluster status:         locked, healthy\n",
       "H2O connection url:         http://localhost:54321\n",
       "H2O connection proxy:       {'http': None, 'https': None}\n",
       "H2O internal security:      False\n",
       "H2O API Extensions:         Amazon S3, XGBoost, Algos, AutoML, Core V3, TargetEncoder, Core V4\n",
       "Python version:             3.7.6 final\n",
       "--------------------------  ------------------------------------------------------------------"
      ]
     },
     "metadata": {},
     "output_type": "display_data"
    }
   ],
   "source": [
    "import pandas as pd\n",
    "import numpy as np\n",
    "import seaborn as sns\n",
    "import matplotlib.pyplot as plt\n",
    "import h2o\n",
    "from h2o.automl import H2OAutoML\n",
    "h2o.init(nthreads=7, \n",
    "         max_mem_size='6G')"
   ]
  },
  {
   "cell_type": "code",
   "execution_count": 6,
   "metadata": {},
   "outputs": [
    {
     "name": "stdout",
     "output_type": "stream",
     "text": [
      "Parse progress: |█████████████████████████████████████████████████████████| 100%\n",
      "Parse progress: |█████████████████████████████████████████████████████████| 100%\n",
      "Parse progress: |█████████████████████████████████████████████████████████| 100%\n",
      "Parse progress: |█████████████████████████████████████████████████████████| 100%\n",
      "Parse progress: |█████████████████████████████████████████████████████████| 100%\n",
      "Parse progress: |█████████████████████████████████████████████████████████| 100%\n"
     ]
    }
   ],
   "source": [
    "names = ['trainLow', 'trainMid', 'trainHigh', 'testLow', 'testMid', 'testHigh']\n",
    "trainLow, trainMid, trainHigh, testLow, testMid, testHigh = [h2o.import_file(f'../cleaned-data/09-{e}allCatAsDummies-split3Way.csv') for e in names]\n",
    "                                                                            "
   ]
  },
  {
   "cell_type": "code",
   "execution_count": 7,
   "metadata": {},
   "outputs": [
    {
     "data": {
      "text/html": [
       "<table>\n",
       "<thead>\n",
       "<tr><th style=\"text-align: right;\">  C1</th><th style=\"text-align: right;\">  id</th><th style=\"text-align: right;\">  carat</th><th style=\"text-align: right;\">  depth</th><th style=\"text-align: right;\">  table</th><th style=\"text-align: right;\">   x</th><th style=\"text-align: right;\">   y</th><th style=\"text-align: right;\">   z</th><th style=\"text-align: right;\">  cut_0</th><th style=\"text-align: right;\">  cut_1</th><th style=\"text-align: right;\">  cut_2</th><th style=\"text-align: right;\">  cut_3</th><th style=\"text-align: right;\">  cut_4</th><th style=\"text-align: right;\">  color_1</th><th style=\"text-align: right;\">  color_2</th><th style=\"text-align: right;\">  color_3</th><th style=\"text-align: right;\">  color_4</th><th style=\"text-align: right;\">  color_5</th><th style=\"text-align: right;\">  color_6</th><th style=\"text-align: right;\">  color_7</th><th style=\"text-align: right;\">  clarity_0</th><th style=\"text-align: right;\">  clarity_1</th><th style=\"text-align: right;\">  clarity_2</th><th style=\"text-align: right;\">  clarity_3</th><th style=\"text-align: right;\">  clarity_4</th><th style=\"text-align: right;\">  clarity_5</th><th style=\"text-align: right;\">  clarity_6</th><th style=\"text-align: right;\">  clarity_7</th><th style=\"text-align: right;\">  price</th></tr>\n",
       "</thead>\n",
       "<tbody>\n",
       "<tr><td style=\"text-align: right;\">   0</td><td style=\"text-align: right;\">   0</td><td style=\"text-align: right;\">   0.78</td><td style=\"text-align: right;\">   61.5</td><td style=\"text-align: right;\">     58</td><td style=\"text-align: right;\">5.93</td><td style=\"text-align: right;\">5.98</td><td style=\"text-align: right;\">3.66</td><td style=\"text-align: right;\">      0</td><td style=\"text-align: right;\">      0</td><td style=\"text-align: right;\">      0</td><td style=\"text-align: right;\">      1</td><td style=\"text-align: right;\">      0</td><td style=\"text-align: right;\">        0</td><td style=\"text-align: right;\">        0</td><td style=\"text-align: right;\">        0</td><td style=\"text-align: right;\">        0</td><td style=\"text-align: right;\">        1</td><td style=\"text-align: right;\">        0</td><td style=\"text-align: right;\">        0</td><td style=\"text-align: right;\">          1</td><td style=\"text-align: right;\">          0</td><td style=\"text-align: right;\">          0</td><td style=\"text-align: right;\">          0</td><td style=\"text-align: right;\">          0</td><td style=\"text-align: right;\">          0</td><td style=\"text-align: right;\">          0</td><td style=\"text-align: right;\">          0</td><td style=\"text-align: right;\">   3446</td></tr>\n",
       "<tr><td style=\"text-align: right;\">   1</td><td style=\"text-align: right;\">   1</td><td style=\"text-align: right;\">   0.31</td><td style=\"text-align: right;\">   60.8</td><td style=\"text-align: right;\">     56</td><td style=\"text-align: right;\">4.37</td><td style=\"text-align: right;\">4.32</td><td style=\"text-align: right;\">2.64</td><td style=\"text-align: right;\">      0</td><td style=\"text-align: right;\">      0</td><td style=\"text-align: right;\">      0</td><td style=\"text-align: right;\">      0</td><td style=\"text-align: right;\">      1</td><td style=\"text-align: right;\">        0</td><td style=\"text-align: right;\">        0</td><td style=\"text-align: right;\">        0</td><td style=\"text-align: right;\">        0</td><td style=\"text-align: right;\">        0</td><td style=\"text-align: right;\">        0</td><td style=\"text-align: right;\">        1</td><td style=\"text-align: right;\">          0</td><td style=\"text-align: right;\">          1</td><td style=\"text-align: right;\">          0</td><td style=\"text-align: right;\">          0</td><td style=\"text-align: right;\">          0</td><td style=\"text-align: right;\">          0</td><td style=\"text-align: right;\">          0</td><td style=\"text-align: right;\">          0</td><td style=\"text-align: right;\">    732</td></tr>\n",
       "<tr><td style=\"text-align: right;\">   2</td><td style=\"text-align: right;\">   2</td><td style=\"text-align: right;\">   0.3 </td><td style=\"text-align: right;\">   62.3</td><td style=\"text-align: right;\">     54</td><td style=\"text-align: right;\">4.3 </td><td style=\"text-align: right;\">4.34</td><td style=\"text-align: right;\">2.69</td><td style=\"text-align: right;\">      0</td><td style=\"text-align: right;\">      0</td><td style=\"text-align: right;\">      0</td><td style=\"text-align: right;\">      0</td><td style=\"text-align: right;\">      1</td><td style=\"text-align: right;\">        0</td><td style=\"text-align: right;\">        0</td><td style=\"text-align: right;\">        0</td><td style=\"text-align: right;\">        0</td><td style=\"text-align: right;\">        1</td><td style=\"text-align: right;\">        0</td><td style=\"text-align: right;\">        0</td><td style=\"text-align: right;\">          0</td><td style=\"text-align: right;\">          1</td><td style=\"text-align: right;\">          0</td><td style=\"text-align: right;\">          0</td><td style=\"text-align: right;\">          0</td><td style=\"text-align: right;\">          0</td><td style=\"text-align: right;\">          0</td><td style=\"text-align: right;\">          0</td><td style=\"text-align: right;\">    475</td></tr>\n",
       "<tr><td style=\"text-align: right;\">   3</td><td style=\"text-align: right;\">   3</td><td style=\"text-align: right;\">   1.04</td><td style=\"text-align: right;\">   62  </td><td style=\"text-align: right;\">     58</td><td style=\"text-align: right;\">6.54</td><td style=\"text-align: right;\">6.46</td><td style=\"text-align: right;\">4.03</td><td style=\"text-align: right;\">      0</td><td style=\"text-align: right;\">      0</td><td style=\"text-align: right;\">      0</td><td style=\"text-align: right;\">      0</td><td style=\"text-align: right;\">      1</td><td style=\"text-align: right;\">        0</td><td style=\"text-align: right;\">        0</td><td style=\"text-align: right;\">        0</td><td style=\"text-align: right;\">        0</td><td style=\"text-align: right;\">        0</td><td style=\"text-align: right;\">        1</td><td style=\"text-align: right;\">        0</td><td style=\"text-align: right;\">          0</td><td style=\"text-align: right;\">          0</td><td style=\"text-align: right;\">          1</td><td style=\"text-align: right;\">          0</td><td style=\"text-align: right;\">          0</td><td style=\"text-align: right;\">          0</td><td style=\"text-align: right;\">          0</td><td style=\"text-align: right;\">          0</td><td style=\"text-align: right;\">   9552</td></tr>\n",
       "<tr><td style=\"text-align: right;\">   4</td><td style=\"text-align: right;\">   4</td><td style=\"text-align: right;\">   0.65</td><td style=\"text-align: right;\">   61.4</td><td style=\"text-align: right;\">     55</td><td style=\"text-align: right;\">5.58</td><td style=\"text-align: right;\">5.62</td><td style=\"text-align: right;\">3.44</td><td style=\"text-align: right;\">      0</td><td style=\"text-align: right;\">      0</td><td style=\"text-align: right;\">      0</td><td style=\"text-align: right;\">      0</td><td style=\"text-align: right;\">      1</td><td style=\"text-align: right;\">        1</td><td style=\"text-align: right;\">        0</td><td style=\"text-align: right;\">        0</td><td style=\"text-align: right;\">        0</td><td style=\"text-align: right;\">        0</td><td style=\"text-align: right;\">        0</td><td style=\"text-align: right;\">        0</td><td style=\"text-align: right;\">          0</td><td style=\"text-align: right;\">          1</td><td style=\"text-align: right;\">          0</td><td style=\"text-align: right;\">          0</td><td style=\"text-align: right;\">          0</td><td style=\"text-align: right;\">          0</td><td style=\"text-align: right;\">          0</td><td style=\"text-align: right;\">          0</td><td style=\"text-align: right;\">   1276</td></tr>\n",
       "<tr><td style=\"text-align: right;\">   5</td><td style=\"text-align: right;\">   5</td><td style=\"text-align: right;\">   0.9 </td><td style=\"text-align: right;\">   62.2</td><td style=\"text-align: right;\">     60</td><td style=\"text-align: right;\">6.15</td><td style=\"text-align: right;\">6.19</td><td style=\"text-align: right;\">3.84</td><td style=\"text-align: right;\">      0</td><td style=\"text-align: right;\">      0</td><td style=\"text-align: right;\">      0</td><td style=\"text-align: right;\">      1</td><td style=\"text-align: right;\">      0</td><td style=\"text-align: right;\">        0</td><td style=\"text-align: right;\">        0</td><td style=\"text-align: right;\">        0</td><td style=\"text-align: right;\">        0</td><td style=\"text-align: right;\">        0</td><td style=\"text-align: right;\">        1</td><td style=\"text-align: right;\">        0</td><td style=\"text-align: right;\">          0</td><td style=\"text-align: right;\">          0</td><td style=\"text-align: right;\">          0</td><td style=\"text-align: right;\">          1</td><td style=\"text-align: right;\">          0</td><td style=\"text-align: right;\">          0</td><td style=\"text-align: right;\">          0</td><td style=\"text-align: right;\">          0</td><td style=\"text-align: right;\">   3662</td></tr>\n",
       "<tr><td style=\"text-align: right;\">   6</td><td style=\"text-align: right;\">   6</td><td style=\"text-align: right;\">   0.31</td><td style=\"text-align: right;\">   62.3</td><td style=\"text-align: right;\">     55</td><td style=\"text-align: right;\">4.34</td><td style=\"text-align: right;\">4.36</td><td style=\"text-align: right;\">2.71</td><td style=\"text-align: right;\">      0</td><td style=\"text-align: right;\">      0</td><td style=\"text-align: right;\">      1</td><td style=\"text-align: right;\">      0</td><td style=\"text-align: right;\">      0</td><td style=\"text-align: right;\">        0</td><td style=\"text-align: right;\">        0</td><td style=\"text-align: right;\">        1</td><td style=\"text-align: right;\">        0</td><td style=\"text-align: right;\">        0</td><td style=\"text-align: right;\">        0</td><td style=\"text-align: right;\">        0</td><td style=\"text-align: right;\">          0</td><td style=\"text-align: right;\">          1</td><td style=\"text-align: right;\">          0</td><td style=\"text-align: right;\">          0</td><td style=\"text-align: right;\">          0</td><td style=\"text-align: right;\">          0</td><td style=\"text-align: right;\">          0</td><td style=\"text-align: right;\">          0</td><td style=\"text-align: right;\">    446</td></tr>\n",
       "<tr><td style=\"text-align: right;\">   7</td><td style=\"text-align: right;\">   7</td><td style=\"text-align: right;\">   0.71</td><td style=\"text-align: right;\">   64.6</td><td style=\"text-align: right;\">     59</td><td style=\"text-align: right;\">5.62</td><td style=\"text-align: right;\">5.59</td><td style=\"text-align: right;\">3.62</td><td style=\"text-align: right;\">      1</td><td style=\"text-align: right;\">      0</td><td style=\"text-align: right;\">      0</td><td style=\"text-align: right;\">      0</td><td style=\"text-align: right;\">      0</td><td style=\"text-align: right;\">        0</td><td style=\"text-align: right;\">        0</td><td style=\"text-align: right;\">        0</td><td style=\"text-align: right;\">        0</td><td style=\"text-align: right;\">        0</td><td style=\"text-align: right;\">        1</td><td style=\"text-align: right;\">        0</td><td style=\"text-align: right;\">          0</td><td style=\"text-align: right;\">          0</td><td style=\"text-align: right;\">          0</td><td style=\"text-align: right;\">          0</td><td style=\"text-align: right;\">          1</td><td style=\"text-align: right;\">          0</td><td style=\"text-align: right;\">          0</td><td style=\"text-align: right;\">          0</td><td style=\"text-align: right;\">   2902</td></tr>\n",
       "<tr><td style=\"text-align: right;\">   9</td><td style=\"text-align: right;\">   9</td><td style=\"text-align: right;\">   1.1 </td><td style=\"text-align: right;\">   61.3</td><td style=\"text-align: right;\">     58</td><td style=\"text-align: right;\">6.64</td><td style=\"text-align: right;\">6.71</td><td style=\"text-align: right;\">4.09</td><td style=\"text-align: right;\">      0</td><td style=\"text-align: right;\">      0</td><td style=\"text-align: right;\">      1</td><td style=\"text-align: right;\">      0</td><td style=\"text-align: right;\">      0</td><td style=\"text-align: right;\">        0</td><td style=\"text-align: right;\">        0</td><td style=\"text-align: right;\">        0</td><td style=\"text-align: right;\">        0</td><td style=\"text-align: right;\">        0</td><td style=\"text-align: right;\">        1</td><td style=\"text-align: right;\">        0</td><td style=\"text-align: right;\">          0</td><td style=\"text-align: right;\">          1</td><td style=\"text-align: right;\">          0</td><td style=\"text-align: right;\">          0</td><td style=\"text-align: right;\">          0</td><td style=\"text-align: right;\">          0</td><td style=\"text-align: right;\">          0</td><td style=\"text-align: right;\">          0</td><td style=\"text-align: right;\">   4791</td></tr>\n",
       "<tr><td style=\"text-align: right;\">  10</td><td style=\"text-align: right;\">  10</td><td style=\"text-align: right;\">   1.19</td><td style=\"text-align: right;\">   59.9</td><td style=\"text-align: right;\">     61</td><td style=\"text-align: right;\">6.85</td><td style=\"text-align: right;\">6.91</td><td style=\"text-align: right;\">4.12</td><td style=\"text-align: right;\">      0</td><td style=\"text-align: right;\">      0</td><td style=\"text-align: right;\">      1</td><td style=\"text-align: right;\">      0</td><td style=\"text-align: right;\">      0</td><td style=\"text-align: right;\">        0</td><td style=\"text-align: right;\">        1</td><td style=\"text-align: right;\">        0</td><td style=\"text-align: right;\">        0</td><td style=\"text-align: right;\">        0</td><td style=\"text-align: right;\">        0</td><td style=\"text-align: right;\">        0</td><td style=\"text-align: right;\">          1</td><td style=\"text-align: right;\">          0</td><td style=\"text-align: right;\">          0</td><td style=\"text-align: right;\">          0</td><td style=\"text-align: right;\">          0</td><td style=\"text-align: right;\">          0</td><td style=\"text-align: right;\">          0</td><td style=\"text-align: right;\">          0</td><td style=\"text-align: right;\">   5644</td></tr>\n",
       "</tbody>\n",
       "</table>"
      ]
     },
     "metadata": {},
     "output_type": "display_data"
    },
    {
     "data": {
      "text/plain": []
     },
     "execution_count": 7,
     "metadata": {},
     "output_type": "execute_result"
    }
   ],
   "source": [
    "trainLow"
   ]
  },
  {
   "cell_type": "code",
   "execution_count": null,
   "metadata": {},
   "outputs": [],
   "source": []
  }
 ],
 "metadata": {
  "kernelspec": {
   "display_name": "Python 3.7.6 64-bit",
   "language": "python",
   "name": "python37664bitc736265aa96942798be544ff59087e30"
  },
  "language_info": {
   "codemirror_mode": {
    "name": "ipython",
    "version": 3
   },
   "file_extension": ".py",
   "mimetype": "text/x-python",
   "name": "python",
   "nbconvert_exporter": "python",
   "pygments_lexer": "ipython3",
   "version": "3.7.6"
  }
 },
 "nbformat": 4,
 "nbformat_minor": 4
}
